{
 "cells": [
  {
   "cell_type": "markdown",
   "metadata": {},
   "source": [
    "# [Introduction to Relational Databases in SQL](https://www.datacamp.com/courses/introduction-to-relational-databases-in-sql)"
   ]
  },
  {
   "cell_type": "markdown",
   "metadata": {},
   "source": [
    "## First\n",
    "\n",
    "We look at the first couple chapters with the Python sqlite3 package.\n",
    "\n",
    "## Second\n",
    "\n",
    "We look at the entire course using SQLalchemy and postgres SQL."
   ]
  },
  {
   "cell_type": "code",
   "execution_count": 1,
   "metadata": {},
   "outputs": [],
   "source": [
    "import pandas as pd\n",
    "import sqlite3"
   ]
  },
  {
   "cell_type": "code",
   "execution_count": 2,
   "metadata": {},
   "outputs": [],
   "source": [
    "conn = sqlite3.connect('sqlite/test.db')"
   ]
  },
  {
   "cell_type": "code",
   "execution_count": 3,
   "metadata": {},
   "outputs": [],
   "source": [
    "c = conn.cursor()\n",
    "\n",
    "# Create table\n",
    "c.execute('''CREATE TABLE professors (\n",
    "firstname text,\n",
    "lastname text\n",
    ");''')\n",
    "\n",
    "# Add a column to the professors table\n",
    "c.execute('''ALTER TABLE professors\n",
    "ADD COLUMN university_shortname text;''')\n",
    "\n",
    "# Save (commit) the changes\n",
    "conn.commit()\n",
    "\n",
    "# We can also close the connection if we are done with it.\n",
    "# Just be sure any changes have been committed or they will be lost.\n",
    "conn.close()"
   ]
  },
  {
   "cell_type": "code",
   "execution_count": 4,
   "metadata": {},
   "outputs": [],
   "source": [
    "conn = sqlite3.connect('sqlite/test.db')"
   ]
  },
  {
   "cell_type": "code",
   "execution_count": 5,
   "metadata": {},
   "outputs": [],
   "source": [
    "c = conn.cursor()\n",
    "\n",
    "# Create table\n",
    "c.execute('''CREATE TABLE affiliations (\n",
    "organisation text);\n",
    "''')\n",
    "\n",
    "# Rename a column\n",
    "c.execute('''ALTER TABLE affiliations\n",
    "RENAME COLUMN organisation TO organization;''')\n",
    "\n",
    "# Save (commit) the changes\n",
    "conn.commit()"
   ]
  },
  {
   "cell_type": "code",
   "execution_count": 6,
   "metadata": {},
   "outputs": [
    {
     "data": {
      "text/html": [
       "<div>\n",
       "<style scoped>\n",
       "    .dataframe tbody tr th:only-of-type {\n",
       "        vertical-align: middle;\n",
       "    }\n",
       "\n",
       "    .dataframe tbody tr th {\n",
       "        vertical-align: top;\n",
       "    }\n",
       "\n",
       "    .dataframe thead th {\n",
       "        text-align: right;\n",
       "    }\n",
       "</style>\n",
       "<table border=\"1\" class=\"dataframe\">\n",
       "  <thead>\n",
       "    <tr style=\"text-align: right;\">\n",
       "      <th></th>\n",
       "      <th>firstname</th>\n",
       "      <th>lastname</th>\n",
       "      <th>university</th>\n",
       "      <th>university_shortname</th>\n",
       "      <th>university_city</th>\n",
       "      <th>function</th>\n",
       "      <th>organization</th>\n",
       "      <th>organization_sector</th>\n",
       "    </tr>\n",
       "  </thead>\n",
       "  <tbody>\n",
       "    <tr>\n",
       "      <th>0</th>\n",
       "      <td>Karl</td>\n",
       "      <td>Aberer</td>\n",
       "      <td>ETHLausanne</td>\n",
       "      <td>EPF</td>\n",
       "      <td>Lausanne</td>\n",
       "      <td>ChairmanofL3SAdvisoryBoard</td>\n",
       "      <td>L3SAdvisoryBoard</td>\n",
       "      <td>Education&amp;research</td>\n",
       "    </tr>\n",
       "    <tr>\n",
       "      <th>1</th>\n",
       "      <td>Karl</td>\n",
       "      <td>Aberer</td>\n",
       "      <td>ETHLausanne</td>\n",
       "      <td>EPF</td>\n",
       "      <td>Lausanne</td>\n",
       "      <td>MemberConseilofZeno-KarlSchindlerFoundation</td>\n",
       "      <td>Zeno-KarlSchindlerFoundation</td>\n",
       "      <td>Education&amp;research</td>\n",
       "    </tr>\n",
       "    <tr>\n",
       "      <th>2</th>\n",
       "      <td>Karl</td>\n",
       "      <td>Aberer</td>\n",
       "      <td>ETHLausanne</td>\n",
       "      <td>EPF</td>\n",
       "      <td>Lausanne</td>\n",
       "      <td>MemberofConseilFondationIDIAP</td>\n",
       "      <td>FondationIDIAP</td>\n",
       "      <td>Education&amp;research</td>\n",
       "    </tr>\n",
       "    <tr>\n",
       "      <th>3</th>\n",
       "      <td>Karl</td>\n",
       "      <td>Aberer</td>\n",
       "      <td>ETHLausanne</td>\n",
       "      <td>EPF</td>\n",
       "      <td>Lausanne</td>\n",
       "      <td>PanelMember</td>\n",
       "      <td>SNFAmbizioneProgram</td>\n",
       "      <td>Education&amp;research</td>\n",
       "    </tr>\n",
       "    <tr>\n",
       "      <th>4</th>\n",
       "      <td>RezaShokrollah</td>\n",
       "      <td>Abhari</td>\n",
       "      <td>ETHZürich</td>\n",
       "      <td>ETH</td>\n",
       "      <td>Zurich</td>\n",
       "      <td>Aufsichtsratsmandat</td>\n",
       "      <td>PNEWindAG</td>\n",
       "      <td>Energy</td>\n",
       "    </tr>\n",
       "  </tbody>\n",
       "</table>\n",
       "</div>"
      ],
      "text/plain": [
       "        firstname lastname   university university_shortname university_city  \\\n",
       "0            Karl   Aberer  ETHLausanne                  EPF        Lausanne   \n",
       "1            Karl   Aberer  ETHLausanne                  EPF        Lausanne   \n",
       "2            Karl   Aberer  ETHLausanne                  EPF        Lausanne   \n",
       "3            Karl   Aberer  ETHLausanne                  EPF        Lausanne   \n",
       "4  RezaShokrollah   Abhari    ETHZürich                  ETH          Zurich   \n",
       "\n",
       "                                      function                  organization  \\\n",
       "0                   ChairmanofL3SAdvisoryBoard              L3SAdvisoryBoard   \n",
       "1  MemberConseilofZeno-KarlSchindlerFoundation  Zeno-KarlSchindlerFoundation   \n",
       "2                MemberofConseilFondationIDIAP                FondationIDIAP   \n",
       "3                                  PanelMember           SNFAmbizioneProgram   \n",
       "4                          Aufsichtsratsmandat                     PNEWindAG   \n",
       "\n",
       "  organization_sector  \n",
       "0  Education&research  \n",
       "1  Education&research  \n",
       "2  Education&research  \n",
       "3  Education&research  \n",
       "4              Energy  "
      ]
     },
     "execution_count": 6,
     "metadata": {},
     "output_type": "execute_result"
    }
   ],
   "source": [
    "columns = ['firstname', \n",
    "           'lastname', \n",
    "           'university', \n",
    "           'university_shortname', \n",
    "           'university_city', \n",
    "           'function', \n",
    "           'organization', \n",
    "           'organization_sector']\n",
    "\n",
    "uni_prof_df = pd.read_csv('uni_prof.csv', names=columns)\n",
    "\n",
    "uni_prof_df.head()"
   ]
  },
  {
   "cell_type": "code",
   "execution_count": 7,
   "metadata": {},
   "outputs": [
    {
     "name": "stdout",
     "output_type": "stream",
     "text": [
      "<class 'pandas.core.frame.DataFrame'>\n",
      "RangeIndex: 99 entries, 0 to 98\n",
      "Data columns (total 8 columns):\n",
      "firstname               99 non-null object\n",
      "lastname                99 non-null object\n",
      "university              99 non-null object\n",
      "university_shortname    99 non-null object\n",
      "university_city         99 non-null object\n",
      "function                75 non-null object\n",
      "organization            99 non-null object\n",
      "organization_sector     99 non-null object\n",
      "dtypes: object(8)\n",
      "memory usage: 6.3+ KB\n"
     ]
    }
   ],
   "source": [
    "uni_prof_df.info()"
   ]
  },
  {
   "cell_type": "code",
   "execution_count": 8,
   "metadata": {},
   "outputs": [],
   "source": [
    "# Create table\n",
    "c.execute('''CREATE TABLE university_professors (\n",
    "firstname text,\n",
    "lastname text,\n",
    "university text,\n",
    "university_shortname text,\n",
    "university_city text,\n",
    "function text,\n",
    "organization text,\n",
    "organization_sector text\n",
    ");''')\n",
    "\n",
    "# Save (commit) the changes\n",
    "conn.commit()"
   ]
  },
  {
   "cell_type": "code",
   "execution_count": 9,
   "metadata": {},
   "outputs": [],
   "source": [
    "# Insert values from uni_prof_df DataFrame into table\n",
    "c.executemany('INSERT INTO university_professors VALUES (?,?,?,?,?,?,?,?)', \n",
    "              uni_prof_df.values.tolist())\n",
    "\n",
    "# Save (commit) the changes\n",
    "conn.commit()"
   ]
  },
  {
   "cell_type": "code",
   "execution_count": 10,
   "metadata": {},
   "outputs": [],
   "source": [
    "c.execute('''-- Insert unique professors into the new table\n",
    "INSERT INTO professors \n",
    "SELECT DISTINCT firstname, lastname, university_shortname \n",
    "FROM university_professors;''')\n",
    "\n",
    "conn.commit()"
   ]
  },
  {
   "cell_type": "code",
   "execution_count": 11,
   "metadata": {},
   "outputs": [
    {
     "name": "stdout",
     "output_type": "stream",
     "text": [
      "('Karl', 'Aberer', 'EPF')\n",
      "('RezaShokrollah', 'Abhari', 'ETH')\n",
      "('Georges', 'AbouJaoudé', 'EPF')\n",
      "('Hugues', 'Abriel', 'UBE')\n",
      "('Daniel', 'Aebersold', 'UBE')\n"
     ]
    }
   ],
   "source": [
    "for row in c.execute('SELECT * FROM professors LIMIT 5;'):\n",
    "    print(row)"
   ]
  },
  {
   "cell_type": "code",
   "execution_count": 12,
   "metadata": {},
   "outputs": [],
   "source": [
    "# Rename a column\n",
    "c.execute('''ALTER TABLE affiliations\n",
    "ADD COLUMN firstname text;''')\n",
    "\n",
    "c.execute('''ALTER TABLE affiliations\n",
    "ADD COLUMN lastname text;''')\n",
    "\n",
    "c.execute('''ALTER TABLE affiliations\n",
    "ADD COLUMN function text;''')\n",
    "\n",
    "# Save (commit) the changes\n",
    "conn.commit()"
   ]
  },
  {
   "cell_type": "code",
   "execution_count": 13,
   "metadata": {},
   "outputs": [
    {
     "name": "stdout",
     "output_type": "stream",
     "text": [
      "(0, 'organization', 'text', 0, None, 0)\n",
      "(1, 'firstname', 'text', 0, None, 0)\n",
      "(2, 'lastname', 'text', 0, None, 0)\n",
      "(3, 'function', 'text', 0, None, 0)\n"
     ]
    }
   ],
   "source": [
    "for row in c.execute('''PRAGMA table_info('affiliations')'''):\n",
    "    print(row)"
   ]
  },
  {
   "cell_type": "code",
   "execution_count": 14,
   "metadata": {},
   "outputs": [],
   "source": [
    "c.execute('''INSERT INTO affiliations \n",
    "SELECT DISTINCT firstname, lastname, function, organization \n",
    "FROM university_professors;''')\n",
    "\n",
    "conn.commit()"
   ]
  },
  {
   "cell_type": "code",
   "execution_count": 15,
   "metadata": {},
   "outputs": [
    {
     "name": "stdout",
     "output_type": "stream",
     "text": [
      "professors\n",
      "affiliations\n",
      "university_professors\n"
     ]
    }
   ],
   "source": [
    "res = conn.execute(\"SELECT name FROM sqlite_master WHERE type='table';\")\n",
    "for name in res:\n",
    "    print(name[0])"
   ]
  },
  {
   "cell_type": "code",
   "execution_count": 16,
   "metadata": {},
   "outputs": [],
   "source": [
    "c.execute('''CREATE TABLE organizations (\n",
    "organization text,\n",
    "organization_sector text);''')\n",
    "\n",
    "c.execute('''INSERT INTO organizations\n",
    "SELECT DISTINCT organization, organization_sector\n",
    "FROM university_professors;''')\n",
    "\n",
    "conn.commit()"
   ]
  },
  {
   "cell_type": "code",
   "execution_count": 17,
   "metadata": {},
   "outputs": [],
   "source": [
    "c.execute('''CREATE TABLE universities (\n",
    "university_shortname text,\n",
    "university text,\n",
    "university_city text);''')\n",
    "\n",
    "c.execute('''INSERT INTO universities\n",
    "SELECT DISTINCT university_shortname, university, university_city\n",
    "FROM university_professors;''')\n",
    "\n",
    "conn.commit()"
   ]
  },
  {
   "cell_type": "code",
   "execution_count": 18,
   "metadata": {},
   "outputs": [],
   "source": [
    "c.execute('DROP TABLE university_professors;')\n",
    "\n",
    "conn.commit()"
   ]
  },
  {
   "cell_type": "code",
   "execution_count": 19,
   "metadata": {},
   "outputs": [
    {
     "name": "stdout",
     "output_type": "stream",
     "text": [
      "professors\n",
      "affiliations\n",
      "organizations\n",
      "universities\n"
     ]
    }
   ],
   "source": [
    "res = conn.execute(\"SELECT name FROM sqlite_master WHERE type='table';\")\n",
    "for name in res:\n",
    "    print(name[0])"
   ]
  },
  {
   "cell_type": "code",
   "execution_count": 20,
   "metadata": {},
   "outputs": [
    {
     "name": "stdout",
     "output_type": "stream",
     "text": [
      "EPF\n",
      "ETH\n",
      "UBE\n",
      "ULA\n",
      "USG\n",
      "UNE\n",
      "UFR\n"
     ]
    }
   ],
   "source": [
    "for row in c.execute('''SELECT DISTINCT(university_shortname) \n",
    "FROM professors;'''):\n",
    "    print(row[0])"
   ]
  },
  {
   "cell_type": "markdown",
   "metadata": {},
   "source": [
    "# Constraints in SQLite\n",
    "\n",
    "- SQLite has limited ALTER commands\n",
    "- Most contraints need to be specified when the column is created\n",
    "- Therefore, these operations that are common in other databases like MSQL and Postgresql require the creation of a new table with the proper contstraints, copying of the data to the new table, and dropping the old table."
   ]
  },
  {
   "cell_type": "code",
   "execution_count": 21,
   "metadata": {},
   "outputs": [],
   "source": [
    "import pandas as pd\n",
    "import sqlalchemy\n",
    "from sqlalchemy.sql import text"
   ]
  },
  {
   "cell_type": "code",
   "execution_count": 22,
   "metadata": {},
   "outputs": [],
   "source": [
    "%run keys.py"
   ]
  },
  {
   "cell_type": "code",
   "execution_count": 23,
   "metadata": {},
   "outputs": [],
   "source": [
    "with engine4.connect() as con:\n",
    "    a = text('''\n",
    "    CREATE TABLE professors (\n",
    "    firstname text,\n",
    "    lastname text);\n",
    "    ''')\n",
    "    \n",
    "    b = text('''\n",
    "    ALTER TABLE professors \n",
    "    ADD COLUMN university_shortname text;\n",
    "    ''')\n",
    "    \n",
    "    c = text('''\n",
    "    CREATE TABLE affiliations (\n",
    "    organisation text);\n",
    "    ''')\n",
    "    \n",
    "    my_list = [a,b,c]\n",
    "    \n",
    "    for statement in my_list:\n",
    "        con.execute(statement)"
   ]
  },
  {
   "cell_type": "code",
   "execution_count": 24,
   "metadata": {},
   "outputs": [],
   "source": [
    "with engine4.connect() as con:\n",
    "    a = text('''\n",
    "    ALTER TABLE affiliations\n",
    "    RENAME COLUMN organisation TO organization;\n",
    "    ''')\n",
    "    \n",
    "    b = text('''CREATE TABLE university_professors (\n",
    "    firstname text,\n",
    "    lastname text,\n",
    "    university text,\n",
    "    university_shortname text,\n",
    "    university_city text,\n",
    "    function text,\n",
    "    organization text,\n",
    "    organization_sector text);\n",
    "    ''')\n",
    "    \n",
    "    my_list = [a,b]\n",
    "    \n",
    "    for statement in my_list:\n",
    "        con.execute(statement)"
   ]
  },
  {
   "cell_type": "code",
   "execution_count": 25,
   "metadata": {},
   "outputs": [
    {
     "data": {
      "text/plain": [
       "[(0, 'Karl', 'Aberer', 'ETHLausanne', 'EPF', 'Lausanne', 'ChairmanofL3SAdvisoryBoard', 'L3SAdvisoryBoard', 'Education&research'),\n",
       " (1, 'Karl', 'Aberer', 'ETHLausanne', 'EPF', 'Lausanne', 'MemberConseilofZeno-KarlSchindlerFoundation', 'Zeno-KarlSchindlerFoundation', 'Education&research'),\n",
       " (2, 'Karl', 'Aberer', 'ETHLausanne', 'EPF', 'Lausanne', 'MemberofConseilFondationIDIAP', 'FondationIDIAP', 'Education&research'),\n",
       " (3, 'Karl', 'Aberer', 'ETHLausanne', 'EPF', 'Lausanne', 'PanelMember', 'SNFAmbizioneProgram', 'Education&research'),\n",
       " (4, 'RezaShokrollah', 'Abhari', 'ETHZürich', 'ETH', 'Zurich', 'Aufsichtsratsmandat', 'PNEWindAG', 'Energy')]"
      ]
     },
     "execution_count": 25,
     "metadata": {},
     "output_type": "execute_result"
    }
   ],
   "source": [
    "uni_prof_df.to_sql('university_professors', con=engine4, if_exists='replace')\n",
    "\n",
    "engine4.execute(\"SELECT * FROM university_professors LIMIT 5\").fetchall()"
   ]
  },
  {
   "cell_type": "markdown",
   "metadata": {},
   "source": [
    "# Useful reference for the above operation:\n",
    "\n",
    "## [pandas.DataFrame.to_sql](https://pandas.pydata.org/pandas-docs/stable/reference/api/pandas.DataFrame.to_sql.html)"
   ]
  },
  {
   "cell_type": "code",
   "execution_count": 26,
   "metadata": {},
   "outputs": [
    {
     "name": "stdout",
     "output_type": "stream",
     "text": [
      "('François', 'Avellan', 'EPF')\n",
      "('Marco', 'Bakker', 'EPF')\n",
      "('Patrick', 'Aebischer', 'EPF')\n",
      "('KayWerner', 'Axhausen', 'ETH')\n",
      "('Claudio', 'Bassetti', 'UBE')\n"
     ]
    }
   ],
   "source": [
    "with engine4.connect() as con:\n",
    "    \n",
    "    # Insert unique professors into the new table\n",
    "    a = text('''\n",
    "    INSERT INTO professors \n",
    "    SELECT DISTINCT firstname, lastname, university_shortname \n",
    "    FROM university_professors;\n",
    "    ''')\n",
    "    \n",
    "    con.execute(a)\n",
    "    \n",
    "    re = con.execute('SELECT * FROM professors;')\n",
    "    \n",
    "    re_list = []\n",
    "    \n",
    "    for entry in re:\n",
    "        re_list.append(entry)\n",
    "        \n",
    "    for entry in re_list[:5]:\n",
    "        print(entry)"
   ]
  },
  {
   "cell_type": "code",
   "execution_count": 27,
   "metadata": {},
   "outputs": [],
   "source": [
    "with engine4.connect() as con:\n",
    "    \n",
    "    a = text('''ALTER TABLE affiliations\n",
    "    ADD COLUMN firstname text;''')\n",
    "    \n",
    "    b = text('''ALTER TABLE affiliations\n",
    "    ADD COLUMN lastname text;''')\n",
    "    \n",
    "    c = text('''ALTER TABLE affiliations\n",
    "    ADD COLUMN function text;''')\n",
    "    \n",
    "    my_list = [a,b,c]\n",
    "    \n",
    "    for statement in my_list:\n",
    "        con.execute(statement)"
   ]
  },
  {
   "cell_type": "code",
   "execution_count": 28,
   "metadata": {},
   "outputs": [
    {
     "name": "stdout",
     "output_type": "stream",
     "text": [
      "Distinct university shortnames:\n",
      "ULA\n",
      "UNE\n",
      "EPF\n",
      "USG\n",
      "UBE\n",
      "UFR\n",
      "ETH\n"
     ]
    }
   ],
   "source": [
    "with engine4.connect() as con:\n",
    "    \n",
    "    a = text('''\n",
    "    INSERT INTO affiliations \n",
    "    SELECT DISTINCT organization, firstname, lastname, function \n",
    "    FROM university_professors;\n",
    "    ''')\n",
    "    \n",
    "    b = text('''\n",
    "    CREATE TABLE organizations (\n",
    "    organization text,\n",
    "    organization_sector text);\n",
    "    ''')\n",
    "    \n",
    "    c = text('''\n",
    "    INSERT INTO organizations\n",
    "    SELECT DISTINCT organization, organization_sector\n",
    "    FROM university_professors;\n",
    "    ''')\n",
    "    \n",
    "    d = text('''\n",
    "    CREATE TABLE universities (\n",
    "    university_shortname text,\n",
    "    university text,\n",
    "    university_city text);\n",
    "    ''')\n",
    "    \n",
    "    e = text('''\n",
    "    INSERT INTO universities\n",
    "    SELECT DISTINCT university_shortname, university, university_city\n",
    "    FROM university_professors;\n",
    "    ''')\n",
    "    \n",
    "    f = text('DROP TABLE university_professors;')\n",
    "    \n",
    "    my_list = [a,b,c,d,e,f]\n",
    "    \n",
    "    for statement in my_list:\n",
    "        con.execute(statement)\n",
    "        \n",
    "    re = con.execute('SELECT DISTINCT(university_shortname) FROM professors;')\n",
    "    \n",
    "    print('Distinct university shortnames:')\n",
    "    \n",
    "    for row in re:\n",
    "        print(row[0])"
   ]
  },
  {
   "cell_type": "code",
   "execution_count": 29,
   "metadata": {},
   "outputs": [],
   "source": [
    "with engine4.connect() as con:\n",
    "    \n",
    "    a = text('''\n",
    "    ALTER TABLE professors\n",
    "    ALTER COLUMN university_shortname\n",
    "    TYPE char(3);\n",
    "    ''')\n",
    "    \n",
    "    b = text('''\n",
    "    ALTER TABLE professors\n",
    "    ALTER COLUMN firstname\n",
    "    TYPE varchar(64);\n",
    "    ''')\n",
    "    \n",
    "    # c = text('''\n",
    "    # ALTER TABLE professors \n",
    "    # ALTER COLUMN firstname\n",
    "    # TYPE varchar(16)\n",
    "    # USING SUBSTRING(firstname FROM 1 FOR 16)''')\n",
    "    \n",
    "    c = text('''\n",
    "    ALTER TABLE professors \n",
    "    ALTER COLUMN firstname SET NOT NULL;\n",
    "    ''')\n",
    "    \n",
    "    d = text('''\n",
    "    ALTER TABLE professors\n",
    "    ALTER COLUMN lastname SET NOT NULL;\n",
    "    ''')\n",
    "    \n",
    "    e = text('''\n",
    "    ALTER TABLE universities\n",
    "    ADD CONSTRAINT university_shortname_unq \n",
    "    UNIQUE(university_shortname);\n",
    "    ''')\n",
    "    \n",
    "    f = text('''\n",
    "    ALTER TABLE organizations\n",
    "    ADD CONSTRAINT organization_unq\n",
    "    UNIQUE(organization);\n",
    "    ''')\n",
    "    \n",
    "    my_list = [a,b,c,d,e,f]\n",
    "    \n",
    "    for statement in my_list:\n",
    "        con.execute(statement)"
   ]
  },
  {
   "cell_type": "code",
   "execution_count": 30,
   "metadata": {},
   "outputs": [
    {
     "name": "stdout",
     "output_type": "stream",
     "text": [
      "The number of universities is: 7\n"
     ]
    }
   ],
   "source": [
    "with engine4.connect() as con:\n",
    "    \n",
    "    re = con.execute('SELECT COUNT(*) FROM universities;')\n",
    "    \n",
    "    for row in re:\n",
    "        print('The number of universities is:', row[0])"
   ]
  },
  {
   "cell_type": "code",
   "execution_count": 31,
   "metadata": {},
   "outputs": [
    {
     "name": "stdout",
     "output_type": "stream",
     "text": [
      "The number of university cities is: 6\n"
     ]
    }
   ],
   "source": [
    "with engine4.connect() as con:\n",
    "    \n",
    "    re = con.execute('SELECT COUNT(DISTINCT(university_city)) FROM universities;')\n",
    "    \n",
    "    for row in re:\n",
    "        print('The number of university cities is:', row[0])\n"
   ]
  },
  {
   "cell_type": "code",
   "execution_count": 32,
   "metadata": {},
   "outputs": [
    {
     "name": "stdout",
     "output_type": "stream",
     "text": [
      "The number of distinct professor names is: 39\n"
     ]
    }
   ],
   "source": [
    "statement = '''SELECT COUNT(DISTINCT(lastname, firstname)) \n",
    "FROM professors;'''\n",
    "\n",
    "with engine4.connect() as con:\n",
    "    \n",
    "    re = con.execute(statement)\n",
    "    \n",
    "    for row in re:\n",
    "        print('The number of distinct professor names is:', row[0])"
   ]
  },
  {
   "cell_type": "code",
   "execution_count": 33,
   "metadata": {},
   "outputs": [],
   "source": [
    "with engine4.connect() as con:\n",
    "    \n",
    "    a = text('''\n",
    "    ALTER TABLE professors\n",
    "    ADD COLUMN id serial PRIMARY KEY;\n",
    "\n",
    "    ''')\n",
    "    \n",
    "    con.execute(a)"
   ]
  },
  {
   "cell_type": "code",
   "execution_count": 34,
   "metadata": {},
   "outputs": [
    {
     "name": "stdout",
     "output_type": "stream",
     "text": [
      "('François', 'Avellan', 'EPF', 1)\n",
      "('Marco', 'Bakker', 'EPF', 2)\n",
      "('Patrick', 'Aebischer', 'EPF', 3)\n",
      "('KayWerner', 'Axhausen', 'ETH', 4)\n",
      "('Claudio', 'Bassetti', 'UBE', 5)\n",
      "('Philippe', 'Bacchetta', 'ULA', 6)\n",
      "('Marcelo', 'Aebi', 'ULA', 7)\n",
      "('RezaShokrollah', 'Abhari', 'ETH', 8)\n",
      "('Georges', 'AbouJaoudé', 'EPF', 9)\n",
      "('DavidAlan', 'Basin', 'ETH', 10)\n"
     ]
    }
   ],
   "source": [
    "with engine4.connect() as con:\n",
    "    \n",
    "    re = con.execute('''\n",
    "    -- Have a look at the first 10 rows of professors\n",
    "    SELECT * FROM professors\n",
    "    LIMIT 10;\n",
    "    ''')\n",
    "    \n",
    "    for row in re:\n",
    "        print(row)"
   ]
  },
  {
   "cell_type": "code",
   "execution_count": 35,
   "metadata": {},
   "outputs": [],
   "source": [
    "with engine4.connect() as con:\n",
    "    \n",
    "    a = text('''\n",
    "    CREATE TABLE cars (\n",
    "     make varchar(64) NOT NULL,\n",
    "     model varchar(64) NOT NULL,\n",
    "     mpg integer NOT NULL\n",
    "     )\n",
    "    ''')\n",
    "    \n",
    "    con.execute(a)"
   ]
  },
  {
   "cell_type": "code",
   "execution_count": 36,
   "metadata": {},
   "outputs": [],
   "source": [
    "with engine4.connect() as con:\n",
    "    \n",
    "    b = text('''\n",
    "    INSERT INTO cars (make, model, mpg)\n",
    "    VALUES \n",
    "        ('Subaru', 'Forester', 24),\n",
    "        ('Opel', 'Astra', 45),\n",
    "        ('Opel', 'Vectra', 40),\n",
    "        ('Ford', 'Avenger', 30),\n",
    "        ('Ford', 'Galaxy', 30),\n",
    "        ('Toyota', 'Prius', 50),\n",
    "        ('Toyota', 'Speedster', 30),\n",
    "        ('Toyota', 'Galaxy', 20),\n",
    "        ('Mitsubishi', 'Forester', 10),\n",
    "        ('Mitsubishi', 'Galaxy', 30);\n",
    "    ''')\n",
    "    \n",
    "    con.execute(b)"
   ]
  },
  {
   "cell_type": "code",
   "execution_count": 37,
   "metadata": {},
   "outputs": [
    {
     "name": "stdout",
     "output_type": "stream",
     "text": [
      "('Subaru', 'Forester', 24)\n",
      "('Opel', 'Astra', 45)\n",
      "('Opel', 'Vectra', 40)\n",
      "('Ford', 'Avenger', 30)\n",
      "('Ford', 'Galaxy', 30)\n",
      "('Toyota', 'Prius', 50)\n",
      "('Toyota', 'Speedster', 30)\n",
      "('Toyota', 'Galaxy', 20)\n",
      "('Mitsubishi', 'Forester', 10)\n",
      "('Mitsubishi', 'Galaxy', 30)\n"
     ]
    }
   ],
   "source": [
    "with engine4.connect() as con:\n",
    "    \n",
    "    re = con.execute('SELECT * FROM cars')\n",
    "    \n",
    "    for row in re:\n",
    "        print(row)"
   ]
  },
  {
   "cell_type": "code",
   "execution_count": 38,
   "metadata": {},
   "outputs": [],
   "source": [
    "def run_query(statement):\n",
    "    with engine4.connect() as con:\n",
    "        a = text(statement)\n",
    "        \n",
    "        con.execute(a)"
   ]
  },
  {
   "cell_type": "code",
   "execution_count": 39,
   "metadata": {},
   "outputs": [],
   "source": [
    "def run_query_print_rows(statement):\n",
    "    with engine4.connect() as con:\n",
    "        \n",
    "        re = con.execute(statement)\n",
    "        \n",
    "        for row in re:\n",
    "            print(row)"
   ]
  },
  {
   "cell_type": "code",
   "execution_count": 40,
   "metadata": {},
   "outputs": [],
   "source": [
    "statement = '''\n",
    "-- Count the number of distinct rows with columns make, model\n",
    "SELECT COUNT(DISTINCT(make, model)) \n",
    "FROM cars;\n",
    "\n",
    "-- Add the id column\n",
    "ALTER TABLE cars\n",
    "ADD COLUMN id varchar(128);\n",
    "\n",
    "-- Update id with make + model\n",
    "UPDATE cars\n",
    "SET id = CONCAT(make, model);\n",
    "\n",
    "-- Make id a primary key\n",
    "ALTER TABLE cars\n",
    "ADD CONSTRAINT id_pk PRIMARY KEY(id);\n",
    "'''\n",
    "\n",
    "run_query(statement)"
   ]
  },
  {
   "cell_type": "code",
   "execution_count": 41,
   "metadata": {},
   "outputs": [
    {
     "name": "stdout",
     "output_type": "stream",
     "text": [
      "('Subaru', 'Forester', 24)\n",
      "('Opel', 'Astra', 45)\n",
      "('Opel', 'Vectra', 40)\n",
      "('Ford', 'Avenger', 30)\n",
      "('Ford', 'Galaxy', 30)\n",
      "('Toyota', 'Prius', 50)\n",
      "('Toyota', 'Speedster', 30)\n",
      "('Toyota', 'Galaxy', 20)\n",
      "('Mitsubishi', 'Forester', 10)\n",
      "('Mitsubishi', 'Galaxy', 30)\n"
     ]
    }
   ],
   "source": [
    "statement = '''\n",
    "-- Have a look at the table\n",
    "SELECT * FROM cars;\n",
    "'''\n",
    "\n",
    "run_query_print_rows(statement)"
   ]
  },
  {
   "cell_type": "code",
   "execution_count": 42,
   "metadata": {},
   "outputs": [],
   "source": [
    "s = '''\n",
    "-- Create the table\n",
    "CREATE TABLE students (\n",
    "  last_name varchar(128) NOT NULL,\n",
    "  ssn integer PRIMARY KEY,\n",
    "  phone_no char(12)\n",
    ");\n",
    "'''\n",
    "\n",
    "run_query(s)"
   ]
  },
  {
   "cell_type": "code",
   "execution_count": 43,
   "metadata": {},
   "outputs": [],
   "source": [
    "s = '''\n",
    "ALTER TABLE universities\n",
    "RENAME COLUMN university_shortname TO id;\n",
    "\n",
    "ALTER TABLE universities\n",
    "ADD CONSTRAINT id_pkey PRIMARY KEY(id);\n",
    "'''\n",
    "\n",
    "run_query(s)"
   ]
  },
  {
   "cell_type": "code",
   "execution_count": 44,
   "metadata": {},
   "outputs": [],
   "source": [
    "s = '''\n",
    "ALTER TABLE professors\n",
    "RENAME COLUMN university_shortname TO university_id;\n",
    "\n",
    "ALTER TABLE professors \n",
    "ADD CONSTRAINT professors_fkey FOREIGN KEY (university_id) REFERENCES universities (id);\n",
    "'''\n",
    "\n",
    "run_query(s)"
   ]
  },
  {
   "cell_type": "code",
   "execution_count": 45,
   "metadata": {},
   "outputs": [],
   "source": [
    "s = '''\n",
    "-- Try to insert a new professor\n",
    "INSERT INTO professors (firstname, lastname, university_id)\n",
    "VALUES ('Albert', 'Einstein', 'UBE');\n",
    "'''\n",
    "\n",
    "run_query(s)"
   ]
  },
  {
   "cell_type": "code",
   "execution_count": 46,
   "metadata": {},
   "outputs": [
    {
     "name": "stdout",
     "output_type": "stream",
     "text": [
      "('Axhausen', 'ETH', 'Zurich')\n",
      "('Abhari', 'ETH', 'Zurich')\n",
      "('Basin', 'ETH', 'Zurich')\n",
      "('Baschera', 'ETH', 'Zurich')\n",
      "('Bechtold', 'ETH', 'Zurich')\n"
     ]
    }
   ],
   "source": [
    "s = '''\n",
    "-- Select all professors working for universities in the city of Zurich\n",
    "SELECT professors.lastname, universities.id, universities.university_city\n",
    "FROM professors\n",
    "JOIN universities\n",
    "ON professors.university_id = universities.id\n",
    "WHERE universities.university_city = 'Zurich';\n",
    "'''\n",
    "\n",
    "run_query_print_rows(s)"
   ]
  },
  {
   "cell_type": "code",
   "execution_count": 47,
   "metadata": {},
   "outputs": [],
   "source": [
    "s = '''\n",
    "ALTER TABLE organizations\n",
    "RENAME organization to id;\n",
    "'''\n",
    "\n",
    "run_query(s)"
   ]
  },
  {
   "cell_type": "code",
   "execution_count": 54,
   "metadata": {},
   "outputs": [],
   "source": [
    "s = '''\n",
    "ALTER TABLE affiliations\n",
    "ADD COLUMN professor_id integer REFERENCES professors (id);\n",
    "\n",
    "ALTER TABLE affiliations\n",
    "RENAME organization TO organization_id;\n",
    "\n",
    "ALTER TABLE affiliations\n",
    "ADD CONSTRAINT affiliations_organization_fkey FOREIGN KEY (organization_id) REFERENCES organizations (id);\n",
    "'''\n",
    "\n",
    "run_query(s)"
   ]
  },
  {
   "cell_type": "code",
   "execution_count": 55,
   "metadata": {},
   "outputs": [
    {
     "name": "stdout",
     "output_type": "stream",
     "text": [
      "('St.GallerKantonalbankAG', 'Manuel', 'Ammann', 'Verwaltungsrat', None)\n",
      "('cleanenergyresearchprogram', 'Christophe', 'Ballif', 'Panel', None)\n",
      "('NestecSA', 'David', 'AtienzaAlonso', 'Consultancyonembeddedsystemsusesforswallowingandchewingmonitoring', None)\n",
      "('Nestlé', 'Patrick', 'Aebischer', 'Verwaltungsrat', None)\n",
      "('SWANIsotopenAG', 'Daniel', 'Aebersold', None, None)\n",
      "('SchweizerischeGesellschaftfürallgemeineinnereMedizin', 'Drahomir', 'Aujesky', None, None)\n",
      "('AlgofinAG', 'Manuel', 'Ammann', 'Verwaltungsratspräsident', None)\n",
      "('FondazioneEccles', 'Claudio', 'Bassetti', None, None)\n",
      "('InternationalSchoolofBern', 'Artur', 'Baldauf', None, None)\n",
      "('BernischeStiftungfürkrebskrankeKinderundJugendliche', 'Christoph', 'Aebi', None, None)\n"
     ]
    }
   ],
   "source": [
    "s = '''\n",
    "SELECT * FROM affiliations LIMIT 10\n",
    "'''\n",
    "\n",
    "run_query_print_rows(s)"
   ]
  },
  {
   "cell_type": "code",
   "execution_count": 60,
   "metadata": {},
   "outputs": [],
   "source": [
    "s = '''\n",
    "UPDATE affiliations\n",
    "SET professor_id = professors.id\n",
    "FROM professors\n",
    "WHERE affiliations.firstname = professors.firstname AND affiliations.lastname = professors.lastname;\n",
    "'''\n",
    "\n",
    "run_query(s)"
   ]
  },
  {
   "cell_type": "code",
   "execution_count": 61,
   "metadata": {},
   "outputs": [
    {
     "name": "stdout",
     "output_type": "stream",
     "text": [
      "(\"NationalerGeistigerRatderBahá'íderSchweiz\", 'Omid', 'Aschari', 'Mitglied', 15)\n",
      "('SingaporeInternationalAdvisoryCommitteeforBiomedicalSciences', 'Patrick', 'Aebischer', 'Beirat', 3)\n",
      "('SpitalThunAG', 'Iris', 'Baumgartner', None, 11)\n",
      "('InternationalJournalofNumberTheory', 'Eva', 'BayerFluckiger', 'Membreducomitééditorial', 16)\n",
      "('HiltiAG', 'PiusEliseo', 'Baschera', 'VR-Präsidium', 28)\n",
      "('NeueBankAG', 'Manuel', 'Ammann', 'Verwaltungsrat', 37)\n",
      "('gyMetricsSA', 'Yann', 'Barrandon', \"Conseild'administration\", 18)\n",
      "('L3SAdvisoryBoard', 'Karl', 'Aberer', 'ChairmanofL3SAdvisoryBoard', 23)\n",
      "('St.GallerKantonalbankAG', 'Manuel', 'Ammann', 'Verwaltungsrat', 37)\n",
      "('cleanenergyresearchprogram', 'Christophe', 'Ballif', 'Panel', 33)\n"
     ]
    }
   ],
   "source": [
    "s = '''\n",
    "SELECT * FROM affiliations LIMIT 10\n",
    "'''\n",
    "\n",
    "run_query_print_rows(s)"
   ]
  },
  {
   "cell_type": "code",
   "execution_count": 63,
   "metadata": {},
   "outputs": [],
   "source": [
    "s = '''\n",
    "ALTER TABLE affiliations\n",
    "DROP COLUMN firstname;\n",
    "\n",
    "ALTER TABLE affiliations\n",
    "DROP COLUMN lastname;\n",
    "'''\n",
    "\n",
    "run_query(s)"
   ]
  },
  {
   "cell_type": "markdown",
   "metadata": {},
   "source": [
    "# Referential Integrity\n",
    "\n",
    "## A record referencing another table must refer to an existing record in that table\n",
    "\n",
    "- Specified between two tables\n",
    "- Enforced through foreign keys\n",
    "\n",
    "## Referential integrity violations\n",
    "#### Referential integrity from table A to table B is violated...\n",
    "\n",
    "- ...if a record in table B that is referenced from a record in table A is deleted.\n",
    "- ...if a record in table A referencing a non-existing record from table B is inserted.\n",
    "#### Foreign keys prevent violations!\n",
    "\n",
    "## Dealing with violations\n",
    "\n",
    "```sql\n",
    "CREATE TABLE a (\n",
    " id integer PRIMARY KEY,\n",
    " column_a varchar(64), \n",
    " ...,\n",
    " b_id integer REFERENCES b (id) ON DELETE NO ACTION\n",
    ");\n",
    "```\n",
    "\n",
    "```sql\n",
    "CREATE TABLE a (\n",
    " id integer PRIMARY KEY,\n",
    " column_a varchar(64), \n",
    " ...,\n",
    " b_id integer REFERENCES b (id) ON DELETE CASCADE\n",
    ");\n",
    "```\n",
    "\n",
    "## Dealing with violations, contd.\n",
    "#### ON DELETE...\n",
    "\n",
    "- ...NO ACTION: Throw an error\n",
    "- ...CASCADE: Delete all referencing records\n",
    "- ...RESTRICT: Throw an error\n",
    "- ...SET NULL: Set the referencing column to NULL\n",
    "- ...SET DEFAULT: Set the referencing column to its default value"
   ]
  },
  {
   "cell_type": "code",
   "execution_count": 65,
   "metadata": {},
   "outputs": [
    {
     "name": "stdout",
     "output_type": "stream",
     "text": [
      "('professors_fkey', 'professors', 'FOREIGN KEY')\n",
      "('affiliations_professor_id_fkey', 'affiliations', 'FOREIGN KEY')\n",
      "('affiliations_organization_fkey', 'affiliations', 'FOREIGN KEY')\n"
     ]
    }
   ],
   "source": [
    "s = '''\n",
    "SELECT constraint_name, table_name, constraint_type\n",
    "FROM information_schema.table_constraints\n",
    "WHERE constraint_type = 'FOREIGN KEY';\n",
    "'''\n",
    "\n",
    "run_query_print_rows(s)"
   ]
  },
  {
   "cell_type": "code",
   "execution_count": 67,
   "metadata": {},
   "outputs": [],
   "source": [
    "s = '''\n",
    "ALTER TABLE affiliations\n",
    "DROP CONSTRAINT affiliations_organization_fkey;\n",
    "\n",
    "ALTER TABLE affiliations\n",
    "ADD CONSTRAINT affiliations_organization_id_fkey FOREIGN KEY (organization_id) REFERENCES organizations (id) ON DELETE CASCADE;\n",
    "\n",
    "DELETE FROM organizations \n",
    "WHERE id = 'CUREM';\n",
    "\n",
    "SELECT * FROM organizations\n",
    "WHERE id = 'CUREM';\n",
    "'''\n",
    "\n",
    "run_query(s)"
   ]
  },
  {
   "cell_type": "code",
   "execution_count": 68,
   "metadata": {},
   "outputs": [
    {
     "name": "stdout",
     "output_type": "stream",
     "text": [
      "(51, 'EPF')\n",
      "(15, 'UBE')\n",
      "(14, 'USG')\n",
      "(10, 'ETH')\n",
      "(5, 'ULA')\n",
      "(3, 'UNE')\n",
      "(1, 'UFR')\n"
     ]
    }
   ],
   "source": [
    "s = '''\n",
    "SELECT COUNT(*), professors.university_id \n",
    "FROM affiliations\n",
    "JOIN professors\n",
    "ON affiliations.professor_id = professors.id\n",
    "GROUP BY professors.university_id \n",
    "ORDER BY count DESC;\n",
    "'''\n",
    "\n",
    "run_query_print_rows(s)"
   ]
  },
  {
   "cell_type": "code",
   "execution_count": 70,
   "metadata": {},
   "outputs": [
    {
     "name": "stdout",
     "output_type": "stream",
     "text": [
      "(3, 'Media&communication', 16, 'Lausanne')\n",
      "(1, 'Media&communication', 32, 'Lausanne')\n"
     ]
    }
   ],
   "source": [
    "s = '''\n",
    "SELECT COUNT(*), organizations.organization_sector, \n",
    "professors.id, universities.university_city\n",
    "FROM affiliations\n",
    "JOIN professors\n",
    "ON affiliations.professor_id = professors.id\n",
    "JOIN organizations\n",
    "ON affiliations.organization_id = organizations.id\n",
    "JOIN universities\n",
    "ON professors.university_id = universities.id\n",
    "WHERE organizations.organization_sector = 'Media&communication'\n",
    "GROUP BY organizations.organization_sector, \n",
    "professors.id, universities.university_city\n",
    "ORDER BY count DESC;\n",
    "'''\n",
    "\n",
    "run_query_print_rows(s)"
   ]
  },
  {
   "cell_type": "code",
   "execution_count": null,
   "metadata": {},
   "outputs": [],
   "source": []
  }
 ],
 "metadata": {
  "kernelspec": {
   "display_name": "Python 3",
   "language": "python",
   "name": "python3"
  },
  "language_info": {
   "codemirror_mode": {
    "name": "ipython",
    "version": 3
   },
   "file_extension": ".py",
   "mimetype": "text/x-python",
   "name": "python",
   "nbconvert_exporter": "python",
   "pygments_lexer": "ipython3",
   "version": "3.6.7"
  }
 },
 "nbformat": 4,
 "nbformat_minor": 2
}
