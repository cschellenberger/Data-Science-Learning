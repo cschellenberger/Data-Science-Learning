{
 "cells": [
  {
   "cell_type": "code",
   "execution_count": 6,
   "metadata": {},
   "outputs": [],
   "source": [
    "import pandas as pd\n",
    "import sqlite3"
   ]
  },
  {
   "cell_type": "code",
   "execution_count": 7,
   "metadata": {},
   "outputs": [],
   "source": [
    "conn = sqlite3.connect('sqlite/test.db')"
   ]
  },
  {
   "cell_type": "code",
   "execution_count": 9,
   "metadata": {},
   "outputs": [],
   "source": [
    "c = conn.cursor()\n",
    "\n",
    "# Create table\n",
    "c.execute('''CREATE TABLE professors (\n",
    "firstname text,\n",
    "lastname text\n",
    ");''')\n",
    "\n",
    "# Add a column to the professors table\n",
    "c.execute('''ALTER TABLE professors\n",
    "ADD COLUMN university_shortname text;''')\n",
    "\n",
    "# Save (commit) the changes\n",
    "conn.commit()\n",
    "\n",
    "# We can also close the connection if we are done with it.\n",
    "# Just be sure any changes have been committed or they will be lost.\n",
    "conn.close()"
   ]
  },
  {
   "cell_type": "code",
   "execution_count": 10,
   "metadata": {},
   "outputs": [],
   "source": [
    "conn = sqlite3.connect('sqlite/test.db')"
   ]
  },
  {
   "cell_type": "code",
   "execution_count": 11,
   "metadata": {},
   "outputs": [],
   "source": [
    "c = conn.cursor()\n",
    "\n",
    "# Create table\n",
    "c.execute('''CREATE TABLE affiliations (\n",
    "organisation text);\n",
    "''')\n",
    "\n",
    "# Rename a column\n",
    "c.execute('''ALTER TABLE affiliations\n",
    "RENAME COLUMN organisation TO organization;''')\n",
    "\n",
    "# Save (commit) the changes\n",
    "conn.commit()"
   ]
  },
  {
   "cell_type": "code",
   "execution_count": 12,
   "metadata": {},
   "outputs": [
    {
     "data": {
      "text/html": [
       "<div>\n",
       "<style scoped>\n",
       "    .dataframe tbody tr th:only-of-type {\n",
       "        vertical-align: middle;\n",
       "    }\n",
       "\n",
       "    .dataframe tbody tr th {\n",
       "        vertical-align: top;\n",
       "    }\n",
       "\n",
       "    .dataframe thead th {\n",
       "        text-align: right;\n",
       "    }\n",
       "</style>\n",
       "<table border=\"1\" class=\"dataframe\">\n",
       "  <thead>\n",
       "    <tr style=\"text-align: right;\">\n",
       "      <th></th>\n",
       "      <th>firstname</th>\n",
       "      <th>lastname</th>\n",
       "      <th>university</th>\n",
       "      <th>university_shortname</th>\n",
       "      <th>university_city</th>\n",
       "      <th>function</th>\n",
       "      <th>organization</th>\n",
       "      <th>organization_sector</th>\n",
       "    </tr>\n",
       "  </thead>\n",
       "  <tbody>\n",
       "    <tr>\n",
       "      <th>0</th>\n",
       "      <td>Karl</td>\n",
       "      <td>Aberer</td>\n",
       "      <td>ETH Lausanne</td>\n",
       "      <td>EPF</td>\n",
       "      <td>Lausanne</td>\n",
       "      <td>Chairman of L3S Advisory Board</td>\n",
       "      <td>L3S Advisory Board</td>\n",
       "      <td>Education &amp; research</td>\n",
       "    </tr>\n",
       "    <tr>\n",
       "      <th>1</th>\n",
       "      <td>Karl</td>\n",
       "      <td>Aberer</td>\n",
       "      <td>ETH Lausanne</td>\n",
       "      <td>EPF</td>\n",
       "      <td>Lausanne</td>\n",
       "      <td>Member Conseil of Zeno-Karl Schindler Foundation</td>\n",
       "      <td>Zeno-Karl Schindler Foundation</td>\n",
       "      <td>Education &amp; research</td>\n",
       "    </tr>\n",
       "    <tr>\n",
       "      <th>2</th>\n",
       "      <td>Karl</td>\n",
       "      <td>Aberer</td>\n",
       "      <td>ETH Lausanne</td>\n",
       "      <td>EPF</td>\n",
       "      <td>Lausanne</td>\n",
       "      <td>Member of Conseil Fondation IDIAP</td>\n",
       "      <td>Fondation IDIAP</td>\n",
       "      <td>Education &amp; research</td>\n",
       "    </tr>\n",
       "    <tr>\n",
       "      <th>3</th>\n",
       "      <td>Karl</td>\n",
       "      <td>Aberer</td>\n",
       "      <td>ETH Lausanne</td>\n",
       "      <td>EPF</td>\n",
       "      <td>Lausanne</td>\n",
       "      <td>Panel Member</td>\n",
       "      <td>SNF Ambizione Program</td>\n",
       "      <td>Education &amp; research</td>\n",
       "    </tr>\n",
       "    <tr>\n",
       "      <th>4</th>\n",
       "      <td>Reza Shokrollah</td>\n",
       "      <td>Abhari</td>\n",
       "      <td>ETH Zürich</td>\n",
       "      <td>ETH</td>\n",
       "      <td>Zurich</td>\n",
       "      <td>Aufsichtsratsmandat</td>\n",
       "      <td>PNE Wind AG</td>\n",
       "      <td>Energy</td>\n",
       "    </tr>\n",
       "  </tbody>\n",
       "</table>\n",
       "</div>"
      ],
      "text/plain": [
       "         firstname lastname     university university_shortname  \\\n",
       "0             Karl   Aberer   ETH Lausanne                  EPF   \n",
       "1             Karl   Aberer   ETH Lausanne                  EPF   \n",
       "2             Karl   Aberer   ETH Lausanne                  EPF   \n",
       "3             Karl   Aberer   ETH Lausanne                  EPF   \n",
       "4  Reza Shokrollah   Abhari     ETH Zürich                  ETH   \n",
       "\n",
       "  university_city                                           function  \\\n",
       "0        Lausanne                     Chairman of L3S Advisory Board   \n",
       "1        Lausanne   Member Conseil of Zeno-Karl Schindler Foundation   \n",
       "2        Lausanne                  Member of Conseil Fondation IDIAP   \n",
       "3        Lausanne                                       Panel Member   \n",
       "4          Zurich                                Aufsichtsratsmandat   \n",
       "\n",
       "                      organization    organization_sector  \n",
       "0               L3S Advisory Board   Education & research  \n",
       "1   Zeno-Karl Schindler Foundation   Education & research  \n",
       "2                  Fondation IDIAP   Education & research  \n",
       "3            SNF Ambizione Program   Education & research  \n",
       "4                      PNE Wind AG                 Energy  "
      ]
     },
     "execution_count": 12,
     "metadata": {},
     "output_type": "execute_result"
    }
   ],
   "source": [
    "columns = ['firstname', \n",
    "           'lastname', \n",
    "           'university', \n",
    "           'university_shortname', \n",
    "           'university_city', \n",
    "           'function', \n",
    "           'organization', \n",
    "           'organization_sector']\n",
    "\n",
    "uni_prof_df = pd.read_csv('uni_prof.csv', names=columns)\n",
    "\n",
    "uni_prof_df.head()"
   ]
  },
  {
   "cell_type": "code",
   "execution_count": 13,
   "metadata": {},
   "outputs": [
    {
     "name": "stdout",
     "output_type": "stream",
     "text": [
      "<class 'pandas.core.frame.DataFrame'>\n",
      "RangeIndex: 100 entries, 0 to 99\n",
      "Data columns (total 8 columns):\n",
      "firstname               100 non-null object\n",
      "lastname                100 non-null object\n",
      "university              100 non-null object\n",
      "university_shortname    100 non-null object\n",
      "university_city         100 non-null object\n",
      "function                100 non-null object\n",
      "organization            100 non-null object\n",
      "organization_sector     100 non-null object\n",
      "dtypes: object(8)\n",
      "memory usage: 6.3+ KB\n"
     ]
    }
   ],
   "source": [
    "uni_prof_df.info()"
   ]
  },
  {
   "cell_type": "code",
   "execution_count": null,
   "metadata": {},
   "outputs": [],
   "source": [
    "# Create table\n",
    "c.execute('''CREATE TABLE university_professors (\n",
    "firstname text,\n",
    "lastname text,\n",
    "university text,\n",
    "university_shortname text,\n",
    "university_city text,\n",
    "function text,\n",
    "organization text,\n",
    "organization_sector text\n",
    ");''')\n",
    "\n",
    "# Save (commit) the changes\n",
    "conn.commit()"
   ]
  },
  {
   "cell_type": "code",
   "execution_count": 17,
   "metadata": {},
   "outputs": [],
   "source": [
    "# Insert values from uni_prof_df DataFrame into table\n",
    "c.executemany('INSERT INTO university_professors VALUES (?,?,?,?,?,?,?,?)', \n",
    "              uni_prof_df.values.tolist())\n",
    "\n",
    "# Save (commit) the changes\n",
    "conn.commit()"
   ]
  },
  {
   "cell_type": "code",
   "execution_count": 18,
   "metadata": {},
   "outputs": [],
   "source": [
    "c.execute('''-- Insert unique professors into the new table\n",
    "INSERT INTO professors \n",
    "SELECT DISTINCT firstname, lastname, university_shortname \n",
    "FROM university_professors;''')\n",
    "\n",
    "conn.commit()"
   ]
  },
  {
   "cell_type": "code",
   "execution_count": 20,
   "metadata": {},
   "outputs": [
    {
     "name": "stdout",
     "output_type": "stream",
     "text": [
      "('Karl', ' Aberer', ' EPF')\n",
      "('Reza Shokrollah', ' Abhari', ' ETH')\n",
      "('Georges', ' Abou Jaoudé', ' EPF')\n",
      "('Hugues', ' Abriel', ' UBE')\n",
      "('Daniel', ' Aebersold', ' UBE')\n",
      "('Christoph', ' Aebi', ' UBE')\n",
      "('Marcelo', ' Aebi', ' ULA')\n",
      "('Patrick', ' Aebischer', ' EPF')\n",
      "('Stephan', ' Aier', ' USG')\n",
      "('Anastasia', ' Ailamaki', ' EPF')\n",
      "('Cesla', ' Amarelle', ' UNE')\n",
      "('Manuel', ' Ammann', ' USG')\n",
      "('Christophe', ' Ancey', ' EPF')\n",
      "('Marilyne', ' Andersen', ' EPF')\n",
      "('Jean-Marie', ' Annoni', ' UFR')\n",
      "('John', ' Antonakis', ' ULA')\n",
      "('Omid', ' Aschari', ' USG')\n",
      "('David', ' Atienza Alonso', ' EPF')\n",
      "('Jean-Jacques', ' Aubert', ' UNE')\n",
      "('Drahomir', ' Aujesky', ' UBE')\n",
      "('Johan', ' Auwerx', ' EPF')\n",
      "('François', ' Avellan', ' EPF')\n",
      "('Kay Werner', ' Axhausen', ' ETH')\n",
      "('Philippe', ' Bacchetta', ' ULA')\n",
      "('Andrea', ' Back', ' USG')\n",
      "('Marco', ' Bakker', ' EPF')\n",
      "('Artur', ' Baldauf', ' UBE')\n",
      "('Christophe', ' Ballif', ' EPF')\n",
      "('Yann', ' Barrandon', ' ULA')\n",
      "('David Andrew', ' Barry', ' EPF')\n",
      "('Pius Eliseo', ' Baschera', ' ETH')\n",
      "('David Alan', ' Basin', ' ETH')\n",
      "('Claudio', ' Bassetti', ' UBE')\n",
      "('Iris', ' Baumgartner', ' UBE')\n",
      "('Aurelio', ' Bay', ' EPF')\n",
      "('Eva', ' Bayer Fluckiger', ' EPF')\n",
      "('Stefan', ' Bechtold', ' ETH')\n",
      "('Rolf', ' Becker', ' UBE')\n",
      "('Christian', ' Belz', ' USG')\n"
     ]
    }
   ],
   "source": [
    "for row in c.execute('SELECT * FROM professors;'):\n",
    "    print(row)"
   ]
  },
  {
   "cell_type": "code",
   "execution_count": 24,
   "metadata": {},
   "outputs": [],
   "source": [
    "# Rename a column\n",
    "c.execute('''ALTER TABLE affiliations\n",
    "ADD COLUMN firstname text;''')\n",
    "\n",
    "c.execute('''ALTER TABLE affiliations\n",
    "ADD COLUMN lastname text;''')\n",
    "\n",
    "c.execute('''ALTER TABLE affiliations\n",
    "ADD COLUMN function text;''')\n",
    "\n",
    "# Save (commit) the changes\n",
    "conn.commit()"
   ]
  },
  {
   "cell_type": "code",
   "execution_count": 28,
   "metadata": {},
   "outputs": [
    {
     "name": "stdout",
     "output_type": "stream",
     "text": [
      "(0, 'organization', 'text', 0, None, 0)\n",
      "(1, 'COLUMNS', 'firstname text', 0, None, 0)\n",
      "(2, 'firstname', 'text', 0, None, 0)\n",
      "(3, 'lastname', 'text', 0, None, 0)\n",
      "(4, 'function', 'text', 0, None, 0)\n"
     ]
    }
   ],
   "source": [
    "for row in c.execute('''PRAGMA table_info('affiliations')'''):\n",
    "    print(row)"
   ]
  },
  {
   "cell_type": "code",
   "execution_count": 33,
   "metadata": {},
   "outputs": [],
   "source": [
    "# Create table because of 'COLUMNS' column error\n",
    "c.execute('''CREATE TABLE affiliations1 (\n",
    "firstname text,\n",
    "lastname text,\n",
    "function text,\n",
    "organisation text);\n",
    "''')\n",
    "\n",
    "conn.commit()"
   ]
  },
  {
   "cell_type": "code",
   "execution_count": 34,
   "metadata": {},
   "outputs": [],
   "source": [
    "c.execute('''DROP TABLE affiliations;''')\n",
    "\n",
    "conn.commit()"
   ]
  },
  {
   "cell_type": "code",
   "execution_count": 36,
   "metadata": {},
   "outputs": [],
   "source": [
    "c.execute('''ALTER TABLE affiliations1\n",
    "RENAME TO affiliations;''')\n",
    "\n",
    "conn.commit()"
   ]
  },
  {
   "cell_type": "code",
   "execution_count": 37,
   "metadata": {},
   "outputs": [
    {
     "name": "stdout",
     "output_type": "stream",
     "text": [
      "(0, 'firstname', 'text', 0, None, 0)\n",
      "(1, 'lastname', 'text', 0, None, 0)\n",
      "(2, 'function', 'text', 0, None, 0)\n",
      "(3, 'organisation', 'text', 0, None, 0)\n"
     ]
    }
   ],
   "source": [
    "for row in c.execute('''PRAGMA table_info('affiliations')'''):\n",
    "    print(row)"
   ]
  },
  {
   "cell_type": "code",
   "execution_count": 38,
   "metadata": {},
   "outputs": [],
   "source": [
    "c.execute('''INSERT INTO affiliations \n",
    "SELECT DISTINCT firstname, lastname, function, organization \n",
    "FROM university_professors;''')\n",
    "\n",
    "conn.commit()"
   ]
  },
  {
   "cell_type": "code",
   "execution_count": 42,
   "metadata": {},
   "outputs": [
    {
     "name": "stdout",
     "output_type": "stream",
     "text": [
      "professors\n",
      "university_professors\n",
      "affiliations\n"
     ]
    }
   ],
   "source": [
    "res = conn.execute(\"SELECT name FROM sqlite_master WHERE type='table';\")\n",
    "for name in res:\n",
    "    print(name[0])"
   ]
  },
  {
   "cell_type": "code",
   "execution_count": 43,
   "metadata": {},
   "outputs": [],
   "source": [
    "c.execute('''CREATE TABLE organizations (\n",
    "organization text,\n",
    "organization_sector text);''')\n",
    "\n",
    "c.execute('''INSERT INTO organizations\n",
    "SELECT DISTINCT organization, organization_sector\n",
    "FROM university_professors;''')\n",
    "\n",
    "conn.commit()"
   ]
  },
  {
   "cell_type": "code",
   "execution_count": 44,
   "metadata": {},
   "outputs": [],
   "source": [
    "c.execute('''CREATE TABLE universities (\n",
    "university_shortname text,\n",
    "university text,\n",
    "university_city text);''')\n",
    "\n",
    "c.execute('''INSERT INTO universities\n",
    "SELECT DISTINCT university_shortname, university, university_city\n",
    "FROM university_professors;''')\n",
    "\n",
    "conn.commit()"
   ]
  },
  {
   "cell_type": "code",
   "execution_count": 45,
   "metadata": {},
   "outputs": [],
   "source": [
    "c.execute('DROP TABLE university_professors;')\n",
    "\n",
    "conn.commit()"
   ]
  },
  {
   "cell_type": "code",
   "execution_count": 46,
   "metadata": {},
   "outputs": [
    {
     "name": "stdout",
     "output_type": "stream",
     "text": [
      "professors\n",
      "affiliations\n",
      "organizations\n",
      "universities\n"
     ]
    }
   ],
   "source": [
    "res = conn.execute(\"SELECT name FROM sqlite_master WHERE type='table';\")\n",
    "for name in res:\n",
    "    print(name[0])"
   ]
  },
  {
   "cell_type": "code",
   "execution_count": 48,
   "metadata": {},
   "outputs": [
    {
     "name": "stdout",
     "output_type": "stream",
     "text": [
      " EPF\n",
      " ETH\n",
      " UBE\n",
      " ULA\n",
      " USG\n",
      " UNE\n",
      " UFR\n"
     ]
    }
   ],
   "source": [
    "for row in c.execute('''SELECT DISTINCT(university_shortname) \n",
    "FROM professors;'''):\n",
    "    print(row[0])"
   ]
  },
  {
   "cell_type": "code",
   "execution_count": 51,
   "metadata": {},
   "outputs": [
    {
     "ename": "OperationalError",
     "evalue": "near \"CONSTRAINT\": syntax error",
     "output_type": "error",
     "traceback": [
      "\u001b[0;31m---------------------------------------------------------------------------\u001b[0m",
      "\u001b[0;31mOperationalError\u001b[0m                          Traceback (most recent call last)",
      "\u001b[0;32m<ipython-input-51-c058a969b85c>\u001b[0m in \u001b[0;36m<module>\u001b[0;34m\u001b[0m\n\u001b[1;32m      1\u001b[0m c.execute('''ALTER TABLE universities\n\u001b[0;32m----> 2\u001b[0;31m ADD CONSTRAINT university_shortname_unq UNIQUE(university_shortname);''')\n\u001b[0m\u001b[1;32m      3\u001b[0m \u001b[0;34m\u001b[0m\u001b[0m\n\u001b[1;32m      4\u001b[0m \u001b[0mconn\u001b[0m\u001b[0;34m.\u001b[0m\u001b[0mcommit\u001b[0m\u001b[0;34m(\u001b[0m\u001b[0;34m)\u001b[0m\u001b[0;34m\u001b[0m\u001b[0;34m\u001b[0m\u001b[0m\n",
      "\u001b[0;31mOperationalError\u001b[0m: near \"CONSTRAINT\": syntax error"
     ]
    }
   ],
   "source": []
  },
  {
   "cell_type": "code",
   "execution_count": null,
   "metadata": {},
   "outputs": [],
   "source": []
  }
 ],
 "metadata": {
  "kernelspec": {
   "display_name": "Python 3",
   "language": "python",
   "name": "python3"
  },
  "language_info": {
   "codemirror_mode": {
    "name": "ipython",
    "version": 3
   },
   "file_extension": ".py",
   "mimetype": "text/x-python",
   "name": "python",
   "nbconvert_exporter": "python",
   "pygments_lexer": "ipython3",
   "version": "3.6.7"
  }
 },
 "nbformat": 4,
 "nbformat_minor": 2
}
