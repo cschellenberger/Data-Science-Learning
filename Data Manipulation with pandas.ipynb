{
 "cells": [
  {
   "attachments": {},
   "cell_type": "markdown",
   "metadata": {},
   "source": [
    "# Data Manipulation with pandas"
   ]
  },
  {
   "attachments": {},
   "cell_type": "markdown",
   "metadata": {},
   "source": [
    "### Sorting rows\n",
    "Finding interesting bits of data in a DataFrame is often easier if you change the order of the rows. You can sort the rows by passing a column name to `.sort_values()`.\n",
    "\n",
    "In cases where rows have the same value (this is common if you sort on a categorical variable), you may wish to break the ties by sorting on another column. You can sort on multiple columns in this way by passing a list of column names.\n",
    "\n",
    "|Sort on …        |\tSyntax                                 |\n",
    "|-----------------|----------------------------------------|\n",
    "|one column       |df.sort_values(\"breed\")                 |\n",
    "|multiple columns |\tdf.sort_values([\"breed\", \"weight_kg\"]) |\n",
    "\n",
    "By combining `.sort_values()` with `.head()`, you can answer questions in the form, \"What are the top cases where…?\"."
   ]
  },
  {
   "cell_type": "code",
   "execution_count": 1,
   "metadata": {},
   "outputs": [],
   "source": [
    "import pandas as pd"
   ]
  },
  {
   "cell_type": "code",
   "execution_count": 4,
   "metadata": {},
   "outputs": [],
   "source": [
    "# Import the 2D dataset for American homelessness information\n",
    "homelessness_int = [['East South Central', 'Alabama', 2570.0, 864.0, 4887681],\n",
    " ['Pacific', 'Alaska', 1434.0, 582.0, 735139],\n",
    " ['Mountain', 'Arizona', 7259.0, 2606.0, 7158024],\n",
    " ['West South Central', 'Arkansas', 2280.0, 432.0, 3009733],\n",
    " ['Pacific', 'California', 109008.0, 20964.0, 39461588],\n",
    " ['Pacific', 'California', 109008.0, 20964.0, 39461588],\n",
    " ['Mountain', 'Colorado', 7607.0, 3250.0, 5691287],\n",
    " ['New, England', 'Connecticut', 2280.0, 1696.0, 3571520],\n",
    " ['South, Atlantic', 'Delaware', 708.0, 374.0, 965479],\n",
    " ['South, Atlantic', 'District, of, Columbia', 3770.0, 3134.0, 701547],\n",
    " ['South, Atlantic', 'Florida', 21443.0, 9587.0, 21244317],\n",
    " ['South, Atlantic', 'Georgia', 6943.0, 2556.0, 10511131],\n",
    " ['Pacific', 'Hawaii', 4131.0, 2399.0, 1420593],\n",
    " ['Mountain', 'Idaho', 1297.0, 715.0, 1750536],\n",
    " ['East, North, Central', 'Illinois', 6752.0, 3891.0, 12723071],\n",
    " ['East, North, Central', 'Indiana', 3776.0, 1482.0, 6695497],\n",
    " ['West, North, Central', 'Iowa', 1711.0, 1038.0, 3148618],\n",
    " ['West, North, Central', 'Kansas', 1443.0, 773.0, 2911359],\n",
    " ['East, South, Central', 'Kentucky', 2735.0, 953.0, 4461153],\n",
    " ['West, South, Central', 'Louisiana', 2540.0, 519.0, 4659690],\n",
    " ['New, England', 'Maine', 1450.0, 1066.0, 1339057],\n",
    " ['South, Atlantic', 'Maryland', 4914.0, 2230.0, 6035802],\n",
    " ['New, England', 'Massachusetts', 6811.0, 13257.0, 6882635],\n",
    " ['East, North, Central', 'Michigan', 5209.0, 3142.0, 9984072],\n",
    " ['West, North, Central', 'Minnesota', 3993.0, 3250.0, 5606249],\n",
    " ['East, South, Central', 'Mississippi', 1024.0, 328.0, 2981020],\n",
    " ['West, North, Central', 'Missouri', 3776.0, 2107.0, 6121623],\n",
    " ['Mountain', 'Montana', 983.0, 422.0, 1060665],\n",
    " ['West, North, Central', 'Nebraska', 1745.0, 676.0, 1925614],\n",
    " ['Mountain', 'Nevada', 7058.0, 486.0, 3027341],\n",
    " ['New, England', 'New, Hampshire', 835.0, 615.0, 1353465],\n",
    " ['Mid-Atlantic', 'New, Jersey', 6048.0, 3350.0, 8886025],\n",
    " ['Mountain', 'New, Mexico', 1949.0, 602.0, 2092741],\n",
    " ['Mid-Atlantic', 'New, York', 39827.0, 52070.0, 19530351],\n",
    " ['South, Atlantic', 'North, Carolina', 6451.0, 2817.0, 10381615],\n",
    " ['West, North, Central', 'North, Dakota', 467.0, 75.0, 758080],\n",
    " ['East, North, Central', 'Ohio', 6929.0, 3320.0, 11676341],\n",
    " ['West, South, Central', 'Oklahoma', 2823.0, 1048.0, 3940235],\n",
    " ['Pacific', 'Oregon', 11139.0, 3337.0, 4181886],\n",
    " ['Mid-Atlantic', 'Pennsylvania', 8163.0, 5349.0, 12800922],\n",
    " ['New, England', 'Rhode, Island', 747.0, 354.0, 1058287],\n",
    " ['South, Atlantic', 'South, Carolina', 3082.0, 851.0, 5084156],\n",
    " ['West, North, Central', 'South, Dakota', 836.0, 323.0, 878698],\n",
    " ['East, South, Central', 'Tennessee', 6139.0, 1744.0, 6771631],\n",
    " ['West, South, Central', 'Texas', 19199.0, 6111.0, 28628666],\n",
    " ['Mountain', 'Utah', 1904.0, 972.0, 3153550],\n",
    " ['New, England', 'Vermont', 780.0, 511.0, 624358],\n",
    " ['South, Atlantic', 'Virginia', 3928.0, 2047.0, 8501286],\n",
    " ['Pacific', 'Washington', 16424.0, 5880.0, 7523869],\n",
    " ['South, Atlantic', 'West, Virginia', 1021.0, 222.0, 1804291],\n",
    " ['East, North, Central', 'Wisconsin', 2740.0, 2167.0, 5807406],\n",
    " ['Mountain', 'Wyoming', 434.0, 205.0, 577601]]\n"
   ]
  },
  {
   "cell_type": "code",
   "execution_count": 7,
   "metadata": {},
   "outputs": [
    {
     "name": "stdout",
     "output_type": "stream",
     "text": [
      "                    0           1         2        3         4\n",
      "0  East South Central     Alabama    2570.0    864.0   4887681\n",
      "1             Pacific      Alaska    1434.0    582.0    735139\n",
      "2            Mountain     Arizona    7259.0   2606.0   7158024\n",
      "3  West South Central    Arkansas    2280.0    432.0   3009733\n",
      "4             Pacific  California  109008.0  20964.0  39461588\n",
      "RangeIndex(start=0, stop=5, step=1)\n"
     ]
    }
   ],
   "source": [
    "# Convert the 2D array to a pandas dataframe\n",
    "homelessness = pd.DataFrame(homelessness_int)\n",
    "print(homelessness.head())\n",
    "print(homelessness.columns)"
   ]
  },
  {
   "cell_type": "code",
   "execution_count": 9,
   "metadata": {},
   "outputs": [
    {
     "data": {
      "text/html": [
       "<div>\n",
       "<style scoped>\n",
       "    .dataframe tbody tr th:only-of-type {\n",
       "        vertical-align: middle;\n",
       "    }\n",
       "\n",
       "    .dataframe tbody tr th {\n",
       "        vertical-align: top;\n",
       "    }\n",
       "\n",
       "    .dataframe thead th {\n",
       "        text-align: right;\n",
       "    }\n",
       "</style>\n",
       "<table border=\"1\" class=\"dataframe\">\n",
       "  <thead>\n",
       "    <tr style=\"text-align: right;\">\n",
       "      <th></th>\n",
       "      <th>region</th>\n",
       "      <th>state</th>\n",
       "      <th>individuals</th>\n",
       "      <th>family_members</th>\n",
       "      <th>state_pop</th>\n",
       "    </tr>\n",
       "  </thead>\n",
       "  <tbody>\n",
       "    <tr>\n",
       "      <th>0</th>\n",
       "      <td>East South Central</td>\n",
       "      <td>Alabama</td>\n",
       "      <td>2570.0</td>\n",
       "      <td>864.0</td>\n",
       "      <td>4887681</td>\n",
       "    </tr>\n",
       "    <tr>\n",
       "      <th>1</th>\n",
       "      <td>Pacific</td>\n",
       "      <td>Alaska</td>\n",
       "      <td>1434.0</td>\n",
       "      <td>582.0</td>\n",
       "      <td>735139</td>\n",
       "    </tr>\n",
       "    <tr>\n",
       "      <th>2</th>\n",
       "      <td>Mountain</td>\n",
       "      <td>Arizona</td>\n",
       "      <td>7259.0</td>\n",
       "      <td>2606.0</td>\n",
       "      <td>7158024</td>\n",
       "    </tr>\n",
       "    <tr>\n",
       "      <th>3</th>\n",
       "      <td>West South Central</td>\n",
       "      <td>Arkansas</td>\n",
       "      <td>2280.0</td>\n",
       "      <td>432.0</td>\n",
       "      <td>3009733</td>\n",
       "    </tr>\n",
       "    <tr>\n",
       "      <th>4</th>\n",
       "      <td>Pacific</td>\n",
       "      <td>California</td>\n",
       "      <td>109008.0</td>\n",
       "      <td>20964.0</td>\n",
       "      <td>39461588</td>\n",
       "    </tr>\n",
       "  </tbody>\n",
       "</table>\n",
       "</div>"
      ],
      "text/plain": [
       "               region       state  individuals  family_members  state_pop\n",
       "0  East South Central     Alabama       2570.0           864.0    4887681\n",
       "1             Pacific      Alaska       1434.0           582.0     735139\n",
       "2            Mountain     Arizona       7259.0          2606.0    7158024\n",
       "3  West South Central    Arkansas       2280.0           432.0    3009733\n",
       "4             Pacific  California     109008.0         20964.0   39461588"
      ]
     },
     "execution_count": 9,
     "metadata": {},
     "output_type": "execute_result"
    }
   ],
   "source": [
    "# Update the column names to align with the data features\n",
    "homelessness.columns = ['region', 'state', 'individuals', 'family_members', 'state_pop']\n",
    "homelessness.head()"
   ]
  },
  {
   "cell_type": "code",
   "execution_count": 10,
   "metadata": {},
   "outputs": [
    {
     "name": "stdout",
     "output_type": "stream",
     "text": [
      "                  region          state  individuals  family_members  \\\n",
      "51              Mountain        Wyoming        434.0           205.0   \n",
      "35  West, North, Central  North, Dakota        467.0            75.0   \n",
      "8        South, Atlantic       Delaware        708.0           374.0   \n",
      "40          New, England  Rhode, Island        747.0           354.0   \n",
      "46          New, England        Vermont        780.0           511.0   \n",
      "\n",
      "    state_pop  \n",
      "51     577601  \n",
      "35     758080  \n",
      "8      965479  \n",
      "40    1058287  \n",
      "46     624358  \n"
     ]
    }
   ],
   "source": [
    "# Sort homelessness by individuals\n",
    "homelessness_ind = homelessness.sort_values(\"individuals\")\n",
    "\n",
    "# Print the top few rows\n",
    "print(homelessness_ind.head())"
   ]
  },
  {
   "cell_type": "code",
   "execution_count": 11,
   "metadata": {},
   "outputs": [
    {
     "name": "stdout",
     "output_type": "stream",
     "text": [
      "             region          state  individuals  family_members  state_pop\n",
      "33     Mid-Atlantic      New, York      39827.0         52070.0   19530351\n",
      "4           Pacific     California     109008.0         20964.0   39461588\n",
      "5           Pacific     California     109008.0         20964.0   39461588\n",
      "22     New, England  Massachusetts       6811.0         13257.0    6882635\n",
      "10  South, Atlantic        Florida      21443.0          9587.0   21244317\n"
     ]
    }
   ],
   "source": [
    "# Sort homelessness by descending family members\n",
    "homelessness_fam = homelessness.sort_values(\"family_members\", ascending=False)\n",
    "\n",
    "# Print the top few rows\n",
    "print(homelessness_fam.head())"
   ]
  },
  {
   "cell_type": "code",
   "execution_count": 12,
   "metadata": {},
   "outputs": [
    {
     "name": "stdout",
     "output_type": "stream",
     "text": [
      "                  region      state  individuals  family_members  state_pop\n",
      "0     East South Central    Alabama       2570.0           864.0    4887681\n",
      "14  East, North, Central   Illinois       6752.0          3891.0   12723071\n",
      "36  East, North, Central       Ohio       6929.0          3320.0   11676341\n",
      "23  East, North, Central   Michigan       5209.0          3142.0    9984072\n",
      "50  East, North, Central  Wisconsin       2740.0          2167.0    5807406\n"
     ]
    }
   ],
   "source": [
    "# Sort homelessness by region, then descending family members\n",
    "homelessness_reg_fam = homelessness.sort_values([\"region\", \"family_members\"], ascending = [True, False])\n",
    "\n",
    "# Print the top few rows\n",
    "print(homelessness_reg_fam.head())"
   ]
  }
 ],
 "metadata": {
  "kernelspec": {
   "display_name": "Python 3",
   "language": "python",
   "name": "python3"
  },
  "language_info": {
   "codemirror_mode": {
    "name": "ipython",
    "version": 3
   },
   "file_extension": ".py",
   "mimetype": "text/x-python",
   "name": "python",
   "nbconvert_exporter": "python",
   "pygments_lexer": "ipython3",
   "version": "3.10.4"
  },
  "orig_nbformat": 4,
  "vscode": {
   "interpreter": {
    "hash": "3ad933181bd8a04b432d3370b9dc3b0662ad032c4dfaa4e4f1596c548f763858"
   }
  }
 },
 "nbformat": 4,
 "nbformat_minor": 2
}
