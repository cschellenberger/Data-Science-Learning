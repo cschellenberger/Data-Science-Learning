{
 "cells": [
  {
   "cell_type": "markdown",
   "metadata": {},
   "source": [
    "# Datacamp Course\n",
    "\n",
    "## [Writing Efficient Python Code](https://www.datacamp.com/courses/writing-efficient-python-code)"
   ]
  },
  {
   "cell_type": "code",
   "execution_count": 1,
   "metadata": {},
   "outputs": [],
   "source": [
    "names = ['Jerry', 'Kramer', 'Elaine', 'George', 'Newman']"
   ]
  },
  {
   "cell_type": "markdown",
   "metadata": {},
   "source": [
    "Suppose you wanted to collect the names in the above list that have six letters or more. In other programming languages, the typical approach is to create an index variable (`i`), use `i` to iterate over the list, and use an if statement to collect the names with six letters or more:\n",
    "\n",
    "```\n",
    "i = 0\n",
    "new_list= []\n",
    "while i < len(names):\n",
    "    if len(names[i]) >= 6:\n",
    "        new_list.append(names[i])\n",
    "    i += 1\n",
    "```"
   ]
  },
  {
   "cell_type": "code",
   "execution_count": 2,
   "metadata": {},
   "outputs": [
    {
     "name": "stdout",
     "output_type": "stream",
     "text": [
      "['Kramer', 'Elaine', 'George', 'Newman']\n"
     ]
    }
   ],
   "source": [
    "# Print the list created using the Non-Pythonic approach\n",
    "i = 0\n",
    "new_list= []\n",
    "while i < len(names):\n",
    "    if len(names[i]) >= 6:\n",
    "        new_list.append(names[i])\n",
    "    i += 1\n",
    "print(new_list)"
   ]
  },
  {
   "cell_type": "markdown",
   "metadata": {},
   "source": [
    "### A More *Pythonic* Way"
   ]
  },
  {
   "cell_type": "code",
   "execution_count": 3,
   "metadata": {},
   "outputs": [
    {
     "name": "stdout",
     "output_type": "stream",
     "text": [
      "['Kramer', 'Elaine', 'George', 'Newman']\n"
     ]
    }
   ],
   "source": [
    "# Print the list created by looping over the contents of names\n",
    "better_list = []\n",
    "for name in names:\n",
    "    if len(name) >= 6:\n",
    "        better_list.append(name)\n",
    "print(better_list)"
   ]
  },
  {
   "cell_type": "markdown",
   "metadata": {},
   "source": [
    "# The Most *Pythonic* Way"
   ]
  },
  {
   "cell_type": "code",
   "execution_count": 4,
   "metadata": {},
   "outputs": [
    {
     "name": "stdout",
     "output_type": "stream",
     "text": [
      "['Kramer', 'Elaine', 'George', 'Newman']\n"
     ]
    }
   ],
   "source": [
    "# Print the list created by using list comprehension\n",
    "best_list = [name for name in names if len(name) >= 6]\n",
    "print(best_list)"
   ]
  },
  {
   "cell_type": "code",
   "execution_count": 5,
   "metadata": {},
   "outputs": [
    {
     "name": "stdout",
     "output_type": "stream",
     "text": [
      "The Zen of Python, by Tim Peters\n",
      "\n",
      "Beautiful is better than ugly.\n",
      "Explicit is better than implicit.\n",
      "Simple is better than complex.\n",
      "Complex is better than complicated.\n",
      "Flat is better than nested.\n",
      "Sparse is better than dense.\n",
      "Readability counts.\n",
      "Special cases aren't special enough to break the rules.\n",
      "Although practicality beats purity.\n",
      "Errors should never pass silently.\n",
      "Unless explicitly silenced.\n",
      "In the face of ambiguity, refuse the temptation to guess.\n",
      "There should be one-- and preferably only one --obvious way to do it.\n",
      "Although that way may not be obvious at first unless you're Dutch.\n",
      "Now is better than never.\n",
      "Although never is often better than *right* now.\n",
      "If the implementation is hard to explain, it's a bad idea.\n",
      "If the implementation is easy to explain, it may be a good idea.\n",
      "Namespaces are one honking great idea -- let's do more of those!\n"
     ]
    }
   ],
   "source": [
    "import this"
   ]
  },
  {
   "cell_type": "code",
   "execution_count": 8,
   "metadata": {},
   "outputs": [
    {
     "name": "stdout",
     "output_type": "stream",
     "text": [
      "[0, 1, 2, 3, 4, 5, 6, 7, 8, 9, 10]\n",
      "[0, 1, 2, 3, 4, 5, 6, 7, 8, 9, 10]\n",
      "[0, 2, 4, 6, 8, 10]\n"
     ]
    }
   ],
   "source": [
    "# range(start, stop)\n",
    "nums = range(0,11)\n",
    "\n",
    "nums_list = list(nums)\n",
    "print(nums_list)\n",
    "\n",
    "# range(stop)\n",
    "# the stop value is exclusive\n",
    "nums = range(11)\n",
    "\n",
    "nums_list = list(nums)\n",
    "print(nums_list)\n",
    "\n",
    "nums = range(0,11,2)\n",
    "print(list(nums))"
   ]
  },
  {
   "cell_type": "code",
   "execution_count": 9,
   "metadata": {},
   "outputs": [
    {
     "name": "stdout",
     "output_type": "stream",
     "text": [
      "[(0, 'a'), (1, 'b'), (2, 'c'), (3, 'd')]\n"
     ]
    }
   ],
   "source": [
    "# Enumerate\n",
    "\n",
    "letters = ['a', 'b', 'c', 'd']\n",
    "\n",
    "indexed_letters = enumerate(letters)\n",
    "\n",
    "indexed_letters_list = list(indexed_letters)\n",
    "print(indexed_letters_list)"
   ]
  },
  {
   "cell_type": "code",
   "execution_count": 10,
   "metadata": {},
   "outputs": [
    {
     "name": "stdout",
     "output_type": "stream",
     "text": [
      "[(5, 'a'), (6, 'b'), (7, 'c'), (8, 'd')]\n"
     ]
    }
   ],
   "source": [
    "indexed_letters2 = enumerate(letters, start=5)\n",
    "\n",
    "indexed_letters2_list = list(indexed_letters2)\n",
    "print(indexed_letters2_list)"
   ]
  },
  {
   "cell_type": "code",
   "execution_count": 11,
   "metadata": {},
   "outputs": [
    {
     "name": "stdout",
     "output_type": "stream",
     "text": [
      "[2, 2, 3, 5, 5]\n"
     ]
    }
   ],
   "source": [
    "# Map()\n",
    "\n",
    "nums = [1.5, 2.3, 3.4, 4.6, 5.0]\n",
    "\n",
    "rnd_nums = map(round, nums)\n",
    "\n",
    "print(list(rnd_nums))"
   ]
  },
  {
   "cell_type": "code",
   "execution_count": 12,
   "metadata": {},
   "outputs": [
    {
     "name": "stdout",
     "output_type": "stream",
     "text": [
      "[1, 4, 9, 16, 25]\n"
     ]
    }
   ],
   "source": [
    "# Using map() with lambda (anonymous function)\n",
    "\n",
    "nums = [1, 2, 3, 4, 5]\n",
    "\n",
    "sqrd_nums = map(lambda x: x ** 2, nums)\n",
    "\n",
    "print(list(sqrd_nums))"
   ]
  },
  {
   "cell_type": "code",
   "execution_count": 13,
   "metadata": {},
   "outputs": [
    {
     "name": "stdout",
     "output_type": "stream",
     "text": [
      "<class 'range'>\n",
      "[0, 1, 2, 3, 4, 5]\n",
      "[1, 3, 5, 7, 9, 11]\n"
     ]
    }
   ],
   "source": [
    "# Create a range object that goes from 0 to 5\n",
    "nums = range(6)\n",
    "print(type(nums))\n",
    "\n",
    "# Convert nums to a list\n",
    "nums_list = list(nums)\n",
    "print(nums_list)\n",
    "\n",
    "# Create a new list of odd numbers from 1 to 11 by unpacking a range object\n",
    "nums_list2 = [*range(1, 12, 2)]\n",
    "print(nums_list2)"
   ]
  },
  {
   "cell_type": "markdown",
   "metadata": {},
   "source": [
    "# New learning so far:\n",
    "- You can unpack a python object into a list by using the asterisk (`*`) right before the built-in function.\n",
    "- If you are starting your range at 0, the start argument is optional.\n",
    "- You can start the indexing with `enumerate()` at a different `int` value by passing the integer to the `start=` keyword argument."
   ]
  },
  {
   "cell_type": "markdown",
   "metadata": {},
   "source": [
    "# Enumerate practice"
   ]
  },
  {
   "cell_type": "code",
   "execution_count": 14,
   "metadata": {},
   "outputs": [],
   "source": [
    "names = ['Jerry', 'Kramer', 'Elaine', 'George', 'Newman']"
   ]
  },
  {
   "cell_type": "markdown",
   "metadata": {},
   "source": [
    "### From least to most Pythonic:"
   ]
  },
  {
   "cell_type": "code",
   "execution_count": 15,
   "metadata": {},
   "outputs": [
    {
     "name": "stdout",
     "output_type": "stream",
     "text": [
      "[(0, 'Jerry'), (1, 'Kramer'), (2, 'Elaine'), (3, 'George'), (4, 'Newman')]\n",
      "[(0, 'Jerry'), (1, 'Kramer'), (2, 'Elaine'), (3, 'George'), (4, 'Newman')]\n",
      "[(1, 'Jerry'), (2, 'Kramer'), (3, 'Elaine'), (4, 'George'), (5, 'Newman')]\n"
     ]
    }
   ],
   "source": [
    "# Rewrite the for loop to use enumerate\n",
    "indexed_names = []\n",
    "for i,name in enumerate(names):\n",
    "    index_name = (i,name)\n",
    "    indexed_names.append(index_name) \n",
    "print(indexed_names)\n",
    "\n",
    "# Rewrite the above for loop using list comprehension\n",
    "indexed_names_comp = [(i,name) for i,name in enumerate(names)]\n",
    "print(indexed_names_comp)\n",
    "\n",
    "# Unpack an enumerate object with a starting index of one\n",
    "indexed_names_unpack = [*enumerate(names, start=1)]\n",
    "print(indexed_names_unpack)"
   ]
  },
  {
   "cell_type": "code",
   "execution_count": 16,
   "metadata": {},
   "outputs": [
    {
     "name": "stdout",
     "output_type": "stream",
     "text": [
      "<class 'map'>\n",
      "['JERRY', 'KRAMER', 'ELAINE', 'GEORGE', 'NEWMAN']\n"
     ]
    }
   ],
   "source": [
    "# Use map to apply str.upper to each element in names\n",
    "names_map  = map(str.upper, names)\n",
    "\n",
    "# Print the type of the names_map\n",
    "print(type(names_map))\n",
    "\n",
    "# Unpack names_map into a list\n",
    "names_uppercase = [*names_map]\n",
    "\n",
    "# Print the list created by unpacking the map object\n",
    "print(names_uppercase)"
   ]
  },
  {
   "cell_type": "code",
   "execution_count": 18,
   "metadata": {},
   "outputs": [
    {
     "data": {
      "text/plain": [
       "array([[ 1,  2,  3,  4,  5],\n",
       "       [ 6,  7,  8,  9, 10]])"
      ]
     },
     "execution_count": 18,
     "metadata": {},
     "output_type": "execute_result"
    }
   ],
   "source": [
    "import numpy as np\n",
    "my_nums = [[1, 2, 3, 4, 5], [6, 7, 8, 9, 10]]\n",
    "nums = np.array(my_nums)\n",
    "nums"
   ]
  },
  {
   "cell_type": "code",
   "execution_count": 19,
   "metadata": {},
   "outputs": [
    {
     "name": "stdout",
     "output_type": "stream",
     "text": [
      "[ 6  7  8  9 10]\n",
      "[ 7  8  9 10]\n",
      "[[ 2  4  6  8 10]\n",
      " [12 14 16 18 20]]\n",
      "[[ 1  2  4  4  5]\n",
      " [ 6  7  9  9 10]]\n"
     ]
    }
   ],
   "source": [
    " # Print second row of nums\n",
    "print(nums[1,:])\n",
    "\n",
    "# Print all elements of nums that are greater than six\n",
    "print(nums[nums > 6])\n",
    "\n",
    "# Double every element of nums\n",
    "nums_dbl = nums * 2\n",
    "print(nums_dbl)\n",
    "\n",
    "# Replace the third column of nums\n",
    "nums[:,2] = nums[:,2] + 1\n",
    "print(nums)"
   ]
  },
  {
   "cell_type": "markdown",
   "metadata": {},
   "source": [
    "# Bringing it all together: Festivus!"
   ]
  },
  {
   "cell_type": "code",
   "execution_count": 21,
   "metadata": {},
   "outputs": [
    {
     "name": "stdout",
     "output_type": "stream",
     "text": [
      "[10, 20, 30, 40, 50]\n"
     ]
    }
   ],
   "source": [
    "# Create a list of arrival times\n",
    "arrival_times = [*range(10, 60, 10)]\n",
    "\n",
    "print(arrival_times)"
   ]
  },
  {
   "cell_type": "code",
   "execution_count": 22,
   "metadata": {},
   "outputs": [
    {
     "name": "stdout",
     "output_type": "stream",
     "text": [
      "[ 7 17 27 37 47]\n"
     ]
    }
   ],
   "source": [
    "# Create a list of arrival times\n",
    "arrival_times = [*range(10,60,10)]\n",
    "\n",
    "# Convert arrival_times to an array and update the times\n",
    "arrival_times_np = np.array(arrival_times)\n",
    "new_times = arrival_times_np - 3\n",
    "\n",
    "print(new_times)"
   ]
  },
  {
   "cell_type": "code",
   "execution_count": 23,
   "metadata": {},
   "outputs": [
    {
     "name": "stdout",
     "output_type": "stream",
     "text": [
      "[('Jerry', 7), ('Kramer', 17), ('Elaine', 27), ('George', 37), ('Newman', 47)]\n"
     ]
    }
   ],
   "source": [
    "# Create a list of arrival times\n",
    "arrival_times = [*range(10,60,10)]\n",
    "\n",
    "# Convert arrival_times to an array and update the times\n",
    "arrival_times_np = np.array(arrival_times)\n",
    "new_times = arrival_times_np - 3\n",
    "\n",
    "# Use list comprehension and enumerate to pair guests to new times\n",
    "guest_arrivals = [(names[i],time) for i,time in enumerate(new_times)]\n",
    "\n",
    "print(guest_arrivals)"
   ]
  },
  {
   "cell_type": "code",
   "execution_count": 24,
   "metadata": {},
   "outputs": [],
   "source": [
    "def welcome_guest(guest_and_time):\n",
    "    \"\"\"\n",
    "    Returns a welcome string for the guest_and_time tuple.\n",
    "    \n",
    "    Args:\n",
    "    guest_and_time (tuple): The guest and time tuple to create\n",
    "    a welcome string for.\n",
    "    \n",
    "    Returns:\n",
    "    welcome_string (str): A string welcoming the guest to Festivus.\n",
    "    'Welcome to Festivus {guest}... You\\'re {time} min late.\\'\n",
    "    \n",
    "    \"\"\"\n",
    "    \n",
    "    guest = guest_and_time[0]\n",
    "    arrival_time = guest_and_time[1]\n",
    "    welcome_string = \"Welcome to Festivus {}... You\\'re {} min late.\".format(guest,arrival_time)\n",
    "    return welcome_string\n"
   ]
  },
  {
   "cell_type": "code",
   "execution_count": 25,
   "metadata": {},
   "outputs": [
    {
     "name": "stdout",
     "output_type": "stream",
     "text": [
      "Welcome to Festivus Jerry... You're 7 min late.\n",
      "Welcome to Festivus Kramer... You're 17 min late.\n",
      "Welcome to Festivus Elaine... You're 27 min late.\n",
      "Welcome to Festivus George... You're 37 min late.\n",
      "Welcome to Festivus Newman... You're 47 min late.\n"
     ]
    }
   ],
   "source": [
    "# Create a list of arrival times\n",
    "arrival_times = [*range(10,60,10)]\n",
    "\n",
    "# Convert arrival_times to an array and update the times\n",
    "arrival_times_np = np.array(arrival_times)\n",
    "new_times = arrival_times_np - 3\n",
    "\n",
    "# Use list comprehension and enumerate to pair guests to new times\n",
    "guest_arrivals = [(names[i],time) for i,time in enumerate(new_times)]\n",
    "\n",
    "# Map the welcome_guest function to each (guest,time) pair\n",
    "welcome_map = map(welcome_guest, guest_arrivals)\n",
    "\n",
    "guest_welcomes = [*welcome_map]\n",
    "print(*guest_welcomes, sep='\\n')"
   ]
  },
  {
   "cell_type": "markdown",
   "metadata": {},
   "source": [
    "## How can we time our code?\n",
    "- Calculate runtime with IPython magic command `%timeit`\n",
    "- **Magic commands:** enhancements on top of normal Python syntax\n",
    "    - Prefixed my the \"%\" character\n",
    "    - [Documentation Link](https://ipython.readthedocs.io/en/stable/interactive/magics.html)\n",
    "    - See all available magic commands with `%lsmagic`"
   ]
  },
  {
   "cell_type": "code",
   "execution_count": 37,
   "metadata": {
    "scrolled": true
   },
   "outputs": [
    {
     "data": {
      "application/json": {
       "cell": {
        "!": "OSMagics",
        "HTML": "Other",
        "SVG": "Other",
        "bash": "Other",
        "capture": "ExecutionMagics",
        "debug": "ExecutionMagics",
        "file": "Other",
        "html": "DisplayMagics",
        "javascript": "DisplayMagics",
        "js": "DisplayMagics",
        "latex": "DisplayMagics",
        "markdown": "DisplayMagics",
        "perl": "Other",
        "prun": "ExecutionMagics",
        "pypy": "Other",
        "python": "Other",
        "python2": "Other",
        "python3": "Other",
        "ruby": "Other",
        "script": "ScriptMagics",
        "sh": "Other",
        "svg": "DisplayMagics",
        "sx": "OSMagics",
        "system": "OSMagics",
        "time": "ExecutionMagics",
        "timeit": "ExecutionMagics",
        "writefile": "OSMagics"
       },
       "line": {
        "alias": "OSMagics",
        "alias_magic": "BasicMagics",
        "autoawait": "AsyncMagics",
        "autocall": "AutoMagics",
        "automagic": "AutoMagics",
        "autosave": "KernelMagics",
        "bookmark": "OSMagics",
        "cat": "Other",
        "cd": "OSMagics",
        "clear": "KernelMagics",
        "colors": "BasicMagics",
        "config": "ConfigMagics",
        "connect_info": "KernelMagics",
        "cp": "Other",
        "debug": "ExecutionMagics",
        "dhist": "OSMagics",
        "dirs": "OSMagics",
        "doctest_mode": "BasicMagics",
        "ed": "Other",
        "edit": "KernelMagics",
        "env": "OSMagics",
        "gui": "BasicMagics",
        "hist": "Other",
        "history": "HistoryMagics",
        "killbgscripts": "ScriptMagics",
        "ldir": "Other",
        "less": "KernelMagics",
        "lf": "Other",
        "lk": "Other",
        "ll": "Other",
        "load": "CodeMagics",
        "load_ext": "ExtensionMagics",
        "loadpy": "CodeMagics",
        "logoff": "LoggingMagics",
        "logon": "LoggingMagics",
        "logstart": "LoggingMagics",
        "logstate": "LoggingMagics",
        "logstop": "LoggingMagics",
        "ls": "Other",
        "lsmagic": "BasicMagics",
        "lx": "Other",
        "macro": "ExecutionMagics",
        "magic": "BasicMagics",
        "man": "KernelMagics",
        "matplotlib": "PylabMagics",
        "mkdir": "Other",
        "more": "KernelMagics",
        "mv": "Other",
        "notebook": "BasicMagics",
        "page": "BasicMagics",
        "pastebin": "CodeMagics",
        "pdb": "ExecutionMagics",
        "pdef": "NamespaceMagics",
        "pdoc": "NamespaceMagics",
        "pfile": "NamespaceMagics",
        "pinfo": "NamespaceMagics",
        "pinfo2": "NamespaceMagics",
        "pip": "BasicMagics",
        "popd": "OSMagics",
        "pprint": "BasicMagics",
        "precision": "BasicMagics",
        "prun": "ExecutionMagics",
        "psearch": "NamespaceMagics",
        "psource": "NamespaceMagics",
        "pushd": "OSMagics",
        "pwd": "OSMagics",
        "pycat": "OSMagics",
        "pylab": "PylabMagics",
        "qtconsole": "KernelMagics",
        "quickref": "BasicMagics",
        "recall": "HistoryMagics",
        "rehashx": "OSMagics",
        "reload_ext": "ExtensionMagics",
        "rep": "Other",
        "rerun": "HistoryMagics",
        "reset": "NamespaceMagics",
        "reset_selective": "NamespaceMagics",
        "rm": "Other",
        "rmdir": "Other",
        "run": "ExecutionMagics",
        "save": "CodeMagics",
        "sc": "OSMagics",
        "set_env": "OSMagics",
        "store": "StoreMagics",
        "sx": "OSMagics",
        "system": "OSMagics",
        "tb": "ExecutionMagics",
        "time": "ExecutionMagics",
        "timeit": "ExecutionMagics",
        "unalias": "OSMagics",
        "unload_ext": "ExtensionMagics",
        "who": "NamespaceMagics",
        "who_ls": "NamespaceMagics",
        "whos": "NamespaceMagics",
        "xdel": "NamespaceMagics",
        "xmode": "BasicMagics"
       }
      },
      "text/plain": [
       "Available line magics:\n",
       "%alias  %alias_magic  %autoawait  %autocall  %automagic  %autosave  %bookmark  %cat  %cd  %clear  %colors  %config  %connect_info  %cp  %debug  %dhist  %dirs  %doctest_mode  %ed  %edit  %env  %gui  %hist  %history  %killbgscripts  %ldir  %less  %lf  %lk  %ll  %load  %load_ext  %loadpy  %logoff  %logon  %logstart  %logstate  %logstop  %ls  %lsmagic  %lx  %macro  %magic  %man  %matplotlib  %mkdir  %more  %mv  %notebook  %page  %pastebin  %pdb  %pdef  %pdoc  %pfile  %pinfo  %pinfo2  %popd  %pprint  %precision  %prun  %psearch  %psource  %pushd  %pwd  %pycat  %pylab  %qtconsole  %quickref  %recall  %rehashx  %reload_ext  %rep  %rerun  %reset  %reset_selective  %rm  %rmdir  %run  %save  %sc  %set_env  %store  %sx  %system  %tb  %time  %timeit  %unalias  %unload_ext  %who  %who_ls  %whos  %xdel  %xmode\n",
       "\n",
       "Available cell magics:\n",
       "%%!  %%HTML  %%SVG  %%bash  %%capture  %%debug  %%file  %%html  %%javascript  %%js  %%latex  %%markdown  %%perl  %%prun  %%pypy  %%python  %%python2  %%python3  %%ruby  %%script  %%sh  %%svg  %%sx  %%system  %%time  %%timeit  %%writefile\n",
       "\n",
       "Automagic is ON, % prefix IS NOT needed for line magics."
      ]
     },
     "execution_count": 37,
     "metadata": {},
     "output_type": "execute_result"
    }
   ],
   "source": [
    "%lsmagic"
   ]
  },
  {
   "cell_type": "code",
   "execution_count": 27,
   "metadata": {},
   "outputs": [
    {
     "name": "stdout",
     "output_type": "stream",
     "text": [
      "15.2 µs ± 141 ns per loop (mean ± std. dev. of 7 runs, 100000 loops each)\n"
     ]
    }
   ],
   "source": [
    "%timeit rand_nums = np.random.rand(1000)"
   ]
  },
  {
   "cell_type": "code",
   "execution_count": 34,
   "metadata": {},
   "outputs": [
    {
     "name": "stdout",
     "output_type": "stream",
     "text": [
      "The slowest run took 6.59 times longer than the fastest. This could mean that an intermediate result is being cached.\n",
      "60.8 µs ± 44.8 µs per loop (mean ± std. dev. of 2 runs, 10 loops each)\n"
     ]
    }
   ],
   "source": [
    "# Set number of runs to 2 (-r2)\n",
    "# Set number of loops to 10 (-n10)\n",
    "\n",
    "%timeit -r2 -n10 rand_nums = np.random.rand(1000)"
   ]
  },
  {
   "cell_type": "markdown",
   "metadata": {},
   "source": [
    "- Using %timeit in cell magic mode\n",
    "- Multiple lines of code"
   ]
  },
  {
   "cell_type": "code",
   "execution_count": 42,
   "metadata": {},
   "outputs": [
    {
     "name": "stdout",
     "output_type": "stream",
     "text": [
      "1.19 µs ± 14.9 ns per loop (mean ± std. dev. of 7 runs, 1000000 loops each)\n"
     ]
    }
   ],
   "source": [
    "%%timeit\n",
    "nums = []\n",
    "for x in range(10):\n",
    "    nums.append(x)"
   ]
  },
  {
   "cell_type": "code",
   "execution_count": 40,
   "metadata": {},
   "outputs": [
    {
     "name": "stdout",
     "output_type": "stream",
     "text": [
      "CPU times: user 32 ms, sys: 35.4 ms, total: 67.4 ms\n",
      "Wall time: 11.8 s\n"
     ]
    }
   ],
   "source": [
    "%%time\n",
    "import time\n",
    "for _ in range(1000):\n",
    "    time.sleep(0.01) # sleep for 0.01 seconds"
   ]
  },
  {
   "cell_type": "markdown",
   "metadata": {},
   "source": [
    "#### Digging deeper into `%timeit`"
   ]
  },
  {
   "cell_type": "code",
   "execution_count": 43,
   "metadata": {},
   "outputs": [
    {
     "name": "stdout",
     "output_type": "stream",
     "text": [
      "15.5 µs ± 311 ns per loop (mean ± std. dev. of 7 runs, 100000 loops each)\n"
     ]
    }
   ],
   "source": [
    "times = %timeit -o rand_nums = np.random.rand(1000)"
   ]
  },
  {
   "cell_type": "code",
   "execution_count": 44,
   "metadata": {},
   "outputs": [
    {
     "data": {
      "text/plain": [
       "[1.4908606310200412e-05,\n",
       " 1.599865783995483e-05,\n",
       " 1.55137720098719e-05,\n",
       " 1.5482682440197094e-05,\n",
       " 1.5742659409879706e-05,\n",
       " 1.5358678459888325e-05,\n",
       " 1.5524446530034766e-05]"
      ]
     },
     "execution_count": 44,
     "metadata": {},
     "output_type": "execute_result"
    }
   ],
   "source": [
    "times.timings"
   ]
  },
  {
   "cell_type": "code",
   "execution_count": 45,
   "metadata": {},
   "outputs": [
    {
     "data": {
      "text/plain": [
       "1.4908606310200412e-05"
      ]
     },
     "execution_count": 45,
     "metadata": {},
     "output_type": "execute_result"
    }
   ],
   "source": [
    "times.best"
   ]
  },
  {
   "cell_type": "code",
   "execution_count": 46,
   "metadata": {},
   "outputs": [
    {
     "data": {
      "text/plain": [
       "1.599865783995483e-05"
      ]
     },
     "execution_count": 46,
     "metadata": {},
     "output_type": "execute_result"
    }
   ],
   "source": [
    "times.worst"
   ]
  },
  {
   "cell_type": "markdown",
   "metadata": {},
   "source": [
    "#### Formal name creation:\n",
    "\n",
    "```\n",
    "formal_list = list()\n",
    "formal_dict = dict()\n",
    "formal_tuple = tuple()\n",
    "```\n",
    "\n",
    "#### Literal syntax:\n",
    "\n",
    "```\n",
    "literal_list = []\n",
    "literal_dict = {}\n",
    "literal_tuple = ()\n",
    "```"
   ]
  },
  {
   "cell_type": "code",
   "execution_count": 48,
   "metadata": {},
   "outputs": [
    {
     "name": "stdout",
     "output_type": "stream",
     "text": [
      "129 ns ± 2.45 ns per loop (mean ± std. dev. of 7 runs, 10000000 loops each)\n",
      "43.1 ns ± 0.704 ns per loop (mean ± std. dev. of 7 runs, 10000000 loops each)\n",
      "l_time better than f_time by 85.78281797194256 ns\n"
     ]
    }
   ],
   "source": [
    "f_time = %timeit -o formal_dict = dict()\n",
    "l_time = %timeit -o literal_dict = {}\n",
    "\n",
    "diff = (f_time.average - l_time.average) * (10**9)\n",
    "\n",
    "print('l_time better than f_time by {} ns'.format(diff))"
   ]
  },
  {
   "cell_type": "markdown",
   "metadata": {},
   "source": [
    "# Code Profiling\n",
    "- Detailed stats on frequency and duration of function calls\n",
    "- Line-by-line analyses\n",
    "- Package used: `line_profiler`\n",
    "\n",
    "Using `line_profiler` package\n",
    "`%load_ext line_profiler`\n",
    "\n",
    "Magic command for line-by-line times:\n",
    "`%lprun -f convert_units convert_units(heros, hts, wts)`"
   ]
  },
  {
   "cell_type": "code",
   "execution_count": 49,
   "metadata": {},
   "outputs": [],
   "source": [
    "def convert_units(heroes, heights, weights):\n",
    "\n",
    "    new_hts = [ht * 0.39370  for ht in heights]\n",
    "    new_wts = [wt * 2.20462  for wt in weights]\n",
    "\n",
    "    hero_data = {}\n",
    "\n",
    "    for i,hero in enumerate(heroes):\n",
    "        hero_data[hero] = (new_hts[i], new_wts[i])\n",
    "\n",
    "    return hero_data"
   ]
  },
  {
   "cell_type": "code",
   "execution_count": 56,
   "metadata": {},
   "outputs": [],
   "source": [
    "heroes = ['A-Bomb',\n",
    " 'Abe Sapien',\n",
    " 'Abin Sur',\n",
    " 'Abomination',\n",
    " 'Absorbing Man',\n",
    " 'Adam Strange',\n",
    " 'Agent 13',\n",
    " 'Agent Bob',\n",
    " 'Agent Zero',\n",
    " 'Air-Walker',\n",
    " 'Ajax',\n",
    " 'Alan Scott',\n",
    " 'Alfred Pennyworth',\n",
    " 'Alien',\n",
    " 'Amazo',\n",
    " 'Ammo',\n",
    " 'Angel',\n",
    " 'Angel Dust',\n",
    " 'Angel Salvadore',\n",
    " 'Animal Man',\n",
    " 'Annihilus',\n",
    " 'Ant-Man',\n",
    " 'Ant-Man II',\n",
    " 'Anti-Venom',\n",
    " 'Apocalypse',\n",
    " 'Aqualad',\n",
    " 'Aquaman',\n",
    " 'Arachne',\n",
    " 'Archangel',\n",
    " 'Arclight',\n",
    " 'Ardina',\n",
    " 'Ares',\n",
    " 'Ariel',\n",
    " 'Armor',\n",
    " 'Atlas',\n",
    " 'Atom',\n",
    " 'Atom Girl',\n",
    " 'Atom II',\n",
    " 'Aurora',\n",
    " 'Azazel',\n",
    " 'Bane',\n",
    " 'Banshee',\n",
    " 'Bantam',\n",
    " 'Batgirl',\n",
    " 'Batgirl IV',\n",
    " 'Batgirl VI',\n",
    " 'Batman',\n",
    " 'Batman II',\n",
    " 'Battlestar',\n",
    " 'Beak',\n",
    " 'Beast',\n",
    " 'Beast Boy',\n",
    " 'Beta Ray Bill',\n",
    " 'Big Barda',\n",
    " 'Big Man',\n",
    " 'Binary',\n",
    " 'Bishop',\n",
    " 'Bizarro',\n",
    " 'Black Adam',\n",
    " 'Black Bolt',\n",
    " 'Black Canary',\n",
    " 'Black Cat',\n",
    " 'Black Knight III',\n",
    " 'Black Lightning',\n",
    " 'Black Mamba',\n",
    " 'Black Manta',\n",
    " 'Black Panther',\n",
    " 'Black Widow',\n",
    " 'Black Widow II',\n",
    " 'Blackout',\n",
    " 'Blackwing',\n",
    " 'Blackwulf',\n",
    " 'Blade',\n",
    " 'Bling!',\n",
    " 'Blink',\n",
    " 'Blizzard II',\n",
    " 'Blob',\n",
    " 'Bloodaxe',\n",
    " 'Blue Beetle II',\n",
    " 'Boom-Boom',\n",
    " 'Booster Gold',\n",
    " 'Box III',\n",
    " 'Brainiac',\n",
    " 'Brainiac 5',\n",
    " 'Brother Voodoo',\n",
    " 'Buffy',\n",
    " 'Bullseye',\n",
    " 'Bumblebee',\n",
    " 'Cable',\n",
    " 'Callisto',\n",
    " 'Cannonball',\n",
    " 'Captain America',\n",
    " 'Captain Atom',\n",
    " 'Captain Britain',\n",
    " 'Captain Mar-vell',\n",
    " 'Captain Marvel',\n",
    " 'Captain Marvel II',\n",
    " 'Carnage',\n",
    " 'Cat',\n",
    " 'Catwoman',\n",
    " 'Cecilia Reyes',\n",
    " 'Century',\n",
    " 'Chamber',\n",
    " 'Changeling',\n",
    " 'Cheetah',\n",
    " 'Cheetah II',\n",
    " 'Cheetah III',\n",
    " 'Chromos',\n",
    " 'Citizen Steel',\n",
    " 'Cloak',\n",
    " 'Clock King',\n",
    " 'Colossus',\n",
    " 'Copycat',\n",
    " 'Corsair',\n",
    " 'Cottonmouth',\n",
    " 'Crimson Dynamo',\n",
    " 'Crystal',\n",
    " 'Cyborg',\n",
    " 'Cyclops',\n",
    " 'Cypher',\n",
    " 'Dagger',\n",
    " 'Daredevil',\n",
    " 'Darkhawk',\n",
    " 'Darkseid',\n",
    " 'Darkstar',\n",
    " 'Darth Vader',\n",
    " 'Dash',\n",
    " 'Dazzler',\n",
    " 'Deadman',\n",
    " 'Deadpool',\n",
    " 'Deadshot',\n",
    " 'Deathlok',\n",
    " 'Deathstroke',\n",
    " 'Demogoblin',\n",
    " 'Destroyer',\n",
    " 'Diamondback',\n",
    " 'Doc Samson',\n",
    " 'Doctor Doom',\n",
    " 'Doctor Doom II',\n",
    " 'Doctor Fate',\n",
    " 'Doctor Octopus',\n",
    " 'Doctor Strange',\n",
    " 'Domino',\n",
    " 'Donna Troy',\n",
    " 'Doomsday',\n",
    " 'Doppelganger',\n",
    " 'Drax the Destroyer',\n",
    " 'Elastigirl',\n",
    " 'Electro',\n",
    " 'Elektra',\n",
    " 'Elongated Man',\n",
    " 'Emma Frost',\n",
    " 'Enchantress',\n",
    " 'Etrigan',\n",
    " 'Evil Deadpool',\n",
    " 'Evilhawk',\n",
    " 'Exodus',\n",
    " 'Fabian Cortez',\n",
    " 'Falcon',\n",
    " 'Feral',\n",
    " 'Fin Fang Foom',\n",
    " 'Firebird',\n",
    " 'Firelord',\n",
    " 'Firestar',\n",
    " 'Firestorm',\n",
    " 'Flash',\n",
    " 'Flash II',\n",
    " 'Flash III',\n",
    " 'Flash IV',\n",
    " 'Forge',\n",
    " 'Franklin Richards',\n",
    " 'Franklin Storm',\n",
    " 'Frenzy',\n",
    " 'Frigga',\n",
    " 'Galactus',\n",
    " 'Gambit',\n",
    " 'Gamora',\n",
    " 'Genesis',\n",
    " 'Ghost Rider',\n",
    " 'Giganta',\n",
    " 'Gladiator',\n",
    " 'Goblin Queen',\n",
    " 'Goku',\n",
    " 'Goliath IV',\n",
    " 'Gorilla Grodd',\n",
    " 'Granny Goodness',\n",
    " 'Gravity',\n",
    " 'Green Arrow',\n",
    " 'Green Goblin',\n",
    " 'Green Goblin II',\n",
    " 'Green Goblin III',\n",
    " 'Green Goblin IV',\n",
    " 'Groot',\n",
    " 'Guy Gardner',\n",
    " 'Hal Jordan',\n",
    " 'Han Solo',\n",
    " 'Harley Quinn',\n",
    " 'Havok',\n",
    " 'Hawk',\n",
    " 'Hawkeye',\n",
    " 'Hawkeye II',\n",
    " 'Hawkgirl',\n",
    " 'Hawkman',\n",
    " 'Hawkwoman',\n",
    " 'Hawkwoman III',\n",
    " 'Heat Wave',\n",
    " 'Hela',\n",
    " 'Hellboy',\n",
    " 'Hellcat',\n",
    " 'Hellstorm',\n",
    " 'Hercules',\n",
    " 'Hobgoblin',\n",
    " 'Hope Summers',\n",
    " 'Howard the Duck',\n",
    " 'Hulk',\n",
    " 'Human Torch',\n",
    " 'Huntress',\n",
    " 'Husk',\n",
    " 'Hybrid',\n",
    " 'Hydro-Man',\n",
    " 'Hyperion',\n",
    " 'Iceman',\n",
    " 'Impulse',\n",
    " 'Ink',\n",
    " 'Invisible Woman',\n",
    " 'Iron Fist',\n",
    " 'Iron Man',\n",
    " 'Jack of Hearts',\n",
    " 'Jack-Jack',\n",
    " 'James T. Kirk',\n",
    " 'Jean Grey',\n",
    " 'Jennifer Kale',\n",
    " 'Jessica Jones',\n",
    " 'Jigsaw',\n",
    " 'John Stewart',\n",
    " 'John Wraith',\n",
    " 'Joker',\n",
    " 'Jolt',\n",
    " 'Jubilee',\n",
    " 'Juggernaut',\n",
    " 'Justice',\n",
    " 'Kang',\n",
    " 'Karate Kid',\n",
    " 'Killer Croc',\n",
    " 'Kilowog',\n",
    " 'Kingpin',\n",
    " 'Klaw',\n",
    " 'Kraven II',\n",
    " 'Kraven the Hunter',\n",
    " 'Krypto',\n",
    " 'Kyle Rayner',\n",
    " 'Lady Deathstrike',\n",
    " 'Leader',\n",
    " 'Legion',\n",
    " 'Lex Luthor',\n",
    " 'Light Lass',\n",
    " 'Lightning Lad',\n",
    " 'Lightning Lord',\n",
    " 'Living Brain',\n",
    " 'Lizard',\n",
    " 'Lobo',\n",
    " 'Loki',\n",
    " 'Longshot',\n",
    " 'Luke Cage',\n",
    " 'Luke Skywalker',\n",
    " 'Mach-IV',\n",
    " 'Machine Man',\n",
    " 'Magneto',\n",
    " 'Man-Thing',\n",
    " 'Man-Wolf',\n",
    " 'Mandarin',\n",
    " 'Mantis',\n",
    " 'Martian Manhunter',\n",
    " 'Marvel Girl',\n",
    " 'Master Brood',\n",
    " 'Maverick',\n",
    " 'Maxima',\n",
    " 'Medusa',\n",
    " 'Meltdown',\n",
    " 'Mephisto',\n",
    " 'Mera',\n",
    " 'Metallo',\n",
    " 'Metamorpho',\n",
    " 'Metron',\n",
    " 'Micro Lad',\n",
    " 'Mimic',\n",
    " 'Miss Martian',\n",
    " 'Mister Fantastic',\n",
    " 'Mister Freeze',\n",
    " 'Mister Sinister',\n",
    " 'Mockingbird',\n",
    " 'MODOK',\n",
    " 'Molten Man',\n",
    " 'Monarch',\n",
    " 'Moon Knight',\n",
    " 'Moonstone',\n",
    " 'Morlun',\n",
    " 'Morph',\n",
    " 'Moses Magnum',\n",
    " 'Mr Immortal',\n",
    " 'Mr Incredible',\n",
    " 'Ms Marvel II',\n",
    " 'Multiple Man',\n",
    " 'Mysterio',\n",
    " 'Mystique',\n",
    " 'Namor',\n",
    " 'Namora',\n",
    " 'Namorita',\n",
    " 'Naruto Uzumaki',\n",
    " 'Nebula',\n",
    " 'Nick Fury',\n",
    " 'Nightcrawler',\n",
    " 'Nightwing',\n",
    " 'Northstar',\n",
    " 'Nova',\n",
    " 'Odin',\n",
    " 'Omega Red',\n",
    " 'Omniscient',\n",
    " 'One Punch Man',\n",
    " 'Onslaught',\n",
    " 'Oracle',\n",
    " 'Paul Blart',\n",
    " 'Penance II',\n",
    " 'Penguin',\n",
    " 'Phantom Girl',\n",
    " 'Phoenix',\n",
    " 'Plantman',\n",
    " 'Plastic Man',\n",
    " 'Plastique',\n",
    " 'Poison Ivy',\n",
    " 'Polaris',\n",
    " 'Power Girl',\n",
    " 'Predator',\n",
    " 'Professor X',\n",
    " 'Professor Zoom',\n",
    " 'Psylocke',\n",
    " 'Punisher',\n",
    " 'Purple Man',\n",
    " 'Pyro',\n",
    " 'Question',\n",
    " 'Quicksilver',\n",
    " 'Quill',\n",
    " \"Ra's Al Ghul\",\n",
    " 'Raven',\n",
    " 'Ray',\n",
    " 'Razor-Fist II',\n",
    " 'Red Arrow',\n",
    " 'Red Hood',\n",
    " 'Red Hulk',\n",
    " 'Red Robin',\n",
    " 'Red Skull',\n",
    " 'Red Tornado',\n",
    " 'Rhino',\n",
    " 'Rick Flag',\n",
    " 'Ripcord',\n",
    " 'Robin',\n",
    " 'Robin II',\n",
    " 'Robin III',\n",
    " 'Robin V',\n",
    " 'Rocket Raccoon',\n",
    " 'Rogue',\n",
    " 'Ronin',\n",
    " 'Rorschach',\n",
    " 'Sabretooth',\n",
    " 'Sage',\n",
    " 'Sandman',\n",
    " 'Sasquatch',\n",
    " 'Scarecrow',\n",
    " 'Scarlet Spider',\n",
    " 'Scarlet Spider II',\n",
    " 'Scarlet Witch',\n",
    " 'Scorpion',\n",
    " 'Sentry',\n",
    " 'Shadow King',\n",
    " 'Shadow Lass',\n",
    " 'Shadowcat',\n",
    " 'Shang-Chi',\n",
    " 'Shatterstar',\n",
    " 'She-Hulk',\n",
    " 'She-Thing',\n",
    " 'Shocker',\n",
    " 'Shriek',\n",
    " 'Sif',\n",
    " 'Silver Surfer',\n",
    " 'Silverclaw',\n",
    " 'Sinestro',\n",
    " 'Siren',\n",
    " 'Siryn',\n",
    " 'Skaar',\n",
    " 'Snowbird',\n",
    " 'Solomon Grundy',\n",
    " 'Songbird',\n",
    " 'Space Ghost',\n",
    " 'Spawn',\n",
    " 'Spider-Girl',\n",
    " 'Spider-Gwen',\n",
    " 'Spider-Man',\n",
    " 'Spider-Woman',\n",
    " 'Spider-Woman III',\n",
    " 'Spider-Woman IV',\n",
    " 'Spock',\n",
    " 'Spyke',\n",
    " 'Star-Lord',\n",
    " 'Starfire',\n",
    " 'Stargirl',\n",
    " 'Static',\n",
    " 'Steel',\n",
    " 'Steppenwolf',\n",
    " 'Storm',\n",
    " 'Sunspot',\n",
    " 'Superboy',\n",
    " 'Superboy-Prime',\n",
    " 'Supergirl',\n",
    " 'Superman',\n",
    " 'Swarm',\n",
    " 'Synch',\n",
    " 'T-1000',\n",
    " 'Taskmaster',\n",
    " 'Tempest',\n",
    " 'Thanos',\n",
    " 'The Comedian',\n",
    " 'Thing',\n",
    " 'Thor',\n",
    " 'Thor Girl',\n",
    " 'Thunderbird',\n",
    " 'Thunderbird III',\n",
    " 'Thunderstrike',\n",
    " 'Thundra',\n",
    " 'Tiger Shark',\n",
    " 'Tigra',\n",
    " 'Tinkerer',\n",
    " 'Toad',\n",
    " 'Toxin',\n",
    " 'Trickster',\n",
    " 'Triplicate Girl',\n",
    " 'Triton',\n",
    " 'Two-Face',\n",
    " 'Ultragirl',\n",
    " 'Ultron',\n",
    " 'Utgard-Loki',\n",
    " 'Vagabond',\n",
    " 'Valerie Hart',\n",
    " 'Valkyrie',\n",
    " 'Vanisher',\n",
    " 'Vegeta',\n",
    " 'Venom',\n",
    " 'Venom II',\n",
    " 'Venom III',\n",
    " 'Vertigo II',\n",
    " 'Vibe',\n",
    " 'Vindicator',\n",
    " 'Violet Parr',\n",
    " 'Vision',\n",
    " 'Vision II',\n",
    " 'Vixen',\n",
    " 'Vulture',\n",
    " 'Walrus',\n",
    " 'War Machine',\n",
    " 'Warbird',\n",
    " 'Warlock',\n",
    " 'Warp',\n",
    " 'Warpath',\n",
    " 'Wasp',\n",
    " 'White Queen',\n",
    " 'Winter Soldier',\n",
    " 'Wiz Kid',\n",
    " 'Wolfsbane',\n",
    " 'Wolverine',\n",
    " 'Wonder Girl',\n",
    " 'Wonder Man',\n",
    " 'Wonder Woman',\n",
    " 'Wyatt Wingfoot',\n",
    " 'X-23',\n",
    " 'X-Man',\n",
    " 'Yellow Claw',\n",
    " 'Yellowjacket',\n",
    " 'Yellowjacket II',\n",
    " 'Yoda',\n",
    " 'Zatanna',\n",
    " 'Zoom']"
   ]
  },
  {
   "cell_type": "code",
   "execution_count": 57,
   "metadata": {},
   "outputs": [],
   "source": [
    "import numpy as np\n",
    "\n",
    "hts = np.array([203. , 191. , 185. , 203. , 193. , 185. , 173. , 178. , 191. ,\n",
    "       188. , 193. , 180. , 178. , 244. , 257. , 188. , 183. , 165. ,\n",
    "       163. , 183. , 180. , 211. , 183. , 229. , 213. , 178. , 185. ,\n",
    "       175. , 183. , 173. , 193. , 185. , 165. , 163. , 183. , 178. ,\n",
    "       168. , 183. , 180. , 183. , 203. , 183. , 165. , 170. , 165. ,\n",
    "       168. , 188. , 178. , 198. , 175. , 180. , 173. , 201. , 188. ,\n",
    "       165. , 180. , 198. , 191. , 191. , 188. , 165. , 178. , 183. ,\n",
    "       185. , 170. , 188. , 183. , 170. , 170. , 191. , 185. , 188. ,\n",
    "       188. , 168. , 165. , 175. , 178. , 218. , 183. , 165. , 196. ,\n",
    "       193. , 198. , 170. , 183. , 157. , 183. , 170. , 203. , 175. ,\n",
    "       183. , 188. , 193. , 198. , 188. , 180. , 175. , 185. , 173. ,\n",
    "       175. , 170. , 201. , 175. , 180. , 163. , 170. , 175. , 185. ,\n",
    "       183. , 226. , 178. , 226. , 183. , 191. , 183. , 180. , 168. ,\n",
    "       198. , 191. , 175. , 165. , 183. , 185. , 267. , 168. , 198. ,\n",
    "       122. , 173. , 183. , 188. , 185. , 193. , 193. , 185. , 188. ,\n",
    "       193. , 198. , 201. , 201. , 188. , 175. , 188. , 173. , 175. ,\n",
    "       244. , 196. , 193. , 168. , 180. , 175. , 185. , 178. , 168. ,\n",
    "       193. , 188. , 191. , 183. , 196. , 188. , 175. , 975. , 165. ,\n",
    "       193. , 173. , 188. , 180. , 183. , 183. , 157. , 183. , 142. ,\n",
    "       188. , 211. , 180. , 876. , 185. , 183. , 185. , 188. ,  62.5,\n",
    "       198. , 168. , 175. , 183. , 198. , 178. , 178. , 188. , 180. ,\n",
    "       178. , 183. , 178. , 701. , 188. , 188. , 183. , 170. , 183. ,\n",
    "       185. , 191. , 165. , 175. , 185. , 175. , 170. , 180. , 213. ,\n",
    "       259. , 173. , 185. , 196. , 180. , 168. ,  79. , 244. , 178. ,\n",
    "       180. , 170. , 175. , 188. , 183. , 173. , 170. , 180. , 168. ,\n",
    "       180. , 198. , 155. ,  71. , 178. , 168. , 168. , 170. , 188. ,\n",
    "       185. , 183. , 196. , 165. , 165. , 287. , 178. , 191. , 173. ,\n",
    "       244. , 234. , 201. , 188. , 191. , 183. ,  64. , 180. , 175. ,\n",
    "       178. , 175. , 188. , 165. , 155. , 191. , 198. , 203. , 229. ,\n",
    "       193. , 188. , 198. , 168. , 180. , 183. , 188. , 213. , 188. ,\n",
    "       188. , 168. , 201. , 170. , 183. , 193. , 180. , 180. , 165. ,\n",
    "       198. , 175. , 196. , 185. , 185. , 183. , 188. , 178. , 185. ,\n",
    "       183. , 196. , 175. , 366. , 196. , 193. , 188. , 180. , 188. ,\n",
    "       178. , 175. , 188. , 201. , 173. , 180. , 180. , 178. , 188. ,\n",
    "       180. , 168. , 168. , 185. , 185. , 175. , 178. , 180. , 185. ,\n",
    "       206. , 211. , 180. , 175. , 305. , 178. , 170. , 183. , 157. ,\n",
    "       168. , 168. , 183. , 185. , 168. , 168. , 170. , 180. , 213. ,\n",
    "       183. , 180. , 180. , 183. , 180. , 178. , 188. , 183. , 163. ,\n",
    "       193. , 165. , 178. , 191. , 180. , 183. , 213. , 165. , 188. ,\n",
    "       185. , 196. , 185. , 180. , 178. , 183. , 165. , 137. , 122. ,\n",
    "       173. , 191. , 168. , 198. , 170. , 185. , 305. , 183. , 178. ,\n",
    "       193. , 170. , 211. , 188. , 185. , 173. , 168. , 178. , 191. ,\n",
    "       201. , 183. , 175. , 173. , 188. , 193. , 157. , 201. , 175. ,\n",
    "       168. , 198. , 178. , 279. , 165. , 188. , 211. , 170. , 165. ,\n",
    "       178. , 178. , 173. , 178. , 185. , 183. , 188. , 193. , 165. ,\n",
    "       170. , 201. , 183. , 180. , 173. , 170. , 180. , 165. , 191. ,\n",
    "       196. , 180. , 183. , 188. , 163. , 201. , 188. , 183. , 198. ,\n",
    "       175. , 185. , 175. , 198. , 218. , 185. , 178. , 163. , 175. ,\n",
    "       188. , 183. , 168. , 188. , 183. , 168. , 206. ,  15.2, 168. ,\n",
    "       175. , 191. , 165. , 168. , 191. , 175. , 229. , 168. , 178. ,\n",
    "       165. , 137. , 191. , 191. , 175. , 180. , 183. , 185. , 180. ,\n",
    "       188. , 173. , 218. , 163. , 178. , 175. , 140. , 366. , 160. ,\n",
    "       165. , 188. , 183. , 196. , 155. , 175. , 188. , 183. , 165. ,\n",
    "        66. , 170. , 185. ])"
   ]
  },
  {
   "cell_type": "code",
   "execution_count": 58,
   "metadata": {},
   "outputs": [],
   "source": [
    "wts = np.array([441.,  65.,  90., 441., 122.,  88.,  61.,  81., 104., 108.,  90.,\n",
    "        90.,  72., 169., 173., 101.,  68.,  57.,  54.,  83.,  90., 122.,\n",
    "        86., 358., 135., 106., 146.,  63.,  68.,  57.,  98., 270.,  59.,\n",
    "        50., 101.,  68.,  54.,  81.,  63.,  67., 180.,  77.,  54.,  57.,\n",
    "        52.,  61.,  95.,  79., 133.,  63., 181.,  68., 216., 135.,  71.,\n",
    "        54., 124., 155., 113.,  95.,  58.,  54.,  86.,  90.,  52.,  92.,\n",
    "        90.,  59.,  61., 104.,  86.,  88.,  97.,  68.,  56.,  77., 230.,\n",
    "       495.,  86.,  55.,  97., 110., 135.,  61.,  99.,  52.,  90.,  59.,\n",
    "       158.,  74.,  81., 108.,  90., 116., 108.,  74.,  74.,  86.,  61.,\n",
    "        61.,  62.,  97.,  63.,  81.,  50.,  55.,  54.,  86., 170.,  70.,\n",
    "        78., 225.,  67.,  79.,  99., 104.,  50., 173.,  88.,  68.,  52.,\n",
    "        90.,  81., 817.,  56., 135.,  27.,  52.,  90.,  95.,  91., 178.,\n",
    "       101.,  95., 383.,  90., 171., 187., 132.,  89., 110.,  81.,  54.,\n",
    "        63., 412., 104., 306.,  56.,  74.,  59.,  80.,  65.,  57., 203.,\n",
    "        95., 106.,  88.,  96., 108.,  50.,  18.,  56.,  99.,  56.,  91.,\n",
    "        81.,  88.,  86.,  52.,  81.,  45.,  92., 104., 167.,  16.,  81.,\n",
    "        77.,  86.,  99., 630., 268.,  50.,  62.,  90., 270., 115.,  79.,\n",
    "        88.,  83.,  77.,  88.,  79.,   4.,  95.,  90.,  79.,  63.,  79.,\n",
    "        89., 104.,  57.,  61.,  88.,  54.,  65.,  81., 225., 158.,  61.,\n",
    "        81., 146.,  83.,  48.,  18., 630.,  77.,  59.,  58.,  77., 119.,\n",
    "       207.,  65.,  65.,  81.,  54.,  79., 191.,  79.,  14.,  77.,  52.,\n",
    "        55.,  56., 113.,  90.,  88.,  86.,  49.,  52., 855.,  81., 104.,\n",
    "        72., 356., 324., 203.,  97.,  99., 106.,  18.,  79.,  58.,  63.,\n",
    "        59.,  95.,  54.,  65.,  95., 360., 230., 288., 236.,  36., 191.,\n",
    "        77.,  79., 383.,  86., 225.,  90.,  97.,  52., 135.,  56.,  81.,\n",
    "       110.,  72.,  59.,  54., 140.,  72.,  90.,  90.,  86.,  77., 101.,\n",
    "        61.,  81.,  86., 128.,  61., 338., 248.,  90., 101.,  59.,  79.,\n",
    "        79.,  72.,  70., 158.,  61.,  70.,  79.,  54., 125.,  85., 101.,\n",
    "        54.,  83.,  99.,  88.,  79.,  83.,  86., 293., 191.,  65.,  69.,\n",
    "       405.,  59., 117.,  89.,  79.,  54.,  52.,  87.,  80.,  55.,  50.,\n",
    "        52.,  81., 234.,  86.,  81.,  70.,  90.,  74.,  68.,  83.,  79.,\n",
    "        56.,  97.,  50.,  70., 117.,  83.,  81., 630.,  56., 108., 146.,\n",
    "       320.,  85.,  72.,  79., 101.,  56.,  38.,  25.,  54., 104.,  63.,\n",
    "       171.,  61., 203., 900.,  63.,  74., 113.,  59., 310.,  87., 149.,\n",
    "        54.,  50.,  79.,  88., 315., 153.,  79.,  52., 191., 101.,  50.,\n",
    "        92.,  72.,  52., 180.,  49., 437.,  65., 113., 405.,  54.,  56.,\n",
    "        74.,  59.,  55.,  58.,  81.,  83.,  79.,  71.,  62.,  63., 131.,\n",
    "        91.,  57.,  77.,  68.,  77.,  54., 101.,  47.,  74., 146.,  99.,\n",
    "        54., 443., 101., 225., 288., 143., 101.,  74., 288., 158., 203.,\n",
    "        81.,  54.,  76.,  97.,  81.,  59.,  86.,  82., 105., 331.,  58.,\n",
    "        54.,  56., 214.,  79.,  73., 117.,  50., 334.,  52.,  71.,  54.,\n",
    "        41., 135., 135.,  63.,  79., 162.,  95.,  54., 108.,  67., 158.,\n",
    "        50.,  65., 117.,  39., 473., 135.,  51., 171.,  74., 117.,  50.,\n",
    "        61.,  95.,  83.,  52.,  17.,  57.,  81.])"
   ]
  },
  {
   "cell_type": "code",
   "execution_count": 59,
   "metadata": {},
   "outputs": [
    {
     "name": "stdout",
     "output_type": "stream",
     "text": [
      "The line_profiler extension is already loaded. To reload it, use:\n",
      "  %reload_ext line_profiler\n"
     ]
    }
   ],
   "source": [
    "%load_ext line_profiler"
   ]
  },
  {
   "cell_type": "code",
   "execution_count": 60,
   "metadata": {},
   "outputs": [],
   "source": [
    "%lprun -f convert_units convert_units(heroes, hts, wts)"
   ]
  },
  {
   "cell_type": "markdown",
   "metadata": {},
   "source": [
    "# Code Profiling for Memory Usage"
   ]
  },
  {
   "cell_type": "markdown",
   "metadata": {},
   "source": [
    "### Quick and dirty approach"
   ]
  },
  {
   "cell_type": "code",
   "execution_count": 61,
   "metadata": {},
   "outputs": [],
   "source": [
    "import sys"
   ]
  },
  {
   "cell_type": "code",
   "execution_count": 62,
   "metadata": {},
   "outputs": [
    {
     "data": {
      "text/plain": [
       "9112"
      ]
     },
     "execution_count": 62,
     "metadata": {},
     "output_type": "execute_result"
    }
   ],
   "source": [
    "nums_list = [*range(1000)]\n",
    "sys.getsizeof(nums_list)"
   ]
  },
  {
   "cell_type": "markdown",
   "metadata": {},
   "source": [
    "Package used: `memory_profiler`\n",
    "\n",
    "- `%load_ext memory_profiler`\n",
    "- `%mprun -f convert_units convert_units(heroes, hts, wts)`"
   ]
  },
  {
   "cell_type": "code",
   "execution_count": 63,
   "metadata": {},
   "outputs": [],
   "source": [
    "%load_ext memory_profiler"
   ]
  },
  {
   "cell_type": "code",
   "execution_count": 64,
   "metadata": {},
   "outputs": [
    {
     "name": "stdout",
     "output_type": "stream",
     "text": [
      "ERROR: Could not find file <ipython-input-49-d844055423a7>\n",
      "NOTE: %mprun can only be used on functions defined in physical files, and not in the IPython environment.\n",
      "\n"
     ]
    }
   ],
   "source": [
    "%mprun -f convert_units convert_units(heroes, hts, wts)"
   ]
  },
  {
   "cell_type": "code",
   "execution_count": 71,
   "metadata": {},
   "outputs": [],
   "source": [
    "from hero_funcs import convert_units"
   ]
  },
  {
   "cell_type": "code",
   "execution_count": 68,
   "metadata": {},
   "outputs": [
    {
     "name": "stdout",
     "output_type": "stream",
     "text": [
      "\n"
     ]
    }
   ],
   "source": [
    "%mprun -f convert_units convert_units(heroes, hts, wts)"
   ]
  },
  {
   "cell_type": "markdown",
   "metadata": {},
   "source": [
    "## Console Output:\n",
    "\n",
    "```\n",
    "Filename: /Users/codyschellenberger/Data_science/hero_funcs.py\n",
    "\n",
    "Line #    Mem usage    Increment   Line Contents\n",
    "================================================\n",
    "     1     25.5 MiB     25.5 MiB   def convert_units(heroes, heights, weights):\n",
    "     2                             \n",
    "     3     25.5 MiB      0.0 MiB       new_hts = [ht * 0.39370  for ht in heights]\n",
    "     4     25.5 MiB      0.0 MiB       new_wts = [wt * 2.20462  for wt in weights]\n",
    "     5                             \n",
    "     6     25.5 MiB      0.0 MiB       hero_data = {}\n",
    "     7                             \n",
    "     8     25.5 MiB      0.0 MiB       for i,hero in enumerate(heroes):\n",
    "     9     25.5 MiB      0.0 MiB           hero_data[hero] = (new_hts[i], new_wts[i])\n",
    "    10                             \n",
    "    11     25.5 MiB      0.0 MiB       return hero_data\n",
    "```"
   ]
  },
  {
   "cell_type": "code",
   "execution_count": 74,
   "metadata": {},
   "outputs": [],
   "source": [
    "from bmi_lists import calc_bmi_lists"
   ]
  },
  {
   "cell_type": "code",
   "execution_count": 81,
   "metadata": {},
   "outputs": [
    {
     "data": {
      "text/html": [
       "<div>\n",
       "<style scoped>\n",
       "    .dataframe tbody tr th:only-of-type {\n",
       "        vertical-align: middle;\n",
       "    }\n",
       "\n",
       "    .dataframe tbody tr th {\n",
       "        vertical-align: top;\n",
       "    }\n",
       "\n",
       "    .dataframe thead th {\n",
       "        text-align: right;\n",
       "    }\n",
       "</style>\n",
       "<table border=\"1\" class=\"dataframe\">\n",
       "  <thead>\n",
       "    <tr style=\"text-align: right;\">\n",
       "      <th></th>\n",
       "      <th>0</th>\n",
       "    </tr>\n",
       "  </thead>\n",
       "  <tbody>\n",
       "    <tr>\n",
       "      <th>0</th>\n",
       "      <td>A-Bomb</td>\n",
       "    </tr>\n",
       "    <tr>\n",
       "      <th>1</th>\n",
       "      <td>Abe Sapien</td>\n",
       "    </tr>\n",
       "    <tr>\n",
       "      <th>2</th>\n",
       "      <td>Abin Sur</td>\n",
       "    </tr>\n",
       "    <tr>\n",
       "      <th>3</th>\n",
       "      <td>Abomination</td>\n",
       "    </tr>\n",
       "    <tr>\n",
       "      <th>4</th>\n",
       "      <td>Absorbing Man</td>\n",
       "    </tr>\n",
       "  </tbody>\n",
       "</table>\n",
       "</div>"
      ],
      "text/plain": [
       "               0\n",
       "0         A-Bomb\n",
       "1     Abe Sapien\n",
       "2       Abin Sur\n",
       "3    Abomination\n",
       "4  Absorbing Man"
      ]
     },
     "execution_count": 81,
     "metadata": {},
     "output_type": "execute_result"
    }
   ],
   "source": [
    "import pandas as pd\n",
    "heroes_df = pd.DataFrame(heroes)\n",
    "heroes_df.head()"
   ]
  },
  {
   "cell_type": "code",
   "execution_count": 89,
   "metadata": {},
   "outputs": [],
   "source": [
    "sample_indices = np.random.choice(list(heroes_df.index), size=35000)"
   ]
  },
  {
   "cell_type": "code",
   "execution_count": 90,
   "metadata": {},
   "outputs": [
    {
     "name": "stdout",
     "output_type": "stream",
     "text": [
      "\n"
     ]
    }
   ],
   "source": [
    "%mprun -f calc_bmi_lists calc_bmi_lists(sample_indices, hts, wts)"
   ]
  },
  {
   "cell_type": "markdown",
   "metadata": {},
   "source": [
    "# Console Output\n",
    "\n",
    "```\n",
    "Filename: /Users/codyschellenberger/Data_science/bmi_lists.py\n",
    "\n",
    "Line #    Mem usage    Increment   Line Contents\n",
    "================================================\n",
    "     1     72.5 MiB     72.5 MiB   def calc_bmi_lists(sample_indices, hts, wts):\n",
    "     2                                 \n",
    "     3     73.0 MiB      0.2 MiB       s_hts = [hts[i] for i in sample_indices]\n",
    "     4     74.1 MiB      0.2 MiB       s_wts = [wts[i] for i in sample_indices]\n",
    "     5                                 \n",
    "     6     75.4 MiB      0.2 MiB       s_hts_m_sqr = [(ht / 100) ** 2 for ht in s_hts]\n",
    "     7                                 \n",
    "     8     76.5 MiB      0.2 MiB       bmis = [s_wts[i] / s_hts_m_sqr[i] for i in range(len(sample_indices))]\n",
    "     9                             \n",
    "    10     76.5 MiB      0.0 MiB       return bmis\n",
    "```"
   ]
  },
  {
   "cell_type": "code",
   "execution_count": 91,
   "metadata": {},
   "outputs": [],
   "source": [
    "from bmi_arrays import calc_bmi_arrays"
   ]
  },
  {
   "cell_type": "code",
   "execution_count": 93,
   "metadata": {},
   "outputs": [
    {
     "name": "stdout",
     "output_type": "stream",
     "text": [
      "\n"
     ]
    }
   ],
   "source": [
    "%mprun -f calc_bmi_arrays calc_bmi_arrays(sample_indices, hts, wts)"
   ]
  },
  {
   "cell_type": "markdown",
   "metadata": {},
   "source": [
    "## Console output:\n",
    "\n",
    "```\n",
    "Filename: /Users/codyschellenberger/Data_science/bmi_arrays.py\n",
    "\n",
    "Line #    Mem usage    Increment   Line Contents\n",
    "================================================\n",
    "     1     76.4 MiB     76.4 MiB   def calc_bmi_arrays(sample_indices, hts, wts):\n",
    "     2                             \n",
    "     3                                 # Gather sample heights and weights as arrays\n",
    "     4     76.4 MiB      0.0 MiB       s_hts = hts[sample_indices]\n",
    "     5     76.4 MiB      0.0 MiB       s_wts = wts[sample_indices]\n",
    "     6                             \n",
    "     7                                 # Convert heights from cm to m and square with broadcasting\n",
    "     8     76.4 MiB      0.0 MiB       s_hts_m_sqr = (s_hts / 100) ** 2\n",
    "     9                             \n",
    "    10                                 # Calculate BMIs as an array using broadcasting\n",
    "    11     76.4 MiB      0.0 MiB       bmis = s_wts / s_hts_m_sqr\n",
    "    12                             \n",
    "    13     76.4 MiB      0.0 MiB       return bmis\n",
    "```"
   ]
  },
  {
   "cell_type": "code",
   "execution_count": 1,
   "metadata": {},
   "outputs": [],
   "source": [
    "ash_pokedex = ['Pikachu',\n",
    " 'Bulbasaur',\n",
    " 'Koffing',\n",
    " 'Spearow',\n",
    " 'Vulpix',\n",
    " 'Wigglytuff',\n",
    " 'Zubat',\n",
    " 'Rattata',\n",
    " 'Psyduck',\n",
    " 'Squirtle']\n",
    "\n",
    "misty_pokedex = ['Krabby',\n",
    " 'Horsea',\n",
    " 'Slowbro',\n",
    " 'Tentacool',\n",
    " 'Vaporeon',\n",
    " 'Magikarp',\n",
    " 'Poliwag',\n",
    " 'Starmie',\n",
    " 'Psyduck',\n",
    " 'Squirtle']"
   ]
  },
  {
   "cell_type": "code",
   "execution_count": 2,
   "metadata": {},
   "outputs": [
    {
     "name": "stdout",
     "output_type": "stream",
     "text": [
      "{'Psyduck', 'Squirtle'}\n",
      "{'Rattata', 'Spearow', 'Pikachu', 'Vulpix', 'Koffing', 'Zubat', 'Wigglytuff', 'Bulbasaur'}\n",
      "{'Rattata', 'Spearow', 'Magikarp', 'Slowbro', 'Starmie', 'Krabby', 'Vulpix', 'Pikachu', 'Horsea', 'Koffing', 'Zubat', 'Tentacool', 'Poliwag', 'Wigglytuff', 'Vaporeon', 'Bulbasaur'}\n"
     ]
    }
   ],
   "source": [
    "# Convert both lists to sets\n",
    "ash_set = set(ash_pokedex)\n",
    "misty_set = set(misty_pokedex)\n",
    "\n",
    "# Find the Pokémon that exist in both sets\n",
    "both = ash_set.intersection(misty_set)\n",
    "print(both)\n",
    "\n",
    "# Find the Pokémon that Ash has and Misty does not have\n",
    "ash_only = ash_set.difference(misty_set)\n",
    "print(ash_only)\n",
    "\n",
    "# Find the Pokémon that are in only one set (not both)\n",
    "unique_to_set = ash_set.symmetric_difference(misty_set)\n",
    "print(unique_to_set)"
   ]
  },
  {
   "cell_type": "code",
   "execution_count": 3,
   "metadata": {},
   "outputs": [],
   "source": [
    "brock_pokedex = ['Onix',\n",
    " 'Geodude',\n",
    " 'Zubat',\n",
    " 'Golem',\n",
    " 'Vulpix',\n",
    " 'Tauros',\n",
    " 'Kabutops',\n",
    " 'Omastar',\n",
    " 'Machop',\n",
    " 'Dugtrio']"
   ]
  },
  {
   "cell_type": "code",
   "execution_count": 4,
   "metadata": {},
   "outputs": [
    {
     "name": "stdout",
     "output_type": "stream",
     "text": [
      "{'Geodude', 'Golem', 'Tauros', 'Machop', 'Vulpix', 'Omastar', 'Onix', 'Zubat', 'Kabutops', 'Dugtrio'}\n",
      "True\n",
      "False\n",
      "False\n",
      "True\n"
     ]
    }
   ],
   "source": [
    "# Convert Brock's Pokédex to a set\n",
    "brock_pokedex_set = set(brock_pokedex)\n",
    "print(brock_pokedex_set)\n",
    "\n",
    "# Check if Psyduck is in Ash's list and Brock's set\n",
    "print('Psyduck' in ash_pokedex)\n",
    "print('Psyduck' in brock_pokedex_set)\n",
    "\n",
    "# Check if Machop is in Ash's list and Brock's set\n",
    "print('Machop' in ash_pokedex)\n",
    "print('Machop' in brock_pokedex_set)"
   ]
  },
  {
   "cell_type": "code",
   "execution_count": 5,
   "metadata": {},
   "outputs": [],
   "source": [
    "def find_unique_items(data):\n",
    "    uniques = []\n",
    "\n",
    "    for item in data:\n",
    "        if item not in uniques:\n",
    "            uniques.append(item)\n",
    "\n",
    "    return uniques"
   ]
  },
  {
   "cell_type": "code",
   "execution_count": 6,
   "metadata": {},
   "outputs": [],
   "source": [
    "poke_names = ['Abomasnow', 'Abra', 'Absol', 'Accelgor', 'Aerodactyl', 'Aggron', 'Aipom', 'Alakazam', 'Alomomola', 'Altaria', 'Amaura', 'Ambipom', 'Amoonguss', 'Ampharos', 'Anorith', 'Arbok', 'Arcanine', 'Arceus', 'Archen', 'Archeops', 'Ariados', 'Armaldo', 'Aromatisse', 'Aron', 'Articuno', 'Audino', 'Aurorus', 'Avalugg', 'Axew', 'Azelf', 'Azumarill', 'Azurill', 'Bagon', 'Baltoy', 'Banette', 'Barbaracle', 'Barboach', 'Basculin', 'Bastiodon', 'Bayleef', 'Beartic', 'Beautifly', 'Beedrill', 'Beheeyem', 'Beldum', 'Bellossom', 'Bellsprout', 'Bergmite', 'Bibarel', 'Bidoof', 'Binacle', 'Bisharp', 'Blastoise', 'Blaziken', 'Blissey', 'Blitzle', 'Boldore', 'Bonsly', 'Bouffalant', 'Braixen', 'Braviary', 'Breloom', 'Bronzong', 'Bronzor', 'Budew', 'Buizel', 'Bulbasaur', 'Buneary', 'Bunnelby', 'Burmy', 'Butterfree', 'Cacnea', 'Cacturne', 'Camerupt', 'Carbink', 'Carnivine', 'Carracosta', 'Carvanha', 'Cascoon', 'Castform', 'Caterpie', 'Celebi', 'Chandelure', 'Chansey', 'Charizard', 'Charmander', 'Charmeleon', 'Chatot', 'Cherrim', 'Cherubi', 'Chesnaught', 'Chespin', 'Chikorita', 'Chimchar', 'Chimecho', 'Chinchou', 'Chingling', 'Cinccino', 'Clamperl', 'Clauncher', 'Clawitzer', 'Claydol', 'Clefable', 'Clefairy', 'Cleffa', 'Cloyster', 'Cobalion', 'Cofagrigus', 'Combee', 'Combusken', 'Conkeldurr', 'Corphish', 'Corsola', 'Cottonee', 'Cradily', 'Cranidos', 'Crawdaunt', 'Cresselia', 'Croagunk', 'Crobat', 'Croconaw', 'Crustle', 'Cryogonal', 'Cubchoo', 'Cubone', 'Cyndaquil', 'Darkrai', 'DarmanitanStandard Mode', 'DarmanitanZen Mode', 'Darumaka', 'Dedenne', 'Deerling', 'Deino', 'Delcatty', 'Delibird', 'Delphox', 'Dewgong', 'Dewott', 'Dialga', 'Diancie', 'Diggersby', 'Diglett', 'Ditto', 'Dodrio', 'Doduo', 'Donphan', 'Doublade', 'Dragalge', 'Dragonair', 'Dragonite', 'Drapion', 'Dratini', 'Drifblim', 'Drifloon', 'Drilbur', 'Drowzee', 'Druddigon', 'Ducklett', 'Dugtrio', 'Dunsparce', 'Duosion', 'Durant', 'Dusclops', 'Dusknoir', 'Duskull', 'Dustox', 'Dwebble', 'Eelektrik', 'Eelektross', 'Eevee', 'Ekans', 'Electabuzz', 'Electivire', 'Electrike', 'Electrode', 'Elekid', 'Elgyem', 'Emboar', 'Emolga', 'Empoleon', 'Entei', 'Escavalier', 'Espeon', 'Espurr', 'Excadrill', 'Exeggcute', 'Exeggutor', 'Exploud', \"Farfetch'd\", 'Fearow', 'Feebas', 'Fennekin', 'Feraligatr', 'Ferroseed', 'Ferrothorn', 'Finneon', 'Flaaffy', 'Flabébé', 'Flareon', 'Fletchinder', 'Fletchling', 'Floatzel', 'Floette', 'Florges', 'Flygon', 'Foongus', 'Forretress', 'Fraxure', 'Frillish', 'Froakie', 'Frogadier', 'Froslass', 'Furfrou', 'Furret', 'Gabite', 'Gallade', 'Galvantula', 'Garbodor', 'Garchomp', 'Gardevoir', 'Gastly', 'Gastrodon', 'Genesect', 'Gengar', 'Geodude', 'Gible', 'Gigalith', 'Girafarig', 'Glaceon', 'Glalie', 'Glameow', 'Gligar', 'Gliscor', 'Gloom', 'Gogoat', 'Golbat', 'Goldeen', 'Golduck', 'Golem', 'Golett', 'Golurk', 'Goodra', 'Goomy', 'Gorebyss', 'Gothita', 'Gothitelle', 'Gothorita', 'Granbull', 'Graveler', 'Greninja', 'Grimer', 'Grotle', 'Groudon', 'GroudonPrimal Groudon', 'Grovyle', 'Growlithe', 'Grumpig', 'Gulpin', 'Gurdurr', 'Gyarados', 'Happiny', 'Hariyama', 'Haunter', 'Hawlucha', 'Haxorus', 'Heatmor', 'Heatran', 'Heliolisk', 'Helioptile', 'Heracross', 'Herdier', 'Hippopotas', 'Hippowdon', 'Hitmonchan', 'Hitmonlee', 'Hitmontop', 'Ho-oh', 'Honchkrow', 'Honedge', 'Hoothoot', 'Hoppip', 'Horsea', 'Houndoom', 'Houndour', 'Huntail', 'Hydreigon', 'Hypno', 'Igglybuff', 'Illumise', 'Infernape', 'Inkay', 'Ivysaur', 'Jellicent', 'Jigglypuff', 'Jirachi', 'Jolteon', 'Joltik', 'Jumpluff', 'Jynx', 'Kabuto', 'Kabutops', 'Kadabra', 'Kakuna', 'Kangaskhan', 'Karrablast', 'Kecleon', 'Kingdra', 'Kingler', 'Kirlia', 'Klang', 'Klefki', 'Klink', 'Klinklang', 'Koffing', 'Krabby', 'Kricketot', 'Kricketune', 'Krokorok', 'Krookodile', 'Kyogre', 'KyogrePrimal Kyogre', 'Kyurem', 'KyuremBlack Kyurem', 'KyuremWhite Kyurem', 'Lairon', 'Lampent', 'Lanturn', 'Lapras', 'Larvesta', 'Larvitar', 'Latias', 'Latios', 'Leafeon', 'Leavanny', 'Ledian', 'Ledyba', 'Lickilicky', 'Lickitung', 'Liepard', 'Lileep', 'Lilligant', 'Lillipup', 'Linoone', 'Litleo', 'Litwick', 'Lombre', 'Lopunny', 'Lotad', 'Loudred', 'Lucario', 'Ludicolo', 'Lugia', 'Lumineon', 'Lunatone', 'Luvdisc', 'Luxio', 'Luxray', 'Machamp', 'Machoke', 'Machop', 'Magby', 'Magcargo', 'Magikarp', 'Magmar', 'Magmortar', 'Magnemite', 'Magneton', 'Magnezone', 'Makuhita', 'Malamar', 'Mamoswine', 'Manaphy', 'Mandibuzz', 'Manectric', 'Mankey', 'Mantine', 'Mantyke', 'Maractus', 'Mareep', 'Marill', 'Marowak', 'Marshtomp', 'Masquerain', 'Mawile', 'Medicham', 'Meditite', 'MeowsticFemale', 'MeowsticMale', 'Meowth', 'Mesprit', 'Metagross', 'Metang', 'Metapod', 'Mew', 'Mewtwo', 'Mienfoo', 'Mienshao', 'Mightyena', 'Milotic', 'Miltank', 'Mime Jr.', 'Minccino', 'Minun', 'Misdreavus', 'Mismagius', 'Moltres', 'Monferno', 'Mothim', 'Mr. Mime', 'Mudkip', 'Muk', 'Munchlax', 'Munna', 'Murkrow', 'Musharna', 'Natu', 'Nidoking', 'Nidoqueen', 'Nidoran♀', 'Nidoran♂', 'Nidorina', 'Nidorino', 'Nincada', 'Ninetales', 'Ninjask', 'Noctowl', 'Noibat', 'Noivern', 'Nosepass', 'Numel', 'Nuzleaf', 'Octillery', 'Oddish', 'Omanyte', 'Omastar', 'Onix', 'Oshawott', 'Pachirisu', 'Palkia', 'Palpitoad', 'Pancham', 'Pangoro', 'Panpour', 'Pansage', 'Pansear', 'Paras', 'Parasect', 'Patrat', 'Pawniard', 'Pelipper', 'Persian', 'Petilil', 'Phanpy', 'Phantump', 'Phione', 'Pichu', 'Pidgeot', 'Pidgeotto', 'Pidgey', 'Pidove', 'Pignite', 'Pikachu', 'Piloswine', 'Pineco', 'Pinsir', 'Piplup', 'Plusle', 'Politoed', 'Poliwag', 'Poliwhirl', 'Poliwrath', 'Ponyta', 'Poochyena', 'Porygon', 'Porygon-Z', 'Porygon2', 'Primeape', 'Prinplup', 'Probopass', 'Psyduck', 'Pupitar', 'Purrloin', 'Purugly', 'Pyroar', 'Quagsire', 'Quilava', 'Quilladin', 'Qwilfish', 'Raichu', 'Raikou', 'Ralts', 'Rampardos', 'Rapidash', 'Raticate', 'Rattata', 'Rayquaza', 'Regice', 'Regigigas', 'Regirock', 'Registeel', 'Relicanth', 'Remoraid', 'Reshiram', 'Reuniclus', 'Rhydon', 'Rhyhorn', 'Rhyperior', 'Riolu', 'Roggenrola', 'Roselia', 'Roserade', 'Rotom', 'RotomFan Rotom', 'RotomFrost Rotom', 'RotomHeat Rotom', 'RotomMow Rotom', 'RotomWash Rotom', 'Rufflet', 'Sableye', 'Salamence', 'Samurott', 'Sandile', 'Sandshrew', 'Sandslash', 'Sawk', 'Sawsbuck', 'Scatterbug', 'Sceptile', 'Scizor', 'Scolipede', 'Scrafty', 'Scraggy', 'Scyther', 'Seadra', 'Seaking', 'Sealeo', 'Seedot', 'Seel', 'Seismitoad', 'Sentret', 'Serperior', 'Servine', 'Seviper', 'Sewaddle', 'Sharpedo', 'Shedinja', 'Shelgon', 'Shellder', 'Shellos', 'Shelmet', 'Shieldon', 'Shiftry', 'Shinx', 'Shroomish', 'Shuckle', 'Shuppet', 'Sigilyph', 'Silcoon', 'Simipour', 'Simisage', 'Simisear', 'Skarmory', 'Skiddo', 'Skiploom', 'Skitty', 'Skorupi', 'Skrelp', 'Skuntank', 'Slaking', 'Slakoth', 'Sliggoo', 'Slowbro', 'Slowking', 'Slowpoke', 'Slugma', 'Slurpuff', 'Smeargle', 'Smoochum', 'Sneasel', 'Snivy', 'Snorlax', 'Snorunt', 'Snover', 'Snubbull', 'Solosis', 'Solrock', 'Spearow', 'Spewpa', 'Spheal', 'Spinarak', 'Spinda', 'Spiritomb', 'Spoink', 'Spritzee', 'Squirtle', 'Stantler', 'Staraptor', 'Staravia', 'Starly', 'Starmie', 'Staryu', 'Steelix', 'Stoutland', 'Stunfisk', 'Stunky', 'Sudowoodo', 'Suicune', 'Sunflora', 'Sunkern', 'Surskit', 'Swablu', 'Swadloon', 'Swalot', 'Swampert', 'Swanna', 'Swellow', 'Swinub', 'Swirlix', 'Swoobat', 'Sylveon', 'Taillow', 'Talonflame', 'Tangela', 'Tangrowth', 'Tauros', 'Teddiursa', 'Tentacool', 'Tentacruel', 'Tepig', 'Terrakion', 'Throh', 'Timburr', 'Tirtouga', 'Togekiss', 'Togepi', 'Togetic', 'Torchic', 'Torkoal', 'Torterra', 'Totodile', 'Toxicroak', 'Tranquill', 'Trapinch', 'Treecko', 'Trevenant', 'Tropius', 'Trubbish', 'Turtwig', 'Tympole', 'Tynamo', 'Typhlosion', 'Tyranitar', 'Tyrantrum', 'Tyrogue', 'Tyrunt', 'Umbreon', 'Unfezant', 'Unown', 'Ursaring', 'Uxie', 'Vanillish', 'Vanillite', 'Vanilluxe', 'Vaporeon', 'Venipede', 'Venomoth', 'Venonat', 'Venusaur', 'Vespiquen', 'Vibrava', 'Victini', 'Victreebel', 'Vigoroth', 'Vileplume', 'Virizion', 'Vivillon', 'Volbeat', 'Volcanion', 'Volcarona', 'Voltorb', 'Vullaby', 'Vulpix', 'Wailmer', 'Wailord', 'Walrein', 'Wartortle', 'Watchog', 'Weavile', 'Weedle', 'Weepinbell', 'Weezing', 'Whimsicott', 'Whirlipede', 'Whiscash', 'Whismur', 'Wigglytuff', 'Wingull', 'Wobbuffet', 'Woobat', 'Wooper', 'WormadamPlant Cloak', 'WormadamSandy Cloak', 'WormadamTrash Cloak', 'Wurmple', 'Wynaut', 'Xatu', 'Xerneas', 'Yamask', 'Yanma', 'Yanmega', 'Yveltal', 'Zangoose', 'Zapdos', 'Zebstrika', 'Zekrom', 'Zigzagoon', 'Zoroark', 'Zorua', 'Zubat', 'Zweilous']\n",
    "poke_gens = [4, 1, 3, 5, 1, 3, 2, 1, 5, 3, 6, 4, 5, 2, 3, 1, 1, 4, 5, 5, 2, 3, 6, 3, 1, 5, 6, 6, 5, 4, 2, 3, 3, 3, 3, 6, 3, 5, 4, 2, 5, 3, 1, 5, 3, 2, 1, 6, 4, 4, 6, 5, 1, 3, 2, 5, 5, 4, 5, 6, 5, 3, 4, 4, 4, 4, 1, 4, 6, 4, 1, 3, 3, 3, 6, 4, 5, 3, 3, 3, 1, 2, 5, 1, 1, 1, 1, 4, 4, 4, 6, 6, 2, 4, 3, 2, 4, 5, 3, 6, 6, 3, 1, 1, 2, 1, 5, 5, 4, 3, 5, 3, 2, 5, 3, 4, 3, 4, 4, 2, 2, 5, 5, 5, 1, 2, 4, 5, 5, 5, 6, 5, 5, 3, 2, 6, 1, 5, 4, 6, 6, 1, 1, 1, 1, 2, 6, 6, 1, 1, 4, 1, 4, 4, 5, 1, 5, 5, 1, 2, 5, 5, 3, 4, 3, 3, 5, 5, 5, 1, 1, 1, 4, 3, 1, 2, 5, 5, 5, 4, 2, 5, 2, 6, 5, 1, 1, 3, 1, 1, 3, 6, 2, 5, 5, 4, 2, 6, 1, 6, 6, 4, 6, 6, 3, 5, 2, 5, 5, 6, 6, 4, 6, 2, 4, 4, 5, 5, 4, 3, 1, 4, 5, 1, 1, 4, 5, 2, 4, 3, 4, 2, 4, 1, 6, 1, 1, 1, 1, 5, 5, 6, 6, 3, 5, 5, 5, 2, 1, 6, 1, 4, 3, 3, 3, 1, 3, 3, 5, 1, 4, 3, 1, 6, 5, 5, 4, 6, 6, 2, 5, 4, 4, 1, 1, 2, 2, 4, 6, 2, 2, 1, 2, 2, 3, 5, 1, 2, 3, 4, 6, 1, 5, 1, 3, 1, 5, 2, 1, 1, 1, 1, 1, 1, 5, 3, 2, 1, 3, 5, 6, 5, 5, 1, 1, 4, 4, 5, 5, 3, 3, 5, 5, 5, 3, 5, 2, 1, 5, 2, 3, 3, 4, 5, 2, 2, 4, 1, 5, 3, 5, 5, 3, 6, 5, 3, 4, 3, 3, 4, 3, 2, 4, 3, 3, 4, 4, 1, 1, 1, 2, 2, 1, 1, 4, 1, 1, 4, 3, 6, 4, 4, 5, 3, 1, 2, 4, 5, 2, 2, 1, 3, 3, 3, 3, 3, 6, 6, 1, 4, 3, 3, 1, 1, 1, 5, 5, 3, 3, 2, 4, 5, 3, 2, 4, 1, 4, 4, 1, 3, 1, 4, 5, 2, 5, 2, 1, 1, 1, 1, 1, 1, 3, 1, 3, 2, 6, 6, 3, 3, 3, 2, 1, 1, 1, 1, 5, 4, 4, 5, 6, 6, 5, 5, 5, 1, 1, 5, 5, 3, 1, 5, 2, 6, 4, 2, 1, 1, 1, 5, 5, 1, 2, 2, 1, 4, 3, 2, 1, 1, 1, 1, 3, 1, 4, 2, 1, 4, 4, 1, 2, 5, 4, 6, 2, 2, 6, 2, 1, 2, 3, 4, 1, 1, 1, 3, 3, 4, 3, 3, 3, 2, 5, 5, 1, 1, 4, 4, 5, 3, 4, 4, 4, 4, 4, 4, 4, 5, 3, 3, 5, 5, 1, 1, 5, 5, 6, 3, 2, 5, 5, 5, 1, 1, 1, 3, 3, 1, 5, 2, 5, 5, 3, 5, 3, 3, 3, 1, 4, 5, 4, 3, 4, 3, 2, 3, 5, 3, 5, 5, 5, 2, 6, 2, 3, 4, 6, 4, 3, 3, 6, 1, 2, 1, 2, 6, 2, 2, 2, 5, 1, 3, 4, 2, 5, 3, 1, 6, 3, 2, 3, 4, 3, 6, 1, 2, 4, 4, 4, 1, 1, 2, 5, 5, 4, 2, 2, 2, 2, 3, 3, 5, 3, 3, 5, 3, 2, 6, 5, 6, 3, 6, 1, 4, 1, 2, 1, 1, 5, 5, 5, 5, 5, 4, 2, 2, 3, 3, 4, 2, 4, 5, 3, 3, 6, 3, 5, 4, 5, 5, 2, 2, 6, 2, 6, 2, 5, 2, 2, 4, 5, 5, 5, 1, 5, 1, 1, 1, 4, 3, 5, 1, 3, 1, 5, 6, 3, 6, 5, 1, 5, 1, 3, 3, 3, 1, 5, 4, 1, 1, 1, 5, 5, 3, 3, 1, 3, 2, 5, 2, 4, 4, 4, 3, 3, 2, 6, 5, 2, 4, 6, 3, 1, 5, 5, 3, 5, 5, 1, 5]"
   ]
  },
  {
   "cell_type": "code",
   "execution_count": 7,
   "metadata": {},
   "outputs": [],
   "source": [
    "gen1_gen2_name_lengths_loop = []\n",
    "\n",
    "for name,gen in zip(poke_names, poke_gens):\n",
    "    if gen < 3:\n",
    "        name_length = len(name)\n",
    "        poke_tuple = (name, name_length)\n",
    "        gen1_gen2_name_lengths_loop.append(poke_tuple)"
   ]
  },
  {
   "cell_type": "code",
   "execution_count": 8,
   "metadata": {},
   "outputs": [
    {
     "name": "stdout",
     "output_type": "stream",
     "text": [
      "[('Abra', 4), ('Aerodactyl', 10), ('Aipom', 5), ('Alakazam', 8), ('Ampharos', 8)]\n",
      "[('Abra', 4), ('Aerodactyl', 10), ('Aipom', 5), ('Alakazam', 8), ('Ampharos', 8)]\n"
     ]
    }
   ],
   "source": [
    "# Collect Pokémon that belong to generation 1 or generation 2\n",
    "gen1_gen2_pokemon = [name for name,gen in zip(poke_names, poke_gens) if gen < 3]\n",
    "\n",
    "# Create a map object that stores the name lengths\n",
    "name_lengths_map = map(len, gen1_gen2_pokemon)\n",
    "\n",
    "# Combine gen1_gen2_pokemon and name_lengths_map into a list\n",
    "gen1_gen2_name_lengths = [*zip(gen1_gen2_pokemon, name_lengths_map)]\n",
    "\n",
    "print(gen1_gen2_name_lengths_loop[:5])\n",
    "print(gen1_gen2_name_lengths[:5])"
   ]
  },
  {
   "cell_type": "code",
   "execution_count": 11,
   "metadata": {},
   "outputs": [],
   "source": [
    "generations = [4, 1, 3, 5, 1, 3, 2, 1, 5, 3, 6, 4, 5, 2, 3, 1, 1, 4, 5, 5, 2, 3, 6, 3, 1, 5, 6, 6, 5, 4, 2, 3, 3, 3, 3, 6, 3, 5, 4, 2, 5, 3, 1, 5, 3, 2, 1, 6, 4, 4, 6, 5, 1, 3, 2, 5, 5, 4, 5, 6, 5, 3, 4, 4, 4, 4, 1, 4, 6, 4, 1, 3, 3, 3, 6, 4, 5, 3, 3, 3, 1, 2, 5, 1, 1, 1, 1, 4, 4, 4, 6, 6, 2, 4, 3, 2, 4, 5, 3, 6, 6, 3, 1, 1, 2, 1, 5, 5, 4, 3, 5, 3, 2, 5, 3, 4, 3, 4, 4, 2, 2, 5, 5, 5, 1, 2, 4, 5, 5, 5, 6, 5, 5, 3, 2, 6, 1, 5, 4, 6, 6, 1, 1, 1, 1, 2, 6, 6, 1, 1, 4, 1, 4, 4, 5, 1, 5, 5, 1, 2, 5, 5, 3, 4, 3, 3, 5, 5, 5, 1, 1, 1, 4, 3, 1, 2, 5, 5, 5, 4, 2, 5, 2, 6, 5, 1, 1, 3, 1, 1, 3, 6, 2, 5, 5, 4, 2, 6, 1, 6, 6, 4, 6, 6, 3, 5, 2, 5, 5, 6, 6, 4, 6, 2, 4, 4, 5, 5, 4, 3, 1, 4, 5, 1, 1, 4, 5, 2, 4, 3, 4, 2, 4, 1, 6, 1, 1, 1, 1, 5, 5, 6, 6, 3, 5, 5, 5, 2, 1, 6, 1, 4, 3, 3, 3, 1, 3, 3, 5, 1, 4, 3, 1, 6, 5, 5, 4, 6, 6, 2, 5, 4, 4, 1, 1, 2, 2, 4, 6, 2, 2, 1, 2, 2, 3, 5, 1, 2, 3, 4, 6, 1, 5, 1, 3, 1, 5, 2, 1, 1, 1, 1, 1, 1, 5, 3, 2, 1, 3, 5, 6, 5, 5, 1, 1, 4, 4, 5, 5, 3, 3, 5, 5, 5, 3, 5, 2, 1, 5, 2, 3, 3, 4, 5, 2, 2, 4, 1, 5, 3, 5, 5, 3, 6, 5, 3, 4, 3, 3, 4, 3, 2, 4, 3, 3, 4, 4, 1, 1, 1, 2, 2, 1, 1, 4, 1, 1, 4, 3, 6, 4, 4, 5, 3, 1, 2, 4, 5, 2, 2, 1, 3, 3, 3, 3, 3, 6, 6, 1, 4, 3, 3, 1, 1, 1, 5, 5, 3, 3, 2, 4, 5, 3, 2, 4, 1, 4, 4, 1, 3, 1, 4, 5, 2, 5, 2, 1, 1, 1, 1, 1, 1, 3, 1, 3, 2, 6, 6, 3, 3, 3, 2, 1, 1, 1, 1, 5, 4, 4, 5, 6, 6, 5, 5, 5, 1, 1, 5, 5, 3, 1, 5, 2, 6, 4, 2, 1, 1, 1, 5, 5, 1, 2, 2, 1, 4, 3, 2, 1, 1, 1, 1, 3, 1, 4, 2, 1, 4, 4, 1, 2, 5, 4, 6, 2, 2, 6, 2, 1, 2, 3, 4, 1, 1, 1, 3, 3, 4, 3, 3, 3, 2, 5, 5, 1, 1, 4, 4, 5, 3, 4, 4, 4, 4, 4, 4, 4, 5, 3, 3, 5, 5, 1, 1, 5, 5, 6, 3, 2, 5, 5, 5, 1, 1, 1, 3, 3, 1, 5, 2, 5, 5, 3, 5, 3, 3, 3, 1, 4, 5, 4, 3, 4, 3, 2, 3, 5, 3, 5, 5, 5, 2, 6, 2, 3, 4, 6, 4, 3, 3, 6, 1, 2, 1, 2, 6, 2, 2, 2, 5, 1, 3, 4, 2, 5, 3, 1, 6, 3, 2, 3, 4, 3, 6, 1, 2, 4, 4, 4, 1, 1, 2, 5, 5, 4, 2, 2, 2, 2, 3, 3, 5, 3, 3, 5, 3, 2, 6, 5, 6, 3, 6, 1, 4, 1, 2, 1, 1, 5, 5, 5, 5, 5, 4, 2, 2, 3, 3, 4, 2, 4, 5, 3, 3, 6, 3, 5, 4, 5, 5, 2, 2, 6, 2, 6, 2, 5, 2, 2, 4, 5, 5, 5, 1, 5, 1, 1, 1, 4, 3, 5, 1, 3, 1, 5, 6, 3, 6, 5, 1, 5, 1, 3, 3, 3, 1, 5, 4, 1, 1, 1, 5, 5, 3, 3, 1, 3, 2, 5, 2, 4, 4, 4, 3, 3, 2, 6, 5, 2, 4, 6, 3, 1, 5, 5, 3, 5, 5, 1, 5]"
   ]
  },
  {
   "cell_type": "code",
   "execution_count": 12,
   "metadata": {},
   "outputs": [
    {
     "name": "stdout",
     "output_type": "stream",
     "text": [
      "generation 4: count = 112 percentage = 0.16\n",
      "generation 1: count = 151 percentage = 0.21\n",
      "generation 3: count = 136 percentage = 0.19\n",
      "generation 5: count = 154 percentage = 0.21\n",
      "generation 2: count =  99 percentage = 0.14\n",
      "generation 6: count =  68 percentage = 0.09\n"
     ]
    }
   ],
   "source": [
    "# Import Counter\n",
    "from collections import Counter\n",
    "\n",
    "# Collect the count of each generation\n",
    "gen_counts = Counter(generations)\n",
    "\n",
    "# Improve for loop by moving one calculation above the loop\n",
    "total_count = len(generations)\n",
    "\n",
    "for gen,count in gen_counts.items():\n",
    "    gen_percent = round(count / total_count, 2)\n",
    "    print('generation {}: count = {:3} percentage = {}'\n",
    "          .format(gen, count, gen_percent))"
   ]
  },
  {
   "cell_type": "code",
   "execution_count": 13,
   "metadata": {},
   "outputs": [],
   "source": [
    "pokemon_types = ['Bug', 'Dark', 'Dragon', 'Electric', 'Fairy', 'Fighting', 'Fire', 'Flying', 'Ghost', 'Grass', 'Ground', 'Ice', 'Normal', 'Poison', 'Psychic', 'Rock', 'Steel', 'Water']"
   ]
  },
  {
   "cell_type": "code",
   "execution_count": 16,
   "metadata": {},
   "outputs": [
    {
     "name": "stdout",
     "output_type": "stream",
     "text": [
      "[[1, 'Bug', 'Dark'], [2, 'Bug', 'Dragon'], [3, 'Bug', 'Electric'], [4, 'Bug', 'Fairy'], [5, 'Bug', 'Fighting'], [6, 'Bug', 'Fire'], [7, 'Bug', 'Flying'], [8, 'Bug', 'Ghost'], [9, 'Bug', 'Grass'], [10, 'Bug', 'Ground'], [11, 'Bug', 'Ice'], [12, 'Bug', 'Normal'], [13, 'Bug', 'Poison'], [14, 'Bug', 'Psychic'], [15, 'Bug', 'Rock'], [16, 'Bug', 'Steel'], [17, 'Bug', 'Water'], [18, 'Dark', 'Dragon'], [19, 'Dark', 'Electric'], [20, 'Dark', 'Fairy'], [21, 'Dark', 'Fighting'], [22, 'Dark', 'Fire'], [23, 'Dark', 'Flying'], [24, 'Dark', 'Ghost'], [25, 'Dark', 'Grass'], [26, 'Dark', 'Ground'], [27, 'Dark', 'Ice'], [28, 'Dark', 'Normal'], [29, 'Dark', 'Poison'], [30, 'Dark', 'Psychic'], [31, 'Dark', 'Rock'], [32, 'Dark', 'Steel'], [33, 'Dark', 'Water'], [34, 'Dragon', 'Electric'], [35, 'Dragon', 'Fairy'], [36, 'Dragon', 'Fighting'], [37, 'Dragon', 'Fire'], [38, 'Dragon', 'Flying'], [39, 'Dragon', 'Ghost'], [40, 'Dragon', 'Grass'], [41, 'Dragon', 'Ground'], [42, 'Dragon', 'Ice'], [43, 'Dragon', 'Normal'], [44, 'Dragon', 'Poison'], [45, 'Dragon', 'Psychic'], [46, 'Dragon', 'Rock'], [47, 'Dragon', 'Steel'], [48, 'Dragon', 'Water'], [49, 'Electric', 'Fairy'], [50, 'Electric', 'Fighting'], [51, 'Electric', 'Fire'], [52, 'Electric', 'Flying'], [53, 'Electric', 'Ghost'], [54, 'Electric', 'Grass'], [55, 'Electric', 'Ground'], [56, 'Electric', 'Ice'], [57, 'Electric', 'Normal'], [58, 'Electric', 'Poison'], [59, 'Electric', 'Psychic'], [60, 'Electric', 'Rock'], [61, 'Electric', 'Steel'], [62, 'Electric', 'Water'], [63, 'Fairy', 'Fighting'], [64, 'Fairy', 'Fire'], [65, 'Fairy', 'Flying'], [66, 'Fairy', 'Ghost'], [67, 'Fairy', 'Grass'], [68, 'Fairy', 'Ground'], [69, 'Fairy', 'Ice'], [70, 'Fairy', 'Normal'], [71, 'Fairy', 'Poison'], [72, 'Fairy', 'Psychic'], [73, 'Fairy', 'Rock'], [74, 'Fairy', 'Steel'], [75, 'Fairy', 'Water'], [76, 'Fighting', 'Fire'], [77, 'Fighting', 'Flying'], [78, 'Fighting', 'Ghost'], [79, 'Fighting', 'Grass'], [80, 'Fighting', 'Ground'], [81, 'Fighting', 'Ice'], [82, 'Fighting', 'Normal'], [83, 'Fighting', 'Poison'], [84, 'Fighting', 'Psychic'], [85, 'Fighting', 'Rock'], [86, 'Fighting', 'Steel'], [87, 'Fighting', 'Water'], [88, 'Fire', 'Flying'], [89, 'Fire', 'Ghost'], [90, 'Fire', 'Grass'], [91, 'Fire', 'Ground'], [92, 'Fire', 'Ice'], [93, 'Fire', 'Normal'], [94, 'Fire', 'Poison'], [95, 'Fire', 'Psychic'], [96, 'Fire', 'Rock'], [97, 'Fire', 'Steel'], [98, 'Fire', 'Water'], [99, 'Flying', 'Ghost'], [100, 'Flying', 'Grass'], [101, 'Flying', 'Ground'], [102, 'Flying', 'Ice'], [103, 'Flying', 'Normal'], [104, 'Flying', 'Poison'], [105, 'Flying', 'Psychic'], [106, 'Flying', 'Rock'], [107, 'Flying', 'Steel'], [108, 'Flying', 'Water'], [109, 'Ghost', 'Grass'], [110, 'Ghost', 'Ground'], [111, 'Ghost', 'Ice'], [112, 'Ghost', 'Normal'], [113, 'Ghost', 'Poison'], [114, 'Ghost', 'Psychic'], [115, 'Ghost', 'Rock'], [116, 'Ghost', 'Steel'], [117, 'Ghost', 'Water'], [118, 'Grass', 'Ground'], [119, 'Grass', 'Ice'], [120, 'Grass', 'Normal'], [121, 'Grass', 'Poison'], [122, 'Grass', 'Psychic'], [123, 'Grass', 'Rock'], [124, 'Grass', 'Steel'], [125, 'Grass', 'Water'], [126, 'Ground', 'Ice'], [127, 'Ground', 'Normal'], [128, 'Ground', 'Poison'], [129, 'Ground', 'Psychic'], [130, 'Ground', 'Rock'], [131, 'Ground', 'Steel'], [132, 'Ground', 'Water'], [133, 'Ice', 'Normal'], [134, 'Ice', 'Poison'], [135, 'Ice', 'Psychic'], [136, 'Ice', 'Rock'], [137, 'Ice', 'Steel'], [138, 'Ice', 'Water'], [139, 'Normal', 'Poison'], [140, 'Normal', 'Psychic'], [141, 'Normal', 'Rock'], [142, 'Normal', 'Steel'], [143, 'Normal', 'Water'], [144, 'Poison', 'Psychic'], [145, 'Poison', 'Rock'], [146, 'Poison', 'Steel'], [147, 'Poison', 'Water'], [148, 'Psychic', 'Rock'], [149, 'Psychic', 'Steel'], [150, 'Psychic', 'Water'], [151, 'Rock', 'Steel'], [152, 'Rock', 'Water'], [153, 'Steel', 'Water']]\n"
     ]
    }
   ],
   "source": [
    "from itertools import combinations\n",
    "\n",
    "# Collect all possible pairs using combinations()\n",
    "possible_pairs = [*combinations(pokemon_types, 2)]\n",
    "\n",
    "# Create an empty list called enumerated_tuples\n",
    "enumerated_tuples = []\n",
    "\n",
    "# Add a line to append each enumerated_pair_tuple to the empty list above\n",
    "for i,pair in enumerate(possible_pairs, 1):\n",
    "    enumerated_pair_tuple = (i,) + pair\n",
    "    enumerated_tuples.append(enumerated_pair_tuple)\n",
    "\n",
    "# Convert all tuples in enumerated_tuples to a list\n",
    "enumerated_pairs = [*map(list, enumerated_tuples)]\n",
    "print(enumerated_pairs)"
   ]
  },
  {
   "cell_type": "code",
   "execution_count": 1,
   "metadata": {},
   "outputs": [],
   "source": [
    "def text_playoffs(num_playoffs): \n",
    "    if num_playoffs == 1:\n",
    "        return 'Yes'\n",
    "    else:\n",
    "        return 'No'"
   ]
  },
  {
   "cell_type": "code",
   "execution_count": 2,
   "metadata": {},
   "outputs": [],
   "source": [
    "import pandas as pd"
   ]
  },
  {
   "cell_type": "code",
   "execution_count": 3,
   "metadata": {},
   "outputs": [
    {
     "data": {
      "text/html": [
       "<div>\n",
       "<style scoped>\n",
       "    .dataframe tbody tr th:only-of-type {\n",
       "        vertical-align: middle;\n",
       "    }\n",
       "\n",
       "    .dataframe tbody tr th {\n",
       "        vertical-align: top;\n",
       "    }\n",
       "\n",
       "    .dataframe thead th {\n",
       "        text-align: right;\n",
       "    }\n",
       "</style>\n",
       "<table border=\"1\" class=\"dataframe\">\n",
       "  <thead>\n",
       "    <tr style=\"text-align: right;\">\n",
       "      <th></th>\n",
       "      <th>Team</th>\n",
       "      <th>League</th>\n",
       "      <th>Year</th>\n",
       "      <th>RS</th>\n",
       "      <th>RA</th>\n",
       "      <th>W</th>\n",
       "      <th>OBP</th>\n",
       "      <th>SLG</th>\n",
       "      <th>BA</th>\n",
       "      <th>Playoffs</th>\n",
       "      <th>RankSeason</th>\n",
       "      <th>RankPlayoffs</th>\n",
       "      <th>G</th>\n",
       "      <th>OOBP</th>\n",
       "      <th>OSLG</th>\n",
       "    </tr>\n",
       "  </thead>\n",
       "  <tbody>\n",
       "    <tr>\n",
       "      <th>0</th>\n",
       "      <td>ARI</td>\n",
       "      <td>NL</td>\n",
       "      <td>2012</td>\n",
       "      <td>734</td>\n",
       "      <td>688</td>\n",
       "      <td>81</td>\n",
       "      <td>0.328</td>\n",
       "      <td>0.418</td>\n",
       "      <td>0.259</td>\n",
       "      <td>0</td>\n",
       "      <td>NaN</td>\n",
       "      <td>NaN</td>\n",
       "      <td>162</td>\n",
       "      <td>0.317</td>\n",
       "      <td>0.415</td>\n",
       "    </tr>\n",
       "    <tr>\n",
       "      <th>1</th>\n",
       "      <td>ATL</td>\n",
       "      <td>NL</td>\n",
       "      <td>2012</td>\n",
       "      <td>700</td>\n",
       "      <td>600</td>\n",
       "      <td>94</td>\n",
       "      <td>0.320</td>\n",
       "      <td>0.389</td>\n",
       "      <td>0.247</td>\n",
       "      <td>1</td>\n",
       "      <td>4.0</td>\n",
       "      <td>5.0</td>\n",
       "      <td>162</td>\n",
       "      <td>0.306</td>\n",
       "      <td>0.378</td>\n",
       "    </tr>\n",
       "    <tr>\n",
       "      <th>2</th>\n",
       "      <td>BAL</td>\n",
       "      <td>AL</td>\n",
       "      <td>2012</td>\n",
       "      <td>712</td>\n",
       "      <td>705</td>\n",
       "      <td>93</td>\n",
       "      <td>0.311</td>\n",
       "      <td>0.417</td>\n",
       "      <td>0.247</td>\n",
       "      <td>1</td>\n",
       "      <td>5.0</td>\n",
       "      <td>4.0</td>\n",
       "      <td>162</td>\n",
       "      <td>0.315</td>\n",
       "      <td>0.403</td>\n",
       "    </tr>\n",
       "    <tr>\n",
       "      <th>3</th>\n",
       "      <td>BOS</td>\n",
       "      <td>AL</td>\n",
       "      <td>2012</td>\n",
       "      <td>734</td>\n",
       "      <td>806</td>\n",
       "      <td>69</td>\n",
       "      <td>0.315</td>\n",
       "      <td>0.415</td>\n",
       "      <td>0.260</td>\n",
       "      <td>0</td>\n",
       "      <td>NaN</td>\n",
       "      <td>NaN</td>\n",
       "      <td>162</td>\n",
       "      <td>0.331</td>\n",
       "      <td>0.428</td>\n",
       "    </tr>\n",
       "    <tr>\n",
       "      <th>4</th>\n",
       "      <td>CHC</td>\n",
       "      <td>NL</td>\n",
       "      <td>2012</td>\n",
       "      <td>613</td>\n",
       "      <td>759</td>\n",
       "      <td>61</td>\n",
       "      <td>0.302</td>\n",
       "      <td>0.378</td>\n",
       "      <td>0.240</td>\n",
       "      <td>0</td>\n",
       "      <td>NaN</td>\n",
       "      <td>NaN</td>\n",
       "      <td>162</td>\n",
       "      <td>0.335</td>\n",
       "      <td>0.424</td>\n",
       "    </tr>\n",
       "  </tbody>\n",
       "</table>\n",
       "</div>"
      ],
      "text/plain": [
       "  Team League  Year   RS   RA   W    OBP    SLG     BA  Playoffs  RankSeason  \\\n",
       "0  ARI     NL  2012  734  688  81  0.328  0.418  0.259         0         NaN   \n",
       "1  ATL     NL  2012  700  600  94  0.320  0.389  0.247         1         4.0   \n",
       "2  BAL     AL  2012  712  705  93  0.311  0.417  0.247         1         5.0   \n",
       "3  BOS     AL  2012  734  806  69  0.315  0.415  0.260         0         NaN   \n",
       "4  CHC     NL  2012  613  759  61  0.302  0.378  0.240         0         NaN   \n",
       "\n",
       "   RankPlayoffs    G   OOBP   OSLG  \n",
       "0           NaN  162  0.317  0.415  \n",
       "1           5.0  162  0.306  0.378  \n",
       "2           4.0  162  0.315  0.403  \n",
       "3           NaN  162  0.331  0.428  \n",
       "4           NaN  162  0.335  0.424  "
      ]
     },
     "execution_count": 3,
     "metadata": {},
     "output_type": "execute_result"
    }
   ],
   "source": [
    "baseball_df = pd.read_csv(\"baseball_stats.csv\")\n",
    "baseball_df.head()"
   ]
  },
  {
   "cell_type": "code",
   "execution_count": null,
   "metadata": {},
   "outputs": [],
   "source": []
  }
 ],
 "metadata": {
  "kernelspec": {
   "display_name": "Python 3",
   "language": "python",
   "name": "python3"
  },
  "language_info": {
   "codemirror_mode": {
    "name": "ipython",
    "version": 3
   },
   "file_extension": ".py",
   "mimetype": "text/x-python",
   "name": "python",
   "nbconvert_exporter": "python",
   "pygments_lexer": "ipython3",
   "version": "3.6.7"
  }
 },
 "nbformat": 4,
 "nbformat_minor": 2
}
