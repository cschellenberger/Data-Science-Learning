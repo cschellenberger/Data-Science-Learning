{
 "cells": [
  {
   "cell_type": "code",
   "execution_count": 1,
   "metadata": {},
   "outputs": [
    {
     "name": "stdout",
     "output_type": "stream",
     "text": [
      "183 183\n"
     ]
    }
   ],
   "source": [
    "from csv import reader\n",
    "\n",
    "fertility = []\n",
    "female_literacy = []\n",
    "\n",
    "# Country ,Continent,female literacy,fertility,population\n",
    "\n",
    "with open('bokeh_datasets/literacy_birth_rate.csv') as csvfile:\n",
    "    csv_reader = reader(csvfile, delimiter=',')\n",
    "    for row in csv_reader:\n",
    "        # Append fertility values to fertility list and female literacy to female_literacy\n",
    "        fertility.append(row[3])\n",
    "        female_literacy.append(row[2])\n",
    "        \n",
    "print(len(fertility), len(female_literacy))"
   ]
  },
  {
   "cell_type": "code",
   "execution_count": 2,
   "metadata": {},
   "outputs": [
    {
     "data": {
      "text/plain": [
       "['1.251',\n",
       " '2.052',\n",
       " '3.371',\n",
       " '2.093',\n",
       " '2',\n",
       " '3.883',\n",
       " '3.852',\n",
       " '3.718',\n",
       " '1.732',\n",
       " '3.928',\n",
       " '',\n",
       " '',\n",
       " '',\n",
       " '',\n",
       " '',\n",
       " '',\n",
       " '',\n",
       " '',\n",
       " '',\n",
       " '',\n",
       " '',\n",
       " '',\n",
       " '',\n",
       " 'fertility',\n",
       " '',\n",
       " '',\n",
       " '',\n",
       " '',\n",
       " '',\n",
       " '']"
      ]
     },
     "execution_count": 2,
     "metadata": {},
     "output_type": "execute_result"
    }
   ],
   "source": [
    "fertility.pop(0)\n",
    "fertility[-30:]"
   ]
  },
  {
   "cell_type": "code",
   "execution_count": 3,
   "metadata": {},
   "outputs": [
    {
     "data": {
      "text/plain": [
       "['90.7', '88.4', '79.3', '93.5', '93.3', '96.5', '99', '98.4', '79.5', '98.5']"
      ]
     },
     "execution_count": 3,
     "metadata": {},
     "output_type": "execute_result"
    }
   ],
   "source": [
    "female_literacy.pop(0)\n",
    "female_literacy = female_literacy[:159]\n",
    "female_literacy[-10:]"
   ]
  },
  {
   "cell_type": "code",
   "execution_count": 4,
   "metadata": {},
   "outputs": [
    {
     "data": {
      "text/plain": [
       "162"
      ]
     },
     "execution_count": 4,
     "metadata": {},
     "output_type": "execute_result"
    }
   ],
   "source": [
    "fertility.index('')"
   ]
  },
  {
   "cell_type": "code",
   "execution_count": 5,
   "metadata": {},
   "outputs": [
    {
     "data": {
      "text/plain": [
       "['0.966',\n",
       " '2.373',\n",
       " '2.663',\n",
       " '1.251',\n",
       " '2.052',\n",
       " '3.371',\n",
       " '2.093',\n",
       " '2',\n",
       " '3.883',\n",
       " '3.852']"
      ]
     },
     "execution_count": 5,
     "metadata": {},
     "output_type": "execute_result"
    }
   ],
   "source": [
    "fertility = fertility[:159]\n",
    "fertility[-10:]"
   ]
  },
  {
   "cell_type": "code",
   "execution_count": 6,
   "metadata": {},
   "outputs": [
    {
     "name": "stdout",
     "output_type": "stream",
     "text": [
      "159 159\n"
     ]
    }
   ],
   "source": [
    "print(len(fertility), len(female_literacy))"
   ]
  },
  {
   "cell_type": "code",
   "execution_count": 7,
   "metadata": {},
   "outputs": [],
   "source": [
    "fertility = list(map(float, fertility))\n",
    "female_literacy = [float(i) for i in female_literacy]"
   ]
  },
  {
   "cell_type": "code",
   "execution_count": 8,
   "metadata": {},
   "outputs": [],
   "source": [
    "# Import figure from bokeh.plotting\n",
    "from bokeh.plotting import figure\n",
    "\n",
    "# Import output_file and show from bokeh.io\n",
    "from bokeh.io import output_file, show\n",
    "\n",
    "# Create the figure: p\n",
    "p = figure(x_axis_label='fertility (children per woman)', y_axis_label='female_literacy (% population)')\n",
    "\n",
    "# Add a circle glyph to the figure p\n",
    "p.circle(fertility, female_literacy)\n",
    "\n",
    "# Call the output_file() function and specify the name of the file\n",
    "output_file('fert_lit.html')\n",
    "\n",
    "# Display the plot\n",
    "show(p)"
   ]
  },
  {
   "cell_type": "code",
   "execution_count": 9,
   "metadata": {},
   "outputs": [],
   "source": [
    "import pandas as pd"
   ]
  },
  {
   "cell_type": "code",
   "execution_count": 10,
   "metadata": {},
   "outputs": [
    {
     "name": "stdout",
     "output_type": "stream",
     "text": [
      "aapl.csv                 dropdownexample.py       sliderconnected.py\r\n",
      "auto-mpg.csv             gapminder.py             sliders.py\r\n",
      "bokehscript.py           gapminder_tidy.csv       sprint.csv\r\n",
      "button.py                glucose.csv              supersimpleslider.py\r\n",
      "columnslider.py          literacy_birth_rate.csv\r\n",
      "doubleslider.py          selectexample.py\r\n"
     ]
    }
   ],
   "source": [
    "%ls bokeh_datasets/"
   ]
  },
  {
   "cell_type": "code",
   "execution_count": 11,
   "metadata": {},
   "outputs": [
    {
     "data": {
      "text/plain": [
       "array(['ASI', 'NAM', 'LAT', 'AF', 'EUR', 'OCE', nan, 'Continent', 'WORLD'],\n",
       "      dtype=object)"
      ]
     },
     "execution_count": 11,
     "metadata": {},
     "output_type": "execute_result"
    }
   ],
   "source": [
    "df_lit = pd.read_csv('bokeh_datasets/literacy_birth_rate.csv')\n",
    "df_lit['Continent'].unique()"
   ]
  },
  {
   "cell_type": "code",
   "execution_count": 12,
   "metadata": {},
   "outputs": [
    {
     "data": {
      "text/plain": [
       "Index(['Country ', 'Continent', 'female literacy', 'fertility', 'population'], dtype='object')"
      ]
     },
     "execution_count": 12,
     "metadata": {},
     "output_type": "execute_result"
    }
   ],
   "source": [
    "df_lit.columns"
   ]
  },
  {
   "cell_type": "code",
   "execution_count": 13,
   "metadata": {},
   "outputs": [],
   "source": [
    "fertility_africa = df_lit['fertility'][df_lit['Continent'] == 'AF']"
   ]
  },
  {
   "cell_type": "code",
   "execution_count": 14,
   "metadata": {},
   "outputs": [
    {
     "name": "stdout",
     "output_type": "stream",
     "text": [
      "49 <class 'pandas.core.series.Series'>\n"
     ]
    }
   ],
   "source": [
    "print(len(fertility_africa), type(fertility_africa))"
   ]
  },
  {
   "cell_type": "code",
   "execution_count": 15,
   "metadata": {},
   "outputs": [
    {
     "name": "stdout",
     "output_type": "stream",
     "text": [
      "[5.173, 2.816, 5.211, 5.908, 2.505, 5.52, 4.058, 4.859, 2.342, 6.254, 2.334, 4.22, 4.967, 4.514, 4.62, 4.541, 5.637, 5.841, 5.455, 7.069, 5.405, 5.737, 3.363, 4.89, 6.081, 1.841, 5.329, 5.33, 5.378, 4.45, 4.166, 2.642, 5.165, 4.528, 4.697, 5.011, 4.388, 3.29, 3.264, 2.822, 4.969, 5.659, 3.24, 1.792, 3.45, 5.283, 3.885, 2.663, 3.718] \n",
      "\n",
      " 49\n"
     ]
    }
   ],
   "source": [
    "fertility_africa = [float(i) for i in fertility_africa]\n",
    "print(fertility_africa, ('\\n\\n'), len(fertility_africa))"
   ]
  },
  {
   "cell_type": "code",
   "execution_count": 16,
   "metadata": {},
   "outputs": [
    {
     "name": "stdout",
     "output_type": "stream",
     "text": [
      "[48.8, 57.8, 22.8, 56.1, 88.1, 66.3, 59.6, 82.8, 63.9, 66.8, 44.1, 59.3, 40.1, 44.3, 65.3, 67.8, 57.0, 21.6, 65.8, 15.1, 18.2, 61.0, 88.8, 33.0, 21.9, 71.0, 26.4, 66.1, 28.1, 59.9, 53.7, 81.3, 28.9, 54.5, 41.1, 53.0, 49.5, 87.7, 95.1, 83.5, 34.3, 36.5, 83.2, 84.8, 85.6, 89.1, 67.8, 79.3, 83.3] \n",
      "\n",
      " 49\n"
     ]
    }
   ],
   "source": [
    "# Select out a pandas series that represents the female literacy from Africa\n",
    "female_literacy_africa = df_lit['female literacy'][df_lit['Continent'] == 'AF']\n",
    "\n",
    "# Convert the series object to a list of float values\n",
    "female_literacy_africa = [float(i) for i in female_literacy_africa]\n",
    "\n",
    "# Print the list\n",
    "print(female_literacy_africa, ('\\n\\n'), len(female_literacy_africa))"
   ]
  },
  {
   "cell_type": "code",
   "execution_count": 17,
   "metadata": {},
   "outputs": [
    {
     "name": "stdout",
     "output_type": "stream",
     "text": [
      "[1.827, 2.156, 2.404, 2.223, 2.53, 2.498, 1.926, 4.018, 2.513, 1.505, 2.612, 3.371, 3.19, 2.977, 2.295, 2.683, 1.943, 2.516, 2.089, 2.362, 1.647, 2.373, 3.371, 1.732] \n",
      "\n",
      " 24\n"
     ]
    }
   ],
   "source": [
    "fertility_latinamerica = df_lit['fertility'][df_lit['Continent'] == 'LAT']\n",
    "fertility_latinamerica = [float(i) for i in fertility_latinamerica]\n",
    "print(fertility_latinamerica, ('\\n\\n'), len(fertility_latinamerica))"
   ]
  },
  {
   "cell_type": "code",
   "execution_count": 18,
   "metadata": {},
   "outputs": [
    {
     "name": "stdout",
     "output_type": "stream",
     "text": [
      "[90.2, 91.5, 93.4, 97.7, 84.6, 94.9, 98.7, 68.7, 81.7, 99.8, 88.3, 86.0, 83.5, 93.5, 81.4, 77.9, 96.2, 92.8, 98.5, 90.8, 98.2, 88.4, 96.5, 98.0] \n",
      "\n",
      " 24\n"
     ]
    }
   ],
   "source": [
    "female_literacy_latinamerica = df_lit['female literacy'][df_lit['Continent'] == 'LAT']\n",
    "female_literacy_latinamerica = [float(i) for i in female_literacy_latinamerica]\n",
    "print(female_literacy_latinamerica, ('\\n\\n'), len(female_literacy_latinamerica))"
   ]
  },
  {
   "cell_type": "code",
   "execution_count": 19,
   "metadata": {},
   "outputs": [],
   "source": [
    "# Create the figure: p\n",
    "p = figure(x_axis_label='fertility', y_axis_label='female_literacy (% population)')\n",
    "\n",
    "# Add a circle glyph to the figure p\n",
    "p.circle(fertility_latinamerica, female_literacy_latinamerica)\n",
    "\n",
    "# Add an x glyph to the figure p\n",
    "p.x(fertility_africa, female_literacy_africa)\n",
    "\n",
    "# Specify the name of the file\n",
    "output_file('fert_lit_separate.html')\n",
    "\n",
    "# Display the plot\n",
    "show(p)"
   ]
  },
  {
   "cell_type": "markdown",
   "metadata": {},
   "source": [
    "# [147 CSS Color Names](http://www.colors.commutercreative.com/grid/)"
   ]
  },
  {
   "cell_type": "code",
   "execution_count": 20,
   "metadata": {},
   "outputs": [],
   "source": [
    "# Create the figure: p\n",
    "p = figure(x_axis_label='fertility (children per woman)', y_axis_label='female_literacy (% population)')\n",
    "\n",
    "# Add a blue circle glyph to the figure p\n",
    "p.circle(fertility_latinamerica, female_literacy_latinamerica, color='blue', size=10, alpha=0.8)\n",
    "\n",
    "# Add a red circle glyph to the figure p\n",
    "p.circle(fertility_africa, female_literacy_africa, color='red', size=10, alpha=0.8)\n",
    "\n",
    "# Specify the name of the file\n",
    "output_file('fert_lit_separate_colors.html')\n",
    "\n",
    "# Display the plot\n",
    "show(p)"
   ]
  },
  {
   "cell_type": "code",
   "execution_count": 21,
   "metadata": {},
   "outputs": [
    {
     "name": "stdout",
     "output_type": "stream",
     "text": [
      "   adj_close   close        date    high     low    open    volume\n",
      "0      31.68  130.31  2000-03-01  132.06  118.50  118.56  38478000\n",
      "1      29.66  122.00  2000-03-02  127.94  120.69  127.00  11136800\n",
      "2      31.12  128.00  2000-03-03  128.23  120.00  124.87  11565200\n",
      "3      30.56  125.69  2000-03-06  129.13  125.00  126.00   7520000\n",
      "4      29.87  122.87  2000-03-07  127.44  121.12  126.44   9767600\n",
      "<class 'pandas.core.frame.DataFrame'>\n",
      "Int64Index: 3270 entries, 0 to 3269\n",
      "Data columns (total 7 columns):\n",
      "adj_close    3270 non-null float64\n",
      "close        3270 non-null float64\n",
      "date         3270 non-null object\n",
      "high         3270 non-null float64\n",
      "low          3270 non-null float64\n",
      "open         3270 non-null float64\n",
      "volume       3270 non-null int64\n",
      "dtypes: float64(5), int64(1), object(1)\n",
      "memory usage: 204.4+ KB\n"
     ]
    }
   ],
   "source": [
    "aapl = pd.read_csv('bokeh_datasets/aapl.csv', index_col=0)\n",
    "print(aapl.head())\n",
    "aapl.info()"
   ]
  },
  {
   "cell_type": "code",
   "execution_count": 22,
   "metadata": {},
   "outputs": [
    {
     "name": "stdout",
     "output_type": "stream",
     "text": [
      "<class 'pandas.core.frame.DataFrame'>\n",
      "Int64Index: 3270 entries, 0 to 3269\n",
      "Data columns (total 7 columns):\n",
      "adj_close    3270 non-null float64\n",
      "close        3270 non-null float64\n",
      "date         3270 non-null datetime64[ns]\n",
      "high         3270 non-null float64\n",
      "low          3270 non-null float64\n",
      "open         3270 non-null float64\n",
      "volume       3270 non-null int64\n",
      "dtypes: datetime64[ns](1), float64(5), int64(1)\n",
      "memory usage: 204.4 KB\n"
     ]
    }
   ],
   "source": [
    "aapl['date'] = pd.to_datetime(aapl['date'])\n",
    "aapl.info()"
   ]
  },
  {
   "cell_type": "code",
   "execution_count": 23,
   "metadata": {},
   "outputs": [
    {
     "data": {
      "text/plain": [
       "[Timestamp('2000-03-01 00:00:00'),\n",
       " Timestamp('2000-03-02 00:00:00'),\n",
       " Timestamp('2000-03-03 00:00:00'),\n",
       " Timestamp('2000-03-06 00:00:00'),\n",
       " Timestamp('2000-03-07 00:00:00'),\n",
       " Timestamp('2000-03-08 00:00:00'),\n",
       " Timestamp('2000-03-09 00:00:00'),\n",
       " Timestamp('2000-03-10 00:00:00'),\n",
       " Timestamp('2000-03-13 00:00:00'),\n",
       " Timestamp('2000-03-14 00:00:00')]"
      ]
     },
     "execution_count": 23,
     "metadata": {},
     "output_type": "execute_result"
    }
   ],
   "source": [
    "from datetime import datetime\n",
    "date = [i for i in aapl['date']]\n",
    "date[:10]"
   ]
  },
  {
   "cell_type": "code",
   "execution_count": 24,
   "metadata": {},
   "outputs": [
    {
     "data": {
      "text/plain": [
       "[31.68, 29.66, 31.12, 30.56, 29.87, 29.66, 29.72, 30.57, 29.5, 27.78]"
      ]
     },
     "execution_count": 24,
     "metadata": {},
     "output_type": "execute_result"
    }
   ],
   "source": [
    "price = [float(i) for i in aapl['adj_close']]\n",
    "price[:10]"
   ]
  },
  {
   "cell_type": "code",
   "execution_count": 25,
   "metadata": {},
   "outputs": [],
   "source": [
    "# Import figure from bokeh.plotting\n",
    "from bokeh.plotting import figure\n",
    "\n",
    "# Create a figure with x_axis_type=\"datetime\": p\n",
    "p = figure(x_axis_type=\"datetime\", x_axis_label='Date', y_axis_label='US Dollars')\n",
    "\n",
    "# Plot date along the x axis and price along the y axis\n",
    "p.line(date, price)\n",
    "\n",
    "# Specify the name of the output file and show the result\n",
    "output_file('line.html')\n",
    "show(p)"
   ]
  },
  {
   "cell_type": "code",
   "execution_count": 26,
   "metadata": {},
   "outputs": [],
   "source": [
    "date = date[:100]\n",
    "price = price[:100]"
   ]
  },
  {
   "cell_type": "code",
   "execution_count": 27,
   "metadata": {},
   "outputs": [],
   "source": [
    "# Import figure from bokeh.plotting\n",
    "from bokeh.plotting import figure\n",
    "\n",
    "# Create a figure with x_axis_type='datetime': p\n",
    "p = figure(x_axis_type='datetime', x_axis_label='Date', y_axis_label='US Dollars')\n",
    "\n",
    "# Plot date along the x-axis and price along the y-axis\n",
    "p.line(date, price)\n",
    "\n",
    "# With date on the x-axis and price on the y-axis, add a white circle glyph of size 4\n",
    "p.circle(date, price, fill_color='white', size=4)\n",
    "\n",
    "# Specify the name of the output file and show the result\n",
    "output_file('line.html')\n",
    "show(p)"
   ]
  },
  {
   "cell_type": "markdown",
   "metadata": {},
   "source": [
    "### In this exercise, you will plot the state borders of Arizona, Colorado, New Mexico and Utah. The latitude and longitude vertices for each state have been prepared as lists."
   ]
  },
  {
   "cell_type": "code",
   "execution_count": 28,
   "metadata": {},
   "outputs": [],
   "source": [
    "az_lons = [-114.63332, -114.63349, -114.63423, -114.60899, -114.63064, -114.57354, -114.58031, -114.61121, -114.6768, -114.66076, -114.65449, -114.68702, -114.69704, -114.70415, -114.67489, -114.70883, -114.74365, -114.73513, -114.6729, -114.51122, -114.32346, -114.22646, -114.1139, -114.04404, -114.04338, -114.04736, -114.05014, -114.0506, -114.0506, -114.05052, -113.94557, -113.86852, -113.62465, -113.4727, -113.32097, -113.17698, -113.02079, -112.99281, -112.96895, -112.75086, -112.48455, -112.32985, -111.99142, -111.58602, -111.39598, -111.2523, -111.03957, -110.73783, -110.54945, -110.272, -110.13851, -109.83491, -109.43568, -109.26993, -109.04538, -109.04522, -109.04522, -109.04531, -109.04544, -109.04547, -109.04579, -109.04575, -109.04601, -109.04578, -109.04606, -109.04621, -109.04636, -109.04662, -109.04644, -109.04598, -109.04603, -109.04633, -109.04692, -109.047, -109.04691, -109.0474, -109.04762, -109.04764, -109.04811, -109.04905, -109.04911, -109.05004, -109.0587, -109.25062, -109.30069, -109.33682, -109.38186, -109.45105, -109.5287, -109.62562, -109.79302, -109.97582, -110.20503, -110.49327, -110.56918, -110.65415, -110.77828, -110.87564, -110.93778, -110.94286, -110.97553, -111.12565, -111.24082, -111.29191, -111.32558, -111.3574, -111.38483, -111.44337, -111.47861, -111.49725, -111.53479, -111.56975, -111.62412, -111.66, -111.73365, -111.79498, -111.9182, -111.97172, -111.99115, -112.02937, -112.09379, -112.13972, -112.15906, -112.21295, -112.32605, -112.39932, -112.43603, -112.52208, -112.57141, -112.63294, -112.67695, -112.72356, -112.75567, -112.8055, -112.83423, -112.8711, -112.90863, -113.20884, -113.2279, -113.30314, -113.61086, -113.78489, -113.90756, -113.97121, -114.11135, -114.20719, -114.25559, -114.28755, -114.38472, -114.61337, -114.77804, -114.81394, -114.81518, -114.80524, -114.81037, -114.81335, -114.80551, -114.80529, -114.79282, -114.79206, -114.79555, -114.81362, -114.80894, -114.80404, -114.80093, -114.80804, -114.80891, -114.80192, -114.79518, -114.7819, -114.77309, -114.76427, -114.74805, -114.74638, -114.74505, -114.74456, -114.74203, -114.74, -114.73874, -114.73062, -114.72924, -114.72377, -114.71994, -114.71919, -114.69096, -114.63501, -114.58576, -114.46563, -114.48131, -114.62973, -114.68157, -114.72123, -114.61185, -114.5402, -114.49649, -114.52801, -114.51318, -114.49813, -114.4355, -114.35765, -114.26017, -114.14737, -114.29195, -114.38169, -114.44166, -114.48236, -114.56953, -114.63305]\n",
    "az_lats = [34.87057, 35.00186, 35.00332, 35.07971, 35.11791, 35.14231, 35.21811, 35.37012, 35.49125, 35.5417, 35.60517, 35.66942, 35.73579, 35.81412, 35.86436, 35.9167, 35.98542, 36.05493, 36.11546, 36.15058, 36.10119, 36.01461, 36.09833, 36.21464, 36.37619, 36.60322, 36.817, 36.99997, 37.0004, 37.0004, 36.99998, 36.99998, 36.99998, 36.99998, 36.99998, 36.99998, 37.00022, 37.00017, 37.00012, 37.00048, 37.00094, 37.00105, 37.00097, 37.00166, 37.00147, 37.00102, 37.00247, 37.00325, 37.00383, 36.99828, 36.99845, 36.99831, 36.9991, 36.99926, 36.99908, 36.99908, 36.99897, 36.8531, 36.70384, 36.54513, 36.41637, 36.29154, 36.18724, 36.03128, 35.93088, 35.81044, 35.65092, 35.45859, 35.30697, 34.91388, 34.71264, 34.44558, 34.08446, 33.71335, 33.3477, 33.07165, 32.70386, 32.40743, 32.1771, 31.87069, 31.63698, 31.3325, 31.33252, 31.3338, 31.33396, 31.334, 31.33394, 31.33406, 31.33393, 31.33408, 31.33399, 31.33341, 31.33363, 31.33296, 31.33299, 31.33305, 31.33363, 31.33328, 31.33281, 31.33283, 31.33257, 31.34898, 31.38586, 31.40231, 31.41305, 31.42333, 31.43196, 31.45068, 31.46195, 31.4678, 31.47995, 31.49099, 31.50825, 31.51945, 31.54305, 31.56227, 31.6012, 31.61823, 31.62425, 31.63623, 31.65645, 31.67094, 31.67701, 31.69377, 31.72891, 31.75165, 31.76301, 31.78954, 31.80473, 31.82357, 31.83702, 31.8513, 31.86132, 31.87666, 31.88514, 31.89671, 31.90787, 31.99917, 32.0054, 32.02905, 32.12566, 32.17992, 32.21797, 32.2376, 32.28088, 32.31044, 32.32538, 32.33509, 32.36468, 32.43408, 32.48373, 32.49526, 32.50602, 32.50999, 32.51839, 32.52419, 32.53277, 32.54351, 32.55396, 32.56772, 32.56625, 32.56133, 32.57093, 32.58137, 32.5955, 32.60317, 32.61295, 32.6238, 32.62325, 32.6247, 32.63705, 32.65006, 32.66489, 32.66985, 32.67414, 32.6785, 32.68221, 32.68517, 32.68732, 32.6986, 32.70545, 32.71192, 32.71829, 32.71943, 32.73946, 32.73137, 32.73487, 32.87408, 32.97206, 33.03255, 33.23376, 33.39691, 33.47131, 33.58709, 33.6969, 33.84446, 33.91285, 33.96372, 34.04257, 34.12866, 34.17212, 34.31087, 34.41527, 34.47903, 34.64288, 34.71453, 34.79181, 34.86997]\n",
    "co_lons = [-109.04984, -109.06017, -109.06015, -109.05655, -109.05305, -109.05158, -109.05119, -109.05077, -109.05132, -109.05077, -109.05087, -109.05088, -109.05093, -109.05088, -109.05051, -109.04899, -109.04907, -109.05008, -109.03134, -108.83854, -108.6996, -108.59802, -108.46524, -108.25764, -108.10567, -107.91411, -107.75063, -107.55479, -107.35937, -107.27483, -107.12561, -106.9166, -106.59389, -106.32621, -106.06118, -105.82273, -105.60473, -105.46928, -105.2756, -105.07514, -104.86787, -104.58704, -104.24506, -104.0535, -104.05325, -104.05153, -103.90732, -103.61529, -103.46471, -103.30624, -103.00202, -102.88728, -102.76668, -102.55879, -102.38345, -102.23951, -102.12861, -102.05156, -102.05154, -102.05152, -102.05145, -102.05143, -102.05144, -102.05144, -102.0515, -102.0515, -102.05152, -102.05131, -102.05145, -102.05176, -102.05176, -102.05174, -102.05174, -102.05139, -102.0506, -102.04955, -102.04907, -102.04875, -102.04802, -102.04541, -102.04514, -102.04524, -102.04494, -102.04501, -102.04479, -102.04452, -102.04447, -102.04431, -102.04456, -102.04402, -102.04286, -102.04166, -102.04179, -102.04178, -102.04192, -102.04196, -102.04199, -102.0421, -102.04209, -102.04538, -102.05418, -102.07425, -102.09059, -102.17511, -102.19751, -102.24848, -102.26493, -102.29933, -102.34378, -102.35537, -102.40232, -102.49444, -102.52468, -102.57091, -102.62547, -102.68337, -102.7059, -102.77324, -102.81507, -102.86545, -102.89315, -102.9279, -102.97961, -102.98698, -103.00214, -103.0022, -103.01356, -103.26061, -103.53892, -103.92627, -104.17265, -104.49245, -104.76311, -105.15658, -105.50752, -105.6576, -105.93761, -106.15386, -106.4654, -106.61906, -106.73137, -106.89142, -107.00562, -107.25094, -107.4121, -107.49519, -107.8669, -108.20233, -108.52833, -108.7496, -108.8978, -109.04518, -109.04522, -109.04531, -109.04519, -109.04583, -109.04582, -109.04191, -109.04159, -109.04304, -109.04232, -109.0498]\n",
    "co_lats = [38.215, 38.40118, 38.60929, 38.81393, 38.95788, 39.11656, 39.22605, 39.36423, 39.56752, 39.79876, 40.03782, 40.18844, 40.2929, 40.41493, 40.50615, 40.68445, 40.87296, 41.00066, 41.00051, 41.00013, 41.0001, 40.99996, 41.00008, 41.00011, 41.00139, 41.00205, 41.00197, 41.00228, 41.00305, 41.00283, 41.00305, 41.00315, 41.00213, 40.99927, 40.997, 40.99701, 40.99722, 40.99766, 40.99818, 40.9983, 40.99826, 41.00153, 41.00162, 41.00139, 41.00141, 41.00153, 41.00166, 41.0017, 41.00185, 41.00191, 41.00239, 41.00231, 41.00234, 41.00243, 41.00245, 41.00235, 41.00247, 40.97899, 40.9255, 40.87501, 40.82214, 40.75901, 40.71742, 40.69984, 40.65115, 40.61334, 40.55651, 40.48846, 40.31022, 40.1605, 40.01399, 40.00308, 40.00061, 39.87098, 39.67645, 39.53889, 39.40853, 39.33572, 39.24305, 38.84279, 38.66387, 38.59586, 38.52933, 38.47219, 38.41997, 38.30634, 38.26504, 38.17556, 38.05734, 37.94303, 37.80941, 37.68749, 37.49347, 37.45597, 37.3385, 37.22191, 37.10676, 36.99352, 36.99302, 36.99306, 36.99305, 36.99311, 36.99325, 36.99357, 36.99367, 36.9942, 36.99439, 36.99425, 36.99441, 36.99457, 36.99479, 36.99494, 36.99487, 36.99513, 36.99504, 36.9952, 36.99557, 36.99885, 36.99977, 36.99959, 36.99944, 36.99908, 36.99855, 36.99852, 37.0001, 37.0001, 37.00021, 36.99956, 36.99892, 36.99669, 36.99511, 36.99367, 36.9935, 36.99527, 36.99589, 36.99578, 36.99556, 36.99469, 36.99378, 36.99303, 36.99263, 37.00014, 37.00001, 37.00001, 37.0, 37.00001, 37.0, 36.99924, 36.99927, 36.99887, 36.99885, 36.99908, 36.99908, 37.01706, 37.09597, 37.20443, 37.35363, 37.5667, 37.7899, 37.97469, 38.10272, 38.21472]\n",
    "nm_lons = [-103.55583, -104.00265, -104.64165, -105.14679, -105.90075, -106.55721, -106.63119, -106.62216, -106.63325, -106.61103, -106.54568, -106.52834, -106.52861, -106.53181, -106.55963, -106.56993, -106.60042, -106.61408, -106.62967, -106.67613, -106.68194, -106.7505, -106.75874, -106.77057, -106.82052, -106.87555, -106.89949, -106.93928, -106.96546, -106.98754, -106.99317, -106.99823, -106.99882, -107.00056, -107.12556, -107.2773, -107.29766, -107.3093, -107.32402, -107.35469, -107.37629, -107.39716, -107.42244, -107.47074, -107.50261, -107.53069, -107.5835, -107.62497, -107.6266, -107.62774, -107.62988, -107.63241, -107.63786, -107.64356, -107.65173, -107.66987, -107.70084, -107.70821, -107.75058, -107.7889, -107.84105, -107.86238, -107.8711, -107.88551, -107.90473, -107.964, -108.00059, -108.044, -108.05664, -108.07876, -108.08267, -108.1052, -108.15227, -108.17096, -108.1986, -108.20839, -108.20844, -108.20841, -108.2084, -108.20838, -108.20837, -108.2083, -108.20814, -108.20819, -108.20835, -108.20869, -108.20855, -108.20852, -108.20849, -108.20839, -108.20848, -108.20854, -108.20857, -108.36757, -108.38904, -108.44606, -108.47535, -108.53011, -108.61731, -108.65709, -108.70766, -108.71907, -108.72702, -108.73503, -108.73904, -108.7506, -108.75906, -108.82206, -108.86103, -108.88692, -109.00061, -109.05004, -109.05004, -109.04911, -109.04905, -109.04811, -109.04764, -109.04762, -109.0474, -109.04691, -109.047, -109.04692, -109.04633, -109.04603, -109.04598, -109.04644, -109.04662, -109.04636, -109.04621, -109.04606, -109.04578, -109.04601, -109.04575, -109.04579, -109.04547, -109.04544, -109.04531, -109.04522, -109.04522, -109.04518, -108.8978, -108.7496, -108.52833, -108.20233, -107.8669, -107.49519, -107.4121, -107.25094, -107.00562, -106.89142, -106.73137, -106.61906, -106.4654, -106.15386, -105.93761, -105.6576, -105.50752, -105.15658, -104.76311, -104.49245, -104.17265, -103.92627, -103.53892, -103.26061, -103.01356, -103.0022, -103.0022, -103.00232, -103.00232, -103.00228, -103.00227, -103.00224, -103.00223, -103.00218, -103.00206, -103.00213, -103.00215, -103.0021, -103.00214, -103.00218, -103.00237, -103.00218, -103.0023, -103.00226, -103.00223, -103.00226, -103.0023, -103.00233, -103.00233, -103.00228, -103.00228, -103.00245, -103.00243, -103.02394, -103.04133, -103.04249, -103.04239, -103.04283, -103.04312, -103.04338, -103.04362, -103.04374, -103.04376, -103.04993, -103.05727, -103.06464, -103.06478, -103.53275]\n",
    "nm_lats = [32.00032, 32.00001, 32.00041, 32.0005, 32.00198, 32.00076, 31.98981, 31.93601, 31.90997, 31.84661, 31.8054, 31.78318, 31.78328, 31.78391, 31.78394, 31.78395, 31.78399, 31.784, 31.78409, 31.78395, 31.78393, 31.78371, 31.78394, 31.78404, 31.78385, 31.78384, 31.78379, 31.78378, 31.78381, 31.7837, 31.78369, 31.78367, 31.78367, 31.78355, 31.78354, 31.78377, 31.78367, 31.78366, 31.78367, 31.78365, 31.78367, 31.78365, 31.7836, 31.78365, 31.78366, 31.78365, 31.78369, 31.78365, 31.78374, 31.78374, 31.78374, 31.78374, 31.7837, 31.78371, 31.78371, 31.78368, 31.78368, 31.78368, 31.78361, 31.78363, 31.78365, 31.7836, 31.78359, 31.78359, 31.7836, 31.78363, 31.78365, 31.78361, 31.78357, 31.78351, 31.7835, 31.78353, 31.78357, 31.78358, 31.78359, 31.7836, 31.74465, 31.72969, 31.72323, 31.7194, 31.71733, 31.68878, 31.62561, 31.58935, 31.5608, 31.52581, 31.50105, 31.4998, 31.47883, 31.42917, 31.37656, 31.3561, 31.3334, 31.3334, 31.33341, 31.33347, 31.33344, 31.33336, 31.33329, 31.33323, 31.33319, 31.33307, 31.33298, 31.3329, 31.33285, 31.33273, 31.33261, 31.33226, 31.33232, 31.33231, 31.33217, 31.33224, 31.3325, 31.63698, 31.87069, 32.1771, 32.40743, 32.70386, 33.07165, 33.3477, 33.71335, 34.08446, 34.44558, 34.71264, 34.91388, 35.30697, 35.45859, 35.65092, 35.81044, 35.93088, 36.03128, 36.18724, 36.29154, 36.41637, 36.54513, 36.70384, 36.8531, 36.99897, 36.99908, 36.99908, 36.99885, 36.99887, 36.99927, 36.99924, 37.0, 37.00001, 37.0, 37.00001, 37.00001, 37.00014, 36.99263, 36.99303, 36.99378, 36.99469, 36.99556, 36.99578, 36.99589, 36.99527, 36.9935, 36.99367, 36.99511, 36.99669, 36.99892, 36.99956, 37.00021, 37.0001, 37.00006, 36.9686, 36.95031, 36.91582, 36.91402, 36.90243, 36.89755, 36.86996, 36.81735, 36.76898, 36.74295, 36.7193, 36.7013, 36.68525, 36.67653, 36.65329, 36.6278, 36.60265, 36.5919, 36.56927, 36.56386, 36.54875, 36.52963, 36.51475, 36.50609, 36.50046, 36.5004, 36.50042, 35.76515, 35.21202, 35.1362, 34.88888, 34.67259, 34.53564, 34.40999, 34.27181, 34.03983, 33.71754, 33.35051, 33.00011, 32.59516, 32.00034]\n",
    "ut_lons = [-114.04392, -114.04391, -114.04375, -114.04195, -114.04061, -114.04055, -114.0398, -114.04172, -114.0391, -113.80254, -113.64886, -113.49562, -113.36362, -113.20505, -113.10627, -112.96233, -112.83266, -112.78175, -112.68558, -112.58229, -112.45023, -112.26534, -112.1985, -112.10309, -111.98965, -111.9304, -111.88098, -111.82932, -111.73177, -111.51913, -111.4087, -111.26009, -111.14884, -111.04934, -111.04669, -111.04682, -111.04631, -111.04601, -111.0458, -111.04611, -111.04648, -111.04667, -111.04688, -111.04686, -110.94406, -110.86384, -110.70521, -110.55878, -110.43401, -110.34177, -110.25071, -110.14713, -110.0004, -109.90645, -109.75044, -109.67348, -109.63381, -109.51776, -109.43099, -109.30329, -109.05847, -109.05008, -109.04907, -109.04899, -109.05051, -109.05088, -109.05093, -109.05088, -109.05087, -109.05077, -109.05132, -109.05077, -109.05119, -109.05158, -109.05305, -109.05655, -109.06015, -109.06017, -109.04984, -109.0498, -109.04232, -109.04304, -109.04159, -109.04191, -109.04582, -109.04583, -109.04519, -109.04531, -109.04522, -109.04538, -109.26993, -109.43568, -109.83491, -110.13851, -110.272, -110.54945, -110.73783, -111.03957, -111.2523, -111.39598, -111.58602, -111.99142, -112.32985, -112.48455, -112.75086, -112.96895, -112.99281, -113.02079, -113.17698, -113.32097, -113.4727, -113.62465, -113.86852, -113.94557, -114.05052, -114.0506, -114.05187, -114.05264, -114.05198, -114.04939, -114.05013, -114.04997, -114.04992, -114.04916, -114.04833, -114.04885, -114.04841, -114.04779, -114.0473, -114.04757, -114.04727, -114.04658, -114.04644, -114.04619, -114.04558]\n",
    "ut_lats = [40.68928, 40.68985, 40.76026, 41.05548, 41.36, 41.59062, 41.89425, 41.99372, 41.99367, 41.98895, 41.99102, 41.99331, 41.99384, 41.99645, 41.99735, 41.99841, 41.99938, 41.99973, 42.00021, 42.00054, 42.00099, 42.00111, 42.00116, 41.99763, 41.99834, 41.99861, 41.99856, 41.99875, 41.99926, 41.99951, 42.00063, 42.00132, 42.00154, 42.00159, 42.00157, 42.00034, 41.83664, 41.64119, 41.52149, 41.41513, 41.36572, 41.20441, 41.10318, 41.00917, 40.9976, 40.99725, 40.99635, 40.99635, 40.99485, 40.99533, 40.99609, 40.99634, 40.99734, 40.99766, 40.99797, 40.99841, 40.9983, 40.99871, 40.99964, 41.00064, 41.00069, 41.00066, 40.87296, 40.68445, 40.50615, 40.41493, 40.2929, 40.18844, 40.03782, 39.79876, 39.56752, 39.36423, 39.22605, 39.11656, 38.95788, 38.81393, 38.60929, 38.40118, 38.215, 38.21472, 38.10272, 37.97469, 37.7899, 37.5667, 37.35363, 37.20443, 37.09597, 37.01706, 36.99908, 36.99908, 36.99926, 36.9991, 36.99831, 36.99845, 36.99828, 37.00383, 37.00325, 37.00247, 37.00102, 37.00147, 37.00166, 37.00097, 37.00105, 37.00094, 37.00048, 37.00012, 37.00017, 37.00022, 36.99998, 36.99998, 36.99998, 36.99998, 36.99998, 36.99998, 37.0004, 37.0004, 37.13439, 37.47222, 37.70735, 37.77873, 37.95499, 38.20495, 38.55049, 38.75165, 38.90545, 39.08777, 39.23851, 39.36296, 39.45715, 39.61018, 39.75817, 39.99994, 40.09896, 40.30302, 40.4958]"
   ]
  },
  {
   "cell_type": "code",
   "execution_count": 29,
   "metadata": {},
   "outputs": [],
   "source": [
    "# Create a figure : p\n",
    "p = figure(x_axis_label='logitude (degrees)', y_axis_label='latitude (degrees)')\n",
    "\n",
    "# Create a list of az_lons, co_lons, nm_lons and ut_lons: x\n",
    "x = [az_lons, co_lons, nm_lons, ut_lons]\n",
    "\n",
    "# Create a list of az_lats, co_lats, nm_lats and ut_lats: y\n",
    "y = [az_lats, co_lats, nm_lats, ut_lats]\n",
    "\n",
    "# Add patches to figure p with line_color=white for x and y\n",
    "p.patches(x, y, line_color='white')\n",
    "\n",
    "# Specify the name of the output file and show the result\n",
    "output_file('four_corners.html')\n",
    "show(p)"
   ]
  },
  {
   "cell_type": "code",
   "execution_count": 30,
   "metadata": {},
   "outputs": [],
   "source": [
    "from bokeh.io import output_file, show\n",
    "from bokeh.plotting import figure\n",
    "\n",
    "# Flowers is a Pandas DataFrame\n",
    "from bokeh.sampledata.iris import flowers\n",
    "\n",
    "plot = figure()\n",
    "\n",
    "plot.circle(flowers['petal_length'],\n",
    "           flowers['sepal_length'],\n",
    "           size=10)\n",
    "output_file('pandas.html')\n",
    "\n",
    "show(plot)"
   ]
  },
  {
   "cell_type": "code",
   "execution_count": 31,
   "metadata": {},
   "outputs": [],
   "source": [
    "p = figure(x_axis_label='x', y_axis_label='y')\n",
    "\n",
    "# Import numpy as np\n",
    "import numpy as np\n",
    "\n",
    "# Create array using np.linspace: x\n",
    "x = np.linspace(0, 5, 100)\n",
    "\n",
    "# Create array using np.cos: y\n",
    "y = np.cos(x)\n",
    "\n",
    "# Add circles at x and y\n",
    "p.circle(x, y)\n",
    "\n",
    "# Specify the name of the output file and show the result\n",
    "output_file('numpy.html')\n",
    "show(p)"
   ]
  },
  {
   "cell_type": "code",
   "execution_count": 32,
   "metadata": {},
   "outputs": [],
   "source": [
    "# Import pandas as pd\n",
    "import pandas as pd\n",
    "\n",
    "# Read in the CSV file: df\n",
    "df = pd.read_csv('auto.csv')\n",
    "\n",
    "# Import figure from bokeh.plotting\n",
    "from bokeh.plotting import figure\n",
    "\n",
    "# Create the figure: p\n",
    "p = figure(x_axis_label='HP', y_axis_label='MPG')\n",
    "\n",
    "# Plot mpg vs hp by color\n",
    "p.circle(df['hp'], df['mpg'], color=df['color'], alpha=0.4, size=10)\n",
    "\n",
    "# Specify the name of the output file and show the result\n",
    "output_file('auto-df.html')\n",
    "show(p)"
   ]
  },
  {
   "cell_type": "code",
   "execution_count": 33,
   "metadata": {},
   "outputs": [
    {
     "data": {
      "text/html": [
       "<div>\n",
       "<style scoped>\n",
       "    .dataframe tbody tr th:only-of-type {\n",
       "        vertical-align: middle;\n",
       "    }\n",
       "\n",
       "    .dataframe tbody tr th {\n",
       "        vertical-align: top;\n",
       "    }\n",
       "\n",
       "    .dataframe thead th {\n",
       "        text-align: right;\n",
       "    }\n",
       "</style>\n",
       "<table border=\"1\" class=\"dataframe\">\n",
       "  <thead>\n",
       "    <tr style=\"text-align: right;\">\n",
       "      <th></th>\n",
       "      <th>mpg</th>\n",
       "      <th>cyl</th>\n",
       "      <th>displ</th>\n",
       "      <th>hp</th>\n",
       "      <th>weight</th>\n",
       "      <th>accel</th>\n",
       "      <th>yr</th>\n",
       "      <th>origin</th>\n",
       "      <th>name</th>\n",
       "      <th>color</th>\n",
       "      <th>size</th>\n",
       "      <th>marker</th>\n",
       "    </tr>\n",
       "  </thead>\n",
       "  <tbody>\n",
       "    <tr>\n",
       "      <th>0</th>\n",
       "      <td>18.0</td>\n",
       "      <td>6</td>\n",
       "      <td>250.0</td>\n",
       "      <td>88</td>\n",
       "      <td>3139</td>\n",
       "      <td>14.5</td>\n",
       "      <td>71</td>\n",
       "      <td>US</td>\n",
       "      <td>ford mustang</td>\n",
       "      <td>red</td>\n",
       "      <td>27.370336</td>\n",
       "      <td>o</td>\n",
       "    </tr>\n",
       "    <tr>\n",
       "      <th>1</th>\n",
       "      <td>9.0</td>\n",
       "      <td>8</td>\n",
       "      <td>304.0</td>\n",
       "      <td>193</td>\n",
       "      <td>4732</td>\n",
       "      <td>18.5</td>\n",
       "      <td>70</td>\n",
       "      <td>US</td>\n",
       "      <td>hi 1200d</td>\n",
       "      <td>green</td>\n",
       "      <td>62.199511</td>\n",
       "      <td>o</td>\n",
       "    </tr>\n",
       "    <tr>\n",
       "      <th>2</th>\n",
       "      <td>36.1</td>\n",
       "      <td>4</td>\n",
       "      <td>91.0</td>\n",
       "      <td>60</td>\n",
       "      <td>1800</td>\n",
       "      <td>16.4</td>\n",
       "      <td>78</td>\n",
       "      <td>Asia</td>\n",
       "      <td>honda civic cvcc</td>\n",
       "      <td>blue</td>\n",
       "      <td>9.000000</td>\n",
       "      <td>x</td>\n",
       "    </tr>\n",
       "    <tr>\n",
       "      <th>3</th>\n",
       "      <td>18.5</td>\n",
       "      <td>6</td>\n",
       "      <td>250.0</td>\n",
       "      <td>98</td>\n",
       "      <td>3525</td>\n",
       "      <td>19.0</td>\n",
       "      <td>77</td>\n",
       "      <td>US</td>\n",
       "      <td>ford granada</td>\n",
       "      <td>red</td>\n",
       "      <td>34.515625</td>\n",
       "      <td>o</td>\n",
       "    </tr>\n",
       "    <tr>\n",
       "      <th>4</th>\n",
       "      <td>34.3</td>\n",
       "      <td>4</td>\n",
       "      <td>97.0</td>\n",
       "      <td>78</td>\n",
       "      <td>2188</td>\n",
       "      <td>15.8</td>\n",
       "      <td>80</td>\n",
       "      <td>Europe</td>\n",
       "      <td>audi 4000</td>\n",
       "      <td>blue</td>\n",
       "      <td>13.298178</td>\n",
       "      <td>s</td>\n",
       "    </tr>\n",
       "  </tbody>\n",
       "</table>\n",
       "</div>"
      ],
      "text/plain": [
       "    mpg  cyl  displ   hp  weight  accel  yr  origin              name  color  \\\n",
       "0  18.0    6  250.0   88    3139   14.5  71      US      ford mustang    red   \n",
       "1   9.0    8  304.0  193    4732   18.5  70      US          hi 1200d  green   \n",
       "2  36.1    4   91.0   60    1800   16.4  78    Asia  honda civic cvcc   blue   \n",
       "3  18.5    6  250.0   98    3525   19.0  77      US      ford granada    red   \n",
       "4  34.3    4   97.0   78    2188   15.8  80  Europe         audi 4000   blue   \n",
       "\n",
       "        size marker  \n",
       "0  27.370336      o  \n",
       "1  62.199511      o  \n",
       "2   9.000000      x  \n",
       "3  34.515625      o  \n",
       "4  13.298178      s  "
      ]
     },
     "execution_count": 33,
     "metadata": {},
     "output_type": "execute_result"
    }
   ],
   "source": [
    "df.head()"
   ]
  },
  {
   "cell_type": "markdown",
   "metadata": {},
   "source": [
    "# The Bokeh ColumnDataSource\n",
    "The `ColumnDataSource` is a table-like data object that maps string column names to sequences (columns) of data. It is the central and most common data structure in Bokeh.\n",
    "\n",
    "### All columns in a `ColumnDataSource` must have the same length.\n",
    "\n",
    "### Ragged (different length) columns are not permitted within a single `ColumnDataSource`."
   ]
  },
  {
   "cell_type": "code",
   "execution_count": 34,
   "metadata": {},
   "outputs": [
    {
     "data": {
      "text/html": [
       "<div>\n",
       "<style scoped>\n",
       "    .dataframe tbody tr th:only-of-type {\n",
       "        vertical-align: middle;\n",
       "    }\n",
       "\n",
       "    .dataframe tbody tr th {\n",
       "        vertical-align: top;\n",
       "    }\n",
       "\n",
       "    .dataframe thead th {\n",
       "        text-align: right;\n",
       "    }\n",
       "</style>\n",
       "<table border=\"1\" class=\"dataframe\">\n",
       "  <thead>\n",
       "    <tr style=\"text-align: right;\">\n",
       "      <th></th>\n",
       "      <th>Name</th>\n",
       "      <th>Country</th>\n",
       "      <th>Medal</th>\n",
       "      <th>Time</th>\n",
       "      <th>Year</th>\n",
       "      <th>color</th>\n",
       "    </tr>\n",
       "  </thead>\n",
       "  <tbody>\n",
       "    <tr>\n",
       "      <th>0</th>\n",
       "      <td>Usain Bolt</td>\n",
       "      <td>JAM</td>\n",
       "      <td>GOLD</td>\n",
       "      <td>9.63</td>\n",
       "      <td>2012</td>\n",
       "      <td>goldenrod</td>\n",
       "    </tr>\n",
       "    <tr>\n",
       "      <th>1</th>\n",
       "      <td>Yohan Blake</td>\n",
       "      <td>JAM</td>\n",
       "      <td>SILVER</td>\n",
       "      <td>9.75</td>\n",
       "      <td>2012</td>\n",
       "      <td>silver</td>\n",
       "    </tr>\n",
       "    <tr>\n",
       "      <th>2</th>\n",
       "      <td>Justin Gatlin</td>\n",
       "      <td>USA</td>\n",
       "      <td>BRONZE</td>\n",
       "      <td>9.79</td>\n",
       "      <td>2012</td>\n",
       "      <td>saddlebrown</td>\n",
       "    </tr>\n",
       "    <tr>\n",
       "      <th>3</th>\n",
       "      <td>Usain Bolt</td>\n",
       "      <td>JAM</td>\n",
       "      <td>GOLD</td>\n",
       "      <td>9.69</td>\n",
       "      <td>2008</td>\n",
       "      <td>goldenrod</td>\n",
       "    </tr>\n",
       "    <tr>\n",
       "      <th>4</th>\n",
       "      <td>Richard Thompson</td>\n",
       "      <td>TRI</td>\n",
       "      <td>SILVER</td>\n",
       "      <td>9.89</td>\n",
       "      <td>2008</td>\n",
       "      <td>silver</td>\n",
       "    </tr>\n",
       "  </tbody>\n",
       "</table>\n",
       "</div>"
      ],
      "text/plain": [
       "               Name Country   Medal  Time  Year        color\n",
       "0        Usain Bolt     JAM    GOLD  9.63  2012    goldenrod\n",
       "1       Yohan Blake     JAM  SILVER  9.75  2012       silver\n",
       "2     Justin Gatlin     USA  BRONZE  9.79  2012  saddlebrown\n",
       "3        Usain Bolt     JAM    GOLD  9.69  2008    goldenrod\n",
       "4  Richard Thompson     TRI  SILVER  9.89  2008       silver"
      ]
     },
     "execution_count": 34,
     "metadata": {},
     "output_type": "execute_result"
    }
   ],
   "source": [
    "df = pd.read_csv('bokeh_datasets/sprint.csv')\n",
    "df.head()"
   ]
  },
  {
   "cell_type": "code",
   "execution_count": 35,
   "metadata": {},
   "outputs": [],
   "source": [
    "# Import the ColumnDataSource class from bokeh.plotting\n",
    "from bokeh.plotting import ColumnDataSource\n",
    "\n",
    "p = figure(x_axis_label='Year', y_axis_label='Time')\n",
    "\n",
    "# Create a ColumnDataSource from df: source\n",
    "source = ColumnDataSource(df)\n",
    "\n",
    "# Add circle glyphs to the figure p\n",
    "p.circle('Year', 'Time', source=source, color='color', size=8)\n",
    "\n",
    "# Specify the name of the output file and show the result\n",
    "output_file('sprint.html')\n",
    "show(p)"
   ]
  },
  {
   "cell_type": "code",
   "execution_count": 36,
   "metadata": {},
   "outputs": [],
   "source": [
    "# Create a figure with the \"box_select\" tool: p\n",
    "p = figure(x_axis_label='Year', y_axis_label='Time', tools='box_select')\n",
    "\n",
    "source1 = ColumnDataSource(df)\n",
    "\n",
    "# Add circle glyphs to the figure p with the selected and non-selected properties\n",
    "p.circle('Year', 'Time', source=source1, selection_color='red', nonselection_alpha=0.1)\n",
    "\n",
    "# Specify the name of the output file and show the result\n",
    "output_file('selection_glyph.html')\n",
    "show(p)"
   ]
  },
  {
   "cell_type": "code",
   "execution_count": 37,
   "metadata": {},
   "outputs": [
    {
     "data": {
      "text/html": [
       "<div>\n",
       "<style scoped>\n",
       "    .dataframe tbody tr th:only-of-type {\n",
       "        vertical-align: middle;\n",
       "    }\n",
       "\n",
       "    .dataframe tbody tr th {\n",
       "        vertical-align: top;\n",
       "    }\n",
       "\n",
       "    .dataframe thead th {\n",
       "        text-align: right;\n",
       "    }\n",
       "</style>\n",
       "<table border=\"1\" class=\"dataframe\">\n",
       "  <thead>\n",
       "    <tr style=\"text-align: right;\">\n",
       "      <th></th>\n",
       "      <th>datetime</th>\n",
       "      <th>isig</th>\n",
       "      <th>glucose</th>\n",
       "    </tr>\n",
       "  </thead>\n",
       "  <tbody>\n",
       "    <tr>\n",
       "      <th>0</th>\n",
       "      <td>2010-10-07 00:03:00</td>\n",
       "      <td>22.10</td>\n",
       "      <td>150</td>\n",
       "    </tr>\n",
       "    <tr>\n",
       "      <th>1</th>\n",
       "      <td>2010-10-07 00:08:00</td>\n",
       "      <td>21.46</td>\n",
       "      <td>152</td>\n",
       "    </tr>\n",
       "    <tr>\n",
       "      <th>2</th>\n",
       "      <td>2010-10-07 00:13:00</td>\n",
       "      <td>21.06</td>\n",
       "      <td>149</td>\n",
       "    </tr>\n",
       "    <tr>\n",
       "      <th>3</th>\n",
       "      <td>2010-10-07 00:18:00</td>\n",
       "      <td>20.96</td>\n",
       "      <td>147</td>\n",
       "    </tr>\n",
       "    <tr>\n",
       "      <th>4</th>\n",
       "      <td>2010-10-07 00:23:00</td>\n",
       "      <td>21.52</td>\n",
       "      <td>148</td>\n",
       "    </tr>\n",
       "  </tbody>\n",
       "</table>\n",
       "</div>"
      ],
      "text/plain": [
       "              datetime   isig  glucose\n",
       "0  2010-10-07 00:03:00  22.10      150\n",
       "1  2010-10-07 00:08:00  21.46      152\n",
       "2  2010-10-07 00:13:00  21.06      149\n",
       "3  2010-10-07 00:18:00  20.96      147\n",
       "4  2010-10-07 00:23:00  21.52      148"
      ]
     },
     "execution_count": 37,
     "metadata": {},
     "output_type": "execute_result"
    }
   ],
   "source": [
    "gluc = pd.read_csv('bokeh_datasets/glucose.csv')\n",
    "gluc.head()"
   ]
  },
  {
   "cell_type": "code",
   "execution_count": 38,
   "metadata": {},
   "outputs": [
    {
     "data": {
      "text/plain": [
       "[Timestamp('2010-10-07 00:03:00'),\n",
       " Timestamp('2010-10-07 00:08:00'),\n",
       " Timestamp('2010-10-07 00:13:00'),\n",
       " Timestamp('2010-10-07 00:18:00'),\n",
       " Timestamp('2010-10-07 00:23:00'),\n",
       " Timestamp('2010-10-07 00:28:00'),\n",
       " Timestamp('2010-10-07 00:33:00'),\n",
       " Timestamp('2010-10-07 00:38:00'),\n",
       " Timestamp('2010-10-07 00:43:00'),\n",
       " Timestamp('2010-10-07 00:48:00')]"
      ]
     },
     "execution_count": 38,
     "metadata": {},
     "output_type": "execute_result"
    }
   ],
   "source": [
    "gluc['datetime'] = pd.to_datetime(gluc['datetime'])\n",
    "x = gluc['datetime']\n",
    "y = gluc['glucose']\n",
    "x = list(x)\n",
    "y = list(y)\n",
    "x[:10]"
   ]
  },
  {
   "cell_type": "code",
   "execution_count": 39,
   "metadata": {},
   "outputs": [],
   "source": [
    "p = figure(x_axis_label='Time of day', y_axis_label='Blood glucose (mg/dL)')"
   ]
  },
  {
   "cell_type": "code",
   "execution_count": 40,
   "metadata": {},
   "outputs": [],
   "source": [
    "# import the HoverTool\n",
    "from bokeh.models import HoverTool\n",
    "\n",
    "# Add circle glyphs to figure p\n",
    "p.circle(x, y, size=10,\n",
    "         fill_color='grey', alpha=0.1, line_color=None,\n",
    "         hover_fill_color='firebrick', hover_alpha=0.5,\n",
    "         hover_line_color='white')\n",
    "\n",
    "# Create a HoverTool: hover\n",
    "hover = HoverTool(tooltips=None, mode='vline')\n",
    "\n",
    "# Add the hover tool to the figure p\n",
    "p.add_tools(hover)\n",
    "\n",
    "# Specify the name of the output file and show the result\n",
    "output_file('hover_glyph.html')\n",
    "show(p)"
   ]
  },
  {
   "cell_type": "code",
   "execution_count": 41,
   "metadata": {},
   "outputs": [],
   "source": [
    "# Read in the CSV file: df\n",
    "df = pd.read_csv('auto.csv')"
   ]
  },
  {
   "cell_type": "code",
   "execution_count": 42,
   "metadata": {},
   "outputs": [],
   "source": [
    "p = figure(x_axis_label='weight (lbs)', y_axis_label='miles-per-gallon')"
   ]
  },
  {
   "cell_type": "code",
   "execution_count": 43,
   "metadata": {},
   "outputs": [],
   "source": [
    "#Import CategoricalColorMapper from bokeh.models\n",
    "from bokeh.models import CategoricalColorMapper\n",
    "\n",
    "# Convert df to a ColumnDataSource: source\n",
    "source = ColumnDataSource(df)\n",
    "\n",
    "# Make a CategoricalColorMapper object: color_mapper\n",
    "color_mapper = CategoricalColorMapper(factors=['Europe', 'Asia', 'US'],\n",
    "                                      palette=['red', 'green', 'blue'])\n",
    "\n",
    "# Add a circle glyph to the figure p\n",
    "p.circle('weight', 'mpg', source=source,\n",
    "            color=dict(field='origin', transform=color_mapper),\n",
    "            legend='origin')\n",
    "\n",
    "# Specify the name of the output file and show the result\n",
    "output_file('colormap.html')\n",
    "show(p)"
   ]
  },
  {
   "cell_type": "code",
   "execution_count": 44,
   "metadata": {},
   "outputs": [
    {
     "data": {
      "text/html": [
       "<div>\n",
       "<style scoped>\n",
       "    .dataframe tbody tr th:only-of-type {\n",
       "        vertical-align: middle;\n",
       "    }\n",
       "\n",
       "    .dataframe tbody tr th {\n",
       "        vertical-align: top;\n",
       "    }\n",
       "\n",
       "    .dataframe thead th {\n",
       "        text-align: right;\n",
       "    }\n",
       "</style>\n",
       "<table border=\"1\" class=\"dataframe\">\n",
       "  <thead>\n",
       "    <tr style=\"text-align: right;\">\n",
       "      <th></th>\n",
       "      <th>Country</th>\n",
       "      <th>Continent</th>\n",
       "      <th>female literacy</th>\n",
       "      <th>fertility</th>\n",
       "      <th>population</th>\n",
       "    </tr>\n",
       "  </thead>\n",
       "  <tbody>\n",
       "    <tr>\n",
       "      <th>177</th>\n",
       "      <td>Antilles néerlandaises</td>\n",
       "      <td>NaN</td>\n",
       "      <td>96.3</td>\n",
       "      <td>NaN</td>\n",
       "      <td>NaN</td>\n",
       "    </tr>\n",
       "    <tr>\n",
       "      <th>178</th>\n",
       "      <td>Iles Caïmanes</td>\n",
       "      <td>NaN</td>\n",
       "      <td>99</td>\n",
       "      <td>NaN</td>\n",
       "      <td>NaN</td>\n",
       "    </tr>\n",
       "    <tr>\n",
       "      <th>179</th>\n",
       "      <td>Seychelles</td>\n",
       "      <td>NaN</td>\n",
       "      <td>92.3</td>\n",
       "      <td>NaN</td>\n",
       "      <td>NaN</td>\n",
       "    </tr>\n",
       "    <tr>\n",
       "      <th>180</th>\n",
       "      <td>Territoires autonomes palestiniens</td>\n",
       "      <td>NaN</td>\n",
       "      <td>90.9</td>\n",
       "      <td>NaN</td>\n",
       "      <td>NaN</td>\n",
       "    </tr>\n",
       "    <tr>\n",
       "      <th>181</th>\n",
       "      <td>WORLD</td>\n",
       "      <td>WORLD</td>\n",
       "      <td>77</td>\n",
       "      <td>NaN</td>\n",
       "      <td>NaN</td>\n",
       "    </tr>\n",
       "  </tbody>\n",
       "</table>\n",
       "</div>"
      ],
      "text/plain": [
       "                               Country  Continent female literacy fertility  \\\n",
       "177              Antilles néerlandaises       NaN            96.3       NaN   \n",
       "178                       Iles Caïmanes       NaN              99       NaN   \n",
       "179                          Seychelles       NaN            92.3       NaN   \n",
       "180  Territoires autonomes palestiniens       NaN            90.9       NaN   \n",
       "181                               WORLD     WORLD              77       NaN   \n",
       "\n",
       "     population  \n",
       "177         NaN  \n",
       "178         NaN  \n",
       "179         NaN  \n",
       "180         NaN  \n",
       "181         NaN  "
      ]
     },
     "execution_count": 44,
     "metadata": {},
     "output_type": "execute_result"
    }
   ],
   "source": [
    "df = pd.read_csv('bokeh_datasets/literacy_birth_rate.csv')\n",
    "df.tail()"
   ]
  },
  {
   "cell_type": "code",
   "execution_count": 45,
   "metadata": {},
   "outputs": [
    {
     "data": {
      "text/html": [
       "<div>\n",
       "<style scoped>\n",
       "    .dataframe tbody tr th:only-of-type {\n",
       "        vertical-align: middle;\n",
       "    }\n",
       "\n",
       "    .dataframe tbody tr th {\n",
       "        vertical-align: top;\n",
       "    }\n",
       "\n",
       "    .dataframe thead th {\n",
       "        text-align: right;\n",
       "    }\n",
       "</style>\n",
       "<table border=\"1\" class=\"dataframe\">\n",
       "  <thead>\n",
       "    <tr style=\"text-align: right;\">\n",
       "      <th></th>\n",
       "      <th>country</th>\n",
       "      <th>continent</th>\n",
       "      <th>female_literacy</th>\n",
       "      <th>fertility</th>\n",
       "      <th>population</th>\n",
       "    </tr>\n",
       "  </thead>\n",
       "  <tbody>\n",
       "    <tr>\n",
       "      <th>157</th>\n",
       "      <td>Vanuatu</td>\n",
       "      <td>OCE</td>\n",
       "      <td>79.5</td>\n",
       "      <td>3.883</td>\n",
       "      <td>233866.0</td>\n",
       "    </tr>\n",
       "    <tr>\n",
       "      <th>158</th>\n",
       "      <td>Samoa</td>\n",
       "      <td>OCE</td>\n",
       "      <td>98.5</td>\n",
       "      <td>3.852</td>\n",
       "      <td>178869.0</td>\n",
       "    </tr>\n",
       "    <tr>\n",
       "      <th>159</th>\n",
       "      <td>Sao Tomé-et-Principe</td>\n",
       "      <td>AF</td>\n",
       "      <td>83.3</td>\n",
       "      <td>3.718</td>\n",
       "      <td>160174.0</td>\n",
       "    </tr>\n",
       "    <tr>\n",
       "      <th>160</th>\n",
       "      <td>Aruba</td>\n",
       "      <td>LAT</td>\n",
       "      <td>98</td>\n",
       "      <td>1.732</td>\n",
       "      <td>105455.0</td>\n",
       "    </tr>\n",
       "    <tr>\n",
       "      <th>161</th>\n",
       "      <td>Tonga</td>\n",
       "      <td>ASI</td>\n",
       "      <td>99.1</td>\n",
       "      <td>3.928</td>\n",
       "      <td>103566.0</td>\n",
       "    </tr>\n",
       "  </tbody>\n",
       "</table>\n",
       "</div>"
      ],
      "text/plain": [
       "                  country continent female_literacy fertility  population\n",
       "157               Vanuatu       OCE            79.5     3.883    233866.0\n",
       "158                 Samoa       OCE            98.5     3.852    178869.0\n",
       "159  Sao Tomé-et-Principe        AF            83.3     3.718    160174.0\n",
       "160                 Aruba       LAT              98     1.732    105455.0\n",
       "161                 Tonga       ASI            99.1     3.928    103566.0"
      ]
     },
     "execution_count": 45,
     "metadata": {},
     "output_type": "execute_result"
    }
   ],
   "source": [
    "df_clean = df.dropna()\n",
    "df_clean.columns = ['country', 'continent', 'female_literacy', 'fertility', 'population']\n",
    "df_clean.tail()"
   ]
  },
  {
   "cell_type": "code",
   "execution_count": 46,
   "metadata": {},
   "outputs": [
    {
     "name": "stderr",
     "output_type": "stream",
     "text": [
      "/anaconda3/lib/python3.6/site-packages/pandas/core/indexing.py:543: SettingWithCopyWarning: \n",
      "A value is trying to be set on a copy of a slice from a DataFrame.\n",
      "Try using .loc[row_indexer,col_indexer] = value instead\n",
      "\n",
      "See the caveats in the documentation: http://pandas.pydata.org/pandas-docs/stable/indexing.html#indexing-view-versus-copy\n",
      "  self.obj[item] = s\n"
     ]
    }
   ],
   "source": [
    "df_clean.loc[:, 'female_literacy'] = pd.to_numeric(df_clean['female_literacy'])"
   ]
  },
  {
   "cell_type": "code",
   "execution_count": 47,
   "metadata": {},
   "outputs": [],
   "source": [
    "df_clean.loc[:, 'fertility'] = pd.to_numeric(df_clean['fertility'])"
   ]
  },
  {
   "cell_type": "code",
   "execution_count": 48,
   "metadata": {},
   "outputs": [
    {
     "name": "stdout",
     "output_type": "stream",
     "text": [
      "<class 'pandas.core.frame.DataFrame'>\n",
      "Int64Index: 162 entries, 0 to 161\n",
      "Data columns (total 5 columns):\n",
      "country            162 non-null object\n",
      "continent          162 non-null object\n",
      "female_literacy    162 non-null float64\n",
      "fertility          162 non-null float64\n",
      "population         162 non-null float64\n",
      "dtypes: float64(3), object(2)\n",
      "memory usage: 7.6+ KB\n"
     ]
    }
   ],
   "source": [
    "df_clean.info()"
   ]
  },
  {
   "cell_type": "code",
   "execution_count": 49,
   "metadata": {},
   "outputs": [],
   "source": [
    "source = ColumnDataSource(df_clean)"
   ]
  },
  {
   "cell_type": "code",
   "execution_count": 50,
   "metadata": {},
   "outputs": [],
   "source": [
    "# Import row from bokeh.layouts\n",
    "from bokeh.layouts import row\n",
    "\n",
    "# Create the first figure: p1\n",
    "p1 = figure(x_axis_label='fertility (children per woman)', y_axis_label='female_literacy (% population)')\n",
    "\n",
    "# Add a circle glyph to p1\n",
    "p1.circle('fertility', 'female_literacy', source=source)\n",
    "\n",
    "# Create the second figure: p2\n",
    "p2 = figure(x_axis_label='population', y_axis_label='female_literacy (% population)')\n",
    "\n",
    "# Add a circle glyph to p2\n",
    "p2.circle('population', 'female_literacy', source=source)\n",
    "\n",
    "# Put p1 and p2 into a horizontal row: layout\n",
    "layout = row(p1, p2)\n",
    "\n",
    "# Specify the name of the output_file and show the result\n",
    "output_file('fert_row.html')\n",
    "show(layout)"
   ]
  },
  {
   "cell_type": "code",
   "execution_count": 51,
   "metadata": {},
   "outputs": [],
   "source": [
    "source1 = ColumnDataSource(df_clean)"
   ]
  },
  {
   "cell_type": "code",
   "execution_count": 52,
   "metadata": {},
   "outputs": [],
   "source": [
    "# Import column from the bokeh.layouts module\n",
    "from bokeh.layouts import column\n",
    "\n",
    "# Create a blank figure: p1\n",
    "p1 = figure(x_axis_label='fertility (children per woman)', y_axis_label='female_literacy (% population)')\n",
    "\n",
    "# Add circle scatter to the figure p1\n",
    "p1.circle('fertility', 'female_literacy', source=source1)\n",
    "\n",
    "# Create a new blank figure: p2\n",
    "p2 = figure(x_axis_label='population', y_axis_label='female_literacy (% population)')\n",
    "\n",
    "# Add circle scatter to the figure p2\n",
    "p2.circle('population', 'female_literacy', source=source1)\n",
    "\n",
    "# Put plots p1 and p2 in a column: layout\n",
    "layout = column(p1, p2)\n",
    "\n",
    "# Specify the name of the output_file and show the result\n",
    "output_file('fert_column.html')\n",
    "show(layout)"
   ]
  },
  {
   "cell_type": "code",
   "execution_count": 53,
   "metadata": {},
   "outputs": [],
   "source": [
    "# Read in the CSV file: df\n",
    "df = pd.read_csv('auto.csv')"
   ]
  },
  {
   "cell_type": "code",
   "execution_count": 54,
   "metadata": {},
   "outputs": [
    {
     "name": "stdout",
     "output_type": "stream",
     "text": [
      "<class 'pandas.core.frame.DataFrame'>\n",
      "RangeIndex: 392 entries, 0 to 391\n",
      "Data columns (total 12 columns):\n",
      "mpg       392 non-null float64\n",
      "cyl       392 non-null int64\n",
      "displ     392 non-null float64\n",
      "hp        392 non-null int64\n",
      "weight    392 non-null int64\n",
      "accel     392 non-null float64\n",
      "yr        392 non-null int64\n",
      "origin    392 non-null object\n",
      "name      392 non-null object\n",
      "color     392 non-null object\n",
      "size      392 non-null float64\n",
      "marker    392 non-null object\n",
      "dtypes: float64(4), int64(4), object(4)\n",
      "memory usage: 36.8+ KB\n"
     ]
    }
   ],
   "source": [
    "df.info()"
   ]
  },
  {
   "cell_type": "code",
   "execution_count": 55,
   "metadata": {},
   "outputs": [],
   "source": [
    "source = ColumnDataSource(df)"
   ]
  },
  {
   "cell_type": "code",
   "execution_count": 56,
   "metadata": {},
   "outputs": [
    {
     "data": {
      "text/html": [
       "<div style=\"display: table;\"><div style=\"display: table-row;\"><div style=\"display: table-cell;\"><b title=\"bokeh.models.renderers.GlyphRenderer\">GlyphRenderer</b>(</div><div style=\"display: table-cell;\">id&nbsp;=&nbsp;'3257', <span id=\"3260\" style=\"cursor: pointer;\">&hellip;)</span></div></div><div class=\"3259\" style=\"display: none;\"><div style=\"display: table-cell;\"></div><div style=\"display: table-cell;\">data_source&nbsp;=&nbsp;ColumnDataSource(id='3141', ...),</div></div><div class=\"3259\" style=\"display: none;\"><div style=\"display: table-cell;\"></div><div style=\"display: table-cell;\">glyph&nbsp;=&nbsp;Circle(id='3255', ...),</div></div><div class=\"3259\" style=\"display: none;\"><div style=\"display: table-cell;\"></div><div style=\"display: table-cell;\">hover_glyph&nbsp;=&nbsp;None,</div></div><div class=\"3259\" style=\"display: none;\"><div style=\"display: table-cell;\"></div><div style=\"display: table-cell;\">js_event_callbacks&nbsp;=&nbsp;{},</div></div><div class=\"3259\" style=\"display: none;\"><div style=\"display: table-cell;\"></div><div style=\"display: table-cell;\">js_property_callbacks&nbsp;=&nbsp;{},</div></div><div class=\"3259\" style=\"display: none;\"><div style=\"display: table-cell;\"></div><div style=\"display: table-cell;\">level&nbsp;=&nbsp;'glyph',</div></div><div class=\"3259\" style=\"display: none;\"><div style=\"display: table-cell;\"></div><div style=\"display: table-cell;\">muted&nbsp;=&nbsp;False,</div></div><div class=\"3259\" style=\"display: none;\"><div style=\"display: table-cell;\"></div><div style=\"display: table-cell;\">muted_glyph&nbsp;=&nbsp;None,</div></div><div class=\"3259\" style=\"display: none;\"><div style=\"display: table-cell;\"></div><div style=\"display: table-cell;\">name&nbsp;=&nbsp;None,</div></div><div class=\"3259\" style=\"display: none;\"><div style=\"display: table-cell;\"></div><div style=\"display: table-cell;\">nonselection_glyph&nbsp;=&nbsp;Circle(id='3256', ...),</div></div><div class=\"3259\" style=\"display: none;\"><div style=\"display: table-cell;\"></div><div style=\"display: table-cell;\">selection_glyph&nbsp;=&nbsp;None,</div></div><div class=\"3259\" style=\"display: none;\"><div style=\"display: table-cell;\"></div><div style=\"display: table-cell;\">subscribed_events&nbsp;=&nbsp;[],</div></div><div class=\"3259\" style=\"display: none;\"><div style=\"display: table-cell;\"></div><div style=\"display: table-cell;\">tags&nbsp;=&nbsp;[],</div></div><div class=\"3259\" style=\"display: none;\"><div style=\"display: table-cell;\"></div><div style=\"display: table-cell;\">view&nbsp;=&nbsp;CDSView(id='3258', ...),</div></div><div class=\"3259\" style=\"display: none;\"><div style=\"display: table-cell;\"></div><div style=\"display: table-cell;\">visible&nbsp;=&nbsp;True,</div></div><div class=\"3259\" style=\"display: none;\"><div style=\"display: table-cell;\"></div><div style=\"display: table-cell;\">x_range_name&nbsp;=&nbsp;'default',</div></div><div class=\"3259\" style=\"display: none;\"><div style=\"display: table-cell;\"></div><div style=\"display: table-cell;\">y_range_name&nbsp;=&nbsp;'default')</div></div></div>\n",
       "<script>\n",
       "(function() {\n",
       "  var expanded = false;\n",
       "  var ellipsis = document.getElementById(\"3260\");\n",
       "  ellipsis.addEventListener(\"click\", function() {\n",
       "    var rows = document.getElementsByClassName(\"3259\");\n",
       "    for (var i = 0; i < rows.length; i++) {\n",
       "      var el = rows[i];\n",
       "      el.style.display = expanded ? \"none\" : \"table-row\";\n",
       "    }\n",
       "    ellipsis.innerHTML = expanded ? \"&hellip;)\" : \"&lsaquo;&lsaquo;&lsaquo;\";\n",
       "    expanded = !expanded;\n",
       "  });\n",
       "})();\n",
       "</script>\n"
      ],
      "text/plain": [
       "GlyphRenderer(id='3257', ...)"
      ]
     },
     "execution_count": 56,
     "metadata": {},
     "output_type": "execute_result"
    }
   ],
   "source": [
    "mpg_hp = figure(x_axis_label='mpg', y_axis_label='hp')\n",
    "mpg_hp.circle('mpg', 'hp', source=source)\n",
    "\n",
    "mpg_weight = figure(x_axis_label='mpg', y_axis_label='weight')\n",
    "mpg_weight.circle('mpg', 'weight', source=source)\n",
    "\n",
    "avg_mpg = figure(x_axis_label='mpg', y_axis_label='number of cylinders')\n",
    "avg_mpg.circle('mpg', 'cyl', source=source)"
   ]
  },
  {
   "cell_type": "code",
   "execution_count": 57,
   "metadata": {},
   "outputs": [],
   "source": [
    "# Import column and row from bokeh.layouts\n",
    "from bokeh.layouts import column, row\n",
    "\n",
    "# Make a column layout that will be used as the second row: row2\n",
    "row2 = column([mpg_hp, mpg_weight], sizing_mode='scale_width')\n",
    "\n",
    "# Make a row layout that includes the above column layout: layout\n",
    "layout = row([avg_mpg, row2], sizing_mode='scale_width')\n",
    "\n",
    "# Specify the name of the output_file and show the result\n",
    "output_file('layout_custom.html')\n",
    "show(layout)"
   ]
  },
  {
   "cell_type": "code",
   "execution_count": 58,
   "metadata": {},
   "outputs": [],
   "source": [
    "source3 = ColumnDataSource(df)\n",
    "\n",
    "mpg_hp = figure(x_axis_label='mpg', y_axis_label='hp')\n",
    "mpg_hp.circle('mpg', 'hp', source=source3)\n",
    "\n",
    "mpg_weight = figure(x_axis_label='mpg', y_axis_label='weight')\n",
    "mpg_weight.circle('mpg', 'weight', source=source3)\n",
    "\n",
    "avg_mpg = figure(x_axis_label='mpg', y_axis_label='number of cylinders')\n",
    "avg_mpg.circle('mpg', 'cyl', source=source3)\n",
    "\n",
    "# Import gridplot from bokeh.layouts\n",
    "from bokeh.layouts import gridplot\n",
    "\n",
    "# Create a list containing plots p1 and p2: row1\n",
    "row1 = [None, mpg_hp]\n",
    "\n",
    "# Create a list containing plots p3 and p4: row2\n",
    "row2 = [mpg_weight, avg_mpg]\n",
    "\n",
    "# Create a gridplot using row1 and row2: layout\n",
    "layout = gridplot([row1, row2])\n",
    "\n",
    "# Specify the name of the output_file and show the result\n",
    "output_file('grid.html')\n",
    "show(layout)"
   ]
  },
  {
   "cell_type": "code",
   "execution_count": 59,
   "metadata": {},
   "outputs": [
    {
     "data": {
      "text/html": [
       "<div>\n",
       "<style scoped>\n",
       "    .dataframe tbody tr th:only-of-type {\n",
       "        vertical-align: middle;\n",
       "    }\n",
       "\n",
       "    .dataframe tbody tr th {\n",
       "        vertical-align: top;\n",
       "    }\n",
       "\n",
       "    .dataframe thead th {\n",
       "        text-align: right;\n",
       "    }\n",
       "</style>\n",
       "<table border=\"1\" class=\"dataframe\">\n",
       "  <thead>\n",
       "    <tr style=\"text-align: right;\">\n",
       "      <th></th>\n",
       "      <th>country</th>\n",
       "      <th>continent</th>\n",
       "      <th>female_literacy</th>\n",
       "      <th>fertility</th>\n",
       "      <th>population</th>\n",
       "    </tr>\n",
       "  </thead>\n",
       "  <tbody>\n",
       "    <tr>\n",
       "      <th>0</th>\n",
       "      <td>Chine</td>\n",
       "      <td>ASI</td>\n",
       "      <td>90.5</td>\n",
       "      <td>1.769</td>\n",
       "      <td>1.324655e+09</td>\n",
       "    </tr>\n",
       "    <tr>\n",
       "      <th>1</th>\n",
       "      <td>Inde</td>\n",
       "      <td>ASI</td>\n",
       "      <td>50.8</td>\n",
       "      <td>2.682</td>\n",
       "      <td>1.139965e+09</td>\n",
       "    </tr>\n",
       "    <tr>\n",
       "      <th>2</th>\n",
       "      <td>USA</td>\n",
       "      <td>NAM</td>\n",
       "      <td>99.0</td>\n",
       "      <td>2.077</td>\n",
       "      <td>3.040600e+08</td>\n",
       "    </tr>\n",
       "    <tr>\n",
       "      <th>3</th>\n",
       "      <td>Indonésie</td>\n",
       "      <td>ASI</td>\n",
       "      <td>88.8</td>\n",
       "      <td>2.132</td>\n",
       "      <td>2.273451e+08</td>\n",
       "    </tr>\n",
       "    <tr>\n",
       "      <th>4</th>\n",
       "      <td>Brésil</td>\n",
       "      <td>LAT</td>\n",
       "      <td>90.2</td>\n",
       "      <td>1.827</td>\n",
       "      <td>1.919715e+08</td>\n",
       "    </tr>\n",
       "  </tbody>\n",
       "</table>\n",
       "</div>"
      ],
      "text/plain": [
       "     country continent  female_literacy  fertility    population\n",
       "0      Chine       ASI             90.5      1.769  1.324655e+09\n",
       "1       Inde       ASI             50.8      2.682  1.139965e+09\n",
       "2        USA       NAM             99.0      2.077  3.040600e+08\n",
       "3  Indonésie       ASI             88.8      2.132  2.273451e+08\n",
       "4     Brésil       LAT             90.2      1.827  1.919715e+08"
      ]
     },
     "execution_count": 59,
     "metadata": {},
     "output_type": "execute_result"
    }
   ],
   "source": [
    "df_clean.head()"
   ]
  },
  {
   "cell_type": "code",
   "execution_count": 60,
   "metadata": {},
   "outputs": [
    {
     "data": {
      "text/plain": [
       "array(['ASI', 'NAM', 'LAT', 'AF', 'EUR', 'OCE'], dtype=object)"
      ]
     },
     "execution_count": 60,
     "metadata": {},
     "output_type": "execute_result"
    }
   ],
   "source": [
    "df_clean['continent'].unique()"
   ]
  },
  {
   "cell_type": "code",
   "execution_count": 61,
   "metadata": {},
   "outputs": [],
   "source": [
    "df1 = df_clean[df_clean['continent'] == 'LAT']"
   ]
  },
  {
   "cell_type": "code",
   "execution_count": 62,
   "metadata": {},
   "outputs": [],
   "source": [
    "df2 = df_clean[df_clean['continent'] == 'AF']\n",
    "df3 = df_clean[df_clean['continent'] == 'ASI']\n",
    "df4 = df_clean[df_clean['continent'] == 'EUR']"
   ]
  },
  {
   "cell_type": "code",
   "execution_count": 63,
   "metadata": {},
   "outputs": [],
   "source": [
    "source4 = ColumnDataSource(df_clean)\n",
    "source5 = ColumnDataSource(df1)\n",
    "source6 = ColumnDataSource(df2)\n",
    "source7 = ColumnDataSource(df3)\n",
    "source8 = ColumnDataSource(df4)"
   ]
  },
  {
   "cell_type": "code",
   "execution_count": 64,
   "metadata": {},
   "outputs": [
    {
     "data": {
      "text/html": [
       "<div style=\"display: table;\"><div style=\"display: table-row;\"><div style=\"display: table-cell;\"><b title=\"bokeh.models.renderers.GlyphRenderer\">GlyphRenderer</b>(</div><div style=\"display: table-cell;\">id&nbsp;=&nbsp;'3955', <span id=\"3958\" style=\"cursor: pointer;\">&hellip;)</span></div></div><div class=\"3957\" style=\"display: none;\"><div style=\"display: table-cell;\"></div><div style=\"display: table-cell;\">data_source&nbsp;=&nbsp;ColumnDataSource(id='3800', ...),</div></div><div class=\"3957\" style=\"display: none;\"><div style=\"display: table-cell;\"></div><div style=\"display: table-cell;\">glyph&nbsp;=&nbsp;Circle(id='3953', ...),</div></div><div class=\"3957\" style=\"display: none;\"><div style=\"display: table-cell;\"></div><div style=\"display: table-cell;\">hover_glyph&nbsp;=&nbsp;None,</div></div><div class=\"3957\" style=\"display: none;\"><div style=\"display: table-cell;\"></div><div style=\"display: table-cell;\">js_event_callbacks&nbsp;=&nbsp;{},</div></div><div class=\"3957\" style=\"display: none;\"><div style=\"display: table-cell;\"></div><div style=\"display: table-cell;\">js_property_callbacks&nbsp;=&nbsp;{},</div></div><div class=\"3957\" style=\"display: none;\"><div style=\"display: table-cell;\"></div><div style=\"display: table-cell;\">level&nbsp;=&nbsp;'glyph',</div></div><div class=\"3957\" style=\"display: none;\"><div style=\"display: table-cell;\"></div><div style=\"display: table-cell;\">muted&nbsp;=&nbsp;False,</div></div><div class=\"3957\" style=\"display: none;\"><div style=\"display: table-cell;\"></div><div style=\"display: table-cell;\">muted_glyph&nbsp;=&nbsp;None,</div></div><div class=\"3957\" style=\"display: none;\"><div style=\"display: table-cell;\"></div><div style=\"display: table-cell;\">name&nbsp;=&nbsp;None,</div></div><div class=\"3957\" style=\"display: none;\"><div style=\"display: table-cell;\"></div><div style=\"display: table-cell;\">nonselection_glyph&nbsp;=&nbsp;Circle(id='3954', ...),</div></div><div class=\"3957\" style=\"display: none;\"><div style=\"display: table-cell;\"></div><div style=\"display: table-cell;\">selection_glyph&nbsp;=&nbsp;None,</div></div><div class=\"3957\" style=\"display: none;\"><div style=\"display: table-cell;\"></div><div style=\"display: table-cell;\">subscribed_events&nbsp;=&nbsp;[],</div></div><div class=\"3957\" style=\"display: none;\"><div style=\"display: table-cell;\"></div><div style=\"display: table-cell;\">tags&nbsp;=&nbsp;[],</div></div><div class=\"3957\" style=\"display: none;\"><div style=\"display: table-cell;\"></div><div style=\"display: table-cell;\">view&nbsp;=&nbsp;CDSView(id='3956', ...),</div></div><div class=\"3957\" style=\"display: none;\"><div style=\"display: table-cell;\"></div><div style=\"display: table-cell;\">visible&nbsp;=&nbsp;True,</div></div><div class=\"3957\" style=\"display: none;\"><div style=\"display: table-cell;\"></div><div style=\"display: table-cell;\">x_range_name&nbsp;=&nbsp;'default',</div></div><div class=\"3957\" style=\"display: none;\"><div style=\"display: table-cell;\"></div><div style=\"display: table-cell;\">y_range_name&nbsp;=&nbsp;'default')</div></div></div>\n",
       "<script>\n",
       "(function() {\n",
       "  var expanded = false;\n",
       "  var ellipsis = document.getElementById(\"3958\");\n",
       "  ellipsis.addEventListener(\"click\", function() {\n",
       "    var rows = document.getElementsByClassName(\"3957\");\n",
       "    for (var i = 0; i < rows.length; i++) {\n",
       "      var el = rows[i];\n",
       "      el.style.display = expanded ? \"none\" : \"table-row\";\n",
       "    }\n",
       "    ellipsis.innerHTML = expanded ? \"&hellip;)\" : \"&lsaquo;&lsaquo;&lsaquo;\";\n",
       "    expanded = !expanded;\n",
       "  });\n",
       "})();\n",
       "</script>\n"
      ],
      "text/plain": [
       "GlyphRenderer(id='3955', ...)"
      ]
     },
     "execution_count": 64,
     "metadata": {},
     "output_type": "execute_result"
    }
   ],
   "source": [
    "p1 = figure(x_axis_label='fertility (children per woman)', y_axis_label='female literacy (% population)')\n",
    "p1.circle('fertility', 'female_literacy', source=source5)\n",
    "\n",
    "p2 = figure(x_axis_label='fertility (children per woman)', y_axis_label='female literacy (% population)')\n",
    "p2.circle('fertility', 'female_literacy', source=source6)\n",
    "\n",
    "p3 = figure(x_axis_label='fertility (children per woman)', y_axis_label='female literacy (% population)')\n",
    "p3.circle('fertility', 'female_literacy', source=source7)\n",
    "\n",
    "\n",
    "p4 = figure(x_axis_label='fertility (children per woman)', y_axis_label='female literacy (% population)')\n",
    "p4.circle('fertility', 'female_literacy', source=source8)"
   ]
  },
  {
   "cell_type": "code",
   "execution_count": 65,
   "metadata": {},
   "outputs": [],
   "source": [
    " # Import Panel from bokeh.models.widgets\n",
    "from bokeh.models.widgets import Panel\n",
    "\n",
    "# Create tab1 from plot p1: tab1\n",
    "tab1 = Panel(child=p1, title='Latin America')\n",
    "\n",
    "# Create tab2 from plot p2: tab2\n",
    "tab2 = Panel(child=p2, title='Africa')\n",
    "\n",
    "# Create tab3 from plot p3: tab3\n",
    "tab3 = Panel(child=p3, title='Asia')\n",
    "\n",
    "# Create tab4 from plot p4: tab4\n",
    "tab4 = Panel(child=p4, title='Europe')"
   ]
  },
  {
   "cell_type": "code",
   "execution_count": 66,
   "metadata": {},
   "outputs": [],
   "source": [
    "# Import Tabs from bokeh.models.widgets\n",
    "from bokeh.models.widgets import Tabs\n",
    "\n",
    "# Create a Tabs layout: layout\n",
    "layout = Tabs(tabs=[tab1, tab2, tab3, tab4])\n",
    "\n",
    "# Specify the name of the output_file and show the result\n",
    "output_file('tabs.html')\n",
    "show(layout)"
   ]
  },
  {
   "cell_type": "code",
   "execution_count": 67,
   "metadata": {},
   "outputs": [],
   "source": [
    " # Link the x_range of p2 to p1: p2.x_range\n",
    "p2.x_range = p1.x_range\n",
    "\n",
    "# Link the y_range of p2 to p1: p2.y_range\n",
    "p2.y_range = p1.y_range\n",
    "\n",
    "# Link the x_range of p3 to p1: p3.x_range\n",
    "p3.x_range = p1.x_range\n",
    "\n",
    "# Link the y_range of p4 to p1: p4.y_range\n",
    "p4.y_range = p1.y_range\n",
    "\n",
    "# Specify the name of the output_file and show the result\n",
    "output_file('linked_range.html')\n",
    "show(layout)"
   ]
  },
  {
   "cell_type": "code",
   "execution_count": 68,
   "metadata": {},
   "outputs": [
    {
     "data": {
      "text/html": [
       "<div>\n",
       "<style scoped>\n",
       "    .dataframe tbody tr th:only-of-type {\n",
       "        vertical-align: middle;\n",
       "    }\n",
       "\n",
       "    .dataframe tbody tr th {\n",
       "        vertical-align: top;\n",
       "    }\n",
       "\n",
       "    .dataframe thead th {\n",
       "        text-align: right;\n",
       "    }\n",
       "</style>\n",
       "<table border=\"1\" class=\"dataframe\">\n",
       "  <thead>\n",
       "    <tr style=\"text-align: right;\">\n",
       "      <th></th>\n",
       "      <th>country</th>\n",
       "      <th>continent</th>\n",
       "      <th>female_literacy</th>\n",
       "      <th>fertility</th>\n",
       "      <th>population</th>\n",
       "    </tr>\n",
       "  </thead>\n",
       "  <tbody>\n",
       "    <tr>\n",
       "      <th>0</th>\n",
       "      <td>Chine</td>\n",
       "      <td>ASI</td>\n",
       "      <td>90.5</td>\n",
       "      <td>1.769</td>\n",
       "      <td>1.324655e+09</td>\n",
       "    </tr>\n",
       "    <tr>\n",
       "      <th>1</th>\n",
       "      <td>Inde</td>\n",
       "      <td>ASI</td>\n",
       "      <td>50.8</td>\n",
       "      <td>2.682</td>\n",
       "      <td>1.139965e+09</td>\n",
       "    </tr>\n",
       "    <tr>\n",
       "      <th>2</th>\n",
       "      <td>USA</td>\n",
       "      <td>NAM</td>\n",
       "      <td>99.0</td>\n",
       "      <td>2.077</td>\n",
       "      <td>3.040600e+08</td>\n",
       "    </tr>\n",
       "    <tr>\n",
       "      <th>3</th>\n",
       "      <td>Indonésie</td>\n",
       "      <td>ASI</td>\n",
       "      <td>88.8</td>\n",
       "      <td>2.132</td>\n",
       "      <td>2.273451e+08</td>\n",
       "    </tr>\n",
       "    <tr>\n",
       "      <th>4</th>\n",
       "      <td>Brésil</td>\n",
       "      <td>LAT</td>\n",
       "      <td>90.2</td>\n",
       "      <td>1.827</td>\n",
       "      <td>1.919715e+08</td>\n",
       "    </tr>\n",
       "  </tbody>\n",
       "</table>\n",
       "</div>"
      ],
      "text/plain": [
       "     country continent  female_literacy  fertility    population\n",
       "0      Chine       ASI             90.5      1.769  1.324655e+09\n",
       "1       Inde       ASI             50.8      2.682  1.139965e+09\n",
       "2        USA       NAM             99.0      2.077  3.040600e+08\n",
       "3  Indonésie       ASI             88.8      2.132  2.273451e+08\n",
       "4     Brésil       LAT             90.2      1.827  1.919715e+08"
      ]
     },
     "execution_count": 68,
     "metadata": {},
     "output_type": "execute_result"
    }
   ],
   "source": [
    "df_clean.head()"
   ]
  },
  {
   "cell_type": "code",
   "execution_count": 69,
   "metadata": {},
   "outputs": [],
   "source": [
    "data = df_clean"
   ]
  },
  {
   "cell_type": "code",
   "execution_count": 70,
   "metadata": {},
   "outputs": [],
   "source": [
    "# Create ColumnDataSource: source\n",
    "source = ColumnDataSource(data)\n",
    "\n",
    "# Create the first figure: p1\n",
    "p1 = figure(x_axis_label='fertility (children per woman)', y_axis_label='female literacy (% population)',\n",
    "            tools='box_select,lasso_select')\n",
    "\n",
    "# Add a circle glyph to p1\n",
    "p1.circle('fertility', 'female_literacy', source=source)\n",
    "\n",
    "# Create the second figure: p2\n",
    "p2 = figure(x_axis_label='fertility (children per woman)', y_axis_label='population (millions)',\n",
    "            tools='box_select,lasso_select')\n",
    "\n",
    "# Add a circle glyph to p2\n",
    "p2.circle('fertility', 'population', source=source)\n",
    "\n",
    "# Create row layout of figures p1 and p2: layout\n",
    "layout = row([p1, p2])\n",
    "\n",
    "# Specify the name of the output_file and show the result\n",
    "output_file('linked_brush.html')\n",
    "show(layout)"
   ]
  },
  {
   "cell_type": "code",
   "execution_count": 71,
   "metadata": {},
   "outputs": [],
   "source": [
    "africa = ColumnDataSource(df2)\n",
    "latin_america = ColumnDataSource(df1)"
   ]
  },
  {
   "cell_type": "code",
   "execution_count": 72,
   "metadata": {},
   "outputs": [],
   "source": [
    "# Import HoverTool from bokeh.models\n",
    "from bokeh.models import HoverTool\n",
    "\n",
    "# Create a HoverTool object: hover\n",
    "hover = HoverTool(tooltips=[('Country','@country')])\n",
    "\n",
    "p = figure(x_axis_label='fertility', y_axis_label='female_literacy') \n",
    "    \n",
    "# Add the first circle glyph to the figure p\n",
    "p.circle('fertility', 'female_literacy', source=latin_america, size=10, color='red', legend='Latin America')\n",
    "\n",
    "# Add the second circle glyph to the figure p\n",
    "p.circle('fertility', 'female_literacy', source=africa, size=10, color='blue', legend='Africa')\n",
    "\n",
    "# Assign the legend to the bottom left: p.legend.location\n",
    "p.legend.location = 'bottom_left'\n",
    "\n",
    "# Fill the legend background with the color 'lightgray': p.legend.background_fill_color\n",
    "p.legend.background_fill_color = 'lightgray'\n",
    "\n",
    "# Add the HoverTool object to figure p\n",
    "p.add_tools(hover)\n",
    "\n",
    "# Specify the name of the output_file and show the result\n",
    "output_file('hover.html')\n",
    "show(p)"
   ]
  },
  {
   "cell_type": "markdown",
   "metadata": {},
   "source": [
    "# Bokeh Serve Example\n",
    "\n",
    "```python\n",
    "# Perform the necessary imports\n",
    "from bokeh.io import curdoc\n",
    "from bokeh.layouts import widgetbox\n",
    "from bokeh.models import Slider\n",
    "\n",
    "# Create a slider: slider\n",
    "slider = Slider(title='my slider', start=0, end=10, step=0.1, value=2)\n",
    "\n",
    "# Create a widgetbox layout: layout\n",
    "layout = widgetbox(slider)\n",
    "\n",
    "# Add the layout to the current document\n",
    "curdoc().add_root(layout)\n",
    "```"
   ]
  },
  {
   "cell_type": "markdown",
   "metadata": {},
   "source": [
    "# A slider example\n",
    "```python\n",
    "from bokeh.io import curdoc\n",
    "from bokeh.layouts import column\n",
    "from bokeh.models import ColumnDataSource, Slider\n",
    "from bokeh.plotting import figure\n",
    "from numpy.random import random\n",
    "\n",
    "N = 300\n",
    "source = ColumnDataSource(data={'x': random(N), 'y': random(N)})\n",
    "\n",
    "plot = figure()\n",
    "plot.circle(x='x', y='y', source=source)\n",
    "\n",
    "slider = Slider(start=100, end=1000, value=N, step=10, title='Number of points')\n",
    "\n",
    "def callback(attr, old, new):\n",
    "    N = slider.value\n",
    "    source.data={'x': random(N), 'y': random(N)}\n",
    "slider.on_change('value', callback)\n",
    "\n",
    "layout = column(slider, plot)\n",
    "\n",
    "curdoc().add_root(layout)\n",
    "```"
   ]
  },
  {
   "cell_type": "markdown",
   "metadata": {},
   "source": [
    "# A Select Example\n",
    "\n",
    "```python\n",
    "from bokeh.io import curdoc\n",
    "from bokeh.layouts import column\n",
    "from bokeh.models import ColumnDataSource, Select\n",
    "from bokeh.plotting import figure\n",
    "from numpy.random import random, normal, lognormal\n",
    "\n",
    "N = 1000\n",
    "\n",
    "source = ColumnDataSource(data={'x': random(N), 'y': random(N)})\n",
    "\n",
    "plot = figure()\n",
    "plot.circle(x='x', y='y', source=source)\n",
    "\n",
    "menu = Select(options=['uniform', 'normal', 'lognormal'], value='uniform', title='Distribution')\n",
    "\n",
    "def callback(attr, old, new):\n",
    "    if menu.value == 'uniform':\n",
    "        f = random\n",
    "    elif menu.value == 'normal':\n",
    "        f = normal\n",
    "    else:\n",
    "        f = lognormal\n",
    "    source.data{'x': f(size=N), 'y': f(size=N)}\n",
    "    \n",
    "menu.on_change('value', callback)\n",
    "\n",
    "layout = column(menu, plot)\n",
    "\n",
    "curdoc().add_root(layout)\n",
    "```"
   ]
  },
  {
   "cell_type": "markdown",
   "metadata": {},
   "source": [
    "# A Select Example 2\n",
    "\n",
    "```python\n",
    "import pandas as pd\n",
    "\n",
    "# Clean the literacy birthrate dataset\n",
    "df = pd.read_csv('./literacy_birth_rate.csv')\n",
    "df_clean = df.dropna()\n",
    "df_clean.columns = ['country', 'continent', 'female_literacy', 'fertility', 'population']\n",
    "\n",
    "df_clean.loc[:, 'female_literacy'] = pd.to_numeric(df_clean['female_literacy'])\n",
    "df_clean.loc[:, 'fertility'] = pd.to_numeric(df_clean['fertility'])\n",
    "\n",
    "# Define pandas series for data selection\n",
    "fertility = df_clean['fertility']\n",
    "female_literacy = df_clean['female_literacy']\n",
    "population = df_clean['population']\n",
    "\n",
    "from bokeh.io import curdoc\n",
    "from bokeh.layouts import row\n",
    "from bokeh.models import ColumnDataSource, Select\n",
    "from bokeh.plotting import figure\n",
    "\n",
    "# Create ColumnDataSource: source\n",
    "source = ColumnDataSource(data={\n",
    "                          'x' : fertility,\n",
    "                          'y' : female_literacy\n",
    "                          })\n",
    "\n",
    "# Create a new plot: plot\n",
    "plot = figure()\n",
    "\n",
    "# Add circles to the plot\n",
    "plot.circle('x', 'y', source=source)\n",
    "\n",
    "# Define a callback function: update_plot\n",
    "def update_plot(attr, old, new):\n",
    "    # If the new Selection is 'female_literacy', update 'y' to female_literacy\n",
    "    if new == 'female_literacy':\n",
    "        source.data = {\n",
    "            'x' : fertility,\n",
    "            'y' : female_literacy\n",
    "    }\n",
    "    # Else, update 'y' to population\n",
    "    else:\n",
    "        source.data = {\n",
    "            'x' : fertility,\n",
    "            'y' : population\n",
    "    }\n",
    "\n",
    "# Create a dropdown Select widget: select\n",
    "select = Select(title=\"distribution\", options=['female_literacy', 'population'], value='female_literacy')\n",
    "\n",
    "# Attach the update_plot callback to the 'value' property of select\n",
    "select.on_change('value', update_plot)\n",
    "\n",
    "# Create layout and add to current document\n",
    "layout = row(select, plot)\n",
    "curdoc().add_root(layout)\n",
    "```"
   ]
  },
  {
   "cell_type": "markdown",
   "metadata": {},
   "source": [
    "# Linked Sliders\n",
    "\n",
    "```python\n",
    "from bokeh.io import curdoc\n",
    "from bokeh.models import ColumnDataSource, Select\n",
    "from bokeh.plotting import figure\n",
    "from bokeh.layouts import widgetbox\n",
    "\n",
    "# Create two dropdown Select widgets: select1, select2\n",
    "select1 = Select(title='First', options=['A', 'B'], value='A')\n",
    "select2 = Select(title='Second', options=['1', '2', '3'], value='1')\n",
    "\n",
    "# Define a callback function: callback\n",
    "def callback(attr, old, new):\n",
    "    # If select1 is 'A' \n",
    "    if select1.value == 'A':\n",
    "        # Set select2 options to ['1', '2', '3']\n",
    "        select2.options = ['1', '2', '3']\n",
    "\n",
    "        # Set select2 value to '1'\n",
    "        select2.value = '1'\n",
    "    else:\n",
    "        # Set select2 options to ['100', '200', '300']\n",
    "        select2.options = ['100', '200', '300']\n",
    "\n",
    "        # Set select2 value to '100'\n",
    "        select2.value = '100'\n",
    "\n",
    "# Attach the callback to the 'value' property of select1\n",
    "select1.on_change('value', callback)\n",
    "\n",
    "# Create layout and add to current document\n",
    "layout = widgetbox(select1, select2)\n",
    "curdoc().add_root(layout)\n",
    "```"
   ]
  },
  {
   "cell_type": "markdown",
   "metadata": {},
   "source": [
    "# Update With Button\n",
    "\n",
    "```python\n",
    "from bokeh.io import curdoc\n",
    "from bokeh.plotting import figure\n",
    "from bokeh.models import ColumnDataSource, Button\n",
    "from bokeh.layouts import column\n",
    "from bokeh.layouts import widgetbox\n",
    "import numpy as np\n",
    "\n",
    "x = np.array([0.0, 0.05025126, 0.10050251, 0.15075377, 0.20100503, 0.25125628, 0.30150754, 0.35175879, 0.40201005, 0.45226131, 0.50251256, 0.55276382, 0.60301508, 0.65326633, 0.70351759, 0.75376884, 0.8040201, 0.85427136, 0.90452261, 0.95477387, 1.00502513, 1.05527638, 1.10552764, 1.15577889, 1.20603015, 1.25628141, 1.30653266, 1.35678392, 1.40703518, 1.45728643, 1.50753769, 1.55778894, 1.6080402, 1.65829146, 1.70854271, 1.75879397, 1.80904523, 1.85929648, 1.90954774, 1.95979899, 2.01005025, 2.06030151, 2.11055276, 2.16080402, 2.21105528, 2.26130653, 2.31155779, 2.36180905, 2.4120603, 2.46231156, 2.51256281, 2.56281407, 2.61306533, 2.66331658, 2.71356784, 2.7638191, 2.81407035, 2.86432161, 2.91457286, 2.96482412, 3.01507538, 3.06532663, 3.11557789, 3.16582915, 3.2160804, 3.26633166, 3.31658291, 3.36683417, 3.41708543, 3.46733668, 3.51758794, 3.5678392, 3.61809045, 3.66834171, 3.71859296, 3.76884422, 3.81909548, 3.86934673, 3.91959799, 3.96984925, 4.0201005, 4.07035176, 4.12060302, 4.17085427, 4.22110553, 4.27135678, 4.32160804, 4.3718593, 4.42211055, 4.47236181, 4.52261307, 4.57286432, 4.62311558, 4.67336683, 4.72361809, 4.77386935, 4.8241206, 4.87437186, 4.92462312, 4.97487437, 5.02512563, 5.07537688, 5.12562814, 5.1758794, 5.22613065, 5.27638191, 5.32663317, 5.37688442, 5.42713568, 5.47738693, 5.52763819, 5.57788945, 5.6281407, 5.67839196, 5.72864322, 5.77889447, 5.82914573, 5.87939698, 5.92964824, 5.9798995, 6.03015075, 6.08040201, 6.13065327, 6.18090452, 6.23115578, 6.28140704, 6.33165829, 6.38190955, 6.4321608, 6.48241206, 6.53266332, 6.58291457, 6.63316583, 6.68341709, 6.73366834, 6.7839196, 6.83417085, 6.88442211, 6.93467337, 6.98492462, 7.03517588, 7.08542714, 7.13567839, 7.18592965, 7.2361809, 7.28643216, 7.33668342, 7.38693467, 7.43718593, 7.48743719, 7.53768844, 7.5879397, 7.63819095, 7.68844221, 7.73869347, 7.78894472, 7.83919598, 7.88944724, 7.93969849, 7.98994975, 8.04020101, 8.09045226, 8.14070352, 8.19095477, 8.24120603, 8.29145729, 8.34170854, 8.3919598, 8.44221106, 8.49246231, 8.54271357, 8.59296482, 8.64321608, 8.69346734, 8.74371859, 8.79396985, 8.84422111, 8.89447236, 8.94472362, 8.99497487, 9.04522613, 9.09547739, 9.14572864, 9.1959799, 9.24623116, 9.29648241, 9.34673367, 9.39698492, 9.44723618, 9.49748744, 9.54773869, 9.59798995, 9.64824121, 9.69849246, 9.74874372, 9.79899497, 9.84924623, 9.89949749, 9.94974874, 10.0])\n",
    "y = np.array([0.99866669, 0.817353262, 0.351341436, 0.337690186, 0.794378293, 0.810037983, 0.658828181, 0.74387547, 1.37130407, 0.802408553, 1.24033414, 1.14944748, 0.994598035, 1.29042838, 1.20370245, 1.58713709, 1.52733381, 1.6916469, 1.49827117, 1.75445286, 1.001362, 1.43888806, 1.01324045, 1.20924608, 1.77582381, 1.43120334, 1.19420131, 1.26362695, 1.57008862, 1.36094647, 1.97448542, 1.38448152, 1.94238027, 1.50625263, 1.01986155, 1.50758544, 1.47632614, 1.77926902, 1.28373666, 1.36231072, 1.2303035, 1.38653181, 1.26062905, 1.61435626, 1.25741526, 1.14508703, 0.761219127, 1.31657894, 1.26148446, 0.761149935, 1.46850553, 0.968945621, 1.24287237, 1.16339943, 1.2891584, 0.801893045, 1.09795594, 0.45662121, 0.287110055, 0.461997109, 0.434669079, 0.580791245, 0.358594822, 0.567393286, 0.199860207, 0.631072488, 0.123841277, 0.034906314, 0.638948228, 0.206804601, -0.0625189216, 0.493133607, -0.0925638829, -0.273498142, -0.515415085, -0.0118177021, -0.262161379, -0.0125508365, 0.0605314398, -0.597603116, 0.205089292, -0.581746292, -0.343454545, -0.469928239, -0.543189094, -0.262316715, -0.137525007, 0.00504513943, -0.440247397, -0.840441515, -0.931603982, -0.252751618, -0.240324556, -0.611271913, -0.654704826, -0.362177039, -0.518834146, -0.128559571, -0.859769573, -0.413116665, -0.826916906, -0.0115281769, -0.839403711, -0.862531217, -0.243963751, 0.000165291965, -0.813259553, -0.0473413206, -0.336179997, -0.501081456, -0.241186539, -0.47443558, -0.208275268, -0.062467097, -0.208778413, 0.0456166067, 0.525551099, -0.141512647, 0.255191297, -0.237183639, 0.124072927, 0.00620148068, 0.836410756, 0.488644617, 0.649646202, 0.394773226, 0.726051564, 1.00093247, 0.748824049, 0.217075132, 1.07514576, 0.856803634, 0.473324518, 0.83686378, 1.3029479, 0.865007537, 0.537495442, 1.03105745, 1.00460794, 1.60417699, 0.942360063, 0.925870414, 0.781949807, 1.30468078, 1.5073124, 1.75529042, 1.51438643, 1.04752223, 1.05300908, 1.5804628, 1.11674399, 1.60354413, 1.21665556, 1.49679661, 1.59125603, 1.42633784, 1.84996063, 1.86391175, 1.42025437, 1.77841898, 1.05551422, 1.1421434, 1.09689143, 1.91002231, 1.54847517, 1.47714885, 1.15444023, 1.42564615, 1.73304845, 0.993627664, 1.56222775, 1.72914187, 1.05879708, 0.683284979, 1.30046492, 1.05335525, 1.39445536, 1.45036521, 1.32513347, 0.590781601, 1.34581628, 0.852527593, 0.727086584, 0.737455295, 0.344411616, 0.139187883, 0.518714954, 0.385266178, 0.782300902, 0.387152801, 0.541653066, 0.312262329, 0.609922258, 0.722701129, -0.152330405, -0.314551402, 0.496887715, 0.448912318, -0.454745075, 0.403914049])\n",
    "\n",
    "N = 200\n",
    "\n",
    "source = ColumnDataSource(data={'x': x, 'y': y})\n",
    "\n",
    "plot = figure()\n",
    "\n",
    "plot.circle('x', 'y', source=source)\n",
    "# Create a Button with label 'Update Data'\n",
    "button = Button(label='Update Data')\n",
    "\n",
    "# Define an update callback with no arguments: update\n",
    "def update():\n",
    "    \n",
    "    # Compute new y values: y\n",
    "    new_y = np.sin(x) + np.random.random(N)\n",
    "    \n",
    "    # Update the ColumnDataSource data dictionary\n",
    "    source.data = {'x': x, 'y': new_y}\n",
    "\n",
    "# Add the update callback to the button\n",
    "button.on_click(update)\n",
    "\n",
    "# Create layout and add to current document\n",
    "layout = column(widgetbox(button), plot)\n",
    "curdoc().add_root(layout)\n",
    "```"
   ]
  },
  {
   "cell_type": "markdown",
   "metadata": {},
   "source": [
    "# Different Buttons\n",
    "\n",
    "```python\n",
    "# Import CheckboxGroup, RadioGroup, Toggle from bokeh.models\n",
    "from bokeh.models import CheckboxGroup, RadioGroup, Toggle\n",
    "from bokeh.io import curdoc\n",
    "from bokeh.layouts import widgetbox\n",
    "\n",
    "# Add a Toggle: toggle\n",
    "toggle = Toggle(button_type='success', label='Toggle button')\n",
    "\n",
    "# Add a CheckboxGroup: checkbox\n",
    "checkbox = CheckboxGroup(labels=['Option 1', 'Option 2', 'Option 3'])\n",
    "\n",
    "# Add a RadioGroup: radio\n",
    "radio = RadioGroup(labels=['Option 1', 'Option 2', 'Option 3'])\n",
    "\n",
    "# Add widgetbox(toggle, checkbox, radio) to the current document\n",
    "curdoc().add_root(widgetbox(toggle, checkbox, radio))\n",
    "```"
   ]
  },
  {
   "cell_type": "markdown",
   "metadata": {},
   "source": [
    "# Anaconda Cloud\n",
    "offers easy hosting of Bokeh applications for sharing over the web."
   ]
  },
  {
   "cell_type": "code",
   "execution_count": 73,
   "metadata": {},
   "outputs": [
    {
     "data": {
      "text/html": [
       "<div>\n",
       "<style scoped>\n",
       "    .dataframe tbody tr th:only-of-type {\n",
       "        vertical-align: middle;\n",
       "    }\n",
       "\n",
       "    .dataframe tbody tr th {\n",
       "        vertical-align: top;\n",
       "    }\n",
       "\n",
       "    .dataframe thead th {\n",
       "        text-align: right;\n",
       "    }\n",
       "</style>\n",
       "<table border=\"1\" class=\"dataframe\">\n",
       "  <thead>\n",
       "    <tr style=\"text-align: right;\">\n",
       "      <th></th>\n",
       "      <th>Country</th>\n",
       "      <th>fertility</th>\n",
       "      <th>life</th>\n",
       "      <th>population</th>\n",
       "      <th>child_mortality</th>\n",
       "      <th>gdp</th>\n",
       "      <th>region</th>\n",
       "    </tr>\n",
       "    <tr>\n",
       "      <th>Year</th>\n",
       "      <th></th>\n",
       "      <th></th>\n",
       "      <th></th>\n",
       "      <th></th>\n",
       "      <th></th>\n",
       "      <th></th>\n",
       "      <th></th>\n",
       "    </tr>\n",
       "  </thead>\n",
       "  <tbody>\n",
       "    <tr>\n",
       "      <th>1964</th>\n",
       "      <td>Afghanistan</td>\n",
       "      <td>7.671</td>\n",
       "      <td>33.639</td>\n",
       "      <td>10474903.0</td>\n",
       "      <td>339.7</td>\n",
       "      <td>1182.0</td>\n",
       "      <td>South Asia</td>\n",
       "    </tr>\n",
       "    <tr>\n",
       "      <th>1965</th>\n",
       "      <td>Afghanistan</td>\n",
       "      <td>7.671</td>\n",
       "      <td>34.152</td>\n",
       "      <td>10697983.0</td>\n",
       "      <td>334.1</td>\n",
       "      <td>1182.0</td>\n",
       "      <td>South Asia</td>\n",
       "    </tr>\n",
       "    <tr>\n",
       "      <th>1966</th>\n",
       "      <td>Afghanistan</td>\n",
       "      <td>7.671</td>\n",
       "      <td>34.662</td>\n",
       "      <td>10927724.0</td>\n",
       "      <td>328.7</td>\n",
       "      <td>1168.0</td>\n",
       "      <td>South Asia</td>\n",
       "    </tr>\n",
       "    <tr>\n",
       "      <th>1967</th>\n",
       "      <td>Afghanistan</td>\n",
       "      <td>7.671</td>\n",
       "      <td>35.170</td>\n",
       "      <td>11163656.0</td>\n",
       "      <td>323.3</td>\n",
       "      <td>1173.0</td>\n",
       "      <td>South Asia</td>\n",
       "    </tr>\n",
       "    <tr>\n",
       "      <th>1968</th>\n",
       "      <td>Afghanistan</td>\n",
       "      <td>7.671</td>\n",
       "      <td>35.674</td>\n",
       "      <td>11411022.0</td>\n",
       "      <td>318.1</td>\n",
       "      <td>1187.0</td>\n",
       "      <td>South Asia</td>\n",
       "    </tr>\n",
       "  </tbody>\n",
       "</table>\n",
       "</div>"
      ],
      "text/plain": [
       "          Country  fertility    life  population  child_mortality     gdp  \\\n",
       "Year                                                                        \n",
       "1964  Afghanistan      7.671  33.639  10474903.0            339.7  1182.0   \n",
       "1965  Afghanistan      7.671  34.152  10697983.0            334.1  1182.0   \n",
       "1966  Afghanistan      7.671  34.662  10927724.0            328.7  1168.0   \n",
       "1967  Afghanistan      7.671  35.170  11163656.0            323.3  1173.0   \n",
       "1968  Afghanistan      7.671  35.674  11411022.0            318.1  1187.0   \n",
       "\n",
       "          region  \n",
       "Year              \n",
       "1964  South Asia  \n",
       "1965  South Asia  \n",
       "1966  South Asia  \n",
       "1967  South Asia  \n",
       "1968  South Asia  "
      ]
     },
     "execution_count": 73,
     "metadata": {},
     "output_type": "execute_result"
    }
   ],
   "source": [
    "data = pd.read_csv('bokeh_datasets/gapminder_tidy.csv', index_col=1)\n",
    "data.head()"
   ]
  },
  {
   "cell_type": "code",
   "execution_count": 74,
   "metadata": {},
   "outputs": [
    {
     "data": {
      "text/html": [
       "<div>\n",
       "<style scoped>\n",
       "    .dataframe tbody tr th:only-of-type {\n",
       "        vertical-align: middle;\n",
       "    }\n",
       "\n",
       "    .dataframe tbody tr th {\n",
       "        vertical-align: top;\n",
       "    }\n",
       "\n",
       "    .dataframe thead th {\n",
       "        text-align: right;\n",
       "    }\n",
       "</style>\n",
       "<table border=\"1\" class=\"dataframe\">\n",
       "  <thead>\n",
       "    <tr style=\"text-align: right;\">\n",
       "      <th></th>\n",
       "      <th>Country</th>\n",
       "      <th>fertility</th>\n",
       "      <th>life</th>\n",
       "      <th>population</th>\n",
       "      <th>child_mortality</th>\n",
       "      <th>gdp</th>\n",
       "      <th>region</th>\n",
       "    </tr>\n",
       "    <tr>\n",
       "      <th>Year</th>\n",
       "      <th></th>\n",
       "      <th></th>\n",
       "      <th></th>\n",
       "      <th></th>\n",
       "      <th></th>\n",
       "      <th></th>\n",
       "      <th></th>\n",
       "    </tr>\n",
       "  </thead>\n",
       "  <tbody>\n",
       "    <tr>\n",
       "      <th>2002</th>\n",
       "      <td>Åland</td>\n",
       "      <td>NaN</td>\n",
       "      <td>81.80</td>\n",
       "      <td>26257.0</td>\n",
       "      <td>NaN</td>\n",
       "      <td>NaN</td>\n",
       "      <td>Europe &amp; Central Asia</td>\n",
       "    </tr>\n",
       "    <tr>\n",
       "      <th>2003</th>\n",
       "      <td>Åland</td>\n",
       "      <td>NaN</td>\n",
       "      <td>80.63</td>\n",
       "      <td>26347.0</td>\n",
       "      <td>NaN</td>\n",
       "      <td>NaN</td>\n",
       "      <td>Europe &amp; Central Asia</td>\n",
       "    </tr>\n",
       "    <tr>\n",
       "      <th>2004</th>\n",
       "      <td>Åland</td>\n",
       "      <td>NaN</td>\n",
       "      <td>79.88</td>\n",
       "      <td>26530.0</td>\n",
       "      <td>NaN</td>\n",
       "      <td>NaN</td>\n",
       "      <td>Europe &amp; Central Asia</td>\n",
       "    </tr>\n",
       "    <tr>\n",
       "      <th>2005</th>\n",
       "      <td>Åland</td>\n",
       "      <td>NaN</td>\n",
       "      <td>80.00</td>\n",
       "      <td>26766.0</td>\n",
       "      <td>NaN</td>\n",
       "      <td>NaN</td>\n",
       "      <td>Europe &amp; Central Asia</td>\n",
       "    </tr>\n",
       "    <tr>\n",
       "      <th>2006</th>\n",
       "      <td>Åland</td>\n",
       "      <td>NaN</td>\n",
       "      <td>80.10</td>\n",
       "      <td>26923.0</td>\n",
       "      <td>NaN</td>\n",
       "      <td>NaN</td>\n",
       "      <td>Europe &amp; Central Asia</td>\n",
       "    </tr>\n",
       "  </tbody>\n",
       "</table>\n",
       "</div>"
      ],
      "text/plain": [
       "     Country  fertility   life  population  child_mortality  gdp  \\\n",
       "Year                                                               \n",
       "2002   Åland        NaN  81.80     26257.0              NaN  NaN   \n",
       "2003   Åland        NaN  80.63     26347.0              NaN  NaN   \n",
       "2004   Åland        NaN  79.88     26530.0              NaN  NaN   \n",
       "2005   Åland        NaN  80.00     26766.0              NaN  NaN   \n",
       "2006   Åland        NaN  80.10     26923.0              NaN  NaN   \n",
       "\n",
       "                     region  \n",
       "Year                         \n",
       "2002  Europe & Central Asia  \n",
       "2003  Europe & Central Asia  \n",
       "2004  Europe & Central Asia  \n",
       "2005  Europe & Central Asia  \n",
       "2006  Europe & Central Asia  "
      ]
     },
     "execution_count": 74,
     "metadata": {},
     "output_type": "execute_result"
    }
   ],
   "source": [
    "data.tail()"
   ]
  },
  {
   "cell_type": "code",
   "execution_count": 75,
   "metadata": {},
   "outputs": [],
   "source": [
    "# Perform necessary imports\n",
    "from bokeh.io import output_file, show\n",
    "from bokeh.plotting import figure\n",
    "from bokeh.models import HoverTool, ColumnDataSource\n",
    "\n",
    "# Make the ColumnDataSource: source\n",
    "source = ColumnDataSource(data={\n",
    "    'x'       : data['fertility'],\n",
    "    'y'       : data['life'],\n",
    "    'country' : data['Country'],\n",
    "})\n",
    "\n",
    "# Create the figure: p\n",
    "p = figure(title='1970', x_axis_label='Fertility (children per woman)', y_axis_label='Life Expectancy (years)',\n",
    "           plot_height=400, plot_width=700,\n",
    "           tools=[HoverTool(tooltips='@country')])\n",
    "\n",
    "# Add a circle glyph to the figure p\n",
    "p.circle(x='x', y='y', source=source)\n",
    "\n",
    "# Output the file and show the figure\n",
    "output_file('gapminder.html')\n",
    "show(p)"
   ]
  },
  {
   "cell_type": "markdown",
   "metadata": {},
   "source": [
    "# Capstone Application\n",
    "\n",
    "```python\n",
    "\n",
    "# Import the necessary modules\n",
    "from bokeh.io import curdoc\n",
    "from bokeh.models import ColumnDataSource, Select, Slider, HoverTool, CategoricalColorMapper\n",
    "from bokeh.plotting import figure\n",
    "from bokeh.palettes import Spectral6\n",
    "from bokeh.layouts import widgetbox, row\n",
    "\n",
    "import pandas as pd\n",
    "\n",
    "data = pd.read_csv('gapminder_tidy.csv', index_col=1)\n",
    "# Make the ColumnDataSource: source\n",
    "source = ColumnDataSource(data={\n",
    "                          'x'       : data.loc[1970].fertility,\n",
    "                          'y'       : data.loc[1970].life,\n",
    "                          'country' : data.loc[1970].Country,\n",
    "                          'pop'     : (data.loc[1970].population / 20000000) + 2,\n",
    "                          'region'  : data.loc[1970].region,\n",
    "                          })\n",
    "\n",
    "# Save the minimum and maximum values of the fertility column: xmin, xmax\n",
    "xmin, xmax = min(data.fertility), max(data.fertility)\n",
    "\n",
    "# Save the minimum and maximum values of the life expectancy column: ymin, ymax\n",
    "ymin, ymax = min(data.life), max(data.life)\n",
    "\n",
    "# Create the figure: plot\n",
    "plot = figure(title='Gapminder Data for 1970', plot_height=400, plot_width=700,\n",
    "              x_range=(xmin, xmax), y_range=(ymin, ymax))\n",
    "\n",
    "# Make a list of the unique values from the region column: regions_list\n",
    "regions_list = data.region.unique().tolist()\n",
    "\n",
    "# Make a color mapper: color_mapper\n",
    "color_mapper = CategoricalColorMapper(factors=regions_list, palette=Spectral6)\n",
    "\n",
    "# Add the color mapper to the circle glyph\n",
    "plot.circle(x='x', y='y', fill_alpha=0.8, source=source,\n",
    "            color=dict(field='region', transform=color_mapper), legend='region')\n",
    "\n",
    "# Set the legend.location attribute of the plot to 'top_right'\n",
    "plot.legend.location = 'top_right'\n",
    "\n",
    "# Set the x-axis label\n",
    "plot.xaxis.axis_label ='Fertility (children per woman)'\n",
    "\n",
    "# Set the y-axis label\n",
    "plot.yaxis.axis_label = 'Life Expectancy (years)'\n",
    "\n",
    "# Define the callback function: update_plot\n",
    "def update_plot(attr, old, new):\n",
    "    # Read the current value off the slider and 2 dropdowns: yr, x, y\n",
    "    yr = slider.value\n",
    "    x = x_select.value\n",
    "    y = y_select.value\n",
    "    # Label axes of plot\n",
    "    plot.xaxis.axis_label = x\n",
    "    plot.yaxis.axis_label = y\n",
    "    # Set new_data\n",
    "    new_data = {\n",
    "        'x'       : data.loc[yr][x],\n",
    "        'y'       : data.loc[yr][y],\n",
    "        'country' : data.loc[yr].Country,\n",
    "        'pop'     : (data.loc[yr].population / 20000000) + 2,\n",
    "        'region'  : data.loc[yr].region,\n",
    "    }\n",
    "    # Assign new_data to source.data\n",
    "    source.data = new_data\n",
    "\n",
    "    # Set the range of all axes\n",
    "    plot.x_range.start = min(data[x])\n",
    "    plot.x_range.end = max(data[x])\n",
    "    plot.y_range.start = min(data[y])\n",
    "    plot.y_range.end = max(data[y])\n",
    "    \n",
    "    # Add title to plot\n",
    "    plot.title.text = 'Gapminder data for %d' % yr\n",
    "\n",
    "# Make a slider object: slider\n",
    "slider = Slider(start=1970, end=2010, step=1, value=1970, title='Year')\n",
    "\n",
    "# Attach the callback to the 'value' property of slider\n",
    "slider.on_change('value', update_plot)\n",
    "\n",
    "# Create a dropdown Select widget for the x data: x_select\n",
    "x_select = Select(options=['fertility', 'life', 'child_mortality', 'gdp'], value='fertility', title='x-axis data')\n",
    "\n",
    "# Attach the update_plot callback to the 'value' property of x_select\n",
    "x_select.on_change('value', update_plot)\n",
    "\n",
    "# Create a dropdown Select widget for the y data: y_select\n",
    "y_select = Select(options=['fertility', 'life', 'child_mortality', 'gdp'], value='life', title='y-axis data')\n",
    "\n",
    "# Attach the update_plot callback to the 'value' property of y_select\n",
    "y_select.on_change('value', update_plot)\n",
    "\n",
    "# Create a HoverTool: hover\n",
    "hover = HoverTool(tooltips=[('Country', '@country')])\n",
    "\n",
    "# Add the HoverTool to the plot\n",
    "plot.add_tools(hover)\n",
    "\n",
    "# Make a row layout of widgetbox(slider) and plot and add it to the current document\n",
    "layout = row(widgetbox(slider, x_select, y_select), plot)\n",
    "curdoc().add_root(layout)\n",
    "# Add a title\n",
    "curdoc().title = 'Gapminder'\n",
    "```\n",
    "\n",
    "## [Bokeh Community Blog](https://bokeh.github.io)"
   ]
  },
  {
   "cell_type": "code",
   "execution_count": null,
   "metadata": {},
   "outputs": [],
   "source": []
  }
 ],
 "metadata": {
  "kernelspec": {
   "display_name": "Python 3",
   "language": "python",
   "name": "python3"
  },
  "language_info": {
   "codemirror_mode": {
    "name": "ipython",
    "version": 3
   },
   "file_extension": ".py",
   "mimetype": "text/x-python",
   "name": "python",
   "nbconvert_exporter": "python",
   "pygments_lexer": "ipython3",
   "version": "3.6.6"
  }
 },
 "nbformat": 4,
 "nbformat_minor": 2
}
