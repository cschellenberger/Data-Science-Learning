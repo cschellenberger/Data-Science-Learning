{
 "cells": [
  {
   "cell_type": "markdown",
   "metadata": {},
   "source": [
    "# Introduction to Deep Learning\n",
    "## [DataCamp Course Dashboard](https://www.datacamp.com/courses/deep-learning-in-python)\n",
    "\n",
    "### Imagine you work for a bank\n",
    "- You need to predict how many transactions each customer will make next year\n",
    "- You have features like `age`, `bank_balance`, `retirement_status`, etc.\n",
    "\n",
    "#### How would a linear regression model work through this problem?\n",
    "- The LR model would look at the influence of each feature individually and not the interactions between the features. This is not ideal from an intutive standpoint.\n",
    "\n",
    "# Interactions\n",
    "- Neural networks account for interactions really well\n",
    "- Deep learning uses especially powerful neural networks\n",
    "\n",
    "# Course structure\n",
    "- First two chapters focus on conceptual knowledge\n",
    "    - Debug and tune deep learning models on conventional prediction problems\n",
    "    - Lay the foundation for progressing towards modern applications\n",
    "    \n",
    "## Build deep learning models with keras\n",
    "```python\n",
    "import numpy as np\n",
    "from keras.layers import Dense\n",
    "from keras.models import Sequential\n",
    "predictors = np.loadtxt('predictors_data.csv', delimiter=',')\n",
    "n_cols = predictors.shape[1]\n",
    "model = Sequential()\n",
    "model.add(Dense(100, activation='relu', input_shape = (n_cols,)))\n",
    "model.add(Dense(100, activation='relu'))\n",
    "model.add(Dense(1))\n",
    "```\n",
    "\n",
    "## Deep learning models capture interactions\n",
    "- We generate a function that describes the interaction of variables and use that function to predict the outcome of the response variable.\n",
    "- The input layer describes our predictive features (`age`, `bank_balance`, `retirement_status`, etc)\n",
    "- The output layer describes our response variable or what we want to predict.\n",
    "- All other layers are called the hidden layers because these are non-empirical values that are calculated by the model to account for the interaction between variables in the input layer and more accurately predict the output layer.\n",
    "\n",
    "# Forward propagation\n",
    "- First step of the **forward propagation algorithm** is to draw lines between the input layer and the nodes of the hidden layer.\n",
    "- Each line is given a weight to account for the strength of that interaction.\n",
    "- Next, each input layer value is multiplied by its line weight and added to all other input layer calculations corresponding to that node.\n",
    "- This process to repeated to draw lines, assign weights, and apply calculations to yeild the output layer value.\n",
    "\n",
    "    - Multiply - add process\n",
    "    - Dot product\n",
    "    - Forward propagation for one data point at a time\n",
    "    - Output is the prediction for that data point"
   ]
  },
  {
   "cell_type": "code",
   "execution_count": 1,
   "metadata": {},
   "outputs": [
    {
     "name": "stdout",
     "output_type": "stream",
     "text": [
      "hidden layer values:  [5 1]\n",
      "output value:  9\n"
     ]
    }
   ],
   "source": [
    "# Forward propagation code\n",
    "\n",
    "import numpy as np\n",
    "input_data = np.array([2, 3])\n",
    "weights = {'node_0': np.array([1, 1]),\n",
    "          'node_1': np.array([-1, 1]),\n",
    "          'output': np.array([2, -1])}\n",
    "node_0_value = (input_data * weights['node_0']).sum()\n",
    "node_1_value = (input_data * weights['node_1']).sum()\n",
    "\n",
    "hidden_layer_values = np.array([node_0_value, node_1_value])\n",
    "print('hidden layer values: ', hidden_layer_values)\n",
    "\n",
    "output = (hidden_layer_values * weights['output']).sum()\n",
    "print('output value: ', output)"
   ]
  },
  {
   "cell_type": "code",
   "execution_count": 3,
   "metadata": {},
   "outputs": [
    {
     "name": "stdout",
     "output_type": "stream",
     "text": [
      "-39\n"
     ]
    }
   ],
   "source": [
    "input_data = np.array([3, 5])\n",
    "weights = {'node_0': np.array([2, 4]), \n",
    "           'node_1': np.array([ 4, -5]), \n",
    "           'output': np.array([2, 7])}\n",
    "\n",
    "# Calculate node 0 value: node_0_value\n",
    "node_0_value = (input_data * weights['node_0']).sum()\n",
    "\n",
    "# Calculate node 1 value: node_1_value\n",
    "node_1_value = (input_data * weights['node_1']).sum()\n",
    "\n",
    "# Put node values into array: hidden_layer_outputs\n",
    "hidden_layer_outputs = np.array([node_0_value, node_1_value])\n",
    "\n",
    "# Calculate output: output\n",
    "output = (hidden_layer_outputs * weights['output']).sum()\n",
    "\n",
    "# Print output\n",
    "print(output)"
   ]
  },
  {
   "cell_type": "markdown",
   "metadata": {},
   "source": [
    "# Activation functions\n",
    "\n",
    "- These functions allow the model to capture nonlinearities.\n",
    "- Applied to node inputs to produce node output\n",
    "- `tanh()` was a very popular activation function\n",
    "- Today, ReLU (Rectified Linear Activation) is the industry standard activation function\n",
    "$$RELU(x) = \\left\\{\\begin{matrix}\n",
    "0 \\text{ if } x<0\\\\ \n",
    "x \\text{ if } x\\geq 0\n",
    "\\end{matrix}\\right.$$"
   ]
  },
  {
   "cell_type": "code",
   "execution_count": 5,
   "metadata": {},
   "outputs": [
    {
     "name": "stdout",
     "output_type": "stream",
     "text": [
      "hidden layer outputs:  [0.99505475 0.99999997]\n",
      "output value:  0.9901095378334199\n"
     ]
    }
   ],
   "source": [
    "# Activation function code\n",
    "\n",
    "import numpy as np\n",
    "input_data = np.array([-1, 2])\n",
    "weights = {'node_0': np.array([3, 3]),\n",
    "          'node_1': np.array([1, 5]),\n",
    "          'output': np.array([2, -1])}\n",
    "node_0_input = (input_data * weights['node_0']).sum()\n",
    "\n",
    "node_0_output = np.tanh(node_0_input)\n",
    "\n",
    "node_1_input = (input_data * weights['node_1']).sum()\n",
    "\n",
    "node_1_output = np.tanh(node_1_input)\n",
    "\n",
    "hidden_layer_outputs = np.array([node_0_output, node_1_output])\n",
    "print('hidden layer outputs: ', hidden_layer_outputs)\n",
    "\n",
    "output = (hidden_layer_outputs * weights['output']).sum()\n",
    "print('output value: ', output)"
   ]
  },
  {
   "cell_type": "markdown",
   "metadata": {},
   "source": [
    "The rectified linear activation function (called ReLU) has been shown to lead to very high-performance networks. This function takes a single number as an input, returning 0 if the input is negative, and the input if the input is positive."
   ]
  },
  {
   "cell_type": "code",
   "execution_count": 13,
   "metadata": {},
   "outputs": [
    {
     "name": "stdout",
     "output_type": "stream",
     "text": [
      "output layer value: 52 \n",
      "Without the activation function, this prediction would be negative.\n"
     ]
    }
   ],
   "source": [
    "def relu(input):\n",
    "    '''Define your relu activation function here'''\n",
    "    # Calculate the value for the output of the relu function: output\n",
    "    output = max(input, 0)\n",
    "    \n",
    "    # Return the value just calculated\n",
    "    return(output)\n",
    "\n",
    "input_data = np.array([3, 5])\n",
    "weights = {'node_0': np.array([2, 4]), \n",
    "           'node_1': np.array([ 4, -5]), \n",
    "           'output': np.array([2, 7])}\n",
    "\n",
    "# Calculate node 0 value: node_0_output\n",
    "node_0_input = (input_data * weights['node_0']).sum()\n",
    "node_0_output = relu(node_0_input)\n",
    "\n",
    "# Calculate node 1 value: node_1_output\n",
    "node_1_input = (input_data * weights['node_1']).sum()\n",
    "node_1_output = relu(node_1_input)\n",
    "\n",
    "# Put node values into array: hidden_layer_outputs\n",
    "hidden_layer_outputs = np.array([node_0_output, node_1_output])\n",
    "\n",
    "# Calculate model output (do not apply relu)\n",
    "model_output = (hidden_layer_outputs * weights['output']).sum()\n",
    "\n",
    "# Print model output\n",
    "print('output layer value:', model_output, '\\nWithout the activation function, \\\n",
    "this prediction would be negative.')"
   ]
  },
  {
   "cell_type": "code",
   "execution_count": 14,
   "metadata": {},
   "outputs": [
    {
     "name": "stdout",
     "output_type": "stream",
     "text": [
      "[52, 63, 0, 148]\n"
     ]
    }
   ],
   "source": [
    "input_data = [np.array([3, 5]), np.array([ 1, -1]), np.array([0, 0]), np.array([8, 4])]\n",
    "weights = {'node_0': np.array([2, 4]), \n",
    "           'node_1': np.array([ 4, -5]), \n",
    "           'output': np.array([2, 7])}\n",
    "\n",
    "# Define predict_with_network()\n",
    "def predict_with_network(input_data_row, weights):\n",
    "\n",
    "    # Calculate node 0 value\n",
    "    node_0_input = (input_data_row * weights['node_0']).sum()\n",
    "    node_0_output = relu(node_0_input)\n",
    "\n",
    "    # Calculate node 1 value\n",
    "    node_1_input = (input_data_row * weights['node_1']).sum()\n",
    "    node_1_output = relu(node_1_input)\n",
    "\n",
    "    # Put node values into array: hidden_layer_outputs\n",
    "    hidden_layer_outputs = np.array([node_0_output, node_1_output])\n",
    "    \n",
    "    # Calculate model output\n",
    "    input_to_final_layer = (hidden_layer_outputs * weights['output']).sum()\n",
    "    model_output = relu(input_to_final_layer)\n",
    "    \n",
    "    # Return model output\n",
    "    return(model_output)\n",
    "\n",
    "\n",
    "# Create empty list to store prediction results\n",
    "results = []\n",
    "for input_data_row in input_data:\n",
    "    # Append prediction to results\n",
    "    results.append(predict_with_network(input_data_row, weights))\n",
    "\n",
    "# Print results\n",
    "print(results)"
   ]
  },
  {
   "cell_type": "markdown",
   "metadata": {},
   "source": [
    "# Deeper networks\n",
    "## Multiple hidden layers\n",
    "## Representation learning\n",
    "- Deep networks internally build representations of patterns in the data.\n",
    "- Partially replace the need for feature engineering\n",
    "- Subsequent layers build increasingly sophisticated representations of raw data\n",
    "\n",
    "# Deep learning\n",
    "- Modeler doesn't need to specify the interactions\n",
    "- When you train the model, the neural network gets weights that find the relevant patterns to make better predictions\n",
    "\n",
    "*Identity function* - each node's output will be the same as its input."
   ]
  },
  {
   "cell_type": "code",
   "execution_count": 23,
   "metadata": {},
   "outputs": [
    {
     "name": "stdout",
     "output_type": "stream",
     "text": [
      "The output value is: 182\n"
     ]
    }
   ],
   "source": [
    "input_data = np.array([3, 5])\n",
    "weights = {'node_0_0': np.array([2, 4]),\n",
    "           'node_0_1': np.array([ 4, -5]),\n",
    "           'node_1_0': np.array([-1,  2]),\n",
    "           'node_1_1': np.array([1, 2]),\n",
    "           'output': np.array([2, 7])}\n",
    "\n",
    "def predict_with_network(input_data):\n",
    "    # Calculate node 0 in the first hidden layer\n",
    "    node_0_0_input = (input_data * weights['node_0_0']).sum()\n",
    "    node_0_0_output = relu(node_0_0_input)\n",
    "\n",
    "    # Calculate node 1 in the first hidden layer\n",
    "    node_0_1_input = (input_data * weights['node_0_1']).sum()\n",
    "    node_0_1_output = relu(node_0_1_input)\n",
    "\n",
    "    # Put node values into array: hidden_0_outputs\n",
    "    hidden_0_outputs = np.array([node_0_0_output, node_0_1_output])\n",
    "    \n",
    "    # Calculate node 0 in the second hidden layer\n",
    "    node_1_0_input = (hidden_0_outputs * weights['node_1_0']).sum()\n",
    "    node_1_0_output = relu(node_1_0_input)\n",
    "\n",
    "    # Calculate node 1 in the second hidden layer\n",
    "    node_1_1_input = (hidden_0_outputs * weights['node_1_1']).sum()\n",
    "    node_1_1_output = relu(node_1_1_input)\n",
    "\n",
    "    # Put node values into array: hidden_1_outputs\n",
    "    hidden_1_outputs = np.array([node_1_0_output, node_1_1_output])\n",
    "\n",
    "    # Calculate model output: model_output\n",
    "    model_output = (hidden_1_outputs * weights['output']).sum()\n",
    "    \n",
    "    # Return model_output\n",
    "    return(model_output)\n",
    "\n",
    "output = predict_with_network(input_data)\n",
    "print('The output value is:', output)"
   ]
  },
  {
   "cell_type": "markdown",
   "metadata": {},
   "source": [
    "# The need for optimization\n",
    "## Loss function\n",
    "- Aggregates errors in predictions from many data points into single number\n",
    "- Measure of model's predictive performance\n",
    "- Mean Squared Error loss function\n",
    "- Goal: Find the weights that give the lowest value of the loss function\n",
    "- Gradient descent is the method"
   ]
  },
  {
   "cell_type": "code",
   "execution_count": 27,
   "metadata": {},
   "outputs": [],
   "source": [
    "def predict_with_network_weights(input_data_point, weights):\n",
    "    '''Takes input data and a dictionary of weights and\n",
    "    returns the neural network output layer value.\n",
    "    '''\n",
    "    \n",
    "    node_0_input = (input_data_point * weights['node_0']).sum()\n",
    "    node_0_output = relu(node_0_input)\n",
    "    \n",
    "    node_1_input = (input_data_point * weights['node_1']).sum()\n",
    "    node_1_output = relu(node_1_input)\n",
    "    \n",
    "    hidden_layer_values = np.array([node_0_output, node_1_output])\n",
    "    \n",
    "    input_to_final_layer = (hidden_layer_values * weights['output']).sum()\n",
    "    \n",
    "    model_output = relu(input_to_final_layer)\n",
    "    \n",
    "    return(model_output)"
   ]
  },
  {
   "cell_type": "markdown",
   "metadata": {},
   "source": [
    "To pull this code from DataCamp, I imported the `inspect` package and used the `getsource()` function passing in `predict_with_network`."
   ]
  },
  {
   "cell_type": "code",
   "execution_count": 28,
   "metadata": {},
   "outputs": [
    {
     "data": {
      "text/plain": [
       "\"def predict_with_network_weights(input_data_point, weights):\\n    '''Takes input data and a dictionary of weights and\\n    returns the neural network output layer value.\\n    '''\\n    \\n    node_0_input = (input_data_point * weights['node_0']).sum()\\n    node_0_output = relu(node_0_input)\\n    \\n    node_1_input = (input_data_point * weights['node_1']).sum()\\n    node_1_output = relu(node_1_input)\\n    \\n    hidden_layer_values = np.array([node_0_output, node_1_output])\\n    \\n    input_to_final_layer = (hidden_layer_values * weights['output']).sum()\\n    \\n    model_output = relu(input_to_final_layer)\\n    \\n    return(model_output)\\n\""
      ]
     },
     "execution_count": 28,
     "metadata": {},
     "output_type": "execute_result"
    }
   ],
   "source": [
    "import inspect\n",
    "inspect.getsource(predict_with_network_weights)"
   ]
  },
  {
   "cell_type": "code",
   "execution_count": 25,
   "metadata": {},
   "outputs": [
    {
     "name": "stdout",
     "output_type": "stream",
     "text": [
      "6\n",
      "0\n"
     ]
    }
   ],
   "source": [
    "# The data point you will make a prediction for\n",
    "input_data = np.array([0, 3])\n",
    "\n",
    "# Sample weights\n",
    "weights_0 = {'node_0': [2, 1],\n",
    "             'node_1': [1, 2],\n",
    "             'output': [1, 1]\n",
    "            }\n",
    "\n",
    "# The actual target value, used to calculate the error\n",
    "target_actual = 3\n",
    "\n",
    "# Make prediction using original weights\n",
    "model_output_0 = predict_with_network_weights(input_data, weights_0)\n",
    "\n",
    "# Calculate error: error_0\n",
    "error_0 = model_output_0 - target_actual\n",
    "\n",
    "# Create weights that cause the network to make perfect prediction (3): weights_1\n",
    "weights_1 = {'node_0': [2, 1],\n",
    "             'node_1': [1, 0],\n",
    "             'output': [1, 1]\n",
    "            }\n",
    "\n",
    "# Make prediction using new weights: model_output_1\n",
    "model_output_1 = predict_with_network_weights(input_data, weights_1)\n",
    "\n",
    "# Calculate error: error_1\n",
    "error_1 = target_actual - model_output_1\n",
    "\n",
    "# Print error_0 and error_1\n",
    "print(error_0)\n",
    "print(error_1)"
   ]
  },
  {
   "cell_type": "code",
   "execution_count": 29,
   "metadata": {},
   "outputs": [],
   "source": [
    "input_data = [np.array([0, 3]), \n",
    "              np.array([1, 2]), \n",
    "              np.array([-1, -2]), \n",
    "              np.array([4, 0])]\n",
    "weights_0 = {'node_0': np.array([2, 1]), \n",
    "             'node_1': np.array([1, 2]), \n",
    "             'output': np.array([1, 1])}\n",
    "weights_1 = {'node_0': np.array([2, 1]),\n",
    "             'node_1': np.array([1. , 1.5]),\n",
    "             'output': np.array([1. , 1.5])}\n",
    "target_actuals = [1, 3, 5, 7]"
   ]
  },
  {
   "cell_type": "code",
   "execution_count": 33,
   "metadata": {},
   "outputs": [
    {
     "name": "stderr",
     "output_type": "stream",
     "text": [
      "100%|██████████| 4/4 [00:00<00:00, 3683.25it/s]"
     ]
    },
    {
     "name": "stdout",
     "output_type": "stream",
     "text": [
      "Mean squared error with weights_0: 37.500000\n",
      "Mean squared error with weights_1: 49.890625\n"
     ]
    },
    {
     "name": "stderr",
     "output_type": "stream",
     "text": [
      "\n"
     ]
    }
   ],
   "source": [
    "from sklearn.metrics import mean_squared_error\n",
    "from tqdm import tqdm\n",
    "\n",
    "# Create model_output_0 \n",
    "model_output_0 = []\n",
    "# Create model_output_1\n",
    "model_output_1 = []\n",
    "\n",
    "# Loop over input_data\n",
    "for row in tqdm(input_data):\n",
    "    # Append prediction to model_output_0\n",
    "    model_output_0.append(predict_with_network_weights(row, weights_0))\n",
    "    \n",
    "    # Append prediction to model_output_1\n",
    "    model_output_1.append(predict_with_network_weights(row, weights_1))\n",
    "\n",
    "# Calculate the mean squared error for model_output_0: mse_0\n",
    "mse_0 = mean_squared_error(target_actuals, model_output_0)\n",
    "\n",
    "# Calculate the mean squared error for model_output_1: mse_1\n",
    "mse_1 = mean_squared_error(target_actuals, model_output_1)\n",
    "\n",
    "# Print mse_0 and mse_1\n",
    "print(\"Mean squared error with weights_0: %f\" %mse_0)\n",
    "print(\"Mean squared error with weights_1: %f\" %mse_1)"
   ]
  },
  {
   "cell_type": "markdown",
   "metadata": {},
   "source": [
    "# Gradient Descent\n",
    "- If the slope is positive:\n",
    "    - Going opposite the slope means moving to lower numbers\n",
    "    - Subtract the slope from the current value\n",
    "    - Too big a step might lead us astray\n",
    "- Solution: learning rate\n",
    "    - Update each weight by subtracting **learning rate \\* slope** (learning rates are usually around 0.01)\n",
    "    \n",
    "# Slope calculation example\n",
    "- To calculate the slope for a weight, need to multiply:\n",
    "    - Slope of the loss function with respect to (w.r.t.) value at the node we feed into\n",
    "        - Slope of mean-squared loss function w.r.t. prediction\n",
    "        - 2 \\* (Predicted Value - Actual Value) = 2 \\* Error\n",
    "    - The value of the node that feeds into our weight\n",
    "    - Slope of the activation function w.r.t. value we feed into"
   ]
  },
  {
   "cell_type": "code",
   "execution_count": 34,
   "metadata": {},
   "outputs": [
    {
     "name": "stdout",
     "output_type": "stream",
     "text": [
      "5\n"
     ]
    }
   ],
   "source": [
    "import numpy as np\n",
    "weights = np.array([1, 2])\n",
    "input_data = np.array([3, 4])\n",
    "target = 6\n",
    "learning_rate = 0.01\n",
    "preds = (weights * input_data).sum()\n",
    "error = preds - target\n",
    "print(error)"
   ]
  },
  {
   "cell_type": "code",
   "execution_count": 35,
   "metadata": {},
   "outputs": [
    {
     "data": {
      "text/plain": [
       "array([30, 40])"
      ]
     },
     "execution_count": 35,
     "metadata": {},
     "output_type": "execute_result"
    }
   ],
   "source": [
    "gradient = 2 * input_data * error\n",
    "\n",
    "gradient"
   ]
  },
  {
   "cell_type": "code",
   "execution_count": 37,
   "metadata": {},
   "outputs": [
    {
     "name": "stdout",
     "output_type": "stream",
     "text": [
      "2.5\n"
     ]
    }
   ],
   "source": [
    "weights_updated = weights - learning_rate * gradient\n",
    "preds_updated = (weights_updated * input_data).sum()\n",
    "error_updated = preds_updated - target\n",
    "print(error_updated)"
   ]
  },
  {
   "cell_type": "code",
   "execution_count": 39,
   "metadata": {},
   "outputs": [
    {
     "name": "stdout",
     "output_type": "stream",
     "text": [
      "[14 28 42]\n"
     ]
    }
   ],
   "source": [
    "input_data = np.array([1, 2, 3])\n",
    "weights = np.array([0, 2, 1])\n",
    "target = 0\n",
    "\n",
    "# Calculate the predictions: preds\n",
    "preds = (weights * input_data).sum()\n",
    "\n",
    "# Calculate the error: error\n",
    "error = preds - target\n",
    "\n",
    "# Calculate the slope: slope\n",
    "slope = 2 * input_data * error\n",
    "\n",
    "# Print the slope\n",
    "print(slope)"
   ]
  },
  {
   "cell_type": "code",
   "execution_count": 41,
   "metadata": {},
   "outputs": [
    {
     "name": "stdout",
     "output_type": "stream",
     "text": [
      "original weighted error: 7\n",
      "mse updated error: 5.04\n"
     ]
    }
   ],
   "source": [
    "# Set the learning rate: learning_rate\n",
    "learning_rate = 0.01\n",
    "\n",
    "# Calculate the predictions: preds\n",
    "preds = (weights * input_data).sum()\n",
    "\n",
    "# Calculate the error: error\n",
    "error = preds - target\n",
    "\n",
    "# Calculate the slope: slope\n",
    "slope = 2 * input_data * error\n",
    "\n",
    "# Update the weights: weights_updated\n",
    "weights_updated = weights - (learning_rate * slope)\n",
    "\n",
    "# Get updated predictions: preds_updated\n",
    "preds_updated = (weights_updated * input_data).sum()\n",
    "\n",
    "# Calculate updated error: error_updated\n",
    "error_updated = preds_updated - target\n",
    "\n",
    "# Print the original error\n",
    "print('original weighted error:', error)\n",
    "\n",
    "# Print the updated error\n",
    "print('mse updated error:', error_updated)"
   ]
  },
  {
   "cell_type": "code",
   "execution_count": 45,
   "metadata": {},
   "outputs": [],
   "source": [
    "def get_slope(input_data, target, weights):\n",
    "    error = get_error(input_data, target, weights)\n",
    "    slope = 2 * input_data * error\n",
    "    return(slope)\n",
    "\n",
    "def get_mse(input_data, target, weights):\n",
    "    errors = get_error(input_data, target, weights)\n",
    "    mse = np.mean(errors**2)\n",
    "    return(mse)\n",
    "\n",
    "def get_error(input_data, target, weights):\n",
    "    preds = (weights * input_data).sum()\n",
    "    error = preds - target\n",
    "    return(error)"
   ]
  },
  {
   "cell_type": "code",
   "execution_count": 46,
   "metadata": {},
   "outputs": [],
   "source": [
    "import matplotlib.pyplot as plt"
   ]
  },
  {
   "cell_type": "code",
   "execution_count": 47,
   "metadata": {},
   "outputs": [
    {
     "name": "stderr",
     "output_type": "stream",
     "text": [
      "100%|██████████| 20/20 [00:00<00:00, 8658.76it/s]\n"
     ]
    },
    {
     "data": {
      "image/png": "[encoded data removed]",
      "text/plain": [
       "<Figure size 432x288 with 1 Axes>"
      ]
     },
     "metadata": {
      "needs_background": "light"
     },
     "output_type": "display_data"
    }
   ],
   "source": [
    "n_updates = 20\n",
    "mse_hist = []\n",
    "\n",
    "# Iterate over the number of updates\n",
    "for i in tqdm(range(n_updates)):\n",
    "    # Calculate the slope: slope\n",
    "    slope = get_slope(input_data, target, weights)\n",
    "    \n",
    "    # Update the weights: weights\n",
    "    weights = weights - 0.01 * slope\n",
    "    \n",
    "    # Calculate mse with new weights: mse\n",
    "    mse = get_mse(input_data, target, weights)\n",
    "    \n",
    "    # Append the mse to mse_hist\n",
    "    mse_hist.append(mse)\n",
    "\n",
    "# Plot the mse history\n",
    "plt.plot(mse_hist)\n",
    "plt.xlabel('Iterations')\n",
    "plt.ylabel('Mean Squared Error')\n",
    "plt.show()"
   ]
  },
  {
   "cell_type": "markdown",
   "metadata": {},
   "source": [
    "# Backpropagation\n",
    "\n",
    "- Calculate slopes in more complex models\n",
    "- Allows gradient descent to update all weights in neural network (by getting gradients for all weights)\n",
    "- Comes from chain rule of calculus\n",
    "- Important to understand the process, but you will generally use a library that implements this\n",
    "\n",
    "# Process\n",
    "- Trying to estimate the slope of the loss function w.r.t. each weight\n",
    "- Do forward propagation to calculate predictions and errors\n",
    "    - Go back one layer at a time\n",
    "    - Gradients for weight is product of:\n",
    "        1. Node value feeding into that weight\n",
    "        2. Slope of loss function w.r.t. node it feeds into\n",
    "        3. Slope of activation function at the node it feeds into\n",
    "    \n",
    "- Need to also keep track of the slpes of the loss function w.r.t. node values\n",
    "- Slope of node values are the sum of the slopes for all weights that come out of them\n",
    "\n",
    "- Each time you generate predictions using forward propagation, you update the weights using backward propagation.\n",
    "\n",
    "# Calculating slopes associated with any weight\n",
    "- Gradient for weight is product of:\n",
    "    1. Node value feeding into that weight\n",
    "    2. Slope of activation function for the node being fed into\n",
    "    3. Slope of loss function w.r.t. output node\n",
    "    \n",
    "# Recap\n",
    "- Start at some random set of weights\n",
    "- Use forward propagation to make a prediction\n",
    "- Use backward propagation to calculate the slope of the loss function w.r.t. each weight\n",
    "- Multiply that slope by the learning rate, and subtract from the current weights\n",
    "- Keep going with that cycle until we get to a flat part\n",
    "\n",
    "# Stochastic gradient descent\n",
    "- It is common to calculate slopes on only a subset of the data ('batch')\n",
    "- Use a different batch of data to calculate the next update\n",
    "- Start over from the beginning once all data is used\n",
    "- Each time through the training data is called an epoch\n",
    "- When slopes are calculated on one batch at a time:\n",
    "    - stochastic gradient descent\n",
    "    \n",
    "# Creating a keras model\n",
    "## Model building steps\n",
    "- Specify Architecture\n",
    "- Compile\n",
    "- Fit\n",
    "- Predict\n",
    "\n",
    "```python\n",
    "import numpy as np\n",
    "from keras.layers import Dense\n",
    "from keras.models import Sequential\n",
    "\n",
    "predictors = np.loadtxt('predictors_data.csv',\n",
    "                        delimiter=',')\n",
    "n_cols = predictors.shape[1]\n",
    "\n",
    "model = Sequential()\n",
    "model.add(Dense(100, activation='relu', \n",
    "                input_shape = (n_cols,)))\n",
    "model.add(Dense(100, activation='relu'))\n",
    "model.add(Dense(1))\n",
    "```"
   ]
  },
  {
   "cell_type": "code",
   "execution_count": 54,
   "metadata": {},
   "outputs": [],
   "source": [
    "predictors = np.loadtxt('hourly_wages.csv', delimiter=',', skiprows=1, usecols=(1, 2, 3, 4, 5, 6, 7, 8, 9))"
   ]
  },
  {
   "cell_type": "code",
   "execution_count": 55,
   "metadata": {},
   "outputs": [],
   "source": [
    "# Import necessary modules\n",
    "import keras\n",
    "from keras.layers import Dense\n",
    "from keras.models import Sequential\n",
    "\n",
    "# Save the number of columns in predictors: n_cols\n",
    "n_cols = predictors.shape[1]\n",
    "\n",
    "# Set up the model: model\n",
    "model = Sequential()\n",
    "\n",
    "# Add the first layer\n",
    "model.add(Dense(50, activation='relu', input_shape=(n_cols,)))\n",
    "\n",
    "# Add the second layer\n",
    "model.add(Dense(32, activation='relu'))\n",
    "\n",
    "# Add the output layer\n",
    "model.add(Dense(1))"
   ]
  },
  {
   "cell_type": "markdown",
   "metadata": {},
   "source": [
    "# Compiling and fitting a model\n",
    "- Specify the optimizer\n",
    "    - Controls the learning rate\n",
    "    - Many options and mathematically comples\n",
    "    - \"Adam\" is usually a good choice\n",
    "- Loss function\n",
    "    - \"mean_squared_error\" common for regression\n",
    "```python\n",
    "model.compile(optimizer='adam', loss='mean_squared_error')\n",
    "```\n",
    "\n",
    "# Fitting a model\n",
    "- Applying backpropagation and gradient descent with your data to update the weights\n",
    "- Scaling data before fitting can ease optimization\n",
    "\n",
    "```python\n",
    "model.fit(predictors, target)\n",
    "```"
   ]
  },
  {
   "cell_type": "code",
   "execution_count": 56,
   "metadata": {},
   "outputs": [
    {
     "name": "stdout",
     "output_type": "stream",
     "text": [
      "Loss function: mean_squared_error\n"
     ]
    }
   ],
   "source": [
    "# Compile the model\n",
    "model.compile(optimizer='adam', loss='mean_squared_error')\n",
    "\n",
    "# Verify that model contains information from compiling\n",
    "print(\"Loss function: \" + model.loss)"
   ]
  },
  {
   "cell_type": "code",
   "execution_count": 57,
   "metadata": {},
   "outputs": [],
   "source": [
    "target = np.loadtxt('hourly_wages.csv', delimiter=',', skiprows=1, usecols=(0))"
   ]
  },
  {
   "cell_type": "code",
   "execution_count": 58,
   "metadata": {},
   "outputs": [
    {
     "name": "stdout",
     "output_type": "stream",
     "text": [
      "Epoch 1/1\n",
      "534/534 [==============================] - 0s 693us/step - loss: 142.1494\n"
     ]
    },
    {
     "data": {
      "text/plain": [
       "<keras.callbacks.History at 0x1a2d232fd0>"
      ]
     },
     "execution_count": 58,
     "metadata": {},
     "output_type": "execute_result"
    }
   ],
   "source": [
    "# Import necessary modules\n",
    "import keras\n",
    "from keras.layers import Dense\n",
    "from keras.models import Sequential\n",
    "\n",
    "# Specify the model\n",
    "n_cols = predictors.shape[1]\n",
    "model = Sequential()\n",
    "model.add(Dense(50, activation='relu', input_shape = (n_cols,)))\n",
    "model.add(Dense(32, activation='relu'))\n",
    "model.add(Dense(1))\n",
    "\n",
    "# Compile the model\n",
    "model.compile(optimizer='adam', loss='mean_squared_error')\n",
    "\n",
    "# Fit the model\n",
    "model.fit(predictors, target)"
   ]
  },
  {
   "cell_type": "markdown",
   "metadata": {},
   "source": [
    "# Classification\n",
    "- 'categarical_crossentropy' loss function\n",
    "- Similar to log loss: Lower is better\n",
    "- Add metrics = `['accuracy']` to compile step for easy-to-understand diagnostics\n",
    "- Output layer has separate node for each possible outcome and uses `softmax` activation\n",
    "\n",
    "```python\n",
    "from keras.utils import to_categorical\n",
    "data = pd.read_csv('basketball_shot_log.csv')\n",
    "predictors = data.drop(['shot_results']), axis=1).as_matrix()\n",
    "target = to_categorical(data.shot_result)\n",
    "\n",
    "model = Sequential()\n",
    "model.add(Dense(100, activation='relu', \n",
    "                input_shape = (n_cols,)))\n",
    "model.add(Dense(100, activation='relu'))\n",
    "model.add(Dense(100, activation='relu'))\n",
    "model.add(Dense(2, activation='softmax'))\n",
    "\n",
    "model.compile(optimizer='adam', loss='categorical_crossentropy', metrics=['accuracy'])\n",
    "model.fit(predictors, target)\n",
    "```"
   ]
  },
  {
   "cell_type": "code",
   "execution_count": 59,
   "metadata": {},
   "outputs": [],
   "source": [
    "import pandas as pd"
   ]
  },
  {
   "cell_type": "code",
   "execution_count": 68,
   "metadata": {},
   "outputs": [
    {
     "data": {
      "text/html": [
       "<div>\n",
       "<style scoped>\n",
       "    .dataframe tbody tr th:only-of-type {\n",
       "        vertical-align: middle;\n",
       "    }\n",
       "\n",
       "    .dataframe tbody tr th {\n",
       "        vertical-align: top;\n",
       "    }\n",
       "\n",
       "    .dataframe thead th {\n",
       "        text-align: right;\n",
       "    }\n",
       "</style>\n",
       "<table border=\"1\" class=\"dataframe\">\n",
       "  <thead>\n",
       "    <tr style=\"text-align: right;\">\n",
       "      <th></th>\n",
       "      <th>survived</th>\n",
       "      <th>pclass</th>\n",
       "      <th>age</th>\n",
       "      <th>sibsp</th>\n",
       "      <th>parch</th>\n",
       "      <th>fare</th>\n",
       "      <th>male</th>\n",
       "      <th>embarked_from_cherbourg</th>\n",
       "      <th>embarked_from_queenstown</th>\n",
       "      <th>embarked_from_southampton</th>\n",
       "    </tr>\n",
       "  </thead>\n",
       "  <tbody>\n",
       "    <tr>\n",
       "      <th>count</th>\n",
       "      <td>891.000000</td>\n",
       "      <td>891.000000</td>\n",
       "      <td>891.000000</td>\n",
       "      <td>891.000000</td>\n",
       "      <td>891.000000</td>\n",
       "      <td>891.000000</td>\n",
       "      <td>891.000000</td>\n",
       "      <td>891.000000</td>\n",
       "      <td>891.000000</td>\n",
       "      <td>891.000000</td>\n",
       "    </tr>\n",
       "    <tr>\n",
       "      <th>mean</th>\n",
       "      <td>0.383838</td>\n",
       "      <td>2.308642</td>\n",
       "      <td>29.699118</td>\n",
       "      <td>0.523008</td>\n",
       "      <td>0.381594</td>\n",
       "      <td>32.204208</td>\n",
       "      <td>0.647587</td>\n",
       "      <td>0.188552</td>\n",
       "      <td>0.086420</td>\n",
       "      <td>0.722783</td>\n",
       "    </tr>\n",
       "    <tr>\n",
       "      <th>std</th>\n",
       "      <td>0.486592</td>\n",
       "      <td>0.836071</td>\n",
       "      <td>13.002015</td>\n",
       "      <td>1.102743</td>\n",
       "      <td>0.806057</td>\n",
       "      <td>49.693429</td>\n",
       "      <td>0.477990</td>\n",
       "      <td>0.391372</td>\n",
       "      <td>0.281141</td>\n",
       "      <td>0.447876</td>\n",
       "    </tr>\n",
       "    <tr>\n",
       "      <th>min</th>\n",
       "      <td>0.000000</td>\n",
       "      <td>1.000000</td>\n",
       "      <td>0.420000</td>\n",
       "      <td>0.000000</td>\n",
       "      <td>0.000000</td>\n",
       "      <td>0.000000</td>\n",
       "      <td>0.000000</td>\n",
       "      <td>0.000000</td>\n",
       "      <td>0.000000</td>\n",
       "      <td>0.000000</td>\n",
       "    </tr>\n",
       "    <tr>\n",
       "      <th>25%</th>\n",
       "      <td>0.000000</td>\n",
       "      <td>2.000000</td>\n",
       "      <td>22.000000</td>\n",
       "      <td>0.000000</td>\n",
       "      <td>0.000000</td>\n",
       "      <td>7.910400</td>\n",
       "      <td>0.000000</td>\n",
       "      <td>0.000000</td>\n",
       "      <td>0.000000</td>\n",
       "      <td>0.000000</td>\n",
       "    </tr>\n",
       "    <tr>\n",
       "      <th>50%</th>\n",
       "      <td>0.000000</td>\n",
       "      <td>3.000000</td>\n",
       "      <td>29.699118</td>\n",
       "      <td>0.000000</td>\n",
       "      <td>0.000000</td>\n",
       "      <td>14.454200</td>\n",
       "      <td>1.000000</td>\n",
       "      <td>0.000000</td>\n",
       "      <td>0.000000</td>\n",
       "      <td>1.000000</td>\n",
       "    </tr>\n",
       "    <tr>\n",
       "      <th>75%</th>\n",
       "      <td>1.000000</td>\n",
       "      <td>3.000000</td>\n",
       "      <td>35.000000</td>\n",
       "      <td>1.000000</td>\n",
       "      <td>0.000000</td>\n",
       "      <td>31.000000</td>\n",
       "      <td>1.000000</td>\n",
       "      <td>0.000000</td>\n",
       "      <td>0.000000</td>\n",
       "      <td>1.000000</td>\n",
       "    </tr>\n",
       "    <tr>\n",
       "      <th>max</th>\n",
       "      <td>1.000000</td>\n",
       "      <td>3.000000</td>\n",
       "      <td>80.000000</td>\n",
       "      <td>8.000000</td>\n",
       "      <td>6.000000</td>\n",
       "      <td>512.329200</td>\n",
       "      <td>1.000000</td>\n",
       "      <td>1.000000</td>\n",
       "      <td>1.000000</td>\n",
       "      <td>1.000000</td>\n",
       "    </tr>\n",
       "  </tbody>\n",
       "</table>\n",
       "</div>"
      ],
      "text/plain": [
       "         survived      pclass         age       sibsp       parch        fare  \\\n",
       "count  891.000000  891.000000  891.000000  891.000000  891.000000  891.000000   \n",
       "mean     0.383838    2.308642   29.699118    0.523008    0.381594   32.204208   \n",
       "std      0.486592    0.836071   13.002015    1.102743    0.806057   49.693429   \n",
       "min      0.000000    1.000000    0.420000    0.000000    0.000000    0.000000   \n",
       "25%      0.000000    2.000000   22.000000    0.000000    0.000000    7.910400   \n",
       "50%      0.000000    3.000000   29.699118    0.000000    0.000000   14.454200   \n",
       "75%      1.000000    3.000000   35.000000    1.000000    0.000000   31.000000   \n",
       "max      1.000000    3.000000   80.000000    8.000000    6.000000  512.329200   \n",
       "\n",
       "             male  embarked_from_cherbourg  embarked_from_queenstown  \\\n",
       "count  891.000000               891.000000                891.000000   \n",
       "mean     0.647587                 0.188552                  0.086420   \n",
       "std      0.477990                 0.391372                  0.281141   \n",
       "min      0.000000                 0.000000                  0.000000   \n",
       "25%      0.000000                 0.000000                  0.000000   \n",
       "50%      1.000000                 0.000000                  0.000000   \n",
       "75%      1.000000                 0.000000                  0.000000   \n",
       "max      1.000000                 1.000000                  1.000000   \n",
       "\n",
       "       embarked_from_southampton  \n",
       "count                 891.000000  \n",
       "mean                    0.722783  \n",
       "std                     0.447876  \n",
       "min                     0.000000  \n",
       "25%                     0.000000  \n",
       "50%                     1.000000  \n",
       "75%                     1.000000  \n",
       "max                     1.000000  "
      ]
     },
     "execution_count": 68,
     "metadata": {},
     "output_type": "execute_result"
    }
   ],
   "source": [
    "df = pd.read_csv('titanic_all_numeric.csv')\n",
    "df.describe()"
   ]
  },
  {
   "cell_type": "code",
   "execution_count": 70,
   "metadata": {},
   "outputs": [
    {
     "name": "stdout",
     "output_type": "stream",
     "text": [
      "Epoch 1/1\n",
      "891/891 [==============================] - 0s 401us/step - loss: 3.3760 - acc: 0.6117\n"
     ]
    },
    {
     "data": {
      "text/plain": [
       "<keras.callbacks.History at 0x1a2dab1d68>"
      ]
     },
     "execution_count": 70,
     "metadata": {},
     "output_type": "execute_result"
    }
   ],
   "source": [
    "# Import necessary modules\n",
    "import keras\n",
    "from keras.layers import Dense\n",
    "from keras.models import Sequential\n",
    "from keras.utils import to_categorical\n",
    "\n",
    "# Convert the target to categorical: target\n",
    "predictors = df.drop('survived', axis=1).values\n",
    "target = to_categorical(df.survived)\n",
    "\n",
    "n_cols = predictors.shape[1]\n",
    "# Set up the model\n",
    "model = Sequential()\n",
    "\n",
    "# Add the first layer\n",
    "model.add(Dense(32, activation='relu', \n",
    "                input_shape = (n_cols,)))\n",
    "\n",
    "# Add the output layer\n",
    "model.add(Dense(2, activation='softmax'))\n",
    "\n",
    "# Compile the model\n",
    "model.compile(optimizer='sgd', loss='categorical_crossentropy', metrics=['accuracy'])\n",
    "\n",
    "# Fit the model\n",
    "model.fit(predictors, target)"
   ]
  },
  {
   "cell_type": "markdown",
   "metadata": {},
   "source": [
    "# Using a Model\n",
    "- Save\n",
    "- Reload\n",
    "- Make Predictions\n",
    "\n",
    "```python\n",
    "from keras.models import load_model\n",
    "model.save('model_file.h5')\n",
    "my_model = load_model('my_model.h5')\n",
    "predictions = my_model.predict(data_to_predict_with)\n",
    "probability_true = predictions[:,1]\n",
    "```\n",
    "\n",
    "# Verify model structure\n",
    "```python\n",
    "my_model.summary()\n",
    "```"
   ]
  },
  {
   "cell_type": "code",
   "execution_count": 71,
   "metadata": {},
   "outputs": [],
   "source": [
    "pred_data = np.array([[2, 34.0, 0, 0, 13.0, 1, False, 0, 0, 1],\n",
    "                       [2, 31.0, 1, 1, 26.25, 0, False, 0, 0, 1],\n",
    "                       [1, 11.0, 1, 2, 120.0, 1, False, 0, 0, 1],\n",
    "                       [3, 0.42, 0, 1, 8.5167, 1, False, 1, 0, 0],\n",
    "                       [3, 27.0, 0, 0, 6.975, 1, False, 0, 0, 1],\n",
    "                       [3, 31.0, 0, 0, 7.775, 1, False, 0, 0, 1],\n",
    "                       [1, 39.0, 0, 0, 0.0, 1, False, 0, 0, 1],\n",
    "                       [3, 18.0, 0, 0, 7.775, 0, False, 0, 0, 1],\n",
    "                       [2, 39.0, 0, 0, 13.0, 1, False, 0, 0, 1],\n",
    "                       [1, 33.0, 1, 0, 53.1, 0, False, 0, 0, 1],\n",
    "                       [3, 26.0, 0, 0, 7.8875, 1, False, 0, 0, 1],\n",
    "                       [3, 39.0, 0, 0, 24.15, 1, False, 0, 0, 1],\n",
    "                       [2, 35.0, 0, 0, 10.5, 1, False, 0, 0, 1],\n",
    "                       [3, 6.0, 4, 2, 31.275, 0, False, 0, 0, 1],\n",
    "                       [3, 30.5, 0, 0, 8.05, 1, False, 0, 0, 1],\n",
    "                       [1, 29.69911764705882, 0, 0, 0.0, 1, True, 0, 0, 1],\n",
    "                       [3, 23.0, 0, 0, 7.925, 0, False, 0, 0, 1],\n",
    "                       [2, 31.0, 1, 1, 37.0042, 1, False, 1, 0, 0],\n",
    "                       [3, 43.0, 0, 0, 6.45, 1, False, 0, 0, 1],\n",
    "                       [3, 10.0, 3, 2, 27.9, 1, False, 0, 0, 1],\n",
    "                       [1, 52.0, 1, 1, 93.5, 0, False, 0, 0, 1],\n",
    "                       [3, 27.0, 0, 0, 8.6625, 1, False, 0, 0, 1],\n",
    "                       [1, 38.0, 0, 0, 0.0, 1, False, 0, 0, 1],\n",
    "                       [3, 27.0, 0, 1, 12.475, 0, False, 0, 0, 1],\n",
    "                       [3, 2.0, 4, 1, 39.6875, 1, False, 0, 0, 1],\n",
    "                       [3, 29.69911764705882, 0, 0, 6.95, 1, True, 0, 1, 0],\n",
    "                       [3, 29.69911764705882, 0, 0, 56.4958, 1, True, 0, 0, 1],\n",
    "                       [2, 1.0, 0, 2, 37.0042, 1, False, 1, 0, 0],\n",
    "                       [3, 29.69911764705882, 0, 0, 7.75, 1, True, 0, 1, 0],\n",
    "                       [1, 62.0, 0, 0, 80.0, 0, False, 0, 0, 0],\n",
    "                       [3, 15.0, 1, 0, 14.4542, 0, False, 1, 0, 0],\n",
    "                       [2, 0.83, 1, 1, 18.75, 1, False, 0, 0, 1],\n",
    "                       [3, 29.69911764705882, 0, 0, 7.2292, 1, True, 1, 0, 0],\n",
    "                       [3, 23.0, 0, 0, 7.8542, 1, False, 0, 0, 1],\n",
    "                       [3, 18.0, 0, 0, 8.3, 1, False, 0, 0, 1],\n",
    "                       [1, 39.0, 1, 1, 83.1583, 0, False, 1, 0, 0],\n",
    "                       [3, 21.0, 0, 0, 8.6625, 1, False, 0, 0, 1],\n",
    "                       [3, 29.69911764705882, 0, 0, 8.05, 1, True, 0, 0, 1],\n",
    "                       [3, 32.0, 0, 0, 56.4958, 1, False, 0, 0, 1],\n",
    "                       [1, 29.69911764705882, 0, 0, 29.7, 1, True, 1, 0, 0],\n",
    "                       [3, 20.0, 0, 0, 7.925, 1, False, 0, 0, 1],\n",
    "                       [2, 16.0, 0, 0, 10.5, 1, False, 0, 0, 1],\n",
    "                       [1, 30.0, 0, 0, 31.0, 0, False, 1, 0, 0],\n",
    "                       [3, 34.5, 0, 0, 6.4375, 1, False, 1, 0, 0],\n",
    "                       [3, 17.0, 0, 0, 8.6625, 1, False, 0, 0, 1],\n",
    "                       [3, 42.0, 0, 0, 7.55, 1, False, 0, 0, 1],\n",
    "                       [3, 29.69911764705882, 8, 2, 69.55, 1, True, 0, 0, 1],\n",
    "                       [3, 35.0, 0, 0, 7.8958, 1, False, 1, 0, 0],\n",
    "                       [2, 28.0, 0, 1, 33.0, 1, False, 0, 0, 1],\n",
    "                       [1, 29.69911764705882, 1, 0, 89.1042, 0, True, 1, 0, 0],\n",
    "                       [3, 4.0, 4, 2, 31.275, 1, False, 0, 0, 1],\n",
    "                       [3, 74.0, 0, 0, 7.775, 1, False, 0, 0, 1],\n",
    "                       [3, 9.0, 1, 1, 15.2458, 0, False, 1, 0, 0],\n",
    "                       [1, 16.0, 0, 1, 39.4, 0, False, 0, 0, 1],\n",
    "                       [2, 44.0, 1, 0, 26.0, 0, False, 0, 0, 1],\n",
    "                       [3, 18.0, 0, 1, 9.35, 0, False, 0, 0, 1],\n",
    "                       [1, 45.0, 1, 1, 164.8667, 0, False, 0, 0, 1],\n",
    "                       [1, 51.0, 0, 0, 26.55, 1, False, 0, 0, 1],\n",
    "                       [3, 24.0, 0, 3, 19.2583, 0, False, 1, 0, 0],\n",
    "                       [3, 29.69911764705882, 0, 0, 7.2292, 1, True, 1, 0, 0],\n",
    "                       [3, 41.0, 2, 0, 14.1083, 1, False, 0, 0, 1],\n",
    "                       [2, 21.0, 1, 0, 11.5, 1, False, 0, 0, 1],\n",
    "                       [1, 48.0, 0, 0, 25.9292, 0, False, 0, 0, 1],\n",
    "                       [3, 29.69911764705882, 8, 2, 69.55, 0, True, 0, 0, 1],\n",
    "                       [2, 24.0, 0, 0, 13.0, 1, False, 0, 0, 1],\n",
    "                       [2, 42.0, 0, 0, 13.0, 0, False, 0, 0, 1],\n",
    "                       [2, 27.0, 1, 0, 13.8583, 0, False, 1, 0, 0],\n",
    "                       [1, 31.0, 0, 0, 50.4958, 1, False, 0, 0, 1],\n",
    "                       [3, 29.69911764705882, 0, 0, 9.5, 1, True, 0, 0, 1],\n",
    "                       [3, 4.0, 1, 1, 11.1333, 1, False, 0, 0, 1],\n",
    "                       [3, 26.0, 0, 0, 7.8958, 1, False, 0, 0, 1],\n",
    "                       [1, 47.0, 1, 1, 52.5542, 0, False, 0, 0, 1],\n",
    "                       [1, 33.0, 0, 0, 5.0, 1, False, 0, 0, 1],\n",
    "                       [3, 47.0, 0, 0, 9.0, 1, False, 0, 0, 1],\n",
    "                       [2, 28.0, 1, 0, 24.0, 0, False, 1, 0, 0],\n",
    "                       [3, 15.0, 0, 0, 7.225, 0, False, 1, 0, 0],\n",
    "                       [3, 20.0, 0, 0, 9.8458, 1, False, 0, 0, 1],\n",
    "                       [3, 19.0, 0, 0, 7.8958, 1, False, 0, 0, 1],\n",
    "                       [3, 29.69911764705882, 0, 0, 7.8958, 1, True, 0, 0, 1],\n",
    "                       [1, 56.0, 0, 1, 83.1583, 0, False, 1, 0, 0],\n",
    "                       [2, 25.0, 0, 1, 26.0, 0, False, 0, 0, 1],\n",
    "                       [3, 33.0, 0, 0, 7.8958, 1, False, 0, 0, 1],\n",
    "                       [3, 22.0, 0, 0, 10.5167, 0, False, 0, 0, 1],\n",
    "                       [2, 28.0, 0, 0, 10.5, 1, False, 0, 0, 1],\n",
    "                       [3, 25.0, 0, 0, 7.05, 1, False, 0, 0, 1],\n",
    "                       [3, 39.0, 0, 5, 29.125, 0, False, 0, 1, 0],\n",
    "                       [2, 27.0, 0, 0, 13.0, 1, False, 0, 0, 1],\n",
    "                       [1, 19.0, 0, 0, 30.0, 0, False, 0, 0, 1],\n",
    "                       [3, 29.69911764705882, 1, 2, 23.45, 0, True, 0, 0, 1],\n",
    "                       [1, 26.0, 0, 0, 30.0, 1, False, 1, 0, 0],\n",
    "                       [3, 32.0, 0, 0, 7.75, 1, False, 0, 1, 0]])"
   ]
  },
  {
   "cell_type": "code",
   "execution_count": 73,
   "metadata": {},
   "outputs": [
    {
     "name": "stdout",
     "output_type": "stream",
     "text": [
      "Epoch 1/10\n",
      "891/891 [==============================] - 0s 311us/step - loss: 2.1064 - acc: 0.6341\n",
      "Epoch 2/10\n",
      "891/891 [==============================] - 0s 35us/step - loss: 1.0919 - acc: 0.6352\n",
      "Epoch 3/10\n",
      "891/891 [==============================] - 0s 34us/step - loss: 0.8708 - acc: 0.6498\n",
      "Epoch 4/10\n",
      "891/891 [==============================] - 0s 35us/step - loss: 0.7861 - acc: 0.6599\n",
      "Epoch 5/10\n",
      "891/891 [==============================] - 0s 34us/step - loss: 0.6228 - acc: 0.6925\n",
      "Epoch 6/10\n",
      "891/891 [==============================] - 0s 34us/step - loss: 0.6328 - acc: 0.6712\n",
      "Epoch 7/10\n",
      "891/891 [==============================] - 0s 35us/step - loss: 0.6131 - acc: 0.6936\n",
      "Epoch 8/10\n",
      "891/891 [==============================] - 0s 34us/step - loss: 0.6112 - acc: 0.6902\n",
      "Epoch 9/10\n",
      "891/891 [==============================] - 0s 36us/step - loss: 0.6042 - acc: 0.6801\n",
      "Epoch 10/10\n",
      "891/891 [==============================] - 0s 34us/step - loss: 0.5919 - acc: 0.6958\n",
      "[0.37030083 0.6444879  0.5778268  0.47343683 0.3201881  0.3089974\n",
      " 0.200852   0.4357397  0.34238505 0.68852323 0.3370084  0.4829468\n",
      " 0.33237252 0.3874732  0.3149683  0.24750906 0.40813124 0.5655973\n",
      " 0.23642288 0.36338478 0.79009193 0.34143057 0.205132   0.43893206\n",
      " 0.39797175 0.3207923  0.60639    0.48130372 0.32973105 0.7911299\n",
      " 0.52731514 0.4552885  0.33088863 0.35308763 0.38736996 0.75063384\n",
      " 0.375002   0.3232634  0.63964    0.58760685 0.37088704 0.441569\n",
      " 0.6268384  0.2883391  0.39809448 0.25247142 0.39036405 0.30307567\n",
      " 0.57079995 0.72586423 0.38167146 0.13004848 0.45265937 0.62113196\n",
      " 0.56771034 0.44915643 0.85688716 0.46367246 0.534719   0.33088863\n",
      " 0.36991853 0.4447491  0.5314867  0.42866358 0.42863744 0.378489\n",
      " 0.51463103 0.66786456 0.34156194 0.39163518 0.33711386 0.7133067\n",
      " 0.2829645  0.24512976 0.6245677  0.46156397 0.39671743 0.3761967\n",
      " 0.32134756 0.767076   0.58236516 0.3001376  0.4501826  0.37121356\n",
      " 0.33182576 0.5751615  0.41084653 0.6088769  0.5924892  0.57985365\n",
      " 0.31057587]\n"
     ]
    }
   ],
   "source": [
    "# Specify, compile, and fit the model\n",
    "model = Sequential()\n",
    "model.add(Dense(32, activation='relu', input_shape = (n_cols,)))\n",
    "model.add(Dense(2, activation='softmax'))\n",
    "model.compile(optimizer='sgd', \n",
    "              loss='categorical_crossentropy', \n",
    "              metrics=['accuracy'])\n",
    "model.fit(predictors, target, epochs=10)\n",
    "\n",
    "# Calculate predictions: predictions\n",
    "predictions = model.predict(pred_data)\n",
    "\n",
    "# Calculate predicted probability of survival: predicted_prob_true\n",
    "predicted_prob_true = predictions[:,1]\n",
    "\n",
    "# print predicted_prob_true\n",
    "print(predicted_prob_true)"
   ]
  },
  {
   "cell_type": "markdown",
   "metadata": {},
   "source": [
    "# Understanding model optimization\n",
    "## Why optimization is hard\n",
    "- Simultaneously optimizing 1000s of parameters with complex relationships\n",
    "- Updates may not improve model meaningfully\n",
    "- Updates too small (if learning rate is low) or too large (if learning rate is high)\n",
    "\n",
    "```python\n",
    "def get_new_model(input_shape = input_shape):\n",
    "    model = Sequential()\n",
    "    model.add(Dense(100, activation='relu', input_shape = input_shape))\n",
    "    model.add(Dense(100, activation='relu'))\n",
    "    model.add(Dense(2, activation='softmax'))\n",
    "    return(model)\n",
    "lr_to_test = [.000001, 0.01, 1]\n",
    "for lr in lr_to_test:\n",
    "    model = get_new_model()\n",
    "    my_optimizer = SGD(lr=lr)\n",
    "    model.compile(optimizer=my_optimizer, loss='categorical_crossentropy')\n",
    "    model.fit(predictors, target)\n",
    "```\n",
    "\n",
    "# Dying neuron problem\n",
    "- Once a node starts always getting negative inputs (recall `relu`)\n",
    "    - It may continue only getting negative inputs\n",
    "- Contributes nothing to the model\n",
    "    - \"Dead\" neuron\n",
    "    \n",
    "# Vanishing gradients\n",
    "- Occurs when many layers have very small slopes (e.g. due to being on flat part of `tanh` curve)\n",
    "- In deep networks, updates to backprop were close to 0"
   ]
  },
  {
   "cell_type": "code",
   "execution_count": 75,
   "metadata": {},
   "outputs": [],
   "source": [
    "input_shape = (10,)\n",
    "def get_new_model(input_shape = input_shape):\n",
    "    model = Sequential()\n",
    "    model.add(Dense(100, activation='relu', input_shape = input_shape))\n",
    "    model.add(Dense(100, activation='relu'))\n",
    "    model.add(Dense(2, activation='softmax'))\n",
    "    return(model)"
   ]
  },
  {
   "cell_type": "code",
   "execution_count": 77,
   "metadata": {},
   "outputs": [
    {
     "name": "stderr",
     "output_type": "stream",
     "text": [
      "\r",
      "  0%|          | 0/3 [00:00<?, ?it/s]"
     ]
    },
    {
     "name": "stdout",
     "output_type": "stream",
     "text": [
      "\n",
      "\n",
      "Testing model with learning rate: 0.000001\n",
      "\n",
      "Epoch 1/10\n",
      "891/891 [==============================] - 0s 440us/step - loss: 3.0788\n",
      "Epoch 2/10\n",
      "891/891 [==============================] - 0s 41us/step - loss: 3.0282\n",
      "Epoch 3/10\n",
      "891/891 [==============================] - 0s 41us/step - loss: 2.9779\n",
      "Epoch 4/10\n",
      "891/891 [==============================] - 0s 40us/step - loss: 2.9281\n",
      "Epoch 5/10\n",
      "891/891 [==============================] - 0s 40us/step - loss: 2.8786\n",
      "Epoch 6/10\n",
      "891/891 [==============================] - 0s 40us/step - loss: 2.8294\n",
      "Epoch 7/10\n",
      "891/891 [==============================] - 0s 40us/step - loss: 2.7808\n",
      "Epoch 8/10\n",
      "891/891 [==============================] - 0s 39us/step - loss: 2.7326\n",
      "Epoch 9/10\n",
      "891/891 [==============================] - 0s 40us/step - loss: 2.6851\n",
      "Epoch 10/10\n",
      "891/891 [==============================] - 0s 40us/step - loss: 2.6383\n"
     ]
    },
    {
     "name": "stderr",
     "output_type": "stream",
     "text": [
      "\r",
      " 33%|███▎      | 1/3 [00:00<00:01,  1.01it/s]"
     ]
    },
    {
     "name": "stdout",
     "output_type": "stream",
     "text": [
      "\n",
      "\n",
      "Testing model with learning rate: 0.010000\n",
      "\n",
      "Epoch 1/10\n",
      "891/891 [==============================] - 0s 459us/step - loss: 2.0843\n",
      "Epoch 2/10\n",
      "891/891 [==============================] - 0s 41us/step - loss: 0.7650\n",
      "Epoch 3/10\n",
      "891/891 [==============================] - 0s 42us/step - loss: 0.6427\n",
      "Epoch 4/10\n",
      "891/891 [==============================] - 0s 41us/step - loss: 0.6521\n",
      "Epoch 5/10\n",
      "891/891 [==============================] - 0s 40us/step - loss: 0.6042\n",
      "Epoch 6/10\n",
      "891/891 [==============================] - 0s 44us/step - loss: 0.6262\n",
      "Epoch 7/10\n",
      "891/891 [==============================] - 0s 45us/step - loss: 0.6022\n",
      "Epoch 8/10\n",
      "891/891 [==============================] - 0s 46us/step - loss: 0.5978\n",
      "Epoch 9/10\n",
      "891/891 [==============================] - 0s 46us/step - loss: 0.6087\n",
      "Epoch 10/10\n",
      "891/891 [==============================] - 0s 45us/step - loss: 0.5831\n"
     ]
    },
    {
     "name": "stderr",
     "output_type": "stream",
     "text": [
      "\r",
      " 67%|██████▋   | 2/3 [00:02<00:01,  1.00s/it]"
     ]
    },
    {
     "name": "stdout",
     "output_type": "stream",
     "text": [
      "\n",
      "\n",
      "Testing model with learning rate: 1.000000\n",
      "\n",
      "Epoch 1/10\n",
      "891/891 [==============================] - 0s 502us/step - loss: 9.5863\n",
      "Epoch 2/10\n",
      "891/891 [==============================] - 0s 44us/step - loss: 9.9314\n",
      "Epoch 3/10\n",
      "891/891 [==============================] - 0s 44us/step - loss: 9.9314\n",
      "Epoch 4/10\n",
      "891/891 [==============================] - 0s 44us/step - loss: 9.9314\n",
      "Epoch 5/10\n",
      "891/891 [==============================] - 0s 44us/step - loss: 9.9314\n",
      "Epoch 6/10\n",
      "891/891 [==============================] - 0s 43us/step - loss: 9.9314\n",
      "Epoch 7/10\n",
      "891/891 [==============================] - 0s 45us/step - loss: 9.9314\n",
      "Epoch 8/10\n",
      "891/891 [==============================] - 0s 43us/step - loss: 9.9314\n",
      "Epoch 9/10\n",
      "891/891 [==============================] - 0s 45us/step - loss: 9.9314\n",
      "Epoch 10/10\n",
      "891/891 [==============================] - 0s 43us/step - loss: 9.9314\n"
     ]
    },
    {
     "name": "stderr",
     "output_type": "stream",
     "text": [
      "100%|██████████| 3/3 [00:03<00:00,  1.06s/it]\n"
     ]
    }
   ],
   "source": [
    "# Import the SGD optimizer\n",
    "from keras.optimizers import SGD\n",
    "\n",
    "# Create list of learning rates: lr_to_test\n",
    "lr_to_test = [.000001, 0.01, 1]\n",
    "\n",
    "# Loop over learning rates\n",
    "for lr in tqdm(lr_to_test):\n",
    "    print('\\n\\nTesting model with learning rate: %f\\n'%lr )\n",
    "    \n",
    "    # Build new model to test, unaffected by previous models\n",
    "    model = get_new_model()\n",
    "    \n",
    "    # Create SGD optimizer with specified learning rate: my_optimizer\n",
    "    my_optimizer = SGD(lr=lr)\n",
    "    \n",
    "    # Compile the model\n",
    "    model.compile(optimizer=my_optimizer, loss='categorical_crossentropy')\n",
    "    \n",
    "    # Fit the model\n",
    "    model.fit(predictors, target, epochs=10)\n",
    "    "
   ]
  },
  {
   "cell_type": "markdown",
   "metadata": {},
   "source": [
    "# Model validation\n",
    "\n",
    "## Validation in deep learning\n",
    "- Commonly use validation spit rather then cross-validation\n",
    "- Deep learning widely used on large datasets\n",
    "- Single validation score is based on large amount of data, and is reliable\n",
    "- Repeated training from cross-validation would take a long time\n",
    "\n",
    "# Validation split\n",
    "```python\n",
    "model.compile(optimizer = 'atom', loss = 'categorical_crossentropy', metrics=['accuracy'])\n",
    "model.fit(predictors, target, validation_split=0.3)\n",
    "```\n",
    "\n",
    "# Early Stopping\n",
    "```python\n",
    "from keras.callbacks import EarlyStopping\n",
    "early_stopping_monitor = EarlyStopping(patience=2)\n",
    "model.fit(predictors, target, validation_split=0.3, epochs=20, callbacks = [early_stopping_monitor])\n",
    "```\n",
    "\n",
    "# Experimentation\n",
    "- Experiment with different architectures\n",
    "- More layers\n",
    "- Fewer layers\n",
    "- Layers with more nodes\n",
    "- Layers with fewer nodes\n",
    "- **Creating a great model requires experimentation**"
   ]
  },
  {
   "cell_type": "code",
   "execution_count": 79,
   "metadata": {},
   "outputs": [
    {
     "name": "stdout",
     "output_type": "stream",
     "text": [
      "Train on 623 samples, validate on 268 samples\n",
      "Epoch 1/30\n",
      "623/623 [==============================] - 1s 1ms/step - loss: 1.9526 - acc: 0.5746 - val_loss: 1.3390 - val_acc: 0.6418\n",
      "Epoch 2/30\n",
      "623/623 [==============================] - 0s 61us/step - loss: 0.8808 - acc: 0.6180 - val_loss: 0.7011 - val_acc: 0.6866\n",
      "Epoch 3/30\n",
      "623/623 [==============================] - 0s 61us/step - loss: 0.7361 - acc: 0.6485 - val_loss: 0.5956 - val_acc: 0.7164\n",
      "Epoch 4/30\n",
      "623/623 [==============================] - 0s 61us/step - loss: 0.7074 - acc: 0.6501 - val_loss: 0.5419 - val_acc: 0.7500\n",
      "Epoch 5/30\n",
      "623/623 [==============================] - 0s 62us/step - loss: 0.6315 - acc: 0.6726 - val_loss: 0.5442 - val_acc: 0.7201\n",
      "Epoch 6/30\n",
      "623/623 [==============================] - 0s 62us/step - loss: 0.6397 - acc: 0.6854 - val_loss: 0.5685 - val_acc: 0.7239\n"
     ]
    }
   ],
   "source": [
    "from keras.callbacks import EarlyStopping\n",
    "early_stopping_monitor = EarlyStopping(patience=2)\n",
    "\n",
    "# Save the number of columns in predictors: n_cols\n",
    "n_cols = predictors.shape[1]\n",
    "input_shape = (n_cols,)\n",
    "\n",
    "# Specify the model\n",
    "model = Sequential()\n",
    "model.add(Dense(100, activation='relu', input_shape = input_shape))\n",
    "model.add(Dense(100, activation='relu'))\n",
    "model.add(Dense(2, activation='softmax'))\n",
    "\n",
    "# Compile the model\n",
    "model.compile(optimizer='adam', loss='categorical_crossentropy', metrics=['accuracy'])\n",
    "\n",
    "# Fit the model\n",
    "hist = model.fit(predictors, target, validation_split=0.3, \n",
    "                 epochs=30, callbacks = [early_stopping_monitor])"
   ]
  },
  {
   "cell_type": "code",
   "execution_count": 81,
   "metadata": {},
   "outputs": [
    {
     "data": {
      "image/png": "[encoded data removed]",
      "text/plain": [
       "<Figure size 432x288 with 1 Axes>"
      ]
     },
     "metadata": {
      "needs_background": "light"
     },
     "output_type": "display_data"
    }
   ],
   "source": [
    "# Specify the model\n",
    "model_1 = Sequential()\n",
    "model_1.add(Dense(10, activation='relu', input_shape = input_shape))\n",
    "model_1.add(Dense(10, activation='relu'))\n",
    "model_1.add(Dense(2, activation='softmax'))\n",
    "\n",
    "# Compile the model\n",
    "model_1.compile(optimizer='adam', loss='categorical_crossentropy', metrics=['accuracy'])\n",
    "\n",
    "# Define early_stopping_monitor\n",
    "early_stopping_monitor = EarlyStopping(patience=2)\n",
    "\n",
    "# Create the new model: model_2\n",
    "model_2 = Sequential()\n",
    "\n",
    "# Add the first and second layers\n",
    "model_2.add(Dense(100, activation='relu', input_shape=input_shape))\n",
    "model_2.add(Dense(100, activation='relu'))\n",
    "\n",
    "# Add the output layer\n",
    "model_2.add(Dense(2, activation='softmax'))\n",
    "\n",
    "# Compile model_2\n",
    "model_2.compile(optimizer='adam', loss='categorical_crossentropy', metrics=['accuracy'])\n",
    "\n",
    "# Fit model_1\n",
    "model_1_training = model_1.fit(predictors, target, epochs=15, validation_split=0.2, callbacks=[early_stopping_monitor], verbose=False)\n",
    "\n",
    "# Fit model_2\n",
    "model_2_training = model_2.fit(predictors, target, epochs=15, validation_split=0.2, callbacks=[early_stopping_monitor], verbose=False)\n",
    "\n",
    "# Create the plot\n",
    "plt.plot(model_1_training.history['val_loss'], 'r', model_2_training.history['val_loss'], 'b')\n",
    "plt.xlabel('Epochs')\n",
    "plt.ylabel('Validation score')\n",
    "plt.show()"
   ]
  },
  {
   "cell_type": "code",
   "execution_count": 83,
   "metadata": {},
   "outputs": [
    {
     "data": {
      "image/png": "[encoded data removed]",
      "text/plain": [
       "<Figure size 432x288 with 1 Axes>"
      ]
     },
     "metadata": {
      "needs_background": "light"
     },
     "output_type": "display_data"
    }
   ],
   "source": [
    "# Specify the model\n",
    "model_1 = Sequential()\n",
    "model_1.add(Dense(50, activation='relu', input_shape = input_shape))\n",
    "model_1.add(Dense(2, activation='softmax'))\n",
    "\n",
    "# Compile the model\n",
    "model_1.compile(optimizer='adam', loss='categorical_crossentropy', metrics=['accuracy'])\n",
    "\n",
    "# The input shape to use in the first hidden layer\n",
    "input_shape = (n_cols,)\n",
    "\n",
    "# Create the new model: model_2\n",
    "model_2 = Sequential()\n",
    "\n",
    "# Add the first, second, and third hidden layers\n",
    "model_2.add(Dense(50, activation='relu', input_shape = input_shape))\n",
    "model_2.add(Dense(50, activation='relu'))\n",
    "model_2.add(Dense(50, activation='relu'))\n",
    "\n",
    "# Add the output layer\n",
    "model_2.add(Dense(2, activation='softmax'))\n",
    "\n",
    "# Compile model_2\n",
    "model_2.compile(optimizer='adam', loss='categorical_crossentropy', metrics=['accuracy'])\n",
    "\n",
    "# Fit model 1\n",
    "model_1_training = model_1.fit(predictors, target, epochs=20, validation_split=0.4, callbacks=[early_stopping_monitor], verbose=False)\n",
    "\n",
    "# Fit model 2\n",
    "model_2_training = model_2.fit(predictors, target, epochs=20, validation_split=0.4, callbacks=[early_stopping_monitor], verbose=False)\n",
    "\n",
    "# Create the plot\n",
    "plt.plot(model_1_training.history['val_loss'], 'r', model_2_training.history['val_loss'], 'b')\n",
    "plt.xlabel('Epochs')\n",
    "plt.ylabel('Validation score')\n",
    "plt.show()"
   ]
  },
  {
   "cell_type": "markdown",
   "metadata": {},
   "source": [
    "# Thinking about model capacity\n",
    "## Overfitting and underfitting\n",
    "\n",
    "# Stepping up to images\n",
    "- MNIST dataset"
   ]
  },
  {
   "cell_type": "code",
   "execution_count": 104,
   "metadata": {},
   "outputs": [
    {
     "data": {
      "text/html": [
       "<div>\n",
       "<style scoped>\n",
       "    .dataframe tbody tr th:only-of-type {\n",
       "        vertical-align: middle;\n",
       "    }\n",
       "\n",
       "    .dataframe tbody tr th {\n",
       "        vertical-align: top;\n",
       "    }\n",
       "\n",
       "    .dataframe thead th {\n",
       "        text-align: right;\n",
       "    }\n",
       "</style>\n",
       "<table border=\"1\" class=\"dataframe\">\n",
       "  <thead>\n",
       "    <tr style=\"text-align: right;\">\n",
       "      <th></th>\n",
       "      <th>0</th>\n",
       "      <th>1</th>\n",
       "      <th>2</th>\n",
       "      <th>3</th>\n",
       "      <th>4</th>\n",
       "      <th>5</th>\n",
       "      <th>6</th>\n",
       "      <th>7</th>\n",
       "      <th>8</th>\n",
       "      <th>9</th>\n",
       "      <th>...</th>\n",
       "      <th>775</th>\n",
       "      <th>776</th>\n",
       "      <th>777</th>\n",
       "      <th>778</th>\n",
       "      <th>779</th>\n",
       "      <th>780</th>\n",
       "      <th>781</th>\n",
       "      <th>782</th>\n",
       "      <th>783</th>\n",
       "      <th>784</th>\n",
       "    </tr>\n",
       "  </thead>\n",
       "  <tbody>\n",
       "    <tr>\n",
       "      <th>count</th>\n",
       "      <td>2000.0000</td>\n",
       "      <td>2000.0</td>\n",
       "      <td>2000.0</td>\n",
       "      <td>2000.0</td>\n",
       "      <td>2000.0</td>\n",
       "      <td>2000.0</td>\n",
       "      <td>2000.0</td>\n",
       "      <td>2000.0</td>\n",
       "      <td>2000.0</td>\n",
       "      <td>2000.0</td>\n",
       "      <td>...</td>\n",
       "      <td>2000.000000</td>\n",
       "      <td>2000.0</td>\n",
       "      <td>2000.0</td>\n",
       "      <td>2000.0</td>\n",
       "      <td>2000.0</td>\n",
       "      <td>2000.0</td>\n",
       "      <td>2000.0</td>\n",
       "      <td>2000.0</td>\n",
       "      <td>2000.0</td>\n",
       "      <td>2000.0</td>\n",
       "    </tr>\n",
       "    <tr>\n",
       "      <th>mean</th>\n",
       "      <td>4.4540</td>\n",
       "      <td>0.0</td>\n",
       "      <td>0.0</td>\n",
       "      <td>0.0</td>\n",
       "      <td>0.0</td>\n",
       "      <td>0.0</td>\n",
       "      <td>0.0</td>\n",
       "      <td>0.0</td>\n",
       "      <td>0.0</td>\n",
       "      <td>0.0</td>\n",
       "      <td>...</td>\n",
       "      <td>0.048500</td>\n",
       "      <td>0.0</td>\n",
       "      <td>0.0</td>\n",
       "      <td>0.0</td>\n",
       "      <td>0.0</td>\n",
       "      <td>0.0</td>\n",
       "      <td>0.0</td>\n",
       "      <td>0.0</td>\n",
       "      <td>0.0</td>\n",
       "      <td>0.0</td>\n",
       "    </tr>\n",
       "    <tr>\n",
       "      <th>std</th>\n",
       "      <td>2.8957</td>\n",
       "      <td>0.0</td>\n",
       "      <td>0.0</td>\n",
       "      <td>0.0</td>\n",
       "      <td>0.0</td>\n",
       "      <td>0.0</td>\n",
       "      <td>0.0</td>\n",
       "      <td>0.0</td>\n",
       "      <td>0.0</td>\n",
       "      <td>0.0</td>\n",
       "      <td>...</td>\n",
       "      <td>2.168986</td>\n",
       "      <td>0.0</td>\n",
       "      <td>0.0</td>\n",
       "      <td>0.0</td>\n",
       "      <td>0.0</td>\n",
       "      <td>0.0</td>\n",
       "      <td>0.0</td>\n",
       "      <td>0.0</td>\n",
       "      <td>0.0</td>\n",
       "      <td>0.0</td>\n",
       "    </tr>\n",
       "    <tr>\n",
       "      <th>min</th>\n",
       "      <td>0.0000</td>\n",
       "      <td>0.0</td>\n",
       "      <td>0.0</td>\n",
       "      <td>0.0</td>\n",
       "      <td>0.0</td>\n",
       "      <td>0.0</td>\n",
       "      <td>0.0</td>\n",
       "      <td>0.0</td>\n",
       "      <td>0.0</td>\n",
       "      <td>0.0</td>\n",
       "      <td>...</td>\n",
       "      <td>0.000000</td>\n",
       "      <td>0.0</td>\n",
       "      <td>0.0</td>\n",
       "      <td>0.0</td>\n",
       "      <td>0.0</td>\n",
       "      <td>0.0</td>\n",
       "      <td>0.0</td>\n",
       "      <td>0.0</td>\n",
       "      <td>0.0</td>\n",
       "      <td>0.0</td>\n",
       "    </tr>\n",
       "    <tr>\n",
       "      <th>25%</th>\n",
       "      <td>2.0000</td>\n",
       "      <td>0.0</td>\n",
       "      <td>0.0</td>\n",
       "      <td>0.0</td>\n",
       "      <td>0.0</td>\n",
       "      <td>0.0</td>\n",
       "      <td>0.0</td>\n",
       "      <td>0.0</td>\n",
       "      <td>0.0</td>\n",
       "      <td>0.0</td>\n",
       "      <td>...</td>\n",
       "      <td>0.000000</td>\n",
       "      <td>0.0</td>\n",
       "      <td>0.0</td>\n",
       "      <td>0.0</td>\n",
       "      <td>0.0</td>\n",
       "      <td>0.0</td>\n",
       "      <td>0.0</td>\n",
       "      <td>0.0</td>\n",
       "      <td>0.0</td>\n",
       "      <td>0.0</td>\n",
       "    </tr>\n",
       "    <tr>\n",
       "      <th>50%</th>\n",
       "      <td>4.0000</td>\n",
       "      <td>0.0</td>\n",
       "      <td>0.0</td>\n",
       "      <td>0.0</td>\n",
       "      <td>0.0</td>\n",
       "      <td>0.0</td>\n",
       "      <td>0.0</td>\n",
       "      <td>0.0</td>\n",
       "      <td>0.0</td>\n",
       "      <td>0.0</td>\n",
       "      <td>...</td>\n",
       "      <td>0.000000</td>\n",
       "      <td>0.0</td>\n",
       "      <td>0.0</td>\n",
       "      <td>0.0</td>\n",
       "      <td>0.0</td>\n",
       "      <td>0.0</td>\n",
       "      <td>0.0</td>\n",
       "      <td>0.0</td>\n",
       "      <td>0.0</td>\n",
       "      <td>0.0</td>\n",
       "    </tr>\n",
       "    <tr>\n",
       "      <th>75%</th>\n",
       "      <td>7.0000</td>\n",
       "      <td>0.0</td>\n",
       "      <td>0.0</td>\n",
       "      <td>0.0</td>\n",
       "      <td>0.0</td>\n",
       "      <td>0.0</td>\n",
       "      <td>0.0</td>\n",
       "      <td>0.0</td>\n",
       "      <td>0.0</td>\n",
       "      <td>0.0</td>\n",
       "      <td>...</td>\n",
       "      <td>0.000000</td>\n",
       "      <td>0.0</td>\n",
       "      <td>0.0</td>\n",
       "      <td>0.0</td>\n",
       "      <td>0.0</td>\n",
       "      <td>0.0</td>\n",
       "      <td>0.0</td>\n",
       "      <td>0.0</td>\n",
       "      <td>0.0</td>\n",
       "      <td>0.0</td>\n",
       "    </tr>\n",
       "    <tr>\n",
       "      <th>max</th>\n",
       "      <td>9.0000</td>\n",
       "      <td>0.0</td>\n",
       "      <td>0.0</td>\n",
       "      <td>0.0</td>\n",
       "      <td>0.0</td>\n",
       "      <td>0.0</td>\n",
       "      <td>0.0</td>\n",
       "      <td>0.0</td>\n",
       "      <td>0.0</td>\n",
       "      <td>0.0</td>\n",
       "      <td>...</td>\n",
       "      <td>97.000000</td>\n",
       "      <td>0.0</td>\n",
       "      <td>0.0</td>\n",
       "      <td>0.0</td>\n",
       "      <td>0.0</td>\n",
       "      <td>0.0</td>\n",
       "      <td>0.0</td>\n",
       "      <td>0.0</td>\n",
       "      <td>0.0</td>\n",
       "      <td>0.0</td>\n",
       "    </tr>\n",
       "  </tbody>\n",
       "</table>\n",
       "<p>8 rows × 785 columns</p>\n",
       "</div>"
      ],
      "text/plain": [
       "             0       1       2       3       4       5       6       7    \\\n",
       "count  2000.0000  2000.0  2000.0  2000.0  2000.0  2000.0  2000.0  2000.0   \n",
       "mean      4.4540     0.0     0.0     0.0     0.0     0.0     0.0     0.0   \n",
       "std       2.8957     0.0     0.0     0.0     0.0     0.0     0.0     0.0   \n",
       "min       0.0000     0.0     0.0     0.0     0.0     0.0     0.0     0.0   \n",
       "25%       2.0000     0.0     0.0     0.0     0.0     0.0     0.0     0.0   \n",
       "50%       4.0000     0.0     0.0     0.0     0.0     0.0     0.0     0.0   \n",
       "75%       7.0000     0.0     0.0     0.0     0.0     0.0     0.0     0.0   \n",
       "max       9.0000     0.0     0.0     0.0     0.0     0.0     0.0     0.0   \n",
       "\n",
       "          8       9     ...            775     776     777     778     779  \\\n",
       "count  2000.0  2000.0   ...    2000.000000  2000.0  2000.0  2000.0  2000.0   \n",
       "mean      0.0     0.0   ...       0.048500     0.0     0.0     0.0     0.0   \n",
       "std       0.0     0.0   ...       2.168986     0.0     0.0     0.0     0.0   \n",
       "min       0.0     0.0   ...       0.000000     0.0     0.0     0.0     0.0   \n",
       "25%       0.0     0.0   ...       0.000000     0.0     0.0     0.0     0.0   \n",
       "50%       0.0     0.0   ...       0.000000     0.0     0.0     0.0     0.0   \n",
       "75%       0.0     0.0   ...       0.000000     0.0     0.0     0.0     0.0   \n",
       "max       0.0     0.0   ...      97.000000     0.0     0.0     0.0     0.0   \n",
       "\n",
       "          780     781     782     783     784  \n",
       "count  2000.0  2000.0  2000.0  2000.0  2000.0  \n",
       "mean      0.0     0.0     0.0     0.0     0.0  \n",
       "std       0.0     0.0     0.0     0.0     0.0  \n",
       "min       0.0     0.0     0.0     0.0     0.0  \n",
       "25%       0.0     0.0     0.0     0.0     0.0  \n",
       "50%       0.0     0.0     0.0     0.0     0.0  \n",
       "75%       0.0     0.0     0.0     0.0     0.0  \n",
       "max       0.0     0.0     0.0     0.0     0.0  \n",
       "\n",
       "[8 rows x 785 columns]"
      ]
     },
     "execution_count": 104,
     "metadata": {},
     "output_type": "execute_result"
    }
   ],
   "source": [
    "mnist = pd.read_csv('mnist.csv', header=None, skiprows=1)\n",
    "mnist.describe()"
   ]
  },
  {
   "cell_type": "code",
   "execution_count": 133,
   "metadata": {},
   "outputs": [
    {
     "data": {
      "text/plain": [
       "(2000, 784)"
      ]
     },
     "execution_count": 133,
     "metadata": {},
     "output_type": "execute_result"
    }
   ],
   "source": [
    "X = mnist.drop(columns=0).values\n",
    "y = mnist[0]\n",
    "X.shape"
   ]
  },
  {
   "cell_type": "code",
   "execution_count": 134,
   "metadata": {},
   "outputs": [
    {
     "data": {
      "text/plain": [
       "(2000, 10)"
      ]
     },
     "execution_count": 134,
     "metadata": {},
     "output_type": "execute_result"
    }
   ],
   "source": [
    "y = to_categorical(y)\n",
    "y.shape"
   ]
  },
  {
   "cell_type": "code",
   "execution_count": 138,
   "metadata": {},
   "outputs": [
    {
     "name": "stdout",
     "output_type": "stream",
     "text": [
      "Train on 1400 samples, validate on 600 samples\n",
      "Epoch 1/20\n",
      "1400/1400 [==============================] - 1s 898us/step - loss: 13.2371 - acc: 0.1643 - val_loss: 11.4765 - val_acc: 0.2717\n",
      "Epoch 2/20\n",
      "1400/1400 [==============================] - 0s 96us/step - loss: 10.8432 - acc: 0.3186 - val_loss: 10.3347 - val_acc: 0.3433\n",
      "Epoch 3/20\n",
      "1400/1400 [==============================] - 0s 96us/step - loss: 9.7598 - acc: 0.3843 - val_loss: 10.7840 - val_acc: 0.3117\n",
      "Epoch 4/20\n",
      "1400/1400 [==============================] - 0s 96us/step - loss: 9.5140 - acc: 0.3993 - val_loss: 10.3398 - val_acc: 0.3400\n",
      "Epoch 5/20\n",
      "1400/1400 [==============================] - 0s 95us/step - loss: 8.7601 - acc: 0.4457 - val_loss: 9.1511 - val_acc: 0.4217\n",
      "Epoch 6/20\n",
      "1400/1400 [==============================] - 0s 95us/step - loss: 8.1873 - acc: 0.4871 - val_loss: 9.0162 - val_acc: 0.4383\n",
      "Epoch 7/20\n",
      "1400/1400 [==============================] - 0s 97us/step - loss: 8.0262 - acc: 0.4971 - val_loss: 9.3801 - val_acc: 0.4117\n",
      "Epoch 8/20\n",
      "1400/1400 [==============================] - 0s 96us/step - loss: 7.8338 - acc: 0.5100 - val_loss: 8.7722 - val_acc: 0.4517\n",
      "Epoch 9/20\n",
      "1400/1400 [==============================] - 0s 96us/step - loss: 7.9327 - acc: 0.5007 - val_loss: 9.0057 - val_acc: 0.4367\n",
      "Epoch 10/20\n",
      "1400/1400 [==============================] - 0s 99us/step - loss: 7.5463 - acc: 0.5257 - val_loss: 8.5000 - val_acc: 0.4667\n",
      "Epoch 11/20\n",
      "1400/1400 [==============================] - 0s 101us/step - loss: 7.4709 - acc: 0.5329 - val_loss: 8.4890 - val_acc: 0.4667\n",
      "Epoch 12/20\n",
      "1400/1400 [==============================] - 0s 100us/step - loss: 7.4084 - acc: 0.5364 - val_loss: 8.6207 - val_acc: 0.4583\n",
      "Epoch 13/20\n",
      "1400/1400 [==============================] - 0s 109us/step - loss: 7.5588 - acc: 0.5264 - val_loss: 8.3374 - val_acc: 0.4783\n",
      "Epoch 14/20\n",
      "1400/1400 [==============================] - 0s 105us/step - loss: 7.4188 - acc: 0.5386 - val_loss: 8.6277 - val_acc: 0.4567\n",
      "Epoch 15/20\n",
      "1400/1400 [==============================] - 0s 106us/step - loss: 7.6118 - acc: 0.5243 - val_loss: 8.1061 - val_acc: 0.4917\n",
      "Epoch 16/20\n",
      "1400/1400 [==============================] - 0s 108us/step - loss: 7.2754 - acc: 0.5464 - val_loss: 8.1455 - val_acc: 0.4900\n",
      "Epoch 17/20\n",
      "1400/1400 [==============================] - 0s 108us/step - loss: 7.2773 - acc: 0.5436 - val_loss: 8.0887 - val_acc: 0.4900\n",
      "Epoch 18/20\n",
      "1400/1400 [==============================] - 0s 107us/step - loss: 7.1316 - acc: 0.5557 - val_loss: 7.9376 - val_acc: 0.5017\n",
      "Epoch 19/20\n",
      "1400/1400 [==============================] - 0s 99us/step - loss: 7.2996 - acc: 0.5436 - val_loss: 8.2060 - val_acc: 0.4883\n",
      "Epoch 20/20\n",
      "1400/1400 [==============================] - 0s 108us/step - loss: 7.0332 - acc: 0.5614 - val_loss: 8.0932 - val_acc: 0.4933\n"
     ]
    },
    {
     "data": {
      "text/plain": [
       "<keras.callbacks.History at 0x1a3b69ea58>"
      ]
     },
     "execution_count": 138,
     "metadata": {},
     "output_type": "execute_result"
    }
   ],
   "source": [
    "# Create the model: model\n",
    "model = Sequential()\n",
    "\n",
    "# Add the first hidden layer\n",
    "model.add(Dense(50, activation='relu', input_shape = (784,)))\n",
    "\n",
    "# Add the second hidden layer\n",
    "model.add(Dense(50, activation='relu'))\n",
    "\n",
    "# Add the output layer\n",
    "model.add(Dense(10, activation='softmax'))\n",
    "\n",
    "# Compile the model\n",
    "model.compile(optimizer='adam', loss='categorical_crossentropy', metrics=['accuracy'])\n",
    "\n",
    "# Fit the model\n",
    "model.fit(X, y, epochs=20, validation_split=0.3)"
   ]
  },
  {
   "cell_type": "code",
   "execution_count": null,
   "metadata": {},
   "outputs": [],
   "source": []
  }
 ],
 "metadata": {
  "kernelspec": {
   "display_name": "Python 3",
   "language": "python",
   "name": "python3"
  },
  "language_info": {
   "codemirror_mode": {
    "name": "ipython",
    "version": 3
   },
   "file_extension": ".py",
   "mimetype": "text/x-python",
   "name": "python",
   "nbconvert_exporter": "python",
   "pygments_lexer": "ipython3",
   "version": "3.6.6"
  }
 },
 "nbformat": 4,
 "nbformat_minor": 2
}
