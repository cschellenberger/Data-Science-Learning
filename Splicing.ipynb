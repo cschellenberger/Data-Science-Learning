{
 "cells": [
  {
   "cell_type": "markdown",
   "metadata": {},
   "source": [
    "# Slicing Data in Python, An In-depth Overview\n",
    "\n",
    "#### The many ways to slice data in Python.\n",
    "\n",
    "### Abstract:\n",
    "\n",
    "While performing exploratory data analysis, one is often moving quickly between different data structures and then this question arises, \"How do I extract or filter the data I need?\" This overview of Python data structures attempts to unveil the various methods in concise junks, so that they can be compared, contrasted, and committed to memory! At the end of the talk, the hope is that slicing and filtering data in Python will be as intuitive as slicing bread."
   ]
  },
  {
   "cell_type": "markdown",
   "metadata": {},
   "source": [
    "### Some Resources to Share:\n",
    "- Are you just getting started with Python?\n",
    "    - [Google Python Edu Course](https://developers.google.com/edu/python/)\n",
    "- [DataCamp String Tutorial](https://www.datacamp.com/community/tutorials/python-string-tutorial)\n",
    "- [DataCamp Dictionary Tutorial](https://www.datacamp.com/community/tutorials/python-dictionary-tutorial)\n",
    "- [DataCamp NumPy Array Tutorial](https://www.datacamp.com/community/tutorials/python-numpy-tutorial)\n",
    "- [Python Data Structures](https://docs.python.org/3.7/tutorial/datastructures.html)"
   ]
  },
  {
   "cell_type": "markdown",
   "metadata": {},
   "source": [
    "----\n",
    "\n",
    "## Lists\n",
    "\n",
    "----"
   ]
  },
  {
   "cell_type": "markdown",
   "metadata": {},
   "source": [
    "<div style=\"background-color: #000054; padding: 25px;\">\n",
    "<h4 style=\"color: #ffffff;\">Generating a list of random numbers as strings</h4>\n",
    "<p style=\"color: #cccccc;\">In the following example, the <a src=\"https://docs.scipy.org/doc/numpy/reference/generated/numpy.random.randn.html#numpy.random.randn\">randn</a> method of the NumPy random module is used to generate 14 random values from the \"standard normal\" distribution. Then string formatting is used to limit the accuracy of each value to 4 decimal places. The resulting Python object is saved to a variable called <em>my_list</em>.</p>\n",
    "</div>"
   ]
  },
  {
   "cell_type": "code",
   "execution_count": 2,
   "metadata": {},
   "outputs": [],
   "source": [
    "import numpy as np\n",
    "\n",
    "my_list = [f'{x:.4f}' for x in np.random.randn(14)]"
   ]
  },
  {
   "cell_type": "code",
   "execution_count": 4,
   "metadata": {},
   "outputs": [
    {
     "name": "stdout",
     "output_type": "stream",
     "text": [
      "['0.5472', '-1.3950', '0.3047', '-1.0847', '-0.1700', '0.4376', '-1.1538', '0.6338', '-1.6537', '1.3397', '-0.0013', '-0.1586', '0.6316', '-0.3730']\n"
     ]
    }
   ],
   "source": [
    "print(my_list)"
   ]
  },
  {
   "cell_type": "markdown",
   "metadata": {},
   "source": [
    "<div style=\"background-color: #000054; padding: 25px;\">\n",
    "<h4 style=\"color: #ffffff;\">Slicing single values from a list</h4>\n",
    "<p style=\"color: #cccccc;\">To pull out items from a list, square bracket notation is used to index the list. In the following example, first the fifth item is printed and then the fourth last item. Python indexes are zero indexed.</p>\n",
    "</div>"
   ]
  },
  {
   "cell_type": "code",
   "execution_count": 5,
   "metadata": {},
   "outputs": [
    {
     "name": "stdout",
     "output_type": "stream",
     "text": [
      "fifth list element: -0.1700 \n",
      "fourth last list element: -0.0013\n"
     ]
    }
   ],
   "source": [
    "print(\"fifth list element:\", my_list[4], \"\\nfourth last list element:\", my_list[-4])"
   ]
  },
  {
   "cell_type": "markdown",
   "metadata": {},
   "source": [
    "<div style=\"background-color: #000054; padding: 25px;\">\n",
    "<h4 style=\"color: #ffffff;\">Slicing an index range from a list</h4>\n",
    "<p style=\"color: #cccccc;\">To get any subset of sequential items from a list, square bracket notation is used again with a colon separating the starting index value and the <strong>exclusive</strong> ending index value.</p>\n",
    "</div>"
   ]
  },
  {
   "cell_type": "code",
   "execution_count": 6,
   "metadata": {},
   "outputs": [
    {
     "name": "stdout",
     "output_type": "stream",
     "text": [
      "['-1.0847', '-0.1700', '0.4376', '-1.1538']\n"
     ]
    }
   ],
   "source": [
    "print(my_list[3:7])"
   ]
  },
  {
   "cell_type": "markdown",
   "metadata": {},
   "source": [
    "<div style=\"background-color: #000054; padding: 25px;\">\n",
    "<h4 style=\"color: #ffffff;\">Non-sequential index range from a list</h4>\n",
    "<p style=\"color: #cccccc;\">To get a non-sequential subset of items from a list, square bracket notation is used again with a colon separating the starting index value and the <strong>exclusive</strong> ending index value and then another colon separating the interval of items to return. For example, passing 2 as the interval will return the first item and skip the second. You can then imagine the same pattern starting at the third item with a return-skip non-sequential sequence. Passing a 4 for the slicing interval will produce a return-skip-skip-skip sequence.</p>\n",
    "</div>"
   ]
  },
  {
   "cell_type": "code",
   "execution_count": 7,
   "metadata": {},
   "outputs": [
    {
     "name": "stdout",
     "output_type": "stream",
     "text": [
      "['0.5472', '0.3047', '-0.1700', '-1.1538', '-1.6537', '-0.0013', '0.6316']\n"
     ]
    }
   ],
   "source": [
    "print(my_list[::2])"
   ]
  },
  {
   "cell_type": "markdown",
   "metadata": {},
   "source": [
    "<div style=\"background-color: #000054; padding: 25px;\">\n",
    "<h4 style=\"color: #ffffff;\">Generating a 2-D list of lists</h4>\n",
    "<p style=\"color: #cccccc;\">The following code generates a list of lists with 5 random numbers in each of the 5 lists. The list of lists, <em>l_of_l</em> is then printed.</p>\n",
    "</div>"
   ]
  },
  {
   "cell_type": "code",
   "execution_count": 8,
   "metadata": {},
   "outputs": [],
   "source": [
    "list_of_lists = [x for x in np.random.randn(5, 5)]\n",
    "\n",
    "l_of_l = []\n",
    "for x in list_of_lists:\n",
    "    l_of_l.append(list(x))"
   ]
  },
  {
   "cell_type": "code",
   "execution_count": 10,
   "metadata": {},
   "outputs": [
    {
     "name": "stdout",
     "output_type": "stream",
     "text": [
      "[[-1.459458523162747, -0.11161976861055396, 0.7286473159816925, -0.45019633949927335, -1.480284675504651], [-1.4623590735762781, 0.49269906139539904, -0.2807141147098116, 0.04426059310797786, 0.149451615853121], [-0.5049336780755084, 0.24960882372001447, 0.06343745373630551, 0.2533567425192111, 0.69160565229463], [-1.707563606142647, -0.9145527113511979, -0.4091646169982658, -0.8439119023746744, -0.3773618689196677], [0.2949757592196722, 1.5749739828620137, 1.004092104315791, -2.1705220499626603, 0.6462539550293249]]\n"
     ]
    }
   ],
   "source": [
    "# A 2-D list\n",
    "print(l_of_l)"
   ]
  },
  {
   "cell_type": "markdown",
   "metadata": {},
   "source": [
    "<div style=\"background-color: #000054; padding: 25px;\">\n",
    "<h4 style=\"color: #ffffff;\">Slicing data from a list of lists</h4>\n",
    "<p style=\"color: #cccccc;\">In the following example we slice the fourth random number from the fourth list in the array. We achieve this by first using square bracket notation to indicate the list (row), second we follow that with the same square bracket notation to indicate the item in that list we want. Remember this notation because it contrasts with the less verbose and more efficient NumPy syntax for 2 dimensional arrays.</p>\n",
    "</div>"
   ]
  },
  {
   "cell_type": "code",
   "execution_count": 11,
   "metadata": {},
   "outputs": [
    {
     "name": "stdout",
     "output_type": "stream",
     "text": [
      "-0.8439119023746744\n"
     ]
    }
   ],
   "source": [
    "print(l_of_l[3][3])"
   ]
  },
  {
   "cell_type": "markdown",
   "metadata": {},
   "source": [
    "<div style=\"background-color: #000054; padding: 25px;\">\n",
    "<h4 style=\"color: #ffffff;\">Performing element-wise operations in list arrays</h4>\n",
    "<p style=\"color: #cccccc;\">If we want the fourth element from the first 3 lists, we don't have a concise syntax within the above mentioned square bracket notation. To perform this task we need a for loop and if we were operating on these elements we would require a nested for loop.</p>\n",
    "</div>"
   ]
  },
  {
   "cell_type": "code",
   "execution_count": 12,
   "metadata": {},
   "outputs": [
    {
     "name": "stdout",
     "output_type": "stream",
     "text": [
      "-0.45019633949927335\n",
      "0.04426059310797786\n",
      "0.2533567425192111\n"
     ]
    }
   ],
   "source": [
    "for l in l_of_l[:3]:\n",
    "    print(l[3])"
   ]
  },
  {
   "cell_type": "markdown",
   "metadata": {},
   "source": [
    "<div style=\"background-color: #000054; padding: 25px;\">\n",
    "<h4 style=\"color: #ffffff;\">Pythonic Zen</h4>\n",
    "<p style=\"color: #cccccc;\">A more Pythonic and efficient approach would utilize a list comprehension for the above task.</p>\n",
    "</div>"
   ]
  },
  {
   "cell_type": "code",
   "execution_count": 13,
   "metadata": {},
   "outputs": [
    {
     "data": {
      "text/plain": [
       "[-0.45019633949927335, 0.04426059310797786, 0.2533567425192111]"
      ]
     },
     "execution_count": 13,
     "metadata": {},
     "output_type": "execute_result"
    }
   ],
   "source": [
    "[l[3] for l in l_of_l[:3]]"
   ]
  },
  {
   "cell_type": "markdown",
   "metadata": {},
   "source": [
    "<div style=\"background-color: #000054; padding: 25px;\">\n",
    "<h4 style=\"color: #ffffff;\">Some background information</h4>\n",
    "<p style=\"color: #cccccc;\">It is worth mentioning some background information that should augment your understanding of slicing operations. The <a src=\"https://docs.python.org/3.7/library/functions.html?highlight=slice#slice\"><em>slice</em></a> built-in class is the underlying workhorse of extended indexing syntax and it is utilized throughout the numerical python package (NumPy). See the link to read more about this built-in Python class. The following example shows the same functionality as the beginning of this document.</p>\n",
    "</div>"
   ]
  },
  {
   "cell_type": "code",
   "execution_count": 83,
   "metadata": {},
   "outputs": [
    {
     "data": {
      "text/plain": [
       "['-1.3950', '-1.0847', '0.4376', '0.6338']"
      ]
     },
     "execution_count": 83,
     "metadata": {},
     "output_type": "execute_result"
    }
   ],
   "source": [
    "my_slice = slice(1, 8, 2)\n",
    "my_list[my_slice]"
   ]
  },
  {
   "cell_type": "markdown",
   "metadata": {},
   "source": [
    "<div style=\"background-color: #000054; padding: 25px;\">\n",
    "<h4 style=\"color: #ffffff;\">An alternate slice object that iterates</h4>\n",
    "<p style=\"color: #cccccc;\">If you want the output of the <em>slice</em> class to be iterable, you will have to look elsewhere. This is where our first built-in Python package comes to the rescue. Itertools has a function called <a src=\"https://docs.python.org/3/library/itertools.html#itertools.islice\"><em>islice</em></a> or to help you conceptulize, \"iterable-slice.\" The below code tries to illustrate that the object returned by slice() is not iterable and islice() is.</p>\n",
    "</div>"
   ]
  },
  {
   "cell_type": "code",
   "execution_count": 84,
   "metadata": {},
   "outputs": [
    {
     "ename": "TypeError",
     "evalue": "'slice' object is not iterable",
     "output_type": "error",
     "traceback": [
      "\u001b[0;31m---------------------------------------------------------------------------\u001b[0m",
      "\u001b[0;31mTypeError\u001b[0m                                 Traceback (most recent call last)",
      "\u001b[0;32m<ipython-input-84-b57c0a91d985>\u001b[0m in \u001b[0;36m<module>\u001b[0;34m\u001b[0m\n\u001b[0;32m----> 1\u001b[0;31m \u001b[0miter\u001b[0m\u001b[0;34m(\u001b[0m\u001b[0mmy_slice\u001b[0m\u001b[0;34m)\u001b[0m\u001b[0;34m\u001b[0m\u001b[0;34m\u001b[0m\u001b[0m\n\u001b[0m",
      "\u001b[0;31mTypeError\u001b[0m: 'slice' object is not iterable"
     ]
    }
   ],
   "source": [
    "iter(my_slice)"
   ]
  },
  {
   "cell_type": "code",
   "execution_count": 85,
   "metadata": {},
   "outputs": [],
   "source": [
    "from itertools import islice"
   ]
  },
  {
   "cell_type": "code",
   "execution_count": 86,
   "metadata": {},
   "outputs": [
    {
     "data": {
      "text/plain": [
       "[-1.395, -1.0847, 0.4376, 0.6338]"
      ]
     },
     "execution_count": 86,
     "metadata": {},
     "output_type": "execute_result"
    }
   ],
   "source": [
    "iter_slice = islice(my_list, 1, 8, 2)\n",
    "\n",
    "[float(i) for i in iter_slice]"
   ]
  },
  {
   "cell_type": "code",
   "execution_count": 87,
   "metadata": {},
   "outputs": [
    {
     "data": {
      "text/plain": [
       "<itertools.islice at 0x11b725048>"
      ]
     },
     "execution_count": 87,
     "metadata": {},
     "output_type": "execute_result"
    }
   ],
   "source": [
    "iter(iter_slice)"
   ]
  },
  {
   "cell_type": "markdown",
   "metadata": {},
   "source": [
    "----\n",
    "\n",
    "## Strings\n",
    "\n",
    "----"
   ]
  },
  {
   "cell_type": "markdown",
   "metadata": {},
   "source": [
    "<div style=\"background-color: #000054; padding: 25px;\">\n",
    "<h4 style=\"color: #ffffff;\">Strings, same as 1-D lists, no sweat</h4>\n",
    "<p style=\"color: #cccccc;\">Strings allow for the same extended indexing for slices that we saw with a single list. As long as you remember zero indexing, exclusive stopping index, and interval sequencing, you are ready for string slicing.</p>\n",
    "</div>"
   ]
  },
  {
   "cell_type": "code",
   "execution_count": 22,
   "metadata": {},
   "outputs": [],
   "source": [
    "my_string = \"My name is Cody\""
   ]
  },
  {
   "cell_type": "code",
   "execution_count": 23,
   "metadata": {},
   "outputs": [
    {
     "data": {
      "text/plain": [
       "'Cody'"
      ]
     },
     "execution_count": 23,
     "metadata": {},
     "output_type": "execute_result"
    }
   ],
   "source": [
    "my_string[-4:]"
   ]
  },
  {
   "cell_type": "code",
   "execution_count": 24,
   "metadata": {},
   "outputs": [
    {
     "data": {
      "text/plain": [
       "'name'"
      ]
     },
     "execution_count": 24,
     "metadata": {},
     "output_type": "execute_result"
    }
   ],
   "source": [
    "my_string[3:7]"
   ]
  },
  {
   "cell_type": "code",
   "execution_count": 25,
   "metadata": {},
   "outputs": [
    {
     "data": {
      "text/plain": [
       "'M aei oy'"
      ]
     },
     "execution_count": 25,
     "metadata": {},
     "output_type": "execute_result"
    }
   ],
   "source": [
    "my_string[::2]"
   ]
  },
  {
   "cell_type": "markdown",
   "metadata": {},
   "source": [
    "----\n",
    "\n",
    "## NumPy Arrays\n",
    "\n",
    "----"
   ]
  },
  {
   "cell_type": "markdown",
   "metadata": {},
   "source": [
    "<div style=\"background-color: #000054; padding: 25px;\">\n",
    "<h4 style=\"color: #ffffff;\">Numerical Python and the NumPy array</h4>\n",
    "<p style=\"color: #cccccc;\">Oh NumPy! You have cleaner array outputs, less verbose syntax, vectorized operations, and lay the foundation for pandas and many other packages. The following code generates a Numpy array, <em>num_2d_array</em>, from our list of lists.</p>\n",
    "</div>"
   ]
  },
  {
   "cell_type": "code",
   "execution_count": 17,
   "metadata": {},
   "outputs": [
    {
     "data": {
      "text/plain": [
       "array([[-1.45945852, -0.11161977,  0.72864732, -0.45019634, -1.48028468],\n",
       "       [-1.46235907,  0.49269906, -0.28071411,  0.04426059,  0.14945162],\n",
       "       [-0.50493368,  0.24960882,  0.06343745,  0.25335674,  0.69160565],\n",
       "       [-1.70756361, -0.91455271, -0.40916462, -0.8439119 , -0.37736187],\n",
       "       [ 0.29497576,  1.57497398,  1.0040921 , -2.17052205,  0.64625396]])"
      ]
     },
     "execution_count": 17,
     "metadata": {},
     "output_type": "execute_result"
    }
   ],
   "source": [
    "import numpy as np\n",
    "\n",
    "num_2d_array = np.array(l_of_l)\n",
    "num_2d_array"
   ]
  },
  {
   "cell_type": "markdown",
   "metadata": {},
   "source": [
    "<div style=\"background-color: #000054; padding: 25px;\">\n",
    "<h4 style=\"color: #ffffff;\">Simple 1 dimensional NumPy array slicing</h4>\n",
    "<p style=\"color: #cccccc;\">No changes here from the list syntax.</p>\n",
    "</div>"
   ]
  },
  {
   "cell_type": "code",
   "execution_count": 100,
   "metadata": {
    "scrolled": true
   },
   "outputs": [
    {
     "data": {
      "text/plain": [
       "array([[-1.45945852, -0.11161977,  0.72864732, -0.45019634, -1.48028468],\n",
       "       [-0.50493368,  0.24960882,  0.06343745,  0.25335674,  0.69160565]])"
      ]
     },
     "execution_count": 100,
     "metadata": {},
     "output_type": "execute_result"
    }
   ],
   "source": [
    "num_2d_array[0:3:2]"
   ]
  },
  {
   "cell_type": "markdown",
   "metadata": {},
   "source": [
    "<div style=\"background-color: #000054; padding: 25px;\">\n",
    "<h4 style=\"color: #ffffff;\">2 dimensional NumPy array slicing</h4>\n",
    "<p style=\"color: #cccccc;\">No more for loops for slicing items from rows within the array. We now have a new syntax that can be thought of as <em>[rows, columns]</em> and each of the slices supports the extended indexing syntax of <em>start:stop:step</em>.</p>\n",
    "</div>"
   ]
  },
  {
   "cell_type": "code",
   "execution_count": 101,
   "metadata": {},
   "outputs": [
    {
     "data": {
      "text/plain": [
       "array([[-1.45945852,  0.72864732, -1.48028468],\n",
       "       [-1.46235907, -0.28071411,  0.14945162],\n",
       "       [-0.50493368,  0.06343745,  0.69160565]])"
      ]
     },
     "execution_count": 101,
     "metadata": {},
     "output_type": "execute_result"
    }
   ],
   "source": [
    "num_2d_array[0:3, ::2]"
   ]
  },
  {
   "cell_type": "markdown",
   "metadata": {},
   "source": [
    "<div style=\"background-color: #000054; padding: 25px;\">\n",
    "<h4 style=\"color: #ffffff;\">Easily slice a column</h4>\n",
    "<p style=\"color: #cccccc;\">The new 2-D NumPy array syntax makes column slices efficient and far less verbose than list arrays. The following example would return everything from the first column.</p>\n",
    "</div>"
   ]
  },
  {
   "cell_type": "code",
   "execution_count": 102,
   "metadata": {},
   "outputs": [
    {
     "data": {
      "text/plain": [
       "array([-1.45945852, -1.46235907, -0.50493368, -1.70756361,  0.29497576])"
      ]
     },
     "execution_count": 102,
     "metadata": {},
     "output_type": "execute_result"
    }
   ],
   "source": [
    "num_2d_array[:,0]"
   ]
  },
  {
   "cell_type": "markdown",
   "metadata": {},
   "source": [
    "<div style=\"background-color: #000054; padding: 25px;\">\n",
    "<h4 style=\"color: #ffffff;\">Another column slice example</h4>\n",
    "<p style=\"color: #cccccc;\">This example would return, for the first three rows, the third column item. </p>\n",
    "</div>"
   ]
  },
  {
   "cell_type": "code",
   "execution_count": 20,
   "metadata": {},
   "outputs": [
    {
     "data": {
      "text/plain": [
       "array([-0.45019634,  0.04426059,  0.25335674])"
      ]
     },
     "execution_count": 20,
     "metadata": {},
     "output_type": "execute_result"
    }
   ],
   "source": [
    "num_2d_array[:3,3]"
   ]
  },
  {
   "cell_type": "markdown",
   "metadata": {},
   "source": [
    "<div style=\"background-color: #000054; padding: 25px;\">\n",
    "<h4 style=\"color: #ffffff;\">Boolean indexing, supported by a NumPy array near you!</h4>\n",
    "<p style=\"color: #cccccc;\">By using a threshold, equality, or other comparison operator, you can easily create a boolean mask of a given array. Then you can use this boolean mask within the square bracket notation to return the items where the index matches <em>True</em>. In the following example, the code would return every value in the <em>num_2d_array</em> that is greater than zero.</p>\n",
    "</div>"
   ]
  },
  {
   "cell_type": "code",
   "execution_count": 21,
   "metadata": {},
   "outputs": [
    {
     "data": {
      "text/plain": [
       "array([0.72864732, 0.49269906, 0.04426059, 0.14945162, 0.24960882,\n",
       "       0.06343745, 0.25335674, 0.69160565, 0.29497576, 1.57497398,\n",
       "       1.0040921 , 0.64625396])"
      ]
     },
     "execution_count": 21,
     "metadata": {},
     "output_type": "execute_result"
    }
   ],
   "source": [
    "# NumPy also supports boolean  indexing\n",
    "num_2d_array[num_2d_array > 0]"
   ]
  },
  {
   "cell_type": "markdown",
   "metadata": {},
   "source": [
    "<div style=\"background-color: #000054; padding: 25px;\">\n",
    "<h4 style=\"color: #ffffff;\">What is the Ellipsis object?</h4>\n",
    "<p style=\"color: #cccccc;\">When you have a 1-D or 2-D array, the utility of the Ellipsis object is hard to grasp. However, if your ndarray, <em>x</em>, is representative of <em>x.ndim >= 3</em> then we can talk about the Ellipsis object for slicing NumPy arrays. This is because the Ellipsis object will span any number of dimensions infered in your slice notation. The following example returns, for all items found in the second item of the first dimension, the second items of the fouth dimension.</p>\n",
    "</div>"
   ]
  },
  {
   "cell_type": "code",
   "execution_count": 116,
   "metadata": {},
   "outputs": [],
   "source": [
    "multi_dim_array = np.arange(16).reshape(2,2,2,2)"
   ]
  },
  {
   "cell_type": "code",
   "execution_count": 119,
   "metadata": {},
   "outputs": [
    {
     "data": {
      "text/plain": [
       "array([[[[ 0,  1],\n",
       "         [ 2,  3]],\n",
       "\n",
       "        [[ 4,  5],\n",
       "         [ 6,  7]]],\n",
       "\n",
       "\n",
       "       [[[ 8,  9],\n",
       "         [10, 11]],\n",
       "\n",
       "        [[12, 13],\n",
       "         [14, 15]]]])"
      ]
     },
     "execution_count": 119,
     "metadata": {},
     "output_type": "execute_result"
    }
   ],
   "source": [
    "multi_dim_array"
   ]
  },
  {
   "cell_type": "code",
   "execution_count": 118,
   "metadata": {},
   "outputs": [
    {
     "data": {
      "text/plain": [
       "array([[ 9, 11],\n",
       "       [13, 15]])"
      ]
     },
     "execution_count": 118,
     "metadata": {},
     "output_type": "execute_result"
    }
   ],
   "source": [
    "multi_dim_array[1,...,1]"
   ]
  },
  {
   "cell_type": "markdown",
   "metadata": {},
   "source": [
    "<div style=\"background-color: #000054; padding: 25px;\">\n",
    "<h4 style=\"color: #ffffff;\">Simple slicing with indices</h4>\n",
    "<p style=\"color: #cccccc;\">The following example would return items in the sequence of indices given. If you read the code logically it says, return the first item, then the second, the first again, the third, the first again, and then the fourth in a new NumPy array.</p>\n",
    "</div>"
   ]
  },
  {
   "cell_type": "code",
   "execution_count": 113,
   "metadata": {},
   "outputs": [
    {
     "data": {
      "text/plain": [
       "array([[-1.45945852, -0.11161977,  0.72864732, -0.45019634, -1.48028468],\n",
       "       [-1.46235907,  0.49269906, -0.28071411,  0.04426059,  0.14945162],\n",
       "       [-1.45945852, -0.11161977,  0.72864732, -0.45019634, -1.48028468],\n",
       "       [-0.50493368,  0.24960882,  0.06343745,  0.25335674,  0.69160565],\n",
       "       [-1.45945852, -0.11161977,  0.72864732, -0.45019634, -1.48028468],\n",
       "       [-1.70756361, -0.91455271, -0.40916462, -0.8439119 , -0.37736187]])"
      ]
     },
     "execution_count": 113,
     "metadata": {},
     "output_type": "execute_result"
    }
   ],
   "source": [
    "num_2d_array[[0,1,0,2,0,3]]"
   ]
  },
  {
   "cell_type": "markdown",
   "metadata": {},
   "source": [
    "<div style=\"background-color: #000054; padding: 25px;\">\n",
    "<h4 style=\"color: #ffffff;\">Advanced slicing notation with indices</h4>\n",
    "<p style=\"color: #cccccc;\">The following example would return items in the sequence of indices given <strong>but</strong> subsequent argument(s) will broadcast to the preceding argument(s). If you read the code logically it says, return for the second, third, and fourth items, the second, third, and fourth items, <strong>respectively</strong>, to a new NumPy array.</p>\n",
    "</div>"
   ]
  },
  {
   "cell_type": "code",
   "execution_count": 125,
   "metadata": {},
   "outputs": [
    {
     "data": {
      "text/plain": [
       "array([ 0.49269906,  0.06343745, -0.8439119 ])"
      ]
     },
     "execution_count": 125,
     "metadata": {},
     "output_type": "execute_result"
    }
   ],
   "source": [
    "num_2d_array[(1,2,3),(1,2,3)]"
   ]
  },
  {
   "cell_type": "markdown",
   "metadata": {},
   "source": [
    "Remember that NumPy arrays are homogenious with regards to datatype and that simple 1-D slicing in NumPy arrays is exactly the same as slicing 1-D lists."
   ]
  },
  {
   "cell_type": "markdown",
   "metadata": {},
   "source": [
    "----\n",
    "\n",
    "## Dictionaries\n",
    "\n",
    "----"
   ]
  },
  {
   "cell_type": "code",
   "execution_count": 26,
   "metadata": {},
   "outputs": [],
   "source": [
    "key_list = ['a', 'b', 'c', 'd', 'e', 'f', 'g']\n",
    "value_list = [[1, 2, 3, 4, 5], 'My name is Cody', 77, 0.1234, (123, 456), {\"a dict\": \"within a dict\"}, {1, 2, 3, 4}]\n",
    "\n",
    "mapping = {}\n",
    "\n",
    "for key, value in zip(key_list, value_list):\n",
    "    mapping[key] = value"
   ]
  },
  {
   "cell_type": "code",
   "execution_count": 27,
   "metadata": {},
   "outputs": [
    {
     "data": {
      "text/plain": [
       "{'a': [1, 2, 3, 4, 5],\n",
       " 'b': 'My name is Cody',\n",
       " 'c': 77,\n",
       " 'd': 0.1234,\n",
       " 'e': (123, 456),\n",
       " 'f': {'a dict': 'within a dict'},\n",
       " 'g': {1, 2, 3, 4}}"
      ]
     },
     "execution_count": 27,
     "metadata": {},
     "output_type": "execute_result"
    }
   ],
   "source": [
    "mapping"
   ]
  },
  {
   "cell_type": "code",
   "execution_count": 28,
   "metadata": {},
   "outputs": [
    {
     "data": {
      "text/plain": [
       "{'a': [1, 2, 3, 4, 5],\n",
       " 'b': 'My name is Cody',\n",
       " 'c': 77,\n",
       " 'd': 0.1234,\n",
       " 'e': (123, 456),\n",
       " 'f': {'a dict': 'within a dict'},\n",
       " 'g': {1, 2, 3, 4}}"
      ]
     },
     "execution_count": 28,
     "metadata": {},
     "output_type": "execute_result"
    }
   ],
   "source": [
    "comp_mapping = {key : value for key, value in zip(key_list, value_list)}\n",
    "\n",
    "comp_mapping"
   ]
  },
  {
   "cell_type": "code",
   "execution_count": 29,
   "metadata": {},
   "outputs": [
    {
     "data": {
      "text/plain": [
       "77"
      ]
     },
     "execution_count": 29,
     "metadata": {},
     "output_type": "execute_result"
    }
   ],
   "source": [
    "mapping['c']"
   ]
  },
  {
   "cell_type": "code",
   "execution_count": 30,
   "metadata": {},
   "outputs": [
    {
     "data": {
      "text/plain": [
       "[[1, 2, 3, 4, 5], 77, {1, 2, 3, 4}]"
      ]
     },
     "execution_count": 30,
     "metadata": {},
     "output_type": "execute_result"
    }
   ],
   "source": [
    "key_slice = ['a', 'c', 'g']\n",
    "\n",
    "values_slice = [mapping[key] for key in key_slice]\n",
    "values_slice"
   ]
  },
  {
   "cell_type": "code",
   "execution_count": 31,
   "metadata": {},
   "outputs": [
    {
     "data": {
      "text/plain": [
       "True"
      ]
     },
     "execution_count": 31,
     "metadata": {},
     "output_type": "execute_result"
    }
   ],
   "source": [
    "(123,456) in mapping.values()"
   ]
  },
  {
   "cell_type": "code",
   "execution_count": 32,
   "metadata": {},
   "outputs": [],
   "source": [
    "def dict_search(dictionary, search_term):\n",
    "\n",
    "    ''' This function takes two inputs. First is the\n",
    "    dictionary you want to search, second is the value\n",
    "    you want to search for. The function will return the\n",
    "    FIRST key that matches that value.\n",
    "    '''\n",
    "\n",
    "    my_keys_indexed = list(dictionary.keys())\n",
    "    my_values_indexed = list(dictionary.values())\n",
    "\n",
    "    ans = my_keys_indexed[my_values_indexed.index(search_term)]\n",
    "    \n",
    "    return ans"
   ]
  },
  {
   "cell_type": "code",
   "execution_count": 33,
   "metadata": {},
   "outputs": [
    {
     "data": {
      "text/plain": [
       "'c'"
      ]
     },
     "execution_count": 33,
     "metadata": {},
     "output_type": "execute_result"
    }
   ],
   "source": [
    "dict_search(mapping, 77)"
   ]
  },
  {
   "cell_type": "code",
   "execution_count": 34,
   "metadata": {},
   "outputs": [],
   "source": [
    "def dict_search_all(dictionary, search_term):\n",
    "    \n",
    "    '''This function loops over the dictionary and\n",
    "    returns all keys that match the search term. The\n",
    "    function takes two inputs:\n",
    "    \n",
    "    dictionary: a dict() object\n",
    "    search_term: a value within the supplied dict()\n",
    "    '''\n",
    "    \n",
    "    my_values_enumerated = enumerate(dictionary.values())\n",
    "    \n",
    "    idx_search_matches = []\n",
    "    \n",
    "    for idx, value in my_values_enumerated:\n",
    "        if value == search_term:\n",
    "            idx_search_matches.append(idx)\n",
    "            \n",
    "    key_matches = []\n",
    "    \n",
    "    for idx in idx_search_matches:\n",
    "        key_matches.append(list(dictionary.keys())[idx])\n",
    "        \n",
    "    return key_matches"
   ]
  },
  {
   "cell_type": "code",
   "execution_count": 35,
   "metadata": {},
   "outputs": [
    {
     "data": {
      "text/plain": [
       "['c']"
      ]
     },
     "execution_count": 35,
     "metadata": {},
     "output_type": "execute_result"
    }
   ],
   "source": [
    "dict_search_all(mapping, 77)"
   ]
  },
  {
   "cell_type": "code",
   "execution_count": 36,
   "metadata": {},
   "outputs": [
    {
     "name": "stdout",
     "output_type": "stream",
     "text": [
      "a [1, 2, 3, 4, 5]\n",
      "b My name is Cody\n",
      "c 77\n",
      "d 0.1234\n",
      "e (123, 456)\n",
      "f {'a dict': 'within a dict'}\n",
      "g {1, 2, 3, 4}\n"
     ]
    }
   ],
   "source": [
    "for i, v in mapping.items():\n",
    "    print(i, v)"
   ]
  },
  {
   "cell_type": "code",
   "execution_count": 37,
   "metadata": {},
   "outputs": [
    {
     "name": "stdout",
     "output_type": "stream",
     "text": [
      "c 77\n"
     ]
    }
   ],
   "source": [
    "search_term = 77\n",
    "\n",
    "for i, v in mapping.items():\n",
    "    if v == search_term:\n",
    "        print(i, v)"
   ]
  },
  {
   "cell_type": "markdown",
   "metadata": {},
   "source": [
    "----\n",
    "\n",
    "## `Collections`\n",
    "\n",
    "----"
   ]
  },
  {
   "cell_type": "markdown",
   "metadata": {},
   "source": [
    "When thinking about splicing, the built-in `collections` package provides many useful container objects."
   ]
  },
  {
   "cell_type": "markdown",
   "metadata": {},
   "source": [
    "#### `Counter`, with useful methods like `most_common`"
   ]
  },
  {
   "cell_type": "code",
   "execution_count": 38,
   "metadata": {},
   "outputs": [],
   "source": [
    "from collections import Counter"
   ]
  },
  {
   "cell_type": "code",
   "execution_count": 39,
   "metadata": {},
   "outputs": [
    {
     "data": {
      "text/plain": [
       "4"
      ]
     },
     "execution_count": 39,
     "metadata": {},
     "output_type": "execute_result"
    }
   ],
   "source": [
    "c = Counter({'red': 4, 'blue': 2})\n",
    "c['red']"
   ]
  },
  {
   "cell_type": "code",
   "execution_count": 40,
   "metadata": {},
   "outputs": [
    {
     "data": {
      "text/plain": [
       "3"
      ]
     },
     "execution_count": 40,
     "metadata": {},
     "output_type": "execute_result"
    }
   ],
   "source": [
    "c = Counter('My name is Cody, and I love to program with Python')\n",
    "c['y']"
   ]
  },
  {
   "cell_type": "code",
   "execution_count": 41,
   "metadata": {},
   "outputs": [
    {
     "data": {
      "text/plain": [
       "[(' ', 10), ('o', 5), ('y', 3)]"
      ]
     },
     "execution_count": 41,
     "metadata": {},
     "output_type": "execute_result"
    }
   ],
   "source": [
    "c.most_common(3)"
   ]
  },
  {
   "cell_type": "markdown",
   "metadata": {},
   "source": [
    "#### `deque`, with useful methods for appending and popping values\n",
    "\n",
    "It is worth the effort to work through the examples provided in the python documentation for [deque](https://docs.python.org/3.7/library/collections.html?highlight=collections#collections.deque). There are also excellent recipes for usage cases."
   ]
  },
  {
   "cell_type": "code",
   "execution_count": 42,
   "metadata": {},
   "outputs": [],
   "source": [
    "my_queue = [x for x in np.arange(4, 25, 0.5)]"
   ]
  },
  {
   "cell_type": "code",
   "execution_count": 43,
   "metadata": {},
   "outputs": [],
   "source": [
    "from collections import deque\n",
    "\n",
    "d = deque(my_queue)"
   ]
  },
  {
   "cell_type": "code",
   "execution_count": 44,
   "metadata": {},
   "outputs": [
    {
     "data": {
      "text/plain": [
       "24.5"
      ]
     },
     "execution_count": 44,
     "metadata": {},
     "output_type": "execute_result"
    }
   ],
   "source": [
    "d.pop()"
   ]
  },
  {
   "cell_type": "code",
   "execution_count": 45,
   "metadata": {},
   "outputs": [
    {
     "data": {
      "text/plain": [
       "4.0"
      ]
     },
     "execution_count": 45,
     "metadata": {},
     "output_type": "execute_result"
    }
   ],
   "source": [
    "d.popleft()"
   ]
  },
  {
   "cell_type": "code",
   "execution_count": 46,
   "metadata": {},
   "outputs": [
    {
     "data": {
      "text/plain": [
       "24.5"
      ]
     },
     "execution_count": 46,
     "metadata": {},
     "output_type": "execute_result"
    }
   ],
   "source": [
    "d.append(24.5)\n",
    "d[-1]"
   ]
  },
  {
   "cell_type": "code",
   "execution_count": 47,
   "metadata": {},
   "outputs": [
    {
     "data": {
      "text/plain": [
       "4.0"
      ]
     },
     "execution_count": 47,
     "metadata": {},
     "output_type": "execute_result"
    }
   ],
   "source": [
    "d.appendleft(4.0)\n",
    "d[0]"
   ]
  },
  {
   "cell_type": "markdown",
   "metadata": {},
   "source": [
    "----\n",
    "\n",
    "## Pandas\n",
    "\n",
    "----"
   ]
  },
  {
   "cell_type": "code",
   "execution_count": 48,
   "metadata": {},
   "outputs": [],
   "source": [
    "import pandas as pd"
   ]
  },
  {
   "cell_type": "code",
   "execution_count": 49,
   "metadata": {},
   "outputs": [],
   "source": [
    "my_series = pd.Series(my_queue)"
   ]
  },
  {
   "cell_type": "code",
   "execution_count": 50,
   "metadata": {},
   "outputs": [
    {
     "data": {
      "text/plain": [
       "0    4.0\n",
       "1    4.5\n",
       "2    5.0\n",
       "3    5.5\n",
       "4    6.0\n",
       "dtype: float64"
      ]
     },
     "execution_count": 50,
     "metadata": {},
     "output_type": "execute_result"
    }
   ],
   "source": [
    "my_series[0:5]"
   ]
  },
  {
   "cell_type": "code",
   "execution_count": 51,
   "metadata": {},
   "outputs": [
    {
     "data": {
      "text/plain": [
       "26"
      ]
     },
     "execution_count": 51,
     "metadata": {},
     "output_type": "execute_result"
    }
   ],
   "source": [
    "new_series = my_series[0:26]\n",
    "len(new_series)"
   ]
  },
  {
   "cell_type": "code",
   "execution_count": 52,
   "metadata": {},
   "outputs": [],
   "source": [
    "index_list = [x for x in \"abcdefghijklmnopqrstuvwxyz\"]\n",
    "new_series.index = index_list"
   ]
  },
  {
   "cell_type": "code",
   "execution_count": 53,
   "metadata": {},
   "outputs": [
    {
     "data": {
      "text/plain": [
       "a    4.0\n",
       "b    4.5\n",
       "c    5.0\n",
       "d    5.5\n",
       "e    6.0\n",
       "dtype: float64"
      ]
     },
     "execution_count": 53,
     "metadata": {},
     "output_type": "execute_result"
    }
   ],
   "source": [
    "new_series[0:5]"
   ]
  },
  {
   "cell_type": "code",
   "execution_count": 54,
   "metadata": {},
   "outputs": [
    {
     "data": {
      "text/plain": [
       "7.0"
      ]
     },
     "execution_count": 54,
     "metadata": {},
     "output_type": "execute_result"
    }
   ],
   "source": [
    "new_series['g']"
   ]
  },
  {
   "cell_type": "markdown",
   "metadata": {},
   "source": [
    "#### Pandas series and dataframes with datetime indexing"
   ]
  },
  {
   "cell_type": "code",
   "execution_count": 55,
   "metadata": {},
   "outputs": [],
   "source": [
    "from datetime import datetime\n",
    "from datetime import timedelta"
   ]
  },
  {
   "cell_type": "code",
   "execution_count": 56,
   "metadata": {},
   "outputs": [],
   "source": [
    "base = datetime.today()\n",
    "date_index = [base - timedelta(days=x) for x in range(0, 26)]"
   ]
  },
  {
   "cell_type": "code",
   "execution_count": 57,
   "metadata": {},
   "outputs": [],
   "source": [
    "new_series.index = sorted(date_index)"
   ]
  },
  {
   "cell_type": "code",
   "execution_count": 58,
   "metadata": {},
   "outputs": [
    {
     "data": {
      "text/plain": [
       "2019-03-30 15:17:34.902935    4.0\n",
       "2019-03-31 15:17:34.902935    4.5\n",
       "2019-04-01 15:17:34.902935    5.0\n",
       "2019-04-02 15:17:34.902935    5.5\n",
       "2019-04-03 15:17:34.902935    6.0\n",
       "dtype: float64"
      ]
     },
     "execution_count": 58,
     "metadata": {},
     "output_type": "execute_result"
    }
   ],
   "source": [
    "new_series[0:5]"
   ]
  },
  {
   "cell_type": "code",
   "execution_count": 59,
   "metadata": {},
   "outputs": [
    {
     "data": {
      "text/plain": [
       "2019-04-06 15:17:34.902935    7.5\n",
       "dtype: float64"
      ]
     },
     "execution_count": 59,
     "metadata": {},
     "output_type": "execute_result"
    }
   ],
   "source": [
    "new_series['April, 6 2019']"
   ]
  },
  {
   "cell_type": "code",
   "execution_count": 60,
   "metadata": {
    "scrolled": true
   },
   "outputs": [
    {
     "data": {
      "text/plain": [
       "2019-04-04 15:17:34.902935     6.5\n",
       "2019-04-05 15:17:34.902935     7.0\n",
       "2019-04-06 15:17:34.902935     7.5\n",
       "2019-04-07 15:17:34.902935     8.0\n",
       "2019-04-08 15:17:34.902935     8.5\n",
       "2019-04-09 15:17:34.902935     9.0\n",
       "2019-04-10 15:17:34.902935     9.5\n",
       "2019-04-11 15:17:34.902935    10.0\n",
       "2019-04-12 15:17:34.902935    10.5\n",
       "2019-04-13 15:17:34.902935    11.0\n",
       "2019-04-14 15:17:34.902935    11.5\n",
       "dtype: float64"
      ]
     },
     "execution_count": 60,
     "metadata": {},
     "output_type": "execute_result"
    }
   ],
   "source": [
    "new_series['2019-04-04':'2019-04-14']"
   ]
  },
  {
   "cell_type": "code",
   "execution_count": 61,
   "metadata": {},
   "outputs": [],
   "source": [
    "new_df = pd.DataFrame(new_series)"
   ]
  },
  {
   "cell_type": "code",
   "execution_count": 62,
   "metadata": {},
   "outputs": [
    {
     "data": {
      "text/html": [
       "<div>\n",
       "<style scoped>\n",
       "    .dataframe tbody tr th:only-of-type {\n",
       "        vertical-align: middle;\n",
       "    }\n",
       "\n",
       "    .dataframe tbody tr th {\n",
       "        vertical-align: top;\n",
       "    }\n",
       "\n",
       "    .dataframe thead th {\n",
       "        text-align: right;\n",
       "    }\n",
       "</style>\n",
       "<table border=\"1\" class=\"dataframe\">\n",
       "  <thead>\n",
       "    <tr style=\"text-align: right;\">\n",
       "      <th></th>\n",
       "      <th>0</th>\n",
       "    </tr>\n",
       "  </thead>\n",
       "  <tbody>\n",
       "    <tr>\n",
       "      <th>2019-04-02 15:17:34.902935</th>\n",
       "      <td>5.5</td>\n",
       "    </tr>\n",
       "    <tr>\n",
       "      <th>2019-04-03 15:17:34.902935</th>\n",
       "      <td>6.0</td>\n",
       "    </tr>\n",
       "    <tr>\n",
       "      <th>2019-04-04 15:17:34.902935</th>\n",
       "      <td>6.5</td>\n",
       "    </tr>\n",
       "  </tbody>\n",
       "</table>\n",
       "</div>"
      ],
      "text/plain": [
       "                              0\n",
       "2019-04-02 15:17:34.902935  5.5\n",
       "2019-04-03 15:17:34.902935  6.0\n",
       "2019-04-04 15:17:34.902935  6.5"
      ]
     },
     "execution_count": 62,
     "metadata": {},
     "output_type": "execute_result"
    }
   ],
   "source": [
    "new_df['2019-04-02':'2019-04-04']"
   ]
  },
  {
   "cell_type": "code",
   "execution_count": 63,
   "metadata": {},
   "outputs": [
    {
     "data": {
      "text/html": [
       "<div>\n",
       "<style scoped>\n",
       "    .dataframe tbody tr th:only-of-type {\n",
       "        vertical-align: middle;\n",
       "    }\n",
       "\n",
       "    .dataframe tbody tr th {\n",
       "        vertical-align: top;\n",
       "    }\n",
       "\n",
       "    .dataframe thead th {\n",
       "        text-align: right;\n",
       "    }\n",
       "</style>\n",
       "<table border=\"1\" class=\"dataframe\">\n",
       "  <thead>\n",
       "    <tr style=\"text-align: right;\">\n",
       "      <th></th>\n",
       "      <th>0</th>\n",
       "    </tr>\n",
       "  </thead>\n",
       "  <tbody>\n",
       "    <tr>\n",
       "      <th>2019-04-02 15:17:34.902935</th>\n",
       "      <td>5.5</td>\n",
       "    </tr>\n",
       "  </tbody>\n",
       "</table>\n",
       "</div>"
      ],
      "text/plain": [
       "                              0\n",
       "2019-04-02 15:17:34.902935  5.5"
      ]
     },
     "execution_count": 63,
     "metadata": {},
     "output_type": "execute_result"
    }
   ],
   "source": [
    "new_df[new_df.index.day == 2]"
   ]
  },
  {
   "cell_type": "code",
   "execution_count": 64,
   "metadata": {},
   "outputs": [
    {
     "data": {
      "text/html": [
       "<div>\n",
       "<style scoped>\n",
       "    .dataframe tbody tr th:only-of-type {\n",
       "        vertical-align: middle;\n",
       "    }\n",
       "\n",
       "    .dataframe tbody tr th {\n",
       "        vertical-align: top;\n",
       "    }\n",
       "\n",
       "    .dataframe thead th {\n",
       "        text-align: right;\n",
       "    }\n",
       "</style>\n",
       "<table border=\"1\" class=\"dataframe\">\n",
       "  <thead>\n",
       "    <tr style=\"text-align: right;\">\n",
       "      <th></th>\n",
       "      <th>0</th>\n",
       "    </tr>\n",
       "  </thead>\n",
       "  <tbody>\n",
       "    <tr>\n",
       "      <th>2019-04-01 15:17:34.902935</th>\n",
       "      <td>5.0</td>\n",
       "    </tr>\n",
       "    <tr>\n",
       "      <th>2019-04-02 15:17:34.902935</th>\n",
       "      <td>5.5</td>\n",
       "    </tr>\n",
       "    <tr>\n",
       "      <th>2019-04-03 15:17:34.902935</th>\n",
       "      <td>6.0</td>\n",
       "    </tr>\n",
       "    <tr>\n",
       "      <th>2019-04-04 15:17:34.902935</th>\n",
       "      <td>6.5</td>\n",
       "    </tr>\n",
       "    <tr>\n",
       "      <th>2019-04-05 15:17:34.902935</th>\n",
       "      <td>7.0</td>\n",
       "    </tr>\n",
       "    <tr>\n",
       "      <th>2019-04-06 15:17:34.902935</th>\n",
       "      <td>7.5</td>\n",
       "    </tr>\n",
       "    <tr>\n",
       "      <th>2019-04-07 15:17:34.902935</th>\n",
       "      <td>8.0</td>\n",
       "    </tr>\n",
       "    <tr>\n",
       "      <th>2019-04-08 15:17:34.902935</th>\n",
       "      <td>8.5</td>\n",
       "    </tr>\n",
       "    <tr>\n",
       "      <th>2019-04-09 15:17:34.902935</th>\n",
       "      <td>9.0</td>\n",
       "    </tr>\n",
       "    <tr>\n",
       "      <th>2019-04-10 15:17:34.902935</th>\n",
       "      <td>9.5</td>\n",
       "    </tr>\n",
       "    <tr>\n",
       "      <th>2019-04-11 15:17:34.902935</th>\n",
       "      <td>10.0</td>\n",
       "    </tr>\n",
       "    <tr>\n",
       "      <th>2019-04-12 15:17:34.902935</th>\n",
       "      <td>10.5</td>\n",
       "    </tr>\n",
       "    <tr>\n",
       "      <th>2019-04-13 15:17:34.902935</th>\n",
       "      <td>11.0</td>\n",
       "    </tr>\n",
       "    <tr>\n",
       "      <th>2019-04-14 15:17:34.902935</th>\n",
       "      <td>11.5</td>\n",
       "    </tr>\n",
       "    <tr>\n",
       "      <th>2019-04-15 15:17:34.902935</th>\n",
       "      <td>12.0</td>\n",
       "    </tr>\n",
       "    <tr>\n",
       "      <th>2019-04-16 15:17:34.902935</th>\n",
       "      <td>12.5</td>\n",
       "    </tr>\n",
       "    <tr>\n",
       "      <th>2019-04-17 15:17:34.902935</th>\n",
       "      <td>13.0</td>\n",
       "    </tr>\n",
       "    <tr>\n",
       "      <th>2019-04-18 15:17:34.902935</th>\n",
       "      <td>13.5</td>\n",
       "    </tr>\n",
       "    <tr>\n",
       "      <th>2019-04-19 15:17:34.902935</th>\n",
       "      <td>14.0</td>\n",
       "    </tr>\n",
       "    <tr>\n",
       "      <th>2019-04-20 15:17:34.902935</th>\n",
       "      <td>14.5</td>\n",
       "    </tr>\n",
       "    <tr>\n",
       "      <th>2019-04-21 15:17:34.902935</th>\n",
       "      <td>15.0</td>\n",
       "    </tr>\n",
       "    <tr>\n",
       "      <th>2019-04-22 15:17:34.902935</th>\n",
       "      <td>15.5</td>\n",
       "    </tr>\n",
       "    <tr>\n",
       "      <th>2019-04-23 15:17:34.902935</th>\n",
       "      <td>16.0</td>\n",
       "    </tr>\n",
       "    <tr>\n",
       "      <th>2019-04-24 15:17:34.902935</th>\n",
       "      <td>16.5</td>\n",
       "    </tr>\n",
       "  </tbody>\n",
       "</table>\n",
       "</div>"
      ],
      "text/plain": [
       "                               0\n",
       "2019-04-01 15:17:34.902935   5.0\n",
       "2019-04-02 15:17:34.902935   5.5\n",
       "2019-04-03 15:17:34.902935   6.0\n",
       "2019-04-04 15:17:34.902935   6.5\n",
       "2019-04-05 15:17:34.902935   7.0\n",
       "2019-04-06 15:17:34.902935   7.5\n",
       "2019-04-07 15:17:34.902935   8.0\n",
       "2019-04-08 15:17:34.902935   8.5\n",
       "2019-04-09 15:17:34.902935   9.0\n",
       "2019-04-10 15:17:34.902935   9.5\n",
       "2019-04-11 15:17:34.902935  10.0\n",
       "2019-04-12 15:17:34.902935  10.5\n",
       "2019-04-13 15:17:34.902935  11.0\n",
       "2019-04-14 15:17:34.902935  11.5\n",
       "2019-04-15 15:17:34.902935  12.0\n",
       "2019-04-16 15:17:34.902935  12.5\n",
       "2019-04-17 15:17:34.902935  13.0\n",
       "2019-04-18 15:17:34.902935  13.5\n",
       "2019-04-19 15:17:34.902935  14.0\n",
       "2019-04-20 15:17:34.902935  14.5\n",
       "2019-04-21 15:17:34.902935  15.0\n",
       "2019-04-22 15:17:34.902935  15.5\n",
       "2019-04-23 15:17:34.902935  16.0\n",
       "2019-04-24 15:17:34.902935  16.5"
      ]
     },
     "execution_count": 64,
     "metadata": {},
     "output_type": "execute_result"
    }
   ],
   "source": [
    "new_df[new_df.index.month == 4]"
   ]
  },
  {
   "cell_type": "code",
   "execution_count": 65,
   "metadata": {},
   "outputs": [],
   "source": [
    "another_df = pd.DataFrame({'a':np.arange(5, 10, 0.25), 'b':np.arange(10, 15, 0.25)})"
   ]
  },
  {
   "cell_type": "code",
   "execution_count": 66,
   "metadata": {},
   "outputs": [
    {
     "data": {
      "text/html": [
       "<div>\n",
       "<style scoped>\n",
       "    .dataframe tbody tr th:only-of-type {\n",
       "        vertical-align: middle;\n",
       "    }\n",
       "\n",
       "    .dataframe tbody tr th {\n",
       "        vertical-align: top;\n",
       "    }\n",
       "\n",
       "    .dataframe thead th {\n",
       "        text-align: right;\n",
       "    }\n",
       "</style>\n",
       "<table border=\"1\" class=\"dataframe\">\n",
       "  <thead>\n",
       "    <tr style=\"text-align: right;\">\n",
       "      <th></th>\n",
       "      <th>a</th>\n",
       "      <th>b</th>\n",
       "    </tr>\n",
       "  </thead>\n",
       "  <tbody>\n",
       "    <tr>\n",
       "      <th>0</th>\n",
       "      <td>5.00</td>\n",
       "      <td>10.00</td>\n",
       "    </tr>\n",
       "    <tr>\n",
       "      <th>1</th>\n",
       "      <td>5.25</td>\n",
       "      <td>10.25</td>\n",
       "    </tr>\n",
       "    <tr>\n",
       "      <th>2</th>\n",
       "      <td>5.50</td>\n",
       "      <td>10.50</td>\n",
       "    </tr>\n",
       "    <tr>\n",
       "      <th>3</th>\n",
       "      <td>5.75</td>\n",
       "      <td>10.75</td>\n",
       "    </tr>\n",
       "    <tr>\n",
       "      <th>4</th>\n",
       "      <td>6.00</td>\n",
       "      <td>11.00</td>\n",
       "    </tr>\n",
       "  </tbody>\n",
       "</table>\n",
       "</div>"
      ],
      "text/plain": [
       "      a      b\n",
       "0  5.00  10.00\n",
       "1  5.25  10.25\n",
       "2  5.50  10.50\n",
       "3  5.75  10.75\n",
       "4  6.00  11.00"
      ]
     },
     "execution_count": 66,
     "metadata": {},
     "output_type": "execute_result"
    }
   ],
   "source": [
    "another_df.head()"
   ]
  },
  {
   "cell_type": "code",
   "execution_count": 67,
   "metadata": {},
   "outputs": [
    {
     "name": "stdout",
     "output_type": "stream",
     "text": [
      "<class 'pandas.core.frame.DataFrame'>\n",
      "RangeIndex: 20 entries, 0 to 19\n",
      "Data columns (total 2 columns):\n",
      "a    20 non-null float64\n",
      "b    20 non-null float64\n",
      "dtypes: float64(2)\n",
      "memory usage: 400.0 bytes\n"
     ]
    }
   ],
   "source": [
    "another_df.info()"
   ]
  },
  {
   "cell_type": "code",
   "execution_count": 68,
   "metadata": {},
   "outputs": [
    {
     "data": {
      "text/html": [
       "<div>\n",
       "<style scoped>\n",
       "    .dataframe tbody tr th:only-of-type {\n",
       "        vertical-align: middle;\n",
       "    }\n",
       "\n",
       "    .dataframe tbody tr th {\n",
       "        vertical-align: top;\n",
       "    }\n",
       "\n",
       "    .dataframe thead th {\n",
       "        text-align: right;\n",
       "    }\n",
       "</style>\n",
       "<table border=\"1\" class=\"dataframe\">\n",
       "  <thead>\n",
       "    <tr style=\"text-align: right;\">\n",
       "      <th></th>\n",
       "      <th>a</th>\n",
       "      <th>b</th>\n",
       "    </tr>\n",
       "  </thead>\n",
       "  <tbody>\n",
       "    <tr>\n",
       "      <th>count</th>\n",
       "      <td>20.00000</td>\n",
       "      <td>20.00000</td>\n",
       "    </tr>\n",
       "    <tr>\n",
       "      <th>mean</th>\n",
       "      <td>7.37500</td>\n",
       "      <td>12.37500</td>\n",
       "    </tr>\n",
       "    <tr>\n",
       "      <th>std</th>\n",
       "      <td>1.47902</td>\n",
       "      <td>1.47902</td>\n",
       "    </tr>\n",
       "    <tr>\n",
       "      <th>min</th>\n",
       "      <td>5.00000</td>\n",
       "      <td>10.00000</td>\n",
       "    </tr>\n",
       "    <tr>\n",
       "      <th>25%</th>\n",
       "      <td>6.18750</td>\n",
       "      <td>11.18750</td>\n",
       "    </tr>\n",
       "    <tr>\n",
       "      <th>50%</th>\n",
       "      <td>7.37500</td>\n",
       "      <td>12.37500</td>\n",
       "    </tr>\n",
       "    <tr>\n",
       "      <th>75%</th>\n",
       "      <td>8.56250</td>\n",
       "      <td>13.56250</td>\n",
       "    </tr>\n",
       "    <tr>\n",
       "      <th>max</th>\n",
       "      <td>9.75000</td>\n",
       "      <td>14.75000</td>\n",
       "    </tr>\n",
       "  </tbody>\n",
       "</table>\n",
       "</div>"
      ],
      "text/plain": [
       "              a         b\n",
       "count  20.00000  20.00000\n",
       "mean    7.37500  12.37500\n",
       "std     1.47902   1.47902\n",
       "min     5.00000  10.00000\n",
       "25%     6.18750  11.18750\n",
       "50%     7.37500  12.37500\n",
       "75%     8.56250  13.56250\n",
       "max     9.75000  14.75000"
      ]
     },
     "execution_count": 68,
     "metadata": {},
     "output_type": "execute_result"
    }
   ],
   "source": [
    "another_df.describe()"
   ]
  },
  {
   "cell_type": "code",
   "execution_count": 69,
   "metadata": {},
   "outputs": [
    {
     "data": {
      "text/html": [
       "<div>\n",
       "<style scoped>\n",
       "    .dataframe tbody tr th:only-of-type {\n",
       "        vertical-align: middle;\n",
       "    }\n",
       "\n",
       "    .dataframe tbody tr th {\n",
       "        vertical-align: top;\n",
       "    }\n",
       "\n",
       "    .dataframe thead th {\n",
       "        text-align: right;\n",
       "    }\n",
       "</style>\n",
       "<table border=\"1\" class=\"dataframe\">\n",
       "  <thead>\n",
       "    <tr style=\"text-align: right;\">\n",
       "      <th></th>\n",
       "      <th>a</th>\n",
       "      <th>b</th>\n",
       "    </tr>\n",
       "  </thead>\n",
       "  <tbody>\n",
       "    <tr>\n",
       "      <th>4</th>\n",
       "      <td>6.00</td>\n",
       "      <td>11.00</td>\n",
       "    </tr>\n",
       "    <tr>\n",
       "      <th>5</th>\n",
       "      <td>6.25</td>\n",
       "      <td>11.25</td>\n",
       "    </tr>\n",
       "    <tr>\n",
       "      <th>6</th>\n",
       "      <td>6.50</td>\n",
       "      <td>11.50</td>\n",
       "    </tr>\n",
       "    <tr>\n",
       "      <th>7</th>\n",
       "      <td>6.75</td>\n",
       "      <td>11.75</td>\n",
       "    </tr>\n",
       "    <tr>\n",
       "      <th>8</th>\n",
       "      <td>7.00</td>\n",
       "      <td>12.00</td>\n",
       "    </tr>\n",
       "    <tr>\n",
       "      <th>9</th>\n",
       "      <td>7.25</td>\n",
       "      <td>12.25</td>\n",
       "    </tr>\n",
       "    <tr>\n",
       "      <th>10</th>\n",
       "      <td>7.50</td>\n",
       "      <td>12.50</td>\n",
       "    </tr>\n",
       "    <tr>\n",
       "      <th>11</th>\n",
       "      <td>7.75</td>\n",
       "      <td>12.75</td>\n",
       "    </tr>\n",
       "    <tr>\n",
       "      <th>12</th>\n",
       "      <td>8.00</td>\n",
       "      <td>13.00</td>\n",
       "    </tr>\n",
       "    <tr>\n",
       "      <th>13</th>\n",
       "      <td>8.25</td>\n",
       "      <td>13.25</td>\n",
       "    </tr>\n",
       "  </tbody>\n",
       "</table>\n",
       "</div>"
      ],
      "text/plain": [
       "       a      b\n",
       "4   6.00  11.00\n",
       "5   6.25  11.25\n",
       "6   6.50  11.50\n",
       "7   6.75  11.75\n",
       "8   7.00  12.00\n",
       "9   7.25  12.25\n",
       "10  7.50  12.50\n",
       "11  7.75  12.75\n",
       "12  8.00  13.00\n",
       "13  8.25  13.25"
      ]
     },
     "execution_count": 69,
     "metadata": {},
     "output_type": "execute_result"
    }
   ],
   "source": [
    "another_df[4:14]"
   ]
  },
  {
   "cell_type": "code",
   "execution_count": 70,
   "metadata": {},
   "outputs": [
    {
     "data": {
      "text/html": [
       "<div>\n",
       "<style scoped>\n",
       "    .dataframe tbody tr th:only-of-type {\n",
       "        vertical-align: middle;\n",
       "    }\n",
       "\n",
       "    .dataframe tbody tr th {\n",
       "        vertical-align: top;\n",
       "    }\n",
       "\n",
       "    .dataframe thead th {\n",
       "        text-align: right;\n",
       "    }\n",
       "</style>\n",
       "<table border=\"1\" class=\"dataframe\">\n",
       "  <thead>\n",
       "    <tr style=\"text-align: right;\">\n",
       "      <th></th>\n",
       "      <th>a</th>\n",
       "      <th>b</th>\n",
       "    </tr>\n",
       "  </thead>\n",
       "  <tbody>\n",
       "    <tr>\n",
       "      <th>4</th>\n",
       "      <td>6.00</td>\n",
       "      <td>11.00</td>\n",
       "    </tr>\n",
       "    <tr>\n",
       "      <th>5</th>\n",
       "      <td>6.25</td>\n",
       "      <td>11.25</td>\n",
       "    </tr>\n",
       "    <tr>\n",
       "      <th>6</th>\n",
       "      <td>6.50</td>\n",
       "      <td>11.50</td>\n",
       "    </tr>\n",
       "    <tr>\n",
       "      <th>7</th>\n",
       "      <td>6.75</td>\n",
       "      <td>11.75</td>\n",
       "    </tr>\n",
       "    <tr>\n",
       "      <th>8</th>\n",
       "      <td>7.00</td>\n",
       "      <td>12.00</td>\n",
       "    </tr>\n",
       "    <tr>\n",
       "      <th>9</th>\n",
       "      <td>7.25</td>\n",
       "      <td>12.25</td>\n",
       "    </tr>\n",
       "    <tr>\n",
       "      <th>10</th>\n",
       "      <td>7.50</td>\n",
       "      <td>12.50</td>\n",
       "    </tr>\n",
       "    <tr>\n",
       "      <th>11</th>\n",
       "      <td>7.75</td>\n",
       "      <td>12.75</td>\n",
       "    </tr>\n",
       "    <tr>\n",
       "      <th>12</th>\n",
       "      <td>8.00</td>\n",
       "      <td>13.00</td>\n",
       "    </tr>\n",
       "    <tr>\n",
       "      <th>13</th>\n",
       "      <td>8.25</td>\n",
       "      <td>13.25</td>\n",
       "    </tr>\n",
       "  </tbody>\n",
       "</table>\n",
       "</div>"
      ],
      "text/plain": [
       "       a      b\n",
       "4   6.00  11.00\n",
       "5   6.25  11.25\n",
       "6   6.50  11.50\n",
       "7   6.75  11.75\n",
       "8   7.00  12.00\n",
       "9   7.25  12.25\n",
       "10  7.50  12.50\n",
       "11  7.75  12.75\n",
       "12  8.00  13.00\n",
       "13  8.25  13.25"
      ]
     },
     "execution_count": 70,
     "metadata": {},
     "output_type": "execute_result"
    }
   ],
   "source": [
    "another_df.iloc[4:14]"
   ]
  },
  {
   "cell_type": "code",
   "execution_count": 71,
   "metadata": {},
   "outputs": [
    {
     "data": {
      "text/plain": [
       "0     10.00\n",
       "1     10.25\n",
       "2     10.50\n",
       "3     10.75\n",
       "4     11.00\n",
       "5     11.25\n",
       "6     11.50\n",
       "7     11.75\n",
       "8     12.00\n",
       "9     12.25\n",
       "10    12.50\n",
       "11    12.75\n",
       "12    13.00\n",
       "13    13.25\n",
       "14    13.50\n",
       "15    13.75\n",
       "16    14.00\n",
       "17    14.25\n",
       "18    14.50\n",
       "19    14.75\n",
       "Name: b, dtype: float64"
      ]
     },
     "execution_count": 71,
     "metadata": {},
     "output_type": "execute_result"
    }
   ],
   "source": [
    "another_df.loc[:,'b']"
   ]
  },
  {
   "cell_type": "code",
   "execution_count": 72,
   "metadata": {},
   "outputs": [],
   "source": [
    "short_df = another_df[0:13]"
   ]
  },
  {
   "cell_type": "code",
   "execution_count": 73,
   "metadata": {},
   "outputs": [
    {
     "data": {
      "text/plain": [
       "['row0',\n",
       " 'row1',\n",
       " 'row2',\n",
       " 'row3',\n",
       " 'row4',\n",
       " 'row5',\n",
       " 'row6',\n",
       " 'row7',\n",
       " 'row8',\n",
       " 'row9',\n",
       " 'row10',\n",
       " 'row11',\n",
       " 'row12']"
      ]
     },
     "execution_count": 73,
     "metadata": {},
     "output_type": "execute_result"
    }
   ],
   "source": [
    "rows_string = 'row '*13\n",
    "rows_list = rows_string.split(sep=' ')\n",
    "n = 0\n",
    "for i in range(0,13):\n",
    "    rows_list[i] = rows_list[i]+str(n)\n",
    "    n+=1\n",
    "    \n",
    "rows_list.pop()\n",
    "rows_list"
   ]
  },
  {
   "cell_type": "code",
   "execution_count": 74,
   "metadata": {},
   "outputs": [],
   "source": [
    "short_df.index = rows_list\n",
    "short_df.columns = ['column1', 'column2']"
   ]
  },
  {
   "cell_type": "code",
   "execution_count": 75,
   "metadata": {},
   "outputs": [
    {
     "data": {
      "text/plain": [
       "row4    11.00\n",
       "row7    11.75\n",
       "row1    10.25\n",
       "Name: column2, dtype: float64"
      ]
     },
     "execution_count": 75,
     "metadata": {},
     "output_type": "execute_result"
    }
   ],
   "source": [
    "short_df.loc[['row4', 'row7', 'row1'],'column2']"
   ]
  },
  {
   "cell_type": "code",
   "execution_count": 76,
   "metadata": {},
   "outputs": [
    {
     "data": {
      "text/plain": [
       "row0     5.00\n",
       "row1     5.25\n",
       "row2     5.50\n",
       "row3     5.75\n",
       "row4     6.00\n",
       "row5     6.25\n",
       "row6     6.50\n",
       "row7     6.75\n",
       "row8     7.00\n",
       "row9     7.25\n",
       "row10    7.50\n",
       "row11    7.75\n",
       "row12    8.00\n",
       "Name: column1, dtype: float64"
      ]
     },
     "execution_count": 76,
     "metadata": {},
     "output_type": "execute_result"
    }
   ],
   "source": [
    "short_df['column1']"
   ]
  },
  {
   "cell_type": "code",
   "execution_count": 77,
   "metadata": {},
   "outputs": [
    {
     "data": {
      "text/html": [
       "<div>\n",
       "<style scoped>\n",
       "    .dataframe tbody tr th:only-of-type {\n",
       "        vertical-align: middle;\n",
       "    }\n",
       "\n",
       "    .dataframe tbody tr th {\n",
       "        vertical-align: top;\n",
       "    }\n",
       "\n",
       "    .dataframe thead th {\n",
       "        text-align: right;\n",
       "    }\n",
       "</style>\n",
       "<table border=\"1\" class=\"dataframe\">\n",
       "  <thead>\n",
       "    <tr style=\"text-align: right;\">\n",
       "      <th></th>\n",
       "      <th>column1</th>\n",
       "      <th>column2</th>\n",
       "    </tr>\n",
       "  </thead>\n",
       "  <tbody>\n",
       "    <tr>\n",
       "      <th>row0</th>\n",
       "      <td>5.00</td>\n",
       "      <td>10.00</td>\n",
       "    </tr>\n",
       "    <tr>\n",
       "      <th>row1</th>\n",
       "      <td>5.25</td>\n",
       "      <td>10.25</td>\n",
       "    </tr>\n",
       "    <tr>\n",
       "      <th>row2</th>\n",
       "      <td>5.50</td>\n",
       "      <td>10.50</td>\n",
       "    </tr>\n",
       "    <tr>\n",
       "      <th>row3</th>\n",
       "      <td>5.75</td>\n",
       "      <td>10.75</td>\n",
       "    </tr>\n",
       "    <tr>\n",
       "      <th>row4</th>\n",
       "      <td>6.00</td>\n",
       "      <td>11.00</td>\n",
       "    </tr>\n",
       "    <tr>\n",
       "      <th>row5</th>\n",
       "      <td>6.25</td>\n",
       "      <td>11.25</td>\n",
       "    </tr>\n",
       "    <tr>\n",
       "      <th>row6</th>\n",
       "      <td>6.50</td>\n",
       "      <td>11.50</td>\n",
       "    </tr>\n",
       "    <tr>\n",
       "      <th>row7</th>\n",
       "      <td>6.75</td>\n",
       "      <td>11.75</td>\n",
       "    </tr>\n",
       "    <tr>\n",
       "      <th>row8</th>\n",
       "      <td>7.00</td>\n",
       "      <td>12.00</td>\n",
       "    </tr>\n",
       "    <tr>\n",
       "      <th>row9</th>\n",
       "      <td>7.25</td>\n",
       "      <td>12.25</td>\n",
       "    </tr>\n",
       "    <tr>\n",
       "      <th>row10</th>\n",
       "      <td>7.50</td>\n",
       "      <td>12.50</td>\n",
       "    </tr>\n",
       "    <tr>\n",
       "      <th>row11</th>\n",
       "      <td>7.75</td>\n",
       "      <td>12.75</td>\n",
       "    </tr>\n",
       "    <tr>\n",
       "      <th>row12</th>\n",
       "      <td>8.00</td>\n",
       "      <td>13.00</td>\n",
       "    </tr>\n",
       "  </tbody>\n",
       "</table>\n",
       "</div>"
      ],
      "text/plain": [
       "       column1  column2\n",
       "row0      5.00    10.00\n",
       "row1      5.25    10.25\n",
       "row2      5.50    10.50\n",
       "row3      5.75    10.75\n",
       "row4      6.00    11.00\n",
       "row5      6.25    11.25\n",
       "row6      6.50    11.50\n",
       "row7      6.75    11.75\n",
       "row8      7.00    12.00\n",
       "row9      7.25    12.25\n",
       "row10     7.50    12.50\n",
       "row11     7.75    12.75\n",
       "row12     8.00    13.00"
      ]
     },
     "execution_count": 77,
     "metadata": {},
     "output_type": "execute_result"
    }
   ],
   "source": [
    "short_df[['column1', 'column2']]"
   ]
  },
  {
   "cell_type": "code",
   "execution_count": 78,
   "metadata": {},
   "outputs": [
    {
     "data": {
      "text/html": [
       "<div>\n",
       "<style scoped>\n",
       "    .dataframe tbody tr th:only-of-type {\n",
       "        vertical-align: middle;\n",
       "    }\n",
       "\n",
       "    .dataframe tbody tr th {\n",
       "        vertical-align: top;\n",
       "    }\n",
       "\n",
       "    .dataframe thead th {\n",
       "        text-align: right;\n",
       "    }\n",
       "</style>\n",
       "<table border=\"1\" class=\"dataframe\">\n",
       "  <thead>\n",
       "    <tr style=\"text-align: right;\">\n",
       "      <th></th>\n",
       "      <th>column1</th>\n",
       "      <th>column2</th>\n",
       "    </tr>\n",
       "  </thead>\n",
       "  <tbody>\n",
       "    <tr>\n",
       "      <th>row3</th>\n",
       "      <td>5.75</td>\n",
       "      <td>10.75</td>\n",
       "    </tr>\n",
       "    <tr>\n",
       "      <th>row4</th>\n",
       "      <td>6.00</td>\n",
       "      <td>11.00</td>\n",
       "    </tr>\n",
       "  </tbody>\n",
       "</table>\n",
       "</div>"
      ],
      "text/plain": [
       "      column1  column2\n",
       "row3     5.75    10.75\n",
       "row4     6.00    11.00"
      ]
     },
     "execution_count": 78,
     "metadata": {},
     "output_type": "execute_result"
    }
   ],
   "source": [
    "short_df[3:5]"
   ]
  },
  {
   "cell_type": "code",
   "execution_count": 79,
   "metadata": {},
   "outputs": [
    {
     "data": {
      "text/plain": [
       "row4    6.00\n",
       "row5    6.25\n",
       "row6    6.50\n",
       "row7    6.75\n",
       "row8    7.00\n",
       "row9    7.25\n",
       "Name: column1, dtype: float64"
      ]
     },
     "execution_count": 79,
     "metadata": {},
     "output_type": "execute_result"
    }
   ],
   "source": [
    "short_df[4:10]['column1']"
   ]
  },
  {
   "cell_type": "code",
   "execution_count": 80,
   "metadata": {},
   "outputs": [
    {
     "data": {
      "text/plain": [
       "7.75"
      ]
     },
     "execution_count": 80,
     "metadata": {},
     "output_type": "execute_result"
    }
   ],
   "source": [
    "short_df['column1']['row11']"
   ]
  },
  {
   "cell_type": "code",
   "execution_count": 81,
   "metadata": {},
   "outputs": [],
   "source": [
    "masked_df = short_df[short_df['column1'].between(7,9)]"
   ]
  },
  {
   "cell_type": "code",
   "execution_count": 82,
   "metadata": {},
   "outputs": [
    {
     "data": {
      "text/html": [
       "<div>\n",
       "<style scoped>\n",
       "    .dataframe tbody tr th:only-of-type {\n",
       "        vertical-align: middle;\n",
       "    }\n",
       "\n",
       "    .dataframe tbody tr th {\n",
       "        vertical-align: top;\n",
       "    }\n",
       "\n",
       "    .dataframe thead th {\n",
       "        text-align: right;\n",
       "    }\n",
       "</style>\n",
       "<table border=\"1\" class=\"dataframe\">\n",
       "  <thead>\n",
       "    <tr style=\"text-align: right;\">\n",
       "      <th></th>\n",
       "      <th>column1</th>\n",
       "      <th>column2</th>\n",
       "    </tr>\n",
       "  </thead>\n",
       "  <tbody>\n",
       "    <tr>\n",
       "      <th>row8</th>\n",
       "      <td>7.00</td>\n",
       "      <td>12.00</td>\n",
       "    </tr>\n",
       "    <tr>\n",
       "      <th>row9</th>\n",
       "      <td>7.25</td>\n",
       "      <td>12.25</td>\n",
       "    </tr>\n",
       "    <tr>\n",
       "      <th>row10</th>\n",
       "      <td>7.50</td>\n",
       "      <td>12.50</td>\n",
       "    </tr>\n",
       "    <tr>\n",
       "      <th>row11</th>\n",
       "      <td>7.75</td>\n",
       "      <td>12.75</td>\n",
       "    </tr>\n",
       "    <tr>\n",
       "      <th>row12</th>\n",
       "      <td>8.00</td>\n",
       "      <td>13.00</td>\n",
       "    </tr>\n",
       "  </tbody>\n",
       "</table>\n",
       "</div>"
      ],
      "text/plain": [
       "       column1  column2\n",
       "row8      7.00    12.00\n",
       "row9      7.25    12.25\n",
       "row10     7.50    12.50\n",
       "row11     7.75    12.75\n",
       "row12     8.00    13.00"
      ]
     },
     "execution_count": 82,
     "metadata": {},
     "output_type": "execute_result"
    }
   ],
   "source": [
    "masked_df"
   ]
  },
  {
   "cell_type": "code",
   "execution_count": null,
   "metadata": {},
   "outputs": [],
   "source": []
  }
 ],
 "metadata": {
  "kernelspec": {
   "display_name": "Python 3",
   "language": "python",
   "name": "python3"
  },
  "language_info": {
   "codemirror_mode": {
    "name": "ipython",
    "version": 3
   },
   "file_extension": ".py",
   "mimetype": "text/x-python",
   "name": "python",
   "nbconvert_exporter": "python",
   "pygments_lexer": "ipython3",
   "version": "3.6.7"
  }
 },
 "nbformat": 4,
 "nbformat_minor": 2
}
